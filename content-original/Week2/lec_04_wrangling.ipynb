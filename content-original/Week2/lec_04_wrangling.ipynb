<!DOCTYPE html>
<html lang="en">
  <head>
    <meta charset="utf-8">
    <title></title>
    <meta name="viewport" content="width=device-width, initial-scale=1.0">
    <meta name="description" content="">
    <meta name="author" content="">
    <!--NEW RELIC Start Perf Measurement-->
    
    <!--NREND-->

    <!-- Le styles -->
    <!--<link href="/static/css/bootstrap.css" rel="stylesheet">-->
    <link href="/static/css/docs.css" rel="stylesheet">
    <link href="/static/css/bootstrap.css" rel="stylesheet">
    <link href="/static/css/bootstrap-responsive.css" rel="stylesheet">

    <!-- Le HTML5 shim, for IE6-8 support of HTML5 elements -->
    <!--[if lt IE 9]>
      <script src="http://html5shim.googlecode.com/svn/trunk/html5.js"></script>
    <![endif]-->

    <!-- Le fav and touch icons -->
    <link rel="shortcut icon" href="/static/ico/ipynb_icon_16x16.png">
    <link rel="apple-touch-icon-precomposed" sizes="144x144" href="/static/ico/apple-touch-icon-144-precomposed.png">
    <link rel="apple-touch-icon-precomposed" sizes="114x114" href="/static/ico/apple-touch-icon-114-precomposed.png">
    <link rel="apple-touch-icon-precomposed" sizes="72x72" href="/static/ico/apple-touch-icon-72-precomposed.png">
    <link rel="apple-touch-icon-precomposed" href="/static/ico/apple-touch-icon-57-precomposed.png">
    
    
    
    <link href="/static/ipython.min.css" rel="stylesheet">
    <link href="/static/css/pygments.css" rel="stylesheet">
    <style type="text/css" media='screen and (min-width:980px)'>
    .navbar-inner {
        opacity: 0.5;
        transition: opacity 0.5s ease-in-out;
        -webkit-transition: opacity 0.5s ease-in-out;
    }

    .navbar-inner ul{
        opacity: 0.5;
        transition: opacity 0.5s ease-in-out;
        -webkit-transition: opacity 0.5s ease-in-out;
    }

    body{
        padding-top:50px;
    }

    </style>
    <style type="text/css" >
    .imgwrap {
        text-align: center;
    }
    .input_area{
        padding: 0.4em;
    }
    div.input_area > div.highlight > pre {
        margin: 0px;
        padding: 0px;
        border: none;
    }

    .navbar-inner:hover {
        opacity: 1.0;
    }

    .navbar-inner:hover ul{
        opacity: 1.0;
    }

    .highlight pre {
        background-color: transparent;
    }

    </style>
    
    <script src="https://c328740.ssl.cf1.rackcdn.com/mathjax/latest/MathJax.js?config=TeX-AMS_HTML"type="text/javascript">
    </script>
    <script type="text/javascript">
    init_mathjax = function() {
        if (window.MathJax) {
            // MathJax loaded
            MathJax.Hub.Config({
                tex2jax: {
                    inlineMath: [ ['$','$'], ["\\(","\\)"] ],
                    displayMath: [ ['$$','$$'], ["\\[","\\]"] ]
                },
                displayAlign: 'left', // Change this to 'center' to center equations.
                "HTML-CSS": {
                    styles: {'.MathJax_Display': {"margin": 0}}
                }
            });
            MathJax.Hub.Queue(["Typeset",MathJax.Hub]);
        }
    }
    init_mathjax();
    </script>
    
  </head>

  <body data-spy="scroll" data-target=".subnav" data-offset="50">


  <!-- Navbar
  ================================================== -->
    <div class="navbar navbar-fixed-top">
      <div class="navbar-inner">
        <div class="container">
          <button type="button" class="btn btn-navbar" data-toggle="collapse" data-target=".nav-collapse">
            <span class="icon-bar"></span>
            <span class="icon-bar"></span>
            <span class="icon-bar"></span>
          </button>
          <div class="nav-collapse collapse">
            <ul class="nav">
              <li>
                <a href="/">Home</a>
              </li>
              <li>
                <a href="/faq">FAQ</a>
              </li>
              <li class="">
                <a href="http://www.ipython.org">IPython</a>
              </li>
              <li>
              <a href="http://penandpants.com/2012/10/16/open-in-nbviewer-bookmarklet/">Bookmarklet</a>
              </li>
              

            </ul>
            <ul class="nav pull-right"> 
              
              
      
      <li class="">
          <a href="https://github.com/cs109/content/blob/master/lec_04_wrangling.ipynb">Notebook Home</a>
      </li>
      
      <li class="">
          <a href="https://raw.github.com/cs109/content/master/lec_04_wrangling.ipynb" download="lec_04_wrangling.ipynb">Download Notebook</a>
      </li>
    
            </ul>
          </div>
        </div>
      </div>
    </div>
    <div class="container">


    
<div class="text_cell_render border-box-sizing rendered_html">
<h1 id="a-rubric-for-data-wrangling-and-exploration">A Rubric for Data Wrangling and Exploration</h1>
<p>Companion to Lecture 4 of <a href="http://cs109.org">Harvard CS109: Data Science</a> | Prepared by <a href="http://chrisbeaumont.org">Chris Beaumont</a></p>
<p><img src=http://gearpatrol.com/wp-content/uploads/2013/05/tom-hanks-castaway-fire.jpg></p>
<p><em>This scene from Cast Away is an accurate metaphor for the amount of time you'll spend cleaning data, and the delirium you'll experience at the end.</em></p>
</div>
<div class="cell border-box-sizing code_cell vbox">
<div class="input hbox">
<div class="prompt input_prompt">
In&nbsp;[59]:
</div>
<div class="input_area box-flex1">
<div class="highlight"><pre><span class="o">%</span><span class="k">matplotlib</span> <span class="n">inline</span>

<span class="kn">import</span> <span class="nn">matplotlib.pyplot</span> <span class="kn">as</span> <span class="nn">plt</span>
<span class="kn">import</span> <span class="nn">pandas</span> <span class="kn">as</span> <span class="nn">pd</span>
<span class="kn">import</span> <span class="nn">numpy</span> <span class="kn">as</span> <span class="nn">np</span>

<span class="c">#tell pandas to display wide tables as pretty HTML tables</span>
<span class="n">pd</span><span class="o">.</span><span class="n">set_option</span><span class="p">(</span><span class="s">&#39;display.width&#39;</span><span class="p">,</span> <span class="mi">500</span><span class="p">)</span>
<span class="n">pd</span><span class="o">.</span><span class="n">set_option</span><span class="p">(</span><span class="s">&#39;display.max_columns&#39;</span><span class="p">,</span> <span class="mi">100</span><span class="p">)</span>

<span class="k">def</span> <span class="nf">remove_border</span><span class="p">(</span><span class="n">axes</span><span class="o">=</span><span class="bp">None</span><span class="p">,</span> <span class="n">top</span><span class="o">=</span><span class="bp">False</span><span class="p">,</span> <span class="n">right</span><span class="o">=</span><span class="bp">False</span><span class="p">,</span> <span class="n">left</span><span class="o">=</span><span class="bp">True</span><span class="p">,</span> <span class="n">bottom</span><span class="o">=</span><span class="bp">True</span><span class="p">):</span>
    <span class="sd">&quot;&quot;&quot;</span>
<span class="sd">    Minimize chartjunk by stripping out unnecesasry plot borders and axis ticks</span>
<span class="sd">    </span>
<span class="sd">    The top/right/left/bottom keywords toggle whether the corresponding plot border is drawn</span>
<span class="sd">    &quot;&quot;&quot;</span>
    <span class="n">ax</span> <span class="o">=</span> <span class="n">axes</span> <span class="ow">or</span> <span class="n">plt</span><span class="o">.</span><span class="n">gca</span><span class="p">()</span>
    <span class="n">ax</span><span class="o">.</span><span class="n">spines</span><span class="p">[</span><span class="s">&#39;top&#39;</span><span class="p">]</span><span class="o">.</span><span class="n">set_visible</span><span class="p">(</span><span class="n">top</span><span class="p">)</span>
    <span class="n">ax</span><span class="o">.</span><span class="n">spines</span><span class="p">[</span><span class="s">&#39;right&#39;</span><span class="p">]</span><span class="o">.</span><span class="n">set_visible</span><span class="p">(</span><span class="n">right</span><span class="p">)</span>
    <span class="n">ax</span><span class="o">.</span><span class="n">spines</span><span class="p">[</span><span class="s">&#39;left&#39;</span><span class="p">]</span><span class="o">.</span><span class="n">set_visible</span><span class="p">(</span><span class="n">left</span><span class="p">)</span>
    <span class="n">ax</span><span class="o">.</span><span class="n">spines</span><span class="p">[</span><span class="s">&#39;bottom&#39;</span><span class="p">]</span><span class="o">.</span><span class="n">set_visible</span><span class="p">(</span><span class="n">bottom</span><span class="p">)</span>
    
    <span class="c">#turn off all ticks</span>
    <span class="n">ax</span><span class="o">.</span><span class="n">yaxis</span><span class="o">.</span><span class="n">set_ticks_position</span><span class="p">(</span><span class="s">&#39;none&#39;</span><span class="p">)</span>
    <span class="n">ax</span><span class="o">.</span><span class="n">xaxis</span><span class="o">.</span><span class="n">set_ticks_position</span><span class="p">(</span><span class="s">&#39;none&#39;</span><span class="p">)</span>
    
    <span class="c">#now re-enable visibles</span>
    <span class="k">if</span> <span class="n">top</span><span class="p">:</span>
        <span class="n">ax</span><span class="o">.</span><span class="n">xaxis</span><span class="o">.</span><span class="n">tick_top</span><span class="p">()</span>
    <span class="k">if</span> <span class="n">bottom</span><span class="p">:</span>
        <span class="n">ax</span><span class="o">.</span><span class="n">xaxis</span><span class="o">.</span><span class="n">tick_bottom</span><span class="p">()</span>
    <span class="k">if</span> <span class="n">left</span><span class="p">:</span>
        <span class="n">ax</span><span class="o">.</span><span class="n">yaxis</span><span class="o">.</span><span class="n">tick_left</span><span class="p">()</span>
    <span class="k">if</span> <span class="n">right</span><span class="p">:</span>
        <span class="n">ax</span><span class="o">.</span><span class="n">yaxis</span><span class="o">.</span><span class="n">tick_right</span><span class="p">()</span>
</pre></div>

</div>
</div>

</div>
<div class="text_cell_render border-box-sizing rendered_html">
<p>I'd like to suggest a basic rubric for the early stages of exploratory data analysis in Python. This isn't universally applicable, but it does cover many patterns which recur in several data analysis contexts. It's useful to keep this rubric in mind when encountering a new dataset.</p>
<p>The basic workflow is as follows:</p>
<ol style="list-style-type: decimal">
<li><strong>Build</strong> a DataFrame from the data (ideally, put <em>all</em> data in this object)</li>
<li><strong>Clean</strong> the DataFrame. It should have the following properties:</li>
</ol>
<ul>
<li>Each row describes a single object</li>
<li>Each column describes a property of that object</li>
<li>Columns are numeric whenever appropriate</li>
<li>Columns contain atomic properties that cannot be further decomposed</li>
</ul>
<ol start="3" style="list-style-type: decimal">
<li>Explore <strong>global properties</strong>. Use histograms, scatter plots, and aggregation functions to summarize the data.</li>
<li>Explore <strong>group properties</strong>. Use groupby and small multiples to compare subsets of the data.</li>
</ol>
<p>This process transforms your data into a format which is easier to work with, gives you a basic overview of the data's properties, and likely generates several questions for you to followup in subsequent analysis.</p>
</div>
<div class="text_cell_render border-box-sizing rendered_html">
<p>Here's a preview of the raw data we'll use -- it's a list of the 10,000 movies made since 1950 with the most IMDB user ratings. It was scraped about a year ago from <a href="http://www.imdb.com/search/title?sort=num_votes,desc&amp;title_type=feature&amp;year=1950,2012">pages like this</a>. Download the data at <a href="http://bit.ly/cs109_imdb">http://bit.ly/cs109_imdb</a>.</p>
</div>
<div class="cell border-box-sizing code_cell vbox">
<div class="input hbox">
<div class="prompt input_prompt">
In&nbsp;[60]:
</div>
<div class="input_area box-flex1">
<div class="highlight"><pre><span class="o">!</span>head imdb_top_10000.txt
</pre></div>

</div>
</div>

<div class="vbox output_wrapper">
<div class="output vbox">


<div class="hbox output_area"><div class="prompt"></div>
<div class="box-flex1 output_subarea output_stream output_stdout">
<pre>
tt0111161	The Shawshank Redemption (1994)	1994	 9.2	619479	142 mins.	Crime|Drama
tt0110912	Pulp Fiction (1994)	1994	 9.0	490065	154 mins.	Crime|Thriller
tt0137523	Fight Club (1999)	1999	 8.8	458173	139 mins.	Drama|Mystery|Thriller
tt0133093	The Matrix (1999)	1999	 8.7	448114	136 mins.	Action|Adventure|Sci-Fi
tt1375666	Inception (2010)	2010	 8.9	385149	148 mins.	Action|Adventure|Sci-Fi|Thriller
tt0109830	Forrest Gump (1994)	1994	 8.7	368994	142 mins.	Comedy|Drama|Romance
tt0169547	American Beauty (1999)	1999	 8.6	338332	122 mins.	Drama
tt0499549	Avatar (2009)	2009	 8.1	336855	162 mins.	Action|Adventure|Fantasy|Sci-Fi
tt0108052	Schindler&apos;s List (1993)	1993	 8.9	325888	195 mins.	Biography|Drama|History|War
tt0080684	Star Wars: Episode V - The Empire Strikes Back (1980)	1980	 8.8	320105	124 mins.	Action|Adventure|Family|Sci-Fi

</pre>
</div>
</div>

</div>
</div>

</div>
<div class="text_cell_render border-box-sizing rendered_html">
<h2 id="build-a-dataframe">1. Build a DataFrame</h2>
<p>The textfile is tab-separated, and doesn't have any column headers. We set the appropriate keywords in <code>pd.read_csv</code> to handle this</p>
</div>
<div class="cell border-box-sizing code_cell vbox">
<div class="input hbox">
<div class="prompt input_prompt">
In&nbsp;[61]:
</div>
<div class="input_area box-flex1">
<div class="highlight"><pre><span class="n">names</span> <span class="o">=</span> <span class="p">[</span><span class="s">&#39;imdbID&#39;</span><span class="p">,</span> <span class="s">&#39;title&#39;</span><span class="p">,</span> <span class="s">&#39;year&#39;</span><span class="p">,</span> <span class="s">&#39;score&#39;</span><span class="p">,</span> <span class="s">&#39;votes&#39;</span><span class="p">,</span> <span class="s">&#39;runtime&#39;</span><span class="p">,</span> <span class="s">&#39;genres&#39;</span><span class="p">]</span>
<span class="n">data</span> <span class="o">=</span> <span class="n">pd</span><span class="o">.</span><span class="n">read_csv</span><span class="p">(</span><span class="s">&#39;imdb_top_10000.txt&#39;</span><span class="p">,</span> <span class="n">delimiter</span><span class="o">=</span><span class="s">&#39;</span><span class="se">\t</span><span class="s">&#39;</span><span class="p">,</span> <span class="n">names</span><span class="o">=</span><span class="n">names</span><span class="p">)</span><span class="o">.</span><span class="n">dropna</span><span class="p">()</span>
<span class="k">print</span> <span class="s">&quot;Number of rows: </span><span class="si">%i</span><span class="s">&quot;</span> <span class="o">%</span> <span class="n">data</span><span class="o">.</span><span class="n">shape</span><span class="p">[</span><span class="mi">0</span><span class="p">]</span>
<span class="n">data</span><span class="o">.</span><span class="n">head</span><span class="p">()</span>  <span class="c"># print the first 5 rows</span>
</pre></div>

</div>
</div>

<div class="vbox output_wrapper">
<div class="output vbox">


<div class="hbox output_area"><div class="prompt"></div>
<div class="box-flex1 output_subarea output_stream output_stdout">
<pre>
Number of rows: 9999

</pre>
</div>
</div>

<div class="hbox output_area"><div class="prompt output_prompt">
    Out[61]:</div>
<div class="box-flex1 output_subarea output_pyout">

<div class="output_html rendered_html">
<div style="max-height:1000px;max-width:1500px;overflow:auto;">
<table border="1" class="dataframe">
  <thead>
    <tr style="text-align: right;">
      <th></th>
      <th>imdbID</th>
      <th>title</th>
      <th>year</th>
      <th>score</th>
      <th>votes</th>
      <th>runtime</th>
      <th>genres</th>
    </tr>
  </thead>
  <tbody>
    <tr>
      <th>0</th>
      <td> tt0111161</td>
      <td> The Shawshank Redemption (1994)</td>
      <td> 1994</td>
      <td> 9.2</td>
      <td> 619479</td>
      <td> 142 mins.</td>
      <td>                      Crime|Drama</td>
    </tr>
    <tr>
      <th>1</th>
      <td> tt0110912</td>
      <td>             Pulp Fiction (1994)</td>
      <td> 1994</td>
      <td> 9.0</td>
      <td> 490065</td>
      <td> 154 mins.</td>
      <td>                   Crime|Thriller</td>
    </tr>
    <tr>
      <th>2</th>
      <td> tt0137523</td>
      <td>               Fight Club (1999)</td>
      <td> 1999</td>
      <td> 8.8</td>
      <td> 458173</td>
      <td> 139 mins.</td>
      <td>           Drama|Mystery|Thriller</td>
    </tr>
    <tr>
      <th>3</th>
      <td> tt0133093</td>
      <td>               The Matrix (1999)</td>
      <td> 1999</td>
      <td> 8.7</td>
      <td> 448114</td>
      <td> 136 mins.</td>
      <td>          Action|Adventure|Sci-Fi</td>
    </tr>
    <tr>
      <th>4</th>
      <td> tt1375666</td>
      <td>                Inception (2010)</td>
      <td> 2010</td>
      <td> 8.9</td>
      <td> 385149</td>
      <td> 148 mins.</td>
      <td> Action|Adventure|Sci-Fi|Thriller</td>
    </tr>
  </tbody>
</table>
</div>
</div>

</div>
</div>

</div>
</div>

</div>
<div class="text_cell_render border-box-sizing rendered_html">
<h2 id="clean-the-dataframe">2. Clean the DataFrame</h2>
<p>There are several problems with the DataFrame at this point:</p>
<ol style="list-style-type: decimal">
<li>The runtime column describes a number, but is stored as a string</li>
<li>The genres column is not atomic -- it aggregates several genres together. This makes it hard, for example, to extract which movies are Comedies.</li>
<li>The movie year is repeated in the title and year column</li>
</ol>
<h3 id="fixing-the-runtime-column">Fixing the runtime column</h3>
<p>The following snipptet converts a string like '142 mins.' to the number 142:</p>
</div>
<div class="cell border-box-sizing code_cell vbox">
<div class="input hbox">
<div class="prompt input_prompt">
In&nbsp;[62]:
</div>
<div class="input_area box-flex1">
<div class="highlight"><pre><span class="n">dirty</span> <span class="o">=</span> <span class="s">&#39;142 mins.&#39;</span>
<span class="n">number</span><span class="p">,</span> <span class="n">text</span> <span class="o">=</span> <span class="n">dirty</span><span class="o">.</span><span class="n">split</span><span class="p">(</span><span class="s">&#39; &#39;</span><span class="p">)</span>
<span class="n">clean</span> <span class="o">=</span> <span class="nb">int</span><span class="p">(</span><span class="n">number</span><span class="p">)</span>
<span class="k">print</span> <span class="n">number</span>
</pre></div>

</div>
</div>

<div class="vbox output_wrapper">
<div class="output vbox">


<div class="hbox output_area"><div class="prompt"></div>
<div class="box-flex1 output_subarea output_stream output_stdout">
<pre>
142

</pre>
</div>
</div>

</div>
</div>

</div>
<div class="text_cell_render border-box-sizing rendered_html">
<p>We can package this up into a list comprehension</p>
</div>
<div class="cell border-box-sizing code_cell vbox">
<div class="input hbox">
<div class="prompt input_prompt">
In&nbsp;[63]:
</div>
<div class="input_area box-flex1">
<div class="highlight"><pre><span class="n">clean_runtime</span> <span class="o">=</span> <span class="p">[</span><span class="nb">float</span><span class="p">(</span><span class="n">r</span><span class="o">.</span><span class="n">split</span><span class="p">(</span><span class="s">&#39; &#39;</span><span class="p">)[</span><span class="mi">0</span><span class="p">])</span> <span class="k">for</span> <span class="n">r</span> <span class="ow">in</span> <span class="n">data</span><span class="o">.</span><span class="n">runtime</span><span class="p">]</span>
<span class="n">data</span><span class="p">[</span><span class="s">&#39;runtime&#39;</span><span class="p">]</span> <span class="o">=</span> <span class="n">clean_runtime</span>
<span class="n">data</span><span class="o">.</span><span class="n">head</span><span class="p">()</span>
</pre></div>

</div>
</div>

<div class="vbox output_wrapper">
<div class="output vbox">


<div class="hbox output_area"><div class="prompt output_prompt">
    Out[63]:</div>
<div class="box-flex1 output_subarea output_pyout">

<div class="output_html rendered_html">
<div style="max-height:1000px;max-width:1500px;overflow:auto;">
<table border="1" class="dataframe">
  <thead>
    <tr style="text-align: right;">
      <th></th>
      <th>imdbID</th>
      <th>title</th>
      <th>year</th>
      <th>score</th>
      <th>votes</th>
      <th>runtime</th>
      <th>genres</th>
    </tr>
  </thead>
  <tbody>
    <tr>
      <th>0</th>
      <td> tt0111161</td>
      <td> The Shawshank Redemption (1994)</td>
      <td> 1994</td>
      <td> 9.2</td>
      <td> 619479</td>
      <td> 142</td>
      <td>                      Crime|Drama</td>
    </tr>
    <tr>
      <th>1</th>
      <td> tt0110912</td>
      <td>             Pulp Fiction (1994)</td>
      <td> 1994</td>
      <td> 9.0</td>
      <td> 490065</td>
      <td> 154</td>
      <td>                   Crime|Thriller</td>
    </tr>
    <tr>
      <th>2</th>
      <td> tt0137523</td>
      <td>               Fight Club (1999)</td>
      <td> 1999</td>
      <td> 8.8</td>
      <td> 458173</td>
      <td> 139</td>
      <td>           Drama|Mystery|Thriller</td>
    </tr>
    <tr>
      <th>3</th>
      <td> tt0133093</td>
      <td>               The Matrix (1999)</td>
      <td> 1999</td>
      <td> 8.7</td>
      <td> 448114</td>
      <td> 136</td>
      <td>          Action|Adventure|Sci-Fi</td>
    </tr>
    <tr>
      <th>4</th>
      <td> tt1375666</td>
      <td>                Inception (2010)</td>
      <td> 2010</td>
      <td> 8.9</td>
      <td> 385149</td>
      <td> 148</td>
      <td> Action|Adventure|Sci-Fi|Thriller</td>
    </tr>
  </tbody>
</table>
</div>
</div>

</div>
</div>

</div>
</div>

</div>
<div class="text_cell_render border-box-sizing rendered_html">
<h3 id="splitting-up-the-genres">Splitting up the genres</h3>
</div>
<div class="text_cell_render border-box-sizing rendered_html">
<p>We can use the concept of <em>indicator variables</em> to split the genres column into many columns. Each new column will correspond to a single genre, and each cell will be True or False.</p>
</div>
<div class="cell border-box-sizing code_cell vbox">
<div class="input hbox">
<div class="prompt input_prompt">
In&nbsp;[64]:
</div>
<div class="input_area box-flex1">
<div class="highlight"><pre><span class="c">#determine the unique genres</span>
<span class="n">genres</span> <span class="o">=</span> <span class="nb">set</span><span class="p">()</span>
<span class="k">for</span> <span class="n">m</span> <span class="ow">in</span> <span class="n">data</span><span class="o">.</span><span class="n">genres</span><span class="p">:</span>
    <span class="n">genres</span><span class="o">.</span><span class="n">update</span><span class="p">(</span><span class="n">g</span> <span class="k">for</span> <span class="n">g</span> <span class="ow">in</span> <span class="n">m</span><span class="o">.</span><span class="n">split</span><span class="p">(</span><span class="s">&#39;|&#39;</span><span class="p">))</span>
<span class="n">genres</span> <span class="o">=</span> <span class="nb">sorted</span><span class="p">(</span><span class="n">genres</span><span class="p">)</span>

<span class="c">#make a column for each genre</span>
<span class="k">for</span> <span class="n">genre</span> <span class="ow">in</span> <span class="n">genres</span><span class="p">:</span>
    <span class="n">data</span><span class="p">[</span><span class="n">genre</span><span class="p">]</span> <span class="o">=</span> <span class="p">[</span><span class="n">genre</span> <span class="ow">in</span> <span class="n">movie</span><span class="o">.</span><span class="n">split</span><span class="p">(</span><span class="s">&#39;|&#39;</span><span class="p">)</span> <span class="k">for</span> <span class="n">movie</span> <span class="ow">in</span> <span class="n">data</span><span class="o">.</span><span class="n">genres</span><span class="p">]</span>
         
<span class="n">data</span><span class="o">.</span><span class="n">head</span><span class="p">()</span>
</pre></div>

</div>
</div>

<div class="vbox output_wrapper">
<div class="output vbox">


<div class="hbox output_area"><div class="prompt output_prompt">
    Out[64]:</div>
<div class="box-flex1 output_subarea output_pyout">

<div class="output_html rendered_html">
<div style="max-height:1000px;max-width:1500px;overflow:auto;">
<table border="1" class="dataframe">
  <thead>
    <tr style="text-align: right;">
      <th></th>
      <th>imdbID</th>
      <th>title</th>
      <th>year</th>
      <th>score</th>
      <th>votes</th>
      <th>runtime</th>
      <th>genres</th>
      <th>Action</th>
      <th>Adult</th>
      <th>Adventure</th>
      <th>Animation</th>
      <th>Biography</th>
      <th>Comedy</th>
      <th>Crime</th>
      <th>Drama</th>
      <th>Family</th>
      <th>Fantasy</th>
      <th>Film-Noir</th>
      <th>History</th>
      <th>Horror</th>
      <th>Music</th>
      <th>Musical</th>
      <th>Mystery</th>
      <th>News</th>
      <th>Reality-TV</th>
      <th>Romance</th>
      <th>Sci-Fi</th>
      <th>Sport</th>
      <th>Thriller</th>
      <th>War</th>
      <th>Western</th>
    </tr>
  </thead>
  <tbody>
    <tr>
      <th>0</th>
      <td> tt0111161</td>
      <td> The Shawshank Redemption (1994)</td>
      <td> 1994</td>
      <td> 9.2</td>
      <td> 619479</td>
      <td> 142</td>
      <td>                      Crime|Drama</td>
      <td> False</td>
      <td> False</td>
      <td> False</td>
      <td> False</td>
      <td> False</td>
      <td> False</td>
      <td>  True</td>
      <td>  True</td>
      <td> False</td>
      <td> False</td>
      <td> False</td>
      <td> False</td>
      <td> False</td>
      <td> False</td>
      <td> False</td>
      <td> False</td>
      <td> False</td>
      <td> False</td>
      <td> False</td>
      <td> False</td>
      <td> False</td>
      <td> False</td>
      <td> False</td>
      <td> False</td>
    </tr>
    <tr>
      <th>1</th>
      <td> tt0110912</td>
      <td>             Pulp Fiction (1994)</td>
      <td> 1994</td>
      <td> 9.0</td>
      <td> 490065</td>
      <td> 154</td>
      <td>                   Crime|Thriller</td>
      <td> False</td>
      <td> False</td>
      <td> False</td>
      <td> False</td>
      <td> False</td>
      <td> False</td>
      <td>  True</td>
      <td> False</td>
      <td> False</td>
      <td> False</td>
      <td> False</td>
      <td> False</td>
      <td> False</td>
      <td> False</td>
      <td> False</td>
      <td> False</td>
      <td> False</td>
      <td> False</td>
      <td> False</td>
      <td> False</td>
      <td> False</td>
      <td>  True</td>
      <td> False</td>
      <td> False</td>
    </tr>
    <tr>
      <th>2</th>
      <td> tt0137523</td>
      <td>               Fight Club (1999)</td>
      <td> 1999</td>
      <td> 8.8</td>
      <td> 458173</td>
      <td> 139</td>
      <td>           Drama|Mystery|Thriller</td>
      <td> False</td>
      <td> False</td>
      <td> False</td>
      <td> False</td>
      <td> False</td>
      <td> False</td>
      <td> False</td>
      <td>  True</td>
      <td> False</td>
      <td> False</td>
      <td> False</td>
      <td> False</td>
      <td> False</td>
      <td> False</td>
      <td> False</td>
      <td>  True</td>
      <td> False</td>
      <td> False</td>
      <td> False</td>
      <td> False</td>
      <td> False</td>
      <td>  True</td>
      <td> False</td>
      <td> False</td>
    </tr>
    <tr>
      <th>3</th>
      <td> tt0133093</td>
      <td>               The Matrix (1999)</td>
      <td> 1999</td>
      <td> 8.7</td>
      <td> 448114</td>
      <td> 136</td>
      <td>          Action|Adventure|Sci-Fi</td>
      <td>  True</td>
      <td> False</td>
      <td>  True</td>
      <td> False</td>
      <td> False</td>
      <td> False</td>
      <td> False</td>
      <td> False</td>
      <td> False</td>
      <td> False</td>
      <td> False</td>
      <td> False</td>
      <td> False</td>
      <td> False</td>
      <td> False</td>
      <td> False</td>
      <td> False</td>
      <td> False</td>
      <td> False</td>
      <td>  True</td>
      <td> False</td>
      <td> False</td>
      <td> False</td>
      <td> False</td>
    </tr>
    <tr>
      <th>4</th>
      <td> tt1375666</td>
      <td>                Inception (2010)</td>
      <td> 2010</td>
      <td> 8.9</td>
      <td> 385149</td>
      <td> 148</td>
      <td> Action|Adventure|Sci-Fi|Thriller</td>
      <td>  True</td>
      <td> False</td>
      <td>  True</td>
      <td> False</td>
      <td> False</td>
      <td> False</td>
      <td> False</td>
      <td> False</td>
      <td> False</td>
      <td> False</td>
      <td> False</td>
      <td> False</td>
      <td> False</td>
      <td> False</td>
      <td> False</td>
      <td> False</td>
      <td> False</td>
      <td> False</td>
      <td> False</td>
      <td>  True</td>
      <td> False</td>
      <td>  True</td>
      <td> False</td>
      <td> False</td>
    </tr>
  </tbody>
</table>
</div>
</div>

</div>
</div>

</div>
</div>

</div>
<div class="text_cell_render border-box-sizing rendered_html">
<h3 id="removing-year-from-the-title">Removing year from the title</h3>
<p>We can fix each element by stripping off the last 7 characters</p>
</div>
<div class="cell border-box-sizing code_cell vbox">
<div class="input hbox">
<div class="prompt input_prompt">
In&nbsp;[65]:
</div>
<div class="input_area box-flex1">
<div class="highlight"><pre><span class="n">data</span><span class="p">[</span><span class="s">&#39;title&#39;</span><span class="p">]</span> <span class="o">=</span> <span class="p">[</span><span class="n">t</span><span class="p">[</span><span class="mi">0</span><span class="p">:</span><span class="o">-</span><span class="mi">7</span><span class="p">]</span> <span class="k">for</span> <span class="n">t</span> <span class="ow">in</span> <span class="n">data</span><span class="o">.</span><span class="n">title</span><span class="p">]</span>
<span class="n">data</span><span class="o">.</span><span class="n">head</span><span class="p">()</span>
</pre></div>

</div>
</div>

<div class="vbox output_wrapper">
<div class="output vbox">


<div class="hbox output_area"><div class="prompt output_prompt">
    Out[65]:</div>
<div class="box-flex1 output_subarea output_pyout">

<div class="output_html rendered_html">
<div style="max-height:1000px;max-width:1500px;overflow:auto;">
<table border="1" class="dataframe">
  <thead>
    <tr style="text-align: right;">
      <th></th>
      <th>imdbID</th>
      <th>title</th>
      <th>year</th>
      <th>score</th>
      <th>votes</th>
      <th>runtime</th>
      <th>genres</th>
      <th>Action</th>
      <th>Adult</th>
      <th>Adventure</th>
      <th>Animation</th>
      <th>Biography</th>
      <th>Comedy</th>
      <th>Crime</th>
      <th>Drama</th>
      <th>Family</th>
      <th>Fantasy</th>
      <th>Film-Noir</th>
      <th>History</th>
      <th>Horror</th>
      <th>Music</th>
      <th>Musical</th>
      <th>Mystery</th>
      <th>News</th>
      <th>Reality-TV</th>
      <th>Romance</th>
      <th>Sci-Fi</th>
      <th>Sport</th>
      <th>Thriller</th>
      <th>War</th>
      <th>Western</th>
    </tr>
  </thead>
  <tbody>
    <tr>
      <th>0</th>
      <td> tt0111161</td>
      <td> The Shawshank Redemption</td>
      <td> 1994</td>
      <td> 9.2</td>
      <td> 619479</td>
      <td> 142</td>
      <td>                      Crime|Drama</td>
      <td> False</td>
      <td> False</td>
      <td> False</td>
      <td> False</td>
      <td> False</td>
      <td> False</td>
      <td>  True</td>
      <td>  True</td>
      <td> False</td>
      <td> False</td>
      <td> False</td>
      <td> False</td>
      <td> False</td>
      <td> False</td>
      <td> False</td>
      <td> False</td>
      <td> False</td>
      <td> False</td>
      <td> False</td>
      <td> False</td>
      <td> False</td>
      <td> False</td>
      <td> False</td>
      <td> False</td>
    </tr>
    <tr>
      <th>1</th>
      <td> tt0110912</td>
      <td>             Pulp Fiction</td>
      <td> 1994</td>
      <td> 9.0</td>
      <td> 490065</td>
      <td> 154</td>
      <td>                   Crime|Thriller</td>
      <td> False</td>
      <td> False</td>
      <td> False</td>
      <td> False</td>
      <td> False</td>
      <td> False</td>
      <td>  True</td>
      <td> False</td>
      <td> False</td>
      <td> False</td>
      <td> False</td>
      <td> False</td>
      <td> False</td>
      <td> False</td>
      <td> False</td>
      <td> False</td>
      <td> False</td>
      <td> False</td>
      <td> False</td>
      <td> False</td>
      <td> False</td>
      <td>  True</td>
      <td> False</td>
      <td> False</td>
    </tr>
    <tr>
      <th>2</th>
      <td> tt0137523</td>
      <td>               Fight Club</td>
      <td> 1999</td>
      <td> 8.8</td>
      <td> 458173</td>
      <td> 139</td>
      <td>           Drama|Mystery|Thriller</td>
      <td> False</td>
      <td> False</td>
      <td> False</td>
      <td> False</td>
      <td> False</td>
      <td> False</td>
      <td> False</td>
      <td>  True</td>
      <td> False</td>
      <td> False</td>
      <td> False</td>
      <td> False</td>
      <td> False</td>
      <td> False</td>
      <td> False</td>
      <td>  True</td>
      <td> False</td>
      <td> False</td>
      <td> False</td>
      <td> False</td>
      <td> False</td>
      <td>  True</td>
      <td> False</td>
      <td> False</td>
    </tr>
    <tr>
      <th>3</th>
      <td> tt0133093</td>
      <td>               The Matrix</td>
      <td> 1999</td>
      <td> 8.7</td>
      <td> 448114</td>
      <td> 136</td>
      <td>          Action|Adventure|Sci-Fi</td>
      <td>  True</td>
      <td> False</td>
      <td>  True</td>
      <td> False</td>
      <td> False</td>
      <td> False</td>
      <td> False</td>
      <td> False</td>
      <td> False</td>
      <td> False</td>
      <td> False</td>
      <td> False</td>
      <td> False</td>
      <td> False</td>
      <td> False</td>
      <td> False</td>
      <td> False</td>
      <td> False</td>
      <td> False</td>
      <td>  True</td>
      <td> False</td>
      <td> False</td>
      <td> False</td>
      <td> False</td>
    </tr>
    <tr>
      <th>4</th>
      <td> tt1375666</td>
      <td>                Inception</td>
      <td> 2010</td>
      <td> 8.9</td>
      <td> 385149</td>
      <td> 148</td>
      <td> Action|Adventure|Sci-Fi|Thriller</td>
      <td>  True</td>
      <td> False</td>
      <td>  True</td>
      <td> False</td>
      <td> False</td>
      <td> False</td>
      <td> False</td>
      <td> False</td>
      <td> False</td>
      <td> False</td>
      <td> False</td>
      <td> False</td>
      <td> False</td>
      <td> False</td>
      <td> False</td>
      <td> False</td>
      <td> False</td>
      <td> False</td>
      <td> False</td>
      <td>  True</td>
      <td> False</td>
      <td>  True</td>
      <td> False</td>
      <td> False</td>
    </tr>
  </tbody>
</table>
</div>
</div>

</div>
</div>

</div>
</div>

</div>
<div class="text_cell_render border-box-sizing rendered_html">
<h2 id="explore-global-properties">3. Explore global properties</h2>
<p>Next, we get a handle on some basic, global summaries of the DataFrame.</p>
<h3 id="call-describe-on-relevant-columns">Call <code>describe</code> on relevant columns</h3>
</div>
<div class="cell border-box-sizing code_cell vbox">
<div class="input hbox">
<div class="prompt input_prompt">
In&nbsp;[66]:
</div>
<div class="input_area box-flex1">
<div class="highlight"><pre><span class="n">data</span><span class="p">[[</span><span class="s">&#39;score&#39;</span><span class="p">,</span> <span class="s">&#39;runtime&#39;</span><span class="p">,</span> <span class="s">&#39;year&#39;</span><span class="p">,</span> <span class="s">&#39;votes&#39;</span><span class="p">]]</span><span class="o">.</span><span class="n">describe</span><span class="p">()</span>
</pre></div>

</div>
</div>

<div class="vbox output_wrapper">
<div class="output vbox">


<div class="hbox output_area"><div class="prompt output_prompt">
    Out[66]:</div>
<div class="box-flex1 output_subarea output_pyout">

<div class="output_html rendered_html">
<div style="max-height:1000px;max-width:1500px;overflow:auto;">
<table border="1" class="dataframe">
  <thead>
    <tr style="text-align: right;">
      <th></th>
      <th>score</th>
      <th>runtime</th>
      <th>year</th>
      <th>votes</th>
    </tr>
  </thead>
  <tbody>
    <tr>
      <th>count</th>
      <td> 9999.000000</td>
      <td> 9999.000000</td>
      <td> 9999.000000</td>
      <td>   9999.000000</td>
    </tr>
    <tr>
      <th>mean</th>
      <td>    6.385989</td>
      <td>  103.580358</td>
      <td> 1993.471447</td>
      <td>  16605.462946</td>
    </tr>
    <tr>
      <th>std</th>
      <td>    1.189965</td>
      <td>   26.629310</td>
      <td>   14.830049</td>
      <td>  34564.883945</td>
    </tr>
    <tr>
      <th>min</th>
      <td>    1.500000</td>
      <td>    0.000000</td>
      <td> 1950.000000</td>
      <td>   1356.000000</td>
    </tr>
    <tr>
      <th>25%</th>
      <td>    5.700000</td>
      <td>   93.000000</td>
      <td> 1986.000000</td>
      <td>   2334.500000</td>
    </tr>
    <tr>
      <th>50%</th>
      <td>    6.600000</td>
      <td>  102.000000</td>
      <td> 1998.000000</td>
      <td>   4981.000000</td>
    </tr>
    <tr>
      <th>75%</th>
      <td>    7.200000</td>
      <td>  115.000000</td>
      <td> 2005.000000</td>
      <td>  15278.500000</td>
    </tr>
    <tr>
      <th>max</th>
      <td>    9.200000</td>
      <td>  450.000000</td>
      <td> 2011.000000</td>
      <td> 619479.000000</td>
    </tr>
  </tbody>
</table>
</div>
</div>

</div>
</div>

</div>
</div>

</div>
<div class="cell border-box-sizing code_cell vbox">
<div class="input hbox">
<div class="prompt input_prompt">
In&nbsp;[67]:
</div>
<div class="input_area box-flex1">
<div class="highlight"><pre><span class="c">#hmmm, a runtime of 0 looks suspicious. How many movies have that?</span>
<span class="k">print</span> <span class="nb">len</span><span class="p">(</span><span class="n">data</span><span class="p">[</span><span class="n">data</span><span class="o">.</span><span class="n">runtime</span> <span class="o">==</span> <span class="mi">0</span><span class="p">])</span>

<span class="c">#probably best to flag those bad data as NAN</span>
<span class="n">data</span><span class="o">.</span><span class="n">runtime</span><span class="p">[</span><span class="n">data</span><span class="o">.</span><span class="n">runtime</span><span class="o">==</span><span class="mi">0</span><span class="p">]</span> <span class="o">=</span> <span class="n">np</span><span class="o">.</span><span class="n">nan</span>
</pre></div>

</div>
</div>

<div class="vbox output_wrapper">
<div class="output vbox">


<div class="hbox output_area"><div class="prompt"></div>
<div class="box-flex1 output_subarea output_stream output_stdout">
<pre>
282

</pre>
</div>
</div>

</div>
</div>

</div>
<div class="text_cell_render border-box-sizing rendered_html">
<p>After flagging bad runtimes, we repeat</p>
</div>
<div class="cell border-box-sizing code_cell vbox">
<div class="input hbox">
<div class="prompt input_prompt">
In&nbsp;[68]:
</div>
<div class="input_area box-flex1">
<div class="highlight"><pre><span class="n">data</span><span class="o">.</span><span class="n">runtime</span><span class="o">.</span><span class="n">describe</span><span class="p">()</span>
</pre></div>

</div>
</div>

<div class="vbox output_wrapper">
<div class="output vbox">


<div class="hbox output_area"><div class="prompt output_prompt">
    Out[68]:</div>
<div class="box-flex1 output_subarea output_pyout">


<pre>
count    9717.000000
mean      106.586395
std        20.230330
min        45.000000
25%        93.000000
50%       103.000000
75%       115.000000
max       450.000000
dtype: float64
</pre>

</div>
</div>

</div>
</div>

</div>
<div class="text_cell_render border-box-sizing rendered_html">
<h3 id="make-some-basic-plots">Make some basic plots</h3>
</div>
<div class="cell border-box-sizing code_cell vbox">
<div class="input hbox">
<div class="prompt input_prompt">
In&nbsp;[69]:
</div>
<div class="input_area box-flex1">
<div class="highlight"><pre><span class="c"># more movies in recent years, but not *very* recent movies (they haven&#39;t had time to receive lots of votes yet?)</span>
<span class="n">plt</span><span class="o">.</span><span class="n">hist</span><span class="p">(</span><span class="n">data</span><span class="o">.</span><span class="n">year</span><span class="p">,</span> <span class="n">bins</span><span class="o">=</span><span class="n">np</span><span class="o">.</span><span class="n">arange</span><span class="p">(</span><span class="mi">1950</span><span class="p">,</span> <span class="mi">2013</span><span class="p">),</span> <span class="n">color</span><span class="o">=</span><span class="s">&#39;#cccccc&#39;</span><span class="p">)</span>
<span class="n">plt</span><span class="o">.</span><span class="n">xlabel</span><span class="p">(</span><span class="s">&quot;Release Year&quot;</span><span class="p">)</span>
<span class="n">remove_border</span><span class="p">()</span>
</pre></div>

</div>
</div>

<div class="vbox output_wrapper">
<div class="output vbox">


<div class="hbox output_area"><div class="prompt"></div>
<div class="box-flex1 output_subarea output_display_data">


<img src="data:image/png;base64,iVBORw0KGgoAAAANSUhEUgAAAX8AAAEPCAYAAACqZsSmAAAABHNCSVQICAgIfAhkiAAAAAlwSFlz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">

</div>
</div>

</div>
</div>

</div>
<div class="cell border-box-sizing code_cell vbox">
<div class="input hbox">
<div class="prompt input_prompt">
In&nbsp;[70]:
</div>
<div class="input_area box-flex1">
<div class="highlight"><pre><span class="n">plt</span><span class="o">.</span><span class="n">hist</span><span class="p">(</span><span class="n">data</span><span class="o">.</span><span class="n">score</span><span class="p">,</span> <span class="n">bins</span><span class="o">=</span><span class="mi">20</span><span class="p">,</span> <span class="n">color</span><span class="o">=</span><span class="s">&#39;#cccccc&#39;</span><span class="p">)</span>
<span class="n">plt</span><span class="o">.</span><span class="n">xlabel</span><span class="p">(</span><span class="s">&quot;IMDB rating&quot;</span><span class="p">)</span>
<span class="n">remove_border</span><span class="p">()</span>
</pre></div>

</div>
</div>

<div class="vbox output_wrapper">
<div class="output vbox">


<div class="hbox output_area"><div class="prompt"></div>
<div class="box-flex1 output_subarea output_display_data">


<img src="data:image/png;base64,iVBORw0KGgoAAAANSUhEUgAAAX4AAAEPCAYAAABFpK+YAAAABHNCSVQICAgIfAhkiAAAAAlwSFlz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">

</div>
</div>

</div>
</div>

</div>
<div class="cell border-box-sizing code_cell vbox">
<div class="input hbox">
<div class="prompt input_prompt">
In&nbsp;[71]:
</div>
<div class="input_area box-flex1">
<div class="highlight"><pre><span class="n">plt</span><span class="o">.</span><span class="n">hist</span><span class="p">(</span><span class="n">data</span><span class="o">.</span><span class="n">runtime</span><span class="o">.</span><span class="n">dropna</span><span class="p">(),</span> <span class="n">bins</span><span class="o">=</span><span class="mi">50</span><span class="p">,</span> <span class="n">color</span><span class="o">=</span><span class="s">&#39;#cccccc&#39;</span><span class="p">)</span>
<span class="n">plt</span><span class="o">.</span><span class="n">xlabel</span><span class="p">(</span><span class="s">&quot;Runtime distribution&quot;</span><span class="p">)</span>
<span class="n">remove_border</span><span class="p">()</span>
</pre></div>

</div>
</div>

<div class="vbox output_wrapper">
<div class="output vbox">


<div class="hbox output_area"><div class="prompt"></div>
<div class="box-flex1 output_subarea output_display_data">


<img src="data:image/png;base64,iVBORw0KGgoAAAANSUhEUgAAAYIAAAEPCAYAAABP1MOPAAAABHNCSVQICAgIfAhkiAAAAAlwSFlz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">

</div>
</div>

</div>
</div>

</div>
<div class="cell border-box-sizing code_cell vbox">
<div class="input hbox">
<div class="prompt input_prompt">
In&nbsp;[72]:
</div>
<div class="input_area box-flex1">
<div class="highlight"><pre><span class="c">#hmm, more bad, recent movies. Real, or a selection bias?</span>

<span class="n">plt</span><span class="o">.</span><span class="n">scatter</span><span class="p">(</span><span class="n">data</span><span class="o">.</span><span class="n">year</span><span class="p">,</span> <span class="n">data</span><span class="o">.</span><span class="n">score</span><span class="p">,</span> <span class="n">lw</span><span class="o">=</span><span class="mi">0</span><span class="p">,</span> <span class="n">alpha</span><span class="o">=.</span><span class="mi">08</span><span class="p">,</span> <span class="n">color</span><span class="o">=</span><span class="s">&#39;k&#39;</span><span class="p">)</span>
<span class="n">plt</span><span class="o">.</span><span class="n">xlabel</span><span class="p">(</span><span class="s">&quot;Year&quot;</span><span class="p">)</span>
<span class="n">plt</span><span class="o">.</span><span class="n">ylabel</span><span class="p">(</span><span class="s">&quot;IMDB Rating&quot;</span><span class="p">)</span>
<span class="n">remove_border</span><span class="p">()</span>
</pre></div>

</div>
</div>

<div class="vbox output_wrapper">
<div class="output vbox">


<div class="hbox output_area"><div class="prompt"></div>
<div class="box-flex1 output_subarea output_display_data">


<img src="data:image/png;base64,iVBORw0KGgoAAAANSUhEUgAAAYcAAAEPCAYAAACp/QjLAAAABHNCSVQICAgIfAhkiAAAAAlwSFlz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">

</div>
</div>

</div>
</div>

</div>
<div class="cell border-box-sizing code_cell vbox">
<div class="input hbox">
<div class="prompt input_prompt">
In&nbsp;[73]:
</div>
<div class="input_area box-flex1">
<div class="highlight"><pre><span class="n">plt</span><span class="o">.</span><span class="n">scatter</span><span class="p">(</span><span class="n">data</span><span class="o">.</span><span class="n">votes</span><span class="p">,</span> <span class="n">data</span><span class="o">.</span><span class="n">score</span><span class="p">,</span> <span class="n">lw</span><span class="o">=</span><span class="mi">0</span><span class="p">,</span> <span class="n">alpha</span><span class="o">=.</span><span class="mi">2</span><span class="p">,</span> <span class="n">color</span><span class="o">=</span><span class="s">&#39;k&#39;</span><span class="p">)</span>
<span class="n">plt</span><span class="o">.</span><span class="n">xlabel</span><span class="p">(</span><span class="s">&quot;Number of Votes&quot;</span><span class="p">)</span>
<span class="n">plt</span><span class="o">.</span><span class="n">ylabel</span><span class="p">(</span><span class="s">&quot;IMDB Rating&quot;</span><span class="p">)</span>
<span class="n">plt</span><span class="o">.</span><span class="n">xscale</span><span class="p">(</span><span class="s">&#39;log&#39;</span><span class="p">)</span>
<span class="n">remove_border</span><span class="p">()</span>
</pre></div>

</div>
</div>

<div class="vbox output_wrapper">
<div class="output vbox">


<div class="hbox output_area"><div class="prompt"></div>
<div class="box-flex1 output_subarea output_display_data">


<img src="data:image/png;base64,iVBORw0KGgoAAAANSUhEUgAAAYQAAAEUCAYAAAAr20GQAAAABHNCSVQICAgIfAhkiAAAAAlwSFlz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">

</div>
</div>

</div>
</div>

</div>
<div class="text_cell_render border-box-sizing rendered_html">
<h3 id="identify-some-outliers">Identify some outliers</h3>
</div>
<div class="cell border-box-sizing code_cell vbox">
<div class="input hbox">
<div class="prompt input_prompt">
In&nbsp;[74]:
</div>
<div class="input_area box-flex1">
<div class="highlight"><pre><span class="c"># low-score movies with lots of votes</span>
<span class="n">data</span><span class="p">[(</span><span class="n">data</span><span class="o">.</span><span class="n">votes</span> <span class="o">&gt;</span> <span class="mf">9e4</span><span class="p">)</span> <span class="o">&amp;</span> <span class="p">(</span><span class="n">data</span><span class="o">.</span><span class="n">score</span> <span class="o">&lt;</span> <span class="mi">5</span><span class="p">)][[</span><span class="s">&#39;title&#39;</span><span class="p">,</span> <span class="s">&#39;year&#39;</span><span class="p">,</span> <span class="s">&#39;score&#39;</span><span class="p">,</span> <span class="s">&#39;votes&#39;</span><span class="p">,</span> <span class="s">&#39;genres&#39;</span><span class="p">]]</span>
</pre></div>

</div>
</div>

<div class="vbox output_wrapper">
<div class="output vbox">


<div class="hbox output_area"><div class="prompt output_prompt">
    Out[74]:</div>
<div class="box-flex1 output_subarea output_pyout">

<div class="output_html rendered_html">
<div style="max-height:1000px;max-width:1500px;overflow:auto;">
<table border="1" class="dataframe">
  <thead>
    <tr style="text-align: right;">
      <th></th>
      <th>title</th>
      <th>year</th>
      <th>score</th>
      <th>votes</th>
      <th>genres</th>
    </tr>
  </thead>
  <tbody>
    <tr>
      <th>317</th>
      <td>       New Moon</td>
      <td> 2009</td>
      <td> 4.5</td>
      <td> 90457</td>
      <td> Adventure|Drama|Fantasy|Romance</td>
    </tr>
    <tr>
      <th>334</th>
      <td> Batman &amp; Robin</td>
      <td> 1997</td>
      <td> 3.5</td>
      <td> 91875</td>
      <td>     Action|Crime|Fantasy|Sci-Fi</td>
    </tr>
  </tbody>
</table>
</div>
</div>

</div>
</div>

</div>
</div>

</div>
<div class="cell border-box-sizing code_cell vbox">
<div class="input hbox">
<div class="prompt input_prompt">
In&nbsp;[75]:
</div>
<div class="input_area box-flex1">
<div class="highlight"><pre><span class="c"># The lowest rated movies</span>
<span class="n">data</span><span class="p">[</span><span class="n">data</span><span class="o">.</span><span class="n">score</span> <span class="o">==</span> <span class="n">data</span><span class="o">.</span><span class="n">score</span><span class="o">.</span><span class="n">min</span><span class="p">()][[</span><span class="s">&#39;title&#39;</span><span class="p">,</span> <span class="s">&#39;year&#39;</span><span class="p">,</span> <span class="s">&#39;score&#39;</span><span class="p">,</span> <span class="s">&#39;votes&#39;</span><span class="p">,</span> <span class="s">&#39;genres&#39;</span><span class="p">]]</span>
</pre></div>

</div>
</div>

<div class="vbox output_wrapper">
<div class="output vbox">


<div class="hbox output_area"><div class="prompt output_prompt">
    Out[75]:</div>
<div class="box-flex1 output_subarea output_pyout">

<div class="output_html rendered_html">
<div style="max-height:1000px;max-width:1500px;overflow:auto;">
<table border="1" class="dataframe">
  <thead>
    <tr style="text-align: right;">
      <th></th>
      <th>title</th>
      <th>year</th>
      <th>score</th>
      <th>votes</th>
      <th>genres</th>
    </tr>
  </thead>
  <tbody>
    <tr>
      <th>1982</th>
      <td>     Manos: The Hands of Fate</td>
      <td> 1966</td>
      <td> 1.5</td>
      <td> 20927</td>
      <td>                             Horror</td>
    </tr>
    <tr>
      <th>2793</th>
      <td> Superbabies: Baby Geniuses 2</td>
      <td> 2004</td>
      <td> 1.5</td>
      <td> 13196</td>
      <td>                      Comedy|Family</td>
    </tr>
    <tr>
      <th>3746</th>
      <td>            Daniel the Wizard</td>
      <td> 2004</td>
      <td> 1.5</td>
      <td>  8271</td>
      <td> Comedy|Crime|Family|Fantasy|Horror</td>
    </tr>
    <tr>
      <th>5158</th>
      <td>                 Ben &amp; Arthur</td>
      <td> 2002</td>
      <td> 1.5</td>
      <td>  4675</td>
      <td>                      Drama|Romance</td>
    </tr>
    <tr>
      <th>5993</th>
      <td>    Night Train to Mundo Fine</td>
      <td> 1966</td>
      <td> 1.5</td>
      <td>  3542</td>
      <td>         Action|Adventure|Crime|War</td>
    </tr>
    <tr>
      <th>6257</th>
      <td>              Monster a-Go Go</td>
      <td> 1965</td>
      <td> 1.5</td>
      <td>  3255</td>
      <td>                      Sci-Fi|Horror</td>
    </tr>
    <tr>
      <th>6726</th>
      <td>                   Dream Well</td>
      <td> 2009</td>
      <td> 1.5</td>
      <td>  2848</td>
      <td>               Comedy|Romance|Sport</td>
    </tr>
  </tbody>
</table>
</div>
</div>

</div>
</div>

</div>
</div>

</div>
<div class="cell border-box-sizing code_cell vbox">
<div class="input hbox">
<div class="prompt input_prompt">
In&nbsp;[76]:
</div>
<div class="input_area box-flex1">
<div class="highlight"><pre><span class="c"># The highest rated movies</span>
<span class="n">data</span><span class="p">[</span><span class="n">data</span><span class="o">.</span><span class="n">score</span> <span class="o">==</span> <span class="n">data</span><span class="o">.</span><span class="n">score</span><span class="o">.</span><span class="n">max</span><span class="p">()][[</span><span class="s">&#39;title&#39;</span><span class="p">,</span> <span class="s">&#39;year&#39;</span><span class="p">,</span> <span class="s">&#39;score&#39;</span><span class="p">,</span> <span class="s">&#39;votes&#39;</span><span class="p">,</span> <span class="s">&#39;genres&#39;</span><span class="p">]]</span>
</pre></div>

</div>
</div>

<div class="vbox output_wrapper">
<div class="output vbox">


<div class="hbox output_area"><div class="prompt output_prompt">
    Out[76]:</div>
<div class="box-flex1 output_subarea output_pyout">

<div class="output_html rendered_html">
<div style="max-height:1000px;max-width:1500px;overflow:auto;">
<table border="1" class="dataframe">
  <thead>
    <tr style="text-align: right;">
      <th></th>
      <th>title</th>
      <th>year</th>
      <th>score</th>
      <th>votes</th>
      <th>genres</th>
    </tr>
  </thead>
  <tbody>
    <tr>
      <th>0 </th>
      <td> The Shawshank Redemption</td>
      <td> 1994</td>
      <td> 9.2</td>
      <td> 619479</td>
      <td> Crime|Drama</td>
    </tr>
    <tr>
      <th>26</th>
      <td>            The Godfather</td>
      <td> 1972</td>
      <td> 9.2</td>
      <td> 474189</td>
      <td> Crime|Drama</td>
    </tr>
  </tbody>
</table>
</div>
</div>

</div>
</div>

</div>
</div>

</div>
<div class="text_cell_render border-box-sizing rendered_html">
<h3 id="run-aggregation-functions-like-sum-over-several-rows-or-columns">Run aggregation functions like <code>sum</code> over several rows or columns</h3>
</div>
<div class="text_cell_render border-box-sizing rendered_html">
<p><em>What genres are the most frequent?</em></p>
</div>
<div class="cell border-box-sizing code_cell vbox">
<div class="input hbox">
<div class="prompt input_prompt">
In&nbsp;[77]:
</div>
<div class="input_area box-flex1">
<div class="highlight"><pre><span class="c">#sum sums over rows by default</span>
<span class="n">genre_count</span> <span class="o">=</span> <span class="n">np</span><span class="o">.</span><span class="n">sort</span><span class="p">(</span><span class="n">data</span><span class="p">[</span><span class="n">genres</span><span class="p">]</span><span class="o">.</span><span class="n">sum</span><span class="p">())[::</span><span class="o">-</span><span class="mi">1</span><span class="p">]</span>
<span class="n">pd</span><span class="o">.</span><span class="n">DataFrame</span><span class="p">({</span><span class="s">&#39;Genre Count&#39;</span><span class="p">:</span> <span class="n">genre_count</span><span class="p">})</span>
</pre></div>

</div>
</div>

<div class="vbox output_wrapper">
<div class="output vbox">


<div class="hbox output_area"><div class="prompt output_prompt">
    Out[77]:</div>
<div class="box-flex1 output_subarea output_pyout">

<div class="output_html rendered_html">
<div style="max-height:1000px;max-width:1500px;overflow:auto;">
<table border="1" class="dataframe">
  <thead>
    <tr style="text-align: right;">
      <th></th>
      <th>Genre Count</th>
    </tr>
  </thead>
  <tbody>
    <tr>
      <th>Drama</th>
      <td> 5697</td>
    </tr>
    <tr>
      <th>Comedy</th>
      <td> 3922</td>
    </tr>
    <tr>
      <th>Thriller</th>
      <td> 2832</td>
    </tr>
    <tr>
      <th>Romance</th>
      <td> 2441</td>
    </tr>
    <tr>
      <th>Action</th>
      <td> 1891</td>
    </tr>
    <tr>
      <th>Crime</th>
      <td> 1867</td>
    </tr>
    <tr>
      <th>Adventure</th>
      <td> 1313</td>
    </tr>
    <tr>
      <th>Horror</th>
      <td> 1215</td>
    </tr>
    <tr>
      <th>Mystery</th>
      <td> 1009</td>
    </tr>
    <tr>
      <th>Fantasy</th>
      <td>  916</td>
    </tr>
    <tr>
      <th>Sci-Fi</th>
      <td>  897</td>
    </tr>
    <tr>
      <th>Family</th>
      <td>  754</td>
    </tr>
    <tr>
      <th>War</th>
      <td>  512</td>
    </tr>
    <tr>
      <th>Biography</th>
      <td>  394</td>
    </tr>
    <tr>
      <th>Music</th>
      <td>  371</td>
    </tr>
    <tr>
      <th>History</th>
      <td>  358</td>
    </tr>
    <tr>
      <th>Animation</th>
      <td>  314</td>
    </tr>
    <tr>
      <th>Sport</th>
      <td>  288</td>
    </tr>
    <tr>
      <th>Musical</th>
      <td>  260</td>
    </tr>
    <tr>
      <th>Western</th>
      <td>  235</td>
    </tr>
    <tr>
      <th>Film-Noir</th>
      <td>   40</td>
    </tr>
    <tr>
      <th>Adult</th>
      <td>    9</td>
    </tr>
    <tr>
      <th>News</th>
      <td>    1</td>
    </tr>
    <tr>
      <th>Reality-TV</th>
      <td>    1</td>
    </tr>
  </tbody>
</table>
</div>
</div>

</div>
</div>

</div>
</div>

</div>
<div class="text_cell_render border-box-sizing rendered_html">
<p><em>How many genres does a movie have, on average?</em></p>
</div>
<div class="cell border-box-sizing code_cell vbox">
<div class="input hbox">
<div class="prompt input_prompt">
In&nbsp;[78]:
</div>
<div class="input_area box-flex1">
<div class="highlight"><pre><span class="c">#axis=1 sums over columns instead</span>
<span class="n">genre_count</span> <span class="o">=</span> <span class="n">data</span><span class="p">[</span><span class="n">genres</span><span class="p">]</span><span class="o">.</span><span class="n">sum</span><span class="p">(</span><span class="n">axis</span><span class="o">=</span><span class="mi">1</span><span class="p">)</span> 
<span class="k">print</span> <span class="s">&quot;Average movie has </span><span class="si">%0.2f</span><span class="s"> genres&quot;</span> <span class="o">%</span> <span class="n">genre_count</span><span class="o">.</span><span class="n">mean</span><span class="p">()</span>
<span class="n">genre_count</span><span class="o">.</span><span class="n">describe</span><span class="p">()</span>
</pre></div>

</div>
</div>

<div class="vbox output_wrapper">
<div class="output vbox">


<div class="hbox output_area"><div class="prompt"></div>
<div class="box-flex1 output_subarea output_stream output_stdout">
<pre>
Average movie has 2.75 genres

</pre>
</div>
</div>

<div class="hbox output_area"><div class="prompt output_prompt">
    Out[78]:</div>
<div class="box-flex1 output_subarea output_pyout">


<pre>
count    9999.000000
mean        2.753975
std         1.168910
min         1.000000
25%         2.000000
50%         3.000000
75%         3.000000
max         8.000000
dtype: float64
</pre>

</div>
</div>

</div>
</div>

</div>
<div class="text_cell_render border-box-sizing rendered_html">
<h2 id="explore-group-properties">Explore Group Properties</h2>
</div>
<div class="text_cell_render border-box-sizing rendered_html">
<p>Let's split up movies by decade</p>
</div>
<div class="cell border-box-sizing code_cell vbox">
<div class="input hbox">
<div class="prompt input_prompt">
In&nbsp;[79]:
</div>
<div class="input_area box-flex1">
<div class="highlight"><pre><span class="n">decade</span> <span class="o">=</span>  <span class="p">(</span><span class="n">data</span><span class="o">.</span><span class="n">year</span> <span class="o">//</span> <span class="mi">10</span><span class="p">)</span> <span class="o">*</span> <span class="mi">10</span>

<span class="n">tyd</span> <span class="o">=</span> <span class="n">data</span><span class="p">[[</span><span class="s">&#39;title&#39;</span><span class="p">,</span> <span class="s">&#39;year&#39;</span><span class="p">]]</span>
<span class="n">tyd</span><span class="p">[</span><span class="s">&#39;decade&#39;</span><span class="p">]</span> <span class="o">=</span> <span class="n">decade</span>

<span class="n">tyd</span><span class="o">.</span><span class="n">head</span><span class="p">()</span>
</pre></div>

</div>
</div>

<div class="vbox output_wrapper">
<div class="output vbox">


<div class="hbox output_area"><div class="prompt output_prompt">
    Out[79]:</div>
<div class="box-flex1 output_subarea output_pyout">

<div class="output_html rendered_html">
<div style="max-height:1000px;max-width:1500px;overflow:auto;">
<table border="1" class="dataframe">
  <thead>
    <tr style="text-align: right;">
      <th></th>
      <th>title</th>
      <th>year</th>
      <th>decade</th>
    </tr>
  </thead>
  <tbody>
    <tr>
      <th>0</th>
      <td> The Shawshank Redemption</td>
      <td> 1994</td>
      <td> 1990</td>
    </tr>
    <tr>
      <th>1</th>
      <td>             Pulp Fiction</td>
      <td> 1994</td>
      <td> 1990</td>
    </tr>
    <tr>
      <th>2</th>
      <td>               Fight Club</td>
      <td> 1999</td>
      <td> 1990</td>
    </tr>
    <tr>
      <th>3</th>
      <td>               The Matrix</td>
      <td> 1999</td>
      <td> 1990</td>
    </tr>
    <tr>
      <th>4</th>
      <td>                Inception</td>
      <td> 2010</td>
      <td> 2010</td>
    </tr>
  </tbody>
</table>
</div>
</div>

</div>
</div>

</div>
</div>

</div>
<div class="text_cell_render border-box-sizing rendered_html">
<p><a href="http://pandas.pydata.org/pandas-docs/dev/groupby.html">GroupBy</a> will gather movies into groups with equal decade values</p>
</div>
<div class="cell border-box-sizing code_cell vbox">
<div class="input hbox">
<div class="prompt input_prompt">
In&nbsp;[80]:
</div>
<div class="input_area box-flex1">
<div class="highlight"><pre><span class="c">#mean score for all movies in each decade</span>
<span class="n">decade_mean</span> <span class="o">=</span> <span class="n">data</span><span class="o">.</span><span class="n">groupby</span><span class="p">(</span><span class="n">decade</span><span class="p">)</span><span class="o">.</span><span class="n">score</span><span class="o">.</span><span class="n">mean</span><span class="p">()</span>
<span class="n">decade_mean</span><span class="o">.</span><span class="n">name</span> <span class="o">=</span> <span class="s">&#39;Decade Mean&#39;</span>
<span class="k">print</span> <span class="n">decade_mean</span>

<span class="n">plt</span><span class="o">.</span><span class="n">plot</span><span class="p">(</span><span class="n">decade_mean</span><span class="o">.</span><span class="n">index</span><span class="p">,</span> <span class="n">decade_mean</span><span class="o">.</span><span class="n">values</span><span class="p">,</span> <span class="s">&#39;o-&#39;</span><span class="p">,</span>
        <span class="n">color</span><span class="o">=</span><span class="s">&#39;r&#39;</span><span class="p">,</span> <span class="n">lw</span><span class="o">=</span><span class="mi">3</span><span class="p">,</span> <span class="n">label</span><span class="o">=</span><span class="s">&#39;Decade Average&#39;</span><span class="p">)</span>
<span class="n">plt</span><span class="o">.</span><span class="n">scatter</span><span class="p">(</span><span class="n">data</span><span class="o">.</span><span class="n">year</span><span class="p">,</span> <span class="n">data</span><span class="o">.</span><span class="n">score</span><span class="p">,</span> <span class="n">alpha</span><span class="o">=.</span><span class="mo">04</span><span class="p">,</span> <span class="n">lw</span><span class="o">=</span><span class="mi">0</span><span class="p">,</span> <span class="n">color</span><span class="o">=</span><span class="s">&#39;k&#39;</span><span class="p">)</span>
<span class="n">plt</span><span class="o">.</span><span class="n">xlabel</span><span class="p">(</span><span class="s">&quot;Year&quot;</span><span class="p">)</span>
<span class="n">plt</span><span class="o">.</span><span class="n">ylabel</span><span class="p">(</span><span class="s">&quot;Score&quot;</span><span class="p">)</span>
<span class="n">plt</span><span class="o">.</span><span class="n">legend</span><span class="p">(</span><span class="n">frameon</span><span class="o">=</span><span class="bp">False</span><span class="p">)</span>
<span class="n">remove_border</span><span class="p">()</span>
</pre></div>

</div>
</div>

<div class="vbox output_wrapper">
<div class="output vbox">


<div class="hbox output_area"><div class="prompt"></div>
<div class="box-flex1 output_subarea output_stream output_stdout">
<pre>
year
1950    7.244522
1960    7.062367
1970    6.842297
1980    6.248693
1990    6.199316
2000    6.277858
2010    6.344552
Name: Decade Mean, dtype: float64

</pre>
</div>
</div>

<div class="hbox output_area"><div class="prompt"></div>
<div class="box-flex1 output_subarea output_display_data">


<img src="data:image/png;base64,iVBORw0KGgoAAAANSUhEUgAAAYcAAAEPCAYAAACp/QjLAAAABHNCSVQICAgIfAhkiAAAAAlwSFlz
AAALEgAACxIB0t1+/AAAIABJREFUeJzsvXmQXFd5Nv70vi/TPd3TM9Ozaqx9sSwbiOwEEWOMIcQU
ARPjLyEkX1JOUoEEfgUJMQUJqcRkqZAQqFBfBceQkKVSNhUMJnz2Z8Ri4xXLlmStM5p96+llpvft
/P5oP++c2zPabEsji/tWqTS93Xvuuee+2/O877EopRRMMcUUU0wxRRPrRg/AFFNMMcWUK09M42CK
KaaYYsoaMY2DKaaYYoopa8Q0DqaYYooppqwR0ziYYoopppiyRkzjYIoppphiyhq5ZMbh13/919HV
1YVdu3bJe+l0Grfccgs2b96Mt73tbchms5fq9KaYYoopprwKuWTG4UMf+hC+853vGN679957ccst
t+DEiRO4+eabce+9916q05tiiimmmPIqxHIpi+DOnDmDd73rXXjxxRcBAFu3bsXBgwfR1dWFubk5
HDhwAMeOHbtUpzfFFFNMMeUVymXFHObn59HV1QUA6Orqwvz8/OU8vSmmmGKKKRcoGwZIWywWWCyW
jTq9KaaYYoop5xD75TwZ00mJRAKzs7OIx+Prfu/Xfu3XMDg4KK8PHDiAAwcOXJ5BmmKKKaaYcnmN
wy/+4i/i/vvvxyc+8Qncf//9ePe7373u9+6//36Y/QBNMcUUUzZOLhkgfeedd+LgwYNIpVLo6urC
n/7pn+L222/HHXfcgYmJCQwODuI///M/EQ6H1w7KYjGNgymmmGLKBsolZSu9UjGNgymmmGLKxopZ
IW2KKaaYYsoaMY2DKaaYYoopa8Q0DqaYYooppqwR0ziYYoopppiyRkzjYIoppphiyhoxjYMppphi
iilrxDQOpphiiimmrBHTOJhiiimvC7FarRgdHd3oYfzUiGkcTDHFlLPK4OAgvF4vgsEgOjo6cOON
N+LLX/7y67JI9Xvf+x6sViv+8i//cqOH8roQ0ziYYsoVKt//1rdwz6234jMHDuCeW2/F97/1rct+
DIvFgoceegjLy8uYmJjAH/7hH+Jzn/scfuM3fuOix7LRcv/992Pnzp346le/ekmO32g0LslxN0zU
FShX6LBMMeWyycGHHlKf3LRJKUD+fXLTJnXwoYcu6zEGBwfVo48+anjvqaeeUlarVR0+fFgppVS5
XFYf+9jHVH9/v+rq6lJ33323KpVK8v1vfOMbas+ePSoYDKpNmzap73znO0oppb7yla+obdu2qUAg
oIaHh9WXv/xlw3n+8i//UnV3d6ve3l71T//0T8pisajTp09f0DnbJZ/Pq0AgoH70ox+pQCCgnnnm
GaWUUvfee69673vfa/juhz/8YfXhD39YKaVUNptVv/7rvy7juOeee1Sj0VBKKXXfffep/fv3qz/4
gz9Q0WhUfepTn1KnT59Wb3nLW1Q0GlWdnZ3qrrvuUtlsVo797LPPqmuvvVYFAgH1vve9T91xxx3q
nnvukc+/+c1vqj179qhwOKz279+vXnjhhQu4S5dGrkgtbBoHU37a5Y/f9jaDUue/e9Z572z//vgs
799z660XPI71jINSSvX396t//Md/VEop9fu///vq9ttvV5lMRq2srKh3vetd6o/+6I+UUko9+eST
KhQKqUceeUQppdT09LQ6duyYUkqpb33rW2p0dFQppdTBgweV1+tVzz33nFJKqYcfflh1dXWpI0eO
qEKhoO68806DcTjXOdeTr371q2pkZEQppdQHPvAB9Xu/93tKKaXGx8eV1+tVKysrSiml6vW66u7u
Vk8++aRSSql3v/vd6u6771bFYlEtLCyoN7zhDWLE7rvvPmW329U//MM/qEajoUqlkjp16pR65JFH
VLVaVYuLi+rnfu7n1O///u8rpZSqVCqqv79f/f3f/72q1+vqgQceUE6nU33qU59SSin13HPPqXg8
rp566inVbDbV/fffrwYHB1WlUrng+/VayhWphU3jYMpPu3z6zW9eV7F/+iKMw9m+++k3v/mCx3E2
4/CmN71J/fmf/7lqNpvK5/OJ0lZKqccff1wNDQ0ppZT6rd/6LfXRj370gs717ne/W/3d3/2dUkqp
D33oQwZlf+LECTEO5zvnenLzzTfL8R588EEVi8VUvV5XSil10003qa9+9atKKaW++93vqk2bNiml
lJqbm1Mul8sQkXz9619Xb3nLW5RSLePQ399/zmt68MEH1d69e5VSLQPY29tr+Pymm24S43D33XfL
35QtW7aogwcPnvMcl0ou634OppjySqTZbKJWqwEAHA4HrNarHyqru1zrvn8xWe36Wd5vuN3n/J1S
CtVq9ZzfmZqaQiQSQSqVQrFYxL59+wy/bzab8r13vvOd6x7j4Ycfxp/8yZ/g5MmTaDabKBaL2L17
NwBgdnYWN9xwg3y3v79f/l5cXDznOdtlcnIS3/ve9/BXf/VXAIC3v/3tKJfLeOihh3D77bfjAx/4
AP7t3/4Nv/Irv4Kvf/3ruOuuuwAA4+PjqNVq6O7ulmM1m03DWPr6+gznmp+fx0c+8hH88Ic/xMrK
CprNJiKRCABgZmYGvb29hu/rvx8fH8dXv/pVfOELX5D3arUaZmdn172uSy1X/1NmyuteKpUKGo0G
Go0GKpXKRg/nssjbPvxh/PGmTYb3PrlpE2556KELjh3e9tBD6x/j937vnOcul8sy36qVXTB8/vTT
T2NmZgY33XQTotEoPB4Pjh49ikwmg0wmg2w2i+XlZQAt5Xfq1Kk156hUKvilX/olfPzjH8fCwgIy
mQze8Y53yLm6u7sxMTEh39f/7uzsPOc52+VrX/sams0m3vGOd6C7uxtDQ0Mol8u4//77AQDvfe97
8b3vfQ/T09P4xje+gQ984AMydpfLhaWlJTlPLpfDiy++KMdu3+r4k5/8JGw2Gw4fPoxcLifn5jVN
T08bvq9fV39/P/74j/9YzpXJZJDP5/H+979/3eu65LIh8cp55AodlikbII1GQxUKBcO/ZrO50cO6
LHLwoYfUPbfeqj795jere2699aKA5Fd6jGazaZjrgYEB9d3vflcppVQul1Pf/OY31aZNm9QHP/hB
+c1HPvIRdccdd6iFhQWllFJTU1Pqf/7nf5RSLfA6HA6rRx99VDUaDTU1NaWOHTumlpeXlc1mUwcP
HlTNZlN9+9vfVl6vV9IqDz/8sEokEuro0aOqUCiou+66y4A5nOuc7bJ582b1J3/yJ2p+fl7+/fd/
/7dyuVxqaWlJKaXUbbfdpt761req6667zvDb22+/XX3kIx9Ry8vLqtFoqFOnTkma57777lM33XST
4ft33HGH+s3f/E251v3796tkMqmUWsUcvvCFL6haraa+8Y1vGDCHZ555RvX19aknn3xSNZtNlc/n
1UMPPSR4yOWWDdHCn//859XOnTvVjh071Oc///k1n5vGwRRdSqWSKKtzMVJMeW1En++BgQHl8XhU
IBBQoVBI7d+/X33pS18yGOhyuaw++clPquHhYRUMBtW2bdvUF77wBfn8wQcfVLt371aBQECNjIyI
sfniF7+ourq6VDgcVr/yK7+i7rzzTkPO/d5771WJREL19vaqr3zlK8pqtRrYSuc6J+WJJ55QHo9H
pVKpNZ/t2LFDffGLX1RKKfW1r31NWSwW9dd//deG7+RyOfXbv/3bKplMqlAopPbu3av+4z/+Qyml
1D//8z+rn/3ZnzV8/8iRI2rfvn3K7/ervXv3qr/5m79RfX198vkzzzyjrr32WuX3+9X73vc+9Z73
vEd99rOflc+/853vqBtuuEGFw2HV3d2t7rjjjg0zDpd9J7jDhw/jzjvvxNNPPw2Hw4G3v/3t+Md/
/Eds0sJfcyc4U3RRShkwh/ZQ3pTXVpRSqNfrUEqZ832J5Y1vfCN+53d+Bx/84Ac3eihr5LJjDseO
HcMb3/hGuN1u2Gw2vPnNb8YDDzxwuYdhymskxAEqlcolM+gWiwVOpxNOp/OsiqparaJcLosRqdVq
KJfL5wVWTVkr6mVwV62DN5jy6uT73/8+5ubmUK/Xcf/99+Pw4cN4+9vfvtHDWlcuu3HYuXMnfvCD
HyCdTqNYLOJb3/oWpqamLvcwTHkNRL3MatlosLharaJerwurqVKpoFarodlsol6vi8Ew5cKknQBg
GojXTo4fP45rr70WHR0d+Nu//Vv813/9F7q6ujZ6WOvKZU8rAcBXvvIVfOlLX4LP58OOHTvgcrnw
t3/7t6uDsljw6U9/Wl4fOHAABw4cuNzDvOKE3pzNZtvooQDAugbB6/Ve9nGUy2UDjZFLutlswmq1
wm63w3UWaqgpLWk0GrBYLLBYLCiVSobP3G73VU0fbjQasFqtZ41Kubau5jlYTzbEOOjyyU9+Ev39
/bj77rvlPRNzWCv1el1SJFarFe7zcNUvhyilUC6X5V5t1LhqtZohOrDZbMjn81BKwWKxIBAIwOl0
XvZxvV6EkQLQwnQajYYoRIvFAo/Hs5HDu2Sir1+mLtsdL0alQGtd/TQ5GRtSBLewsIB4PI6JiQk8
+OCDePLJJzdiGK8r0ZUf0yV2+8bWMFosFrjdbnl4HA7HhoyDoGmz2YTNZkOj0YDT6RSP0HQ0zi5M
H1FqtRq8Xq+st41eY5dSCLoDq6QH3TgQmKfQaP60RBAbcuff+973YmlpCQ6HA1/60pcQDAY3Yhgb
KrVaTZTXK/FqrxQGicViOadRIC6hlILdbr9kykY/Lo0EH/T15qrRaKBWq8n4L+SBr1arohyu1EhE
n2+bzXZeg90+N3z9Whv6ZrMpka/T6Vx3vjm/HHf7M1Kv11Gv18XLf7XPwNmuvf093bm4Up67yyEb
nlZaT672tFJ7rv5CwtVmsyngoN1uv2KVU7voKQsAcLlclwUzIQ5htVrhcrkMD3V7OuxCUiftqSuH
w7FhkdK55JXMN6/tbKmV10JKpdI551tP3/A7ug6wWq0GXOm1SvFwviwWC1wu1xqjRUIDab1X4j2/
VHL1xoyXWPgAvpIHicBys9mExWK5IK/VarW+otwvF/5GhcLt/W4ul9FfD/vgXLSPg5TNc3mF613H
xd7DyyHt80sDyf/Xu8b1lF77+iYb7JU4JVzv+jE5f4xw2ueXrzlu/d7pn7fLxT6X5zMwlzLavdLl
p/OqX6Xo3tkr8eKtVisqlYoscJ/P95qPETCyeDbK67HZbOIRWiyWDWFatUcKTEnoQPr50gXEMihW
q3XNMa8EJaIrWrKPdNB1Pe+4XdpB2EajgWKxCKC13oPB4EUZQ6vVaoi8uBb52mq1rhl3O6nA5/MZ
6i7WW0f6uK8U0sbrWTZ+Nb/OpNlsGpREvV6/6CpSemA6ffC1Fnp67eO83ML8Mj3EjcjZsoEcpVar
XTSQbrfbBfSmJ64f80ogCACr4Dznux10rdfr53Rm1gNhaRiAVdbcxShepkL1MbYTLBwOB5xOp2Hc
TqfTEPHoz8x6c62Pu9ls/lSBx5dCNn41v85kPRDrYhUe0xBcuBfy+wsBdgnorffwvFKl/FqAsBut
NC0Wi4CbZFhdDJBOgJRsFaXUGqVzJQGV7fOt38Pz3QsaFmJiDodj3ajpfKKDxw6HY01aab1j6Eac
0YNOKtCfmXON/bUUHUgnceFyECyuBLl6r+wSCRc7vZRXojDtdrtQCC9U6eppqGq1uuZB4cOoj9Nu
txvYHRcrtVpNjkmj83oF5HR84EIUCCu/gdVoUc+D60rzSmYvAate9IWKnr5RSsHv98veBG63+7zX
qitUvm4/psvlku8wUtDnm8A45/dC1p3T6ZRj2u321yRq0CvEeWz99fkM1utZTOPwCkSnPr7SHPrF
Mi3WAxr5/3qAHh/A8z3IOr3wQs95OeTVAP7tQqYJ01pn8/L1c1KhMkqgV8v5VkoZaikuNHJovy6e
h2Ojh02lw3Pqv7nYudFTQOczjLxergd679yw5ly/a68r4TiJKeiEivZzEB+72PnV56L9HMBqevVs
xqJ9vts/W4+4wJSYnva6GsU0Dq9AdKD3clVNtgO7wKpXQ49e94ovRHHk83mUy2UALU8rHA6f9Zz8
zuWQ1xpIbycArMf6agczOQ6+9ng8KBaLhvm+WEBaB2WZ4iFNksc822vOhY55Xcjau9h7aLFYDNX4
drv9vC1RdJo1x6mTNjwej4GKSoBan2+SBvja6XSet3pZXyfrEUOKxaLgJVarFeFw2KDI1yMq6PPD
VJY+7nK5LJsKORwOJBKJc87N61lM43CR0h6i06O81DlnHdi12+2S9wRWPRqXyyVe0IUYBz6MwCrQ
qD9gNpsNbrf7oo75akVP33Bcr9Y4NJtNuFwuSbGt5+m1g5mcTz0yo6dos9mkLkD//fkUb/s5KpWK
gVp7rtdAy4Dpry9k7V3sPWwHj3nt5/KO2wF/riN9vnUCgN1uN/RvWm++9WslSK6Pvf05XI8Yoq9v
prr0KEoH6/m6/R62j7tYLApwbrfbUalUrlpWlGkcLlIsFgsajYYs3vYCK2AVzGQ4u55yY06bXtL5
jEu9XsfU1BTq9TrC4TACgcC639GVAL0zjrN9L2YA4jmdrUr41eZUqeT4ML0WmEW9Xkc+n0ez2YTX
65X8NRULc8+cC2IvOkBaLpdRLBZhtVrh9/sN43Q4HLDb7QZAFAAKhYKwaAKBwJrKWRZM0dNdL02R
zWYld+/xeCSi4bh1IfjJcbvdbtRqNRQKBQAtCvSFNDpsv4dcF+utPabd2pUk18l699BisSCfz6Na
rcJut8Pv96/BCRqNhiHy1aMNRoc61Xm9ymR9PdP4cL7Xew4BIJfLiXPQ3olhPXJJ+z3U2Vv8vj43
V2tKCTD3kH5V0p6TpFAxMT+pMz2AVfCY+c4L2XNgampKQvWlpSUBw/hAcWHzmKVSSVISzWZT9jag
x1WtViUlQWVwKRY6ld/Z5qJdyAyiklovbbK8vCy55Hw+j2KxKPNdr9dRKpXWzK9+n0jPZI+q5eXl
NfeS9QCcG31PZc4r6a00QDwPFV+7cG9mPW+tR39MnfCYZPnwcx6XY3kle1Wwbci51h4NBhUk1825
1jOPSQdFv4f6MXSwuv3a9fXs8XgMc8FUlD4PemRxNiyF76+Hl5FtdK572D7uQCAg4/F6vVc0EeHV
ihk5XKSQ2qjnrbmYqDCazSZKpRIajQY8Ho88NAxbuZjbq5fpFa0X+uspCaD1kPt8PkOaQxeOh0aE
D6t+DqvVagAa9YiHD6vOF2dai+PWq2f111SAvNb2+Tuf6CyVsxksnoPfbe+txHuic+T13+rKgn/r
6QLACOSWy2WDoWqvFqbCbJ8LPSUBGPGOWq1mSFUxtUJpr0nQwVn+TwPHaOR8olcrny3FxiiGc0GD
wPluX8963Q7XiI4VtdeEMBXGlBXnqn38xFj0uhJ93LojoeMWjUYDfr8fAAw4Gteyvp4ZMevgf/sz
k8/nAQB+vx82mw2hUEjm4moW0zhcpHAh6YC0Tnus1+soFApYWloC0PJye3p6DL1+9HQC0FIc5wPX
/H4/crmcnNPtdktOdT1A2m63I5VKybgYUusUXD2fyrCdD4LVakUgEBAP/GwAqa5oaQz0uaBy4TnO
90A1m01JvQAthcEHXRd65nxY26uwC4WCUFf9fr9BQTEHr8+F7tEyXaWL2+02tExvvz82m80Awrrd
bsNrKvp20FUHTNujJJ3BBLSimaWlJbl2n8+HYrEoxyyXy2tIBe3CcbYzoNrnVh83U24cJ6uX+Zpz
w9+0z137M2O1WlEsFuUYDodjTZcAPe3E6E0ft9frNZAInE4nUqmUYBn5fB7BYNAwv7x2HeTWo0qn
04mVlRVZr36/H8ViUdJ4xWIRPT09hrXGmpmrUczGe69Q2kEqXaiU6V2w+pNCz0z3gtoX2Hq55Hw+
j3q9Dr/fv6bVMkNkKsRarYaVlRWDl+/1eg3j9ng8BuZLLpdbw2zRx90Ofp7vNdBSkoyULqRCulqt
ChsEwJroBmg1caOicDqd4o2ThklwncaY898e8VCput1uFItFw9ys17BO95bbc/KNRkO8Vs7nenOh
9yiq1WqinGgc2vP5urdMzEIfdztYHAwGz5nq4Dl5TIfDsYbq2r7Zjx4ZtxsXXitZUTQW60Ux+vym
02lxNGjg9XG3N+KjPmh/ZvRjLi4uGuacTCJ9vvVnpn291ut1g2G0WCyoVCqGc4RCIcM9ulLaplwK
uTqv6hKLvvUkH1o+sAQzdXE4HFheXkaj0YDNZkNnZ+eail16gPTY9XwwFyMVC4E/XSwWC4rFonzG
vDG/R286m80CAKLRqCgr3RBns1lJC0SjUcM5dA47X6+srCCXy8FmsyEajQomArRCetIYKcQJqGTb
QUKd5si5WU90RdKeHqFx1Cu7dUCa1Fbdq2w0GmKUCHIThKUxP1dFrMXS2kFNv4dULgAEMG03tjrI
7Xa71wC7jHB4L6vVqihv3mddUa+XJqIyp/esr4v1QFgdM+F49SI4so14zEAgYJgbrkXOhd/vl3vC
z0mOoOOglMLc3JykYtsJF1arFYVCQY4ZCoWQzWZlrSUSCcGGdEmn03JMv9+P6elplMtluN1uJJNJ
rKysSBopEAhgeXlZiApcz4xwiDfo4PzVvPmPCUhfpOiAJHP0gJH5EIvFBFz0+/3n7aaqPyg6EMZz
MAqgcSDfXn/Qa7WapKbodXm9XgHavF6v/E4phXw+bwCL9dYbFL1wjDiLDuBZrVZpjkblytdKKQF9
daEB4zjboy4917teqgUwgsUXsheDDsISD+LYaKyoDDkXVH46yHqx9/B8oufyCYzr95ApDj0X3i7B
YFDIBH6/f43x0s/BFODFAuntgLRuZM62LnTAP5fLGdYzqa76PcxmsxLR8H7o5yCuxnEWi0VkMhm5
h5lMBrFYzFC0l06nDcekYSBBY2lpSZwjvsfXTKW1g/NXawppPTEjh4sULpx2oFGPHKxWK2KxmCjw
lZUVyXvTS9UfDoJyVEC6AgcgHmQ7yE02CymP5XIZ5XJZPEqPxyPHXo+iWK/Xsbi4CACIRCJQSiEU
Csnn9BT11AUxFgKTusdILrruQTL9pdcJVKtVURDMV/OYfI9Kpn1+9c90MJMKkNENx6dXjzNS47Xp
80ulyXtKj53jpgI5GzivK13eQ53Oye8zotEBXz0dxpQYCQOcb/6tU2RpFM6FM6xHCNCBXr7X3veI
19EOQHPN6REfx89jthMueAz9+3RYOBe5XM5wD0kyYB0Bf18oFOQZs9vtEu1xXfT29sp5iNFRaPgY
qVWrVSluJHVZ71pLgkBHRweAllOiP3ft13W1yYYYh7/4i7/Av/zLv8BqtWLXrl247777Xjfhmc49
pywuLmJlZQVAK/weHh42hND0zqjMvF7vmpbdqVTKsDVjOp02AGF2u11CaIJtXOxUTnNzc4Y6BmIO
wKoC1Ev/JycnMT8/DwCYnZ3Fvn37DEAjK111kHtxcVGOyTwxPdpQKIRisWioAq7X64b0TbPZxMLC
ghzP6/WKYuAx8vm8Ydx63pfGTwd2/X6/ASRUShnwlkgksgbMXFpakvRMo9FAMBg0eOZMBQKrGJEe
JbJ2Qgfn9XQjx6SD3PROOW4qP57D5/NhYWHBALLSIQAgBAG9J9H5oiY6HcyvW61WA+DPLUF5TqbT
ODc03LOzswBaaccdO3bIddOILC8vyzE9Ho8BoCbLRzdAhUJB1hrxL75mlKCvtc7OTpw+fVrmt7+/
H1NTU3KPGo0GtmzZYrj2dhJHOBzGiRMnhGobDocNxxwcHES5XJZ7EolEUC6X5Tms1+sGIgjJJVer
XHZA+syZM/j5n/95vPTSS3C5XHj/+9+Pd7zjHfjgBz+4OqgrGJDWw096RRMTEwYqayQSMbAv6EUx
z657u7xWev46q0KnhNL7bjZbTd8CgYBhYaZSKRQKBdkHl0aIYrFYEI1Gkc/nJRXw/PPPG8DiLVu2
iBHR8/QUvd0G0FJeiURCjul2u1EqlUShke2hC+sviL+sx2AiUM5o53wKsB0UrFQqBsyBuWHdy8/l
cjLfTqcTHR0dMsdut1vYTjrmoAORZwPjeUymxvR72D4X9PzpyRYKBZkfEhnIrNJJBfq4PR7PeVMd
esTD4j+KxdLalY3rmdegj3tpaUnm0+FwoLu7G8Fg8JzHZGEiU4M8B6+7HZBmkSa9+Ww2azgmx8S0
FgBJRxGf2bFjxxpAX4+20+k0stksKpWKjI8pXK6ReDyOUqlkiCL0qJVOrD5uE5B+jSQYDMLhcKBY
LMJms6FYLBpCwStdLBYLcrkcUqkUgBYQRk8VaHlibrdbvDOn0wmv14tMJiOplHg8btiekJRGeixM
7dCj0dlNFKUUTpw4gVqtBo/Hg0QigYWFBeGaRyIRZDIZOWZXVxcKhYJ4WlQETCt5vV7YbDYDgBcI
BDA6OopSqQSPx4P+/n5MTEzIvRseHkYqlRKQO5FISPoLWO39RK/S4XAYgN5ms2noWQS0vD2ykTgX
y8vLEjVFo1HY7XaMj48DaIHefX19Mhderxd9fX04evQoSqUS7HY7duzYgUKhIMrK5/OhVCqJVxmJ
RAxpJirFQqEg4yQ1lQpRp6oSOM/lcnKMeDy+BpzXoyav14tEIiFzVKvVYLfbkclkxDgkEgkx+DyG
DqQHAgGJGPl5OByWSnq/3y/Gm46JTju1WCxr6LCBQACVSgXpdFrmX6eAkpHEe8oUJueGxxwbG5Oo
dPfu3cjlcpiamgIADA8Po1wuy+tQKIREIoHZ2VnxzgOBgGACNpsNHR0dWFxclLWXSCQwPT2N0dFR
AMDWrVtRr9dlfvkMjY6OolqtIhwOIxgMiqFzOByIxWKYmJhAPp+H3W7HNddcg4WFBVnPQ0NDsFgs
MhfhcBhOp9OQyrqaI4fLbhwikQg+9rGPob+/Hx6PB7feeive+ta3Xu5hvGJpNBoChFksFmSzWYRC
IYOHQuWnA7V6BSkXOLAaltMb4v96qiQQCCAYDApF1u/3Y3FxUVJVVHQejweFQkFaBVBJM4dMkBVo
RQGRSEQ9Kt/qAAAgAElEQVTG1tHRYUjn5PN5Sb2wovjMmTOGdEImkzF4/XNzc4b8t45NcByBQEBS
FW63W7COcrkMh8MBr9drSG2RXkipVCrIZDIAIMDk5OSkzEWhUMCpU6cMtNLFxUV0dHSIoqcXzHPo
RYRU1ATzaeBJ1dTvGYWMH+6TzLnRI55SqSQGmUAtW7DwN/RGdYxBp1Xq1E3Or56SW1paQjabldek
JpPxpRc4Mj3Xzv3XU0xAy0GJxWKYmZlBvV6XAjB+R2fU0QNfWVkR5pHFYsHhw4cRDAZljkdHR4W9
xUic6TS+djqdcLlcYjT9fr+k2RiZ0RniOenYAC2W0sLCgpxTf150ujevm2tAp0AvLCygo6ND7iPp
yvo6aS9UvJrkshuH06dP4/Of/zzOnDmDUCiE973vffjXf/1X3HXXXYbvfeYzn5G/Dxw4gAMHDlze
gZ5F6MlQKXIh9fT0GABG/aFnyK6/5sOhKyAei54oi78ItnV2dso5UqmUIS3TbDbh8/kkLK/VavD7
/QLe6WkcCqMYGgeydMrlsuT6qYAYWVBhEVBtNBooFAqGqnEqDgKf7F3E9Jjf75dxNptNhMPhNdW1
ZKsw9cIHkGkiHZSlEaQnS6oi57NSqayhbjJdo18TWUlkpbAuhNdKRhhTb8BqkzlgFbw9W1q0Xq8b
gFxiUDoIGwwG4fP5hNLr8XgkRcXr4fyy1xLbh9ChaCcdNJtNQ3U1jQJTMI1GA7Ozs3C5XEgkEgbi
Aud5YGBAjqmnFvl7zjvPoY+TWAw98nA4LNt+8p5xrVUqFfh8PlQqFcHmGKV1dHTI86d/j/erUChI
pBWNRoXxxciPqaSVlRW4XC6USiUEg0HU63X4fD6JiujUtPfX4nOmr5N2Nt7VJJfdODzzzDPYv3+/
cOjf85734PHHHz+ncbiShItMr1J1OBwCWgEtUI/ebbVaRUdHh3h01WpVFq4O4OXzeQOQu7i4KA9h
qVRCd3e34WELhULIZDJieDweD44fPy5e58jIiPQYAlr0Wr3aE2iBiAzDC4UCksmkpAKKxSJisRjO
nDkjCmf79u04c+aMXPv27dtRLBZFOTscDuRyOUmxVSoVdHV1SRhOZbi0tCQc/3g8LgqM88veUQAE
+NX3MGaqisfs7+/HmTNn5PXIyAhOnjwp404kEgaANBgMYmFhQeaCiplppkqlAo/HI+eoVCpwOByY
nZ2FUgqZTAY9PT0Grz0ajYri4Dny+bxhvuPxuJyDGEYulxPaZCAQECDdarWio6MDhUJhzbg5FyRG
6HOxdetWuYc2mw2xWEwiXeb/9cr5zs5OvPjii3IPC4UCwuGwjNPn8yGZTBoIFj6fTzAZRjgTExNy
7T09PQbwfXh4GFNTU5KKZTqRKbdKpYJEIoHJyUlZ7wMDAzh27JgY8E2bNuHUqVOy9oaHh5HNZsXg
+Hw+rKysyHquVqvwer2YmJgAsNr+5OjRo2g2m5icnMT111+P0dFRGef27duRyWTkntGx4npuNBoI
h8Nyzkqlgs7OTlytctkB6UOHDuGuu+7C008/DbfbjV/7tV/DG97wBvzu7/7u6qCuYECaotMgyd0H
IMCizikHVltiezweOJ1OQy8and4JrG3FwArSdkCUfP1QKITp6WlDvtrv96Onp0eOSXCNSsDj8WBi
YkI+1ymiZHOwQGh5eVnos8QMyDDp7u6Wh8ntdhtSNA6HA6FQyED1XFlZMXQiZYTEuWBNh56u8Pl8
hvkulUrygHJearWaeIKMYNLpNPx+v3ip9AyVUsjlcoa54P3iOelZ06vP5XKSjmIEprfCdjgc6Ojo
kGO2s348Hg/C4bDMDUFXncXGc5ZKJTEeegqHeJe+1vRUh8/nQywWM0RH7dRhGnOmVvL5PBYXFw2O
yebNmw0gLAvMOBc8PqOqdDotBofGIhKJiDHw+/0GbCocDguDj+OmN14ul8X4MFLTqaN6FOh0OgVv
6ezsFNIB55f3s1arwefzYWJiQtYfI2GuJ2InnZ2dBvwwFosZ5kLvTOB0OhGJRNZt73I1yGWPHPbs
2YNf/dVfxfXXXw+r1YrrrrsOv/Vbv3W5h/GqRAcebTabFNQALXzAZrNhYWFBUj3RaFQqpOv1OuLx
OFKplCz8zs5OzM7OysOTTCZFUQKroX06nZYQ2ev1YnFxEZVKBeVyGcFgELlcTtgUHo8HMzMzwuYY
GhoyMC9sNhuy2SxOnjwJAOjt7cWmTZsEsHO73fD5fJienpZwv7+/Xx40AIbGf/pc0HMNhUICKHPc
9MRogFg9yweeuWR6x8lk0nAO3QMGIPgA8QqOgykcKjO9upagq14FrAP+JACQVOByueByuYQq7HA4
kEwmJdqz2+2IRqOGdcFIgsKognlxpvx04xAKhTAzM4NisQiXy4W+vj6MjY0hlUrB4XDgmmuukVQM
sOogTE9PA2jhefF4XNYMDd7k5KQwdLq6umTcVqsVwWAQc3NzYsT0OheOW6m1rcZTqZQ4Ow6HA5OT
k8jn83C5XNi2bRsmJydl7bGXGOeb/xNMDgaDSCaTOHPmDIrFIvx+P/r7+3Hs2DEsLy/D6/Viy5Yt
yGQywowbGBjAs88+i1OnTgEAbrjhBjgcDjz77LMAWrTUXbt24ZFHHkGlUsHAwACGhobw+OOPI5/P
w+/3453vfCemp6dl3Fu2bMHExIQ8y8PDwxLJ8p56vV65hyQVXK2yIRysj3/84/j4xz++Ead+1aKn
H4BVhU0h8EgOOlNJLJAiQ4tebLPZRDqdNtD2crkchoaGZFH6/X5pb6DXCug50kgkIqkju92O7u5u
HDt2TLzcXC5nANeYq9d56gAkv+3xeOD1esWz8ng8SCaTqFar8tAPDw+jUCjIfIRCIUMahRRdjrvR
aMDlcgljhlRMNvBjhKFX2tZqNdmoB4CBFkklS0IAsRum+fRiOT3nTjCcnqvH45GKWl4H6Yw8BqMc
0jT1vlT8jn7t+XxecuTAamM4nRDA6mY9qmJasF6vY2xsDNlsViixs7Oz6Ovrk/OGw2Gk02m5p6SU
EoBuNBpIp9OyTpiC4nXwPvf29kpKZ3Bw0NDIMBAIGCrdy+WytPjgel9aWjJQP0kX5drLZDKGJnjB
YBCZTEbuO9CqDyLeRAeCc83eWHpRZ6FQQCqVkgzD5OSkAcBfXFzE97//fYk4SPXmcZxOpxgJHY9j
mpbXxnsLrDYh5BjbGYRXm1ydBN1LKHq7A/09nW2ks1L0lsbMgXMxAqvNvfSqVS5AgpdMUbA+gN9l
2E1Pfnh4WMbCh4/KlgubBoceIsFgsohI62SqprOzU7zOer2O/v5+9Pf3y3WTGaUDkawoZVuPbDaL
Wq2GcDgsSpYPFz1TKhMAUmikVwkT9GVqjalHKiR65qymzefz8vBzYx6eg/UDekU0PVwAQs3kfWa6
gl45sJqqoKLQPWwqMxa28RztqVKupVKphFAoJHsUEOClYeW6oKHkuuBckEHE+QZWm83x+ATpA4GA
UMnpCITDYal+5jXphY/s1ks2XqPRQCqVwsrKCgKBgIyJezDQGJEiSvo6oz3iA3wmCDgzKiIriTUc
rJ8hSYJzqztqyWRSqMd8DvXaDR3EZvHa8vIyuru7JRqs1WoIBoOyjrlOeUySB5heulp3gKOYxuEi
hcwIGgd6vvS8qcx0cJNNwviQx+PxNdWferfNcDgsuVFgtTeQDoT5fD7hgRNM1lkkpA7yvWg0iuPH
j8u48vm8FBEBLWUbi8UE0CODaXx8XIxZT0+PYS5sNptsvAOsNqzT8+7pdFq80nQ6ja1btxoA0vYK
aZ/Ph8XFRcMxCoWCYS4ymYwA/tlsFj09PTL/2WwWbrcbp06dEubQ4OCgcP15D9uxEb1immkXzsXK
ygpGRkYES2IKiHRN3rOJiQmZb7Kw9H02mPrjGEqlEqampqCUwuLiInp6egznGBwcxLFjx+Ta4/G4
YS7IBGNun61H9LVnsVgwPz9vaHSoV+NbrVakUik5Jg0S02OFQgGRSMSw9oAW67DRaGBhYQF79+4V
vMtut6O/vx9PP/20RFJOp1NotjwGU688Z3d3N+bm5qQX065du/DSSy+J4u7q6sLx48dlfrdu3YqX
XnrJMJ/Dw8MGYsL+/fvxwx/+UNbzrl278Oijj0rUet111+H06dOCoZHaTcwhGo1idnZW1lqj0cDA
wIBcR61WE0fpahSzZfdFClkYOtBImiM9Kz589PJZRckHlJ1b9R46pIzSq2UaBlhtN8AcMvvOAxCv
PhAIGJgTtVprM3ses9lsYmxszKAQo9Go9GPq6uoSr4o0PVbs8hyhUAjJZFLOQbBar2ZuB4+PHDki
zc6cztb2mjrlkmG/fkzSY3WQUJ8LMlD4Wx2DACDMMBoHKhem5njtOrDb3u55eXnZEP11d3dLdMXI
ggaHdNlMJiPpKIfDgS1bthjGzS64XCfHjx+XlA2vgS0bdIJAOp2WYsr2dcEoq1arGeptCB4vLS1J
IztSOTkOPUrl3PC1fg6fzyc0TqfTiampKWmTQiC+p6dHopF6vY75+XmJHBgl6h1qaZwZUXIvBkZk
vHeM/ki0YNo0l8thZmYGMzMzAFoO1pYtWyQyHhoakrRmoVAQxtTy8jIymQw6OjokkuIxg8EgBgYG
kEqlJP1E5wtoOS4+n0+iO6YjTUDaFACrrZn1nDZDaL2wamlpSULPvr4+UZB6ewa9VfDU1BQymYx4
XsybE9SmAuKCp4dNZdPV1WUATGOxmCivZrO1eQ2VLmsFnE6nePErKysIhUIS0bhcLni9XkxOTkqI
H4lEcPr0aaysrMBut2NwcBCZTEZqLgjOcd9eKtZMJiMGh+3KmYYJBAI4efKkKJLNmzfj9OnTkhYb
Hh5GJpMRkJtK/tSpU6jX64hEIti+fbt0g2W9RaFQEGUfDAYxMzMjintwcFAq03lPy+Uy5ubm0Gw2
EY1G4XA45Bw+nw99fX2GWg673Y6f/OQnyGQycDqd2L59u1SgW61WdHV1Cd6klJKIUy+YIj2Winv3
7t0GfICEAM53b28vxsfHMT4+DqfTicHBQfT09GByclLmwm634wc/+AGq1SpisRj27t2LbDYrx+zo
6MCpU6ekNmVkZAQTExOYmJiAw+HAyMgIms0mpqamUKvV0NfXh2QyiRdffFGiye7ubpw8eVLWxS23
3ILFxUU5Zk9PD1588UXMzc3B4XBg9+7dcDqdEinE43EDxZZG+LnnnhMjt3fvXpw4cUIM5bZt2/D8
88/LXGzduhWLi4uYn5+XHl21Wg2zs7MS/QwMDODHP/4xqtUqxsfHsWfPHjz99NMolUpYWFjA/v37
cfjwYXGgrr/+eszPz2NpaUmeQ9K9SSRxuVzyjAQCAROQNmVVyDhijp3UNr3whznj9vy6XqBEz45A
JkNyVl13d3cbAFEWXulMF6YYfD6fVHvSG1xeXpZohVRLAo8Oh0M8K+ZP2bNHb73Mh51pmLm5OVG4
9Xodo6OjwjQiTVbvh1QqlRAIBISqGI1GEY/HBXhlgzYAsq0kPXjSSRkx6VW/uvdLxUDsxufzobu7
W9hfXq8XnZ2dsm8Cc/fc/IXnIs7CvDfppARaWfxGIauI8720tIRQKCTkg1AoJPeO96VdmAYCIN65
XmlMA0uwdGlpSQxxs9kUFhOPn8/nMTY2JkZyeXkZy8vLCIfDomSDwaBgKFarVVpnEKRmPQDxCCpc
YBV/SKfTgu2wzQX7W9lsNjFWpDbncjn09/fL2vd4PPD5fFJkSJaW3++XiLFer8ueDtz1jWk6Rifx
eFzIEX19fYZq9maziRMnThiwrfn5eVkrejcBMrC45ngtLEIkJkVqMK+TEb9ZIW2KiF41CaymmoBV
jjw7aLLNL9sicOHqlbGVSkWUB6uOa7Wa5JJ7e3slZQNADA1ZJXr1MLDapbV9N7NYLIZYLCav8/k8
uru75TUjBo6X0QQfSKDFVllZWRHAnA8bf6/3mWJfHha6MZ3Epm02W6uXU6VSQS6Xg9/vl4eVohsr
XhsBX7ZYUEpJewV69olEQjxpKjwehykLRnoEtQn06q2iCQLz+ogHkIbM62CPMM4TUzOci3A4LOAw
7yHQMgocNw0TlbX+mtfOqA9opQ4ZgXLcXD/ValVqJvr7+w11DmwMyTVJqinQMvq8p0yJkpFUrVbF
ew6Hw0J3Zvpyfn4ewWAQkUhEnA7OBVOKvHZGTZyDcrmMUCgEn88Hl8uFfD4v94jkCxovRmHsXwVA
UqTEntixoFgsYnl5WVqG+P1+QwcAguME6Ts6OgTH6OrqwsrKivQfIz2Z60R/tq5GMY3DRQrTMXrx
2NzcnOTZa7UaAoGAobdPs9najISLVd8JjuwecryBllI9efKkAGGFQgF79uwxVMaSwcEHh/x15q+j
0aihfTYNiz5uVugCkJz2/Py8pHzi8ThOnDghqSmCgowootGoKEqglfddXFw0AHZ6MRSxDUY5nB9W
1+ZyuTVtkqPRqLBlOG69MRzBTe5gVywWDflt/qYdnNfbVler1TVAOnP9vH9kuwAtBdrd3S2AKdDK
cesNA71eL+bm5uSescqd818ulw29kYrFohAVaGCj0aihkpuN32hwYrGYNHUEWo5FX18f5ufn5Ty9
vb1CE2XxFzEKdlidnp6WdRCNRjE3NydpPOb6T5w4AQDIZDK4/fbbcfjwYZnTaDSK559/Hs1mE7Oz
s7j22mtlh0Cgpajn5+dlPq1WK44dOybg8eTkJG644QZMT08LDrFp0yY89thjMs7Ozk4cOXIEKysr
mJmZQTAYxOTkpKwth8OBmZkZwaMymQyGh4eljqdcLqOzsxNHjx4VIP2WW27BsWPHpDdZX18fnn32
WUOFtI5rrKys4P3vf78YC7vdvmbv66tJTED6FQpTMHa7XZQbPW/2ZSHNlEqcXieBsFKpJM3FWPrP
rQjZWROAFLExvNYBRT48BLqZB2baq1QqScqmvW0ysNqCQVcaHDcL7AgKEjDMZrPi8SaTSSm+s9vt
kvMFViMcVun6/X6Ew2EBGB0OByYmJjA1NSXncLlcGBwcRDqdliiCnjkAKf5j3/1IJAKPx2PolcT2
y3qEQP692+2WDXP0lADrHsrlMsLhsGAt1WoVoVAI4XBYuqDyt/V6HZOTk7LzHyupOf/EXoDVpoN0
LMjgqdfrEimw+FCPTgCI58uaBL3SmGBzoVBAZ2enVECnUin09/fD5XJJzy3y8tkymwB7JpPB5OQk
QqEQXC4XisWiGKBAICAOAdtFdHd3o6urC6lUSgo4l5aWhNrKDqenTp1CNBqVtaKTOH784x8baLyb
N29GPB7H+Pg4tm7ditOnTwvDidfJWg8Wmvb19eHkyZOIx+Ow2Ww4ffo06vU6UqkUhoaGpPlhLpfD
yMiIRAqLi4uIxWJwuVyIxWKYmppCZ2enYHOLi4uyVS/XANfzbbfdho6ODlkn7e3irya5Oq/qEkux
WJR8M4Ewvf8/eynpGAEVBV9TwZHaeuzYMczOzsLhcGDHjh0ol8tSwERmDUFCv9+PkZERw5acXq9X
ulDmcjn09PQYztHZ2Sl5VKaBiJkAqywhfZzMyzabrW6nfr8fU1NT8trn80nVKiMg9kEizZL7ATQa
Dem1NDMzIzl+7gLG5mxDQ0NybgK4+piZV2bagQaCnXAJFOosoEAgIJEZ89Ozs7OYmZmB3W5HMpkU
xgzHSRYQlbndbkc2mxWcQwfS8/k8rrnmGkxMTGBxcRF2ux2bNm3CwsKCVAEnk0n09fVhfHxcUoJ9
fX1Ip9NSGxAOh6WanDl3Ar82mw3d3d1YWVmRKmGmiUZHR6UBX3d3t6ToqKz1Cun+/n5MT0+jWCwi
m82it7cXp06dwtzcnBQ2FotFoZUmEgl4PB7Mzs6Kx71r1y785Cc/ETwimUwK84rA7ksvvYSpqSlM
Tk5iz549SKfTGBsbA9CKsprNJl544QXU63X09PRgaGgI3/zmN1GpVHDixAnceOONeOGFF4Rt1N/f
j8cee0wM5Q033ICDBw9ibGwMbrcbO3fuxNzcHI4dO4ZqtYp0Oo29e/fimWeeQb1eRz6fx/79+3Ho
0CGUy2WkUins378fR48eFabZ9ddfjx//+MeYmpqCy+XCG97wBqRSKYk+BgYGpFVNo9HaenRkZORy
q5/LJqZxuEjRm8A1m62W0fouYlRqzEcTdKQXws+ZUrJaraK4mNuenZ019HRhX3+9s6leOcx8qg5y
UyEzL8oWAYBxH2z9unTsA4ABuGV0Eg6HJa3EHjg8R7lcNlQF828C0kyB6PgKmVVUaH19fXA4HJJG
CgaDhmKnUCgkqSWeg3li5s/1nkLED4DVRmqLi4vCUAEgDBiglUculUqSzyZWQlCYEdnS0pKAk7yH
eiQyMzODQqEgGAjrJrg2dCNDj7azs1OIAKQOE9gGWlET54zzl8vlhAZLjItVv4w0SRqwWCyGmgjO
BRvh8Zh6471wOIx4PC707Xg8LlXYLFArl8uIRCIAIA4B7zcAiZCYgmGERIA/HA5jfHxcxkmyAxsV
EryORqMCMKdSKRSLRTlHqVSCz+eDx+MxVECz2zD3Aens7EQ6nUYkEoHX60VPTw8WFhbg9XqFxEFs
ZGlpCT6fT9rQd3R0YHp6WmqZqAtMKqspIjQKrKIEVpugtYPD/J8LlwC0DrJSqMyt1taGNPSw9H1u
qZCosEkFpNdMlo3OlFlP+D6NBMFMpoFY9av/A1oKSm+ZTXYS0DIwHo9HlBNBWT5cBOG5sREput3d
3RKik/5L0J9KWaeQEihlVS+BWxoHRlJUHCsrK8Ik44OtV/IylUbqL4FsAudku3D3OI6P80IAn+k7
zi+/w2tn/p7pLgBSnaxXgOtKkvuDcF0opaRlBo2gvg6q1aqkv+g0rKysiGPi8XiQy+UkbReJRAxr
lbgEd8ZzuVxC1aXBIYmAQC4dFbLiuBMf6zN6e3sl3QO0lCwr1/lb5v1LpZKsF0ZtBL11tpJ+f1gz
VK/XpReX3++X+8+5KZfLyOVyyGazcv8ZcXH+mZLk/4FAQMbDPVLoZK3HQLuaxDQOFyl2ux0HH3oI
j3/lK3BUq1BeL67/X/8LW66/HgCEJ8/Oo6yU1TeC8Xq9WFlZEeWUTCZx8uRJAcK6uroELwBa+XBW
K3MMbAhGZctWwkyLRKNRoW8CkNYVTCPRo9YreAHIuMkqYpqDdFriEjRgVCgAJJVBr7/ZbCIej4uX
TeXBuodisYhNmzYJb7xSqchuXXp7Ej3/DrT65lDRsOhrfn5e2lds2bJF2D4WiwWhUAhjY2PSfbOz
s1MK1jg37BlFSSQScs9oMAnW856xgJD5b313uWQyiUOHDhl2Ddu+fTtOnz4t809vlWCx0+nE+Pi4
XEcikcD8/LxEqn6/H5OTk7JOqKxZP0BlxpQm7yN5+isrK1K7woiPmytx3B0dHSgWiwJy22w2bN26
VdJhbEXB1+l0Grt27cKLL74o54rFYjh16pRcezwex8zMjIyTTClWzheLRezevRtzc3MC0vf19eGl
l14SnOFnfuZnMDMzIxHfddddZ2jQuGnTJlgsFjz33HMAIJHM7OysGP9gMIjDhw/LMSORCObm5lCp
VGQ/C73jbzKZRDablcI6j8eDnp4eaXTIZ/lqFROQvkh57L//G//zm7+Je19e6ADwiVgMN9x9N/a9
612wxeOwvezd0iOkp6NTQtkplCmSpaUlyT8HAoE1rYKJA5TLZQQCAcm56314CPoxlRUKhYRyyd5B
+jG5SQywmk4hDZLpAgLt9OC5rSTTCkwt8Zj61qRMjdBrd7lc8kDTywdaDx3HzbGQigmsUh15DjJS
OE7WiDAN1tXVJVuWslYinU4b6jhsNpuBAcVr5bjpZReLRfh8PszPz6NSqRiq3NkWhZWziURCePcu
lwtHjhwxpMOYNiIIW6/XDdTmhYUF2XCJ10V2kt5WXK/YZcoHgPRN4rWx+G95eVlSMPSa8/m8zH80
GhVjS+BdL1ijE8A0zaFDh5DJZAyMqnq9jqWlJdnYiUB1JBIRnIysH+6FYbG0tqnt6+sTXGlpaQl9
fX1inAh6Ay2DPTU1hUgkIu0yjhw5AgDYvHkzXC6XsKp27tyJBx54QDb34ZagQAvgZy+owcFBzM/P
CzV3586dOHLkCDo7O6XdPLczTSaTuO666ySNzMaUV2uPJTNyuEh55ItfNBgGAPjc4iI+9dnP4r2f
/SyaTiea3d2oxWKodXWh2dMD5/AwFpxOVGIxWJJJ9Fx3HU687Mk6HA4MDg5iZWVFvFA+jFx0bJlA
wJSpA3b5ZIjN7TLJbmJ/JqvVilAohImJCfF6ent7EYlEpIKXqQl6hC6XCwMDA9J1lumhI0eOCPC4
bds2pNNppNNpaTFRKpWEsuj3+yXnq3vHJ06ckBTc5s2bZV8Jm82G/v5+TE5OSv63v78f2WzWoFga
jYYB2O3u7jYUXg0MDAjITdIAx8DcN88HrObfadRYuPWjH/1ImhHu3LnTMN/9/f14/vnnZS727duH
ubk55HI52Gw2QyU4AHEMuLVlvV5HLBYTLIlR1Y9//GMDsDs+Pm5ouz43N2fYv7y7u1uMBqM6VkgH
g0Hs3r1boia2/X7++efl+rdu3YrJyUksLCyI0Zufn8fzzz8PoAXCXn/99Th69KhUWEciERw6dAjN
Zmvf7U2bNuHpp58WGurAwACOHz+OVCqFqakp7Nq1CydPnhRwvlAoIBgM4qmnnkKtVsPc3BxuvPFG
GffU1BTe9KY34YEHHpBOqu973/ukIp3z/eyzz2J8fFxwFhogpkp9Ph9GR0eFEdbT04PHHntMUpdv
fetb8dxzz6FQKMDhcODAgQP4+te/jtnZWTidTrzpTW+C3++XaK9areLnf/7nDR0A9G1xrzYxjcNF
ilVrra0Ly2Gs1Sqs4+Owj49D33p8QPtbWa3YHo2iGouhGo+jkUigr7cXy4EAGokEAtu2ITw0hLzW
0EODi+sAACAASURBVG52dlZy/azQZC6WRkQHw+l50+PP5/NiGABgenoawWDQUIy3vLws3yfwzS09
mb8GVvPik5OTUpEKtLjluifl9XoNBX+McFgHwjYiHDfBWAKsHBO71gKQbp6srmUXUeavfT6fgNvA
Kj7EPbJtNpsYLB10dbvdSKVSqNfr6OzsxI9+9CMZc7FYlBoMsn7IIOI4x8bGpDEhWT1dXV0y311d
XRK58B5arVahF7OVCUFnl8uFpaUlqSJnao3RIMfNXlxkeB06dMgw1+Pj4wISM9rr6ekRzIGFiUz1
uN1unD59Wu5hqVTC8ePHZc2xBUsymRQPvK+vD8ViUVIz27Ztk4aMjAb1brIul0uYVIwquBc7d048
efKk9DHyer1CN6VToTPqAMi+7PreHNu3b5emgvF4HF1dXUgmkwbKbSKRQCqVgtvtxtTUlESjVqsV
p06dwvXXX28ojqTh1rGoq1VM43CRUtcavBne9/mgbDZYXs6znksszSaci4twLi4CR4/K+11t3/NH
Imj29MDW14dIJAJbMIhKZyccg4OwjYzAGgzC6lk1QVQABMqe+O538YP/83/gqFZRczox8gu/INgI
AV16oQzdWbzHVJDuGfFBY0dX1nAwJxuLxYSZBEAeHG4gxDbhzAcDEMyDLUj4N89BthILj3p6eqTZ
G3sWMarhA8vr0NtrAKuV7YwgiDnQ82aaSR+/nt7UW0hz86Dl5WUZJ/cYAFr7IugANQ223goEgNSF
kCHDc5ORps8RQWkqRNZwMO/OzZdYE0DDzhQKx8K+WTp4TrYWt55l9Mf32XY9FApJA0AAAuhTcdOo
+P1+Sf+wRobGks5BLBYTyi6jSrKRGOkwLUtCBsdbLpexuLgo9FiC8Dpdlj2y2J+MrCp21eXckulH
0XdPpEEFVndL5Pa7V2vbDMplNw7Hjx/HL//yL8vr0dFRfPazn8WHP/zhyz2UVyS3fuQj+P+OH8df
v5yHBIA/HBrCjX/2Z1h629tgL5dRHRtD/tgx2Obm4Flagi+TQen0abgWFuBaWoLz5QfvfGJNp2FN
p4HDh+ED0F6L2Qmg4fWiFo/D2tcHbzCIcjSKeiKBo/U6Hv/61/E3L2+jCAAfGxtD8Td+A9vf+EbE
YjHMz88LaFgsFmUva4LD11xzjeA/FotFWjcT2E0kEpJKASDgJpUsFQdB10KhgKGhIdlJi1XWhw4d
Eu+4q6sLJ0+eRC6Xk3TZzMyMGCAA6OvrE9DQ5XKhs7MT09PTApj6/X5p6sbIimkmtlvnLnoABHBm
Lj+bzaKjowMTExOS949EIpidnZXveTwezM/PSyqQLad1AFoHetkIjzgP00DT09NQSiGVSqGrq0tq
W+x2O0ZGRnDixAkBj8nW4TkI3jM/XyqV4PV6paVGo9HA2972Nrzwwguo1Wqo1+vo6+sTbr/NZhMa
cTsgrYOwPp9PqLqMzri/89zcHLxeL8bHx4WowLYTvIdDQ0PSCwxo4RjRaNSwE1wikcDp06dFWe/Y
sQPPP/+8RJi7du3CxMSEANKJRAJHjx6Va3e73YjFYhIdszkm00qZTAb9/f0yzmw2i2AwiKNHj0pE
x+p9FgByHXEumJ4k4M+9r69W2VBAutlsore3F0899RT6+vpWB3UFA9L1eh0P/+d/4uCXvwxHtYqm
x4O3/M7v4Ka3v92w61S9vrprFNMyuVyuBdDW6/Bms6iMjsKdSsE+Pw/73BwwNQXb3Bxss7Owzs/D
ojF2LlbuAfBn67z/hz09+KP//b9hGR7GtMuFcnc3Gj6fpDkIBpNXrvPCZ2dnxaAw7WS32+W10+mU
PkqkQRI459yw4Iz1IalUCktLS0InZJUyaw/0cwAtRbJ582bU63XBHJj/zWazUunKpnJ8oElbJIjP
4j42l9PbbZDrTpCelccWi0VSEgS49Z3V9PbPLL4j+4tKlrRbr9eL0dFRSY+woj4cDgtASsCaCpGG
MJ1OG1JpPCYNEhVcLBaTbrrz8/Po6urC7OyssJGYggkEAvLaarVicnJS6K/xeFyYX2x/wmJMNlZs
NBro6OjA1NSURAednZ1YWFgQYL+zs1OKya655hqsrKwgk8lgeXkZIyMjOHPmjOBVfX19WFhYgM1m
w+HDh7Fz504UCgVh7JFKmkqlJJVF8gPvM3EoRomJREL2Wz9x4gQ2b96MmZkZWK1WzM3NIRwOS+Hb
s88+K+myWCwmLMGBgQFs3rxZIjSPx4Ourq6rFnfY0LTSI488gk2bNhkMw5UuVqsVe266CZv37QPQ
CmeDwaAhH89NdAheRqNRnDx5Eo1Ga6OarVu3It1sorFrF/Iv90GqYTUNY7fbkU2nUZ+Zgf3l6MM2
N4fq6Cgc8/Nwp9Nwp1KwzszApik1Xc52Y90zMwj96Z8CAIIvv1cLBlHp7YUaGECmowOlRALV3l5Y
f/Zn8f+eeQaVl9M3e/fulT2lrVYrBgYGMDo6KqmU4eFhiRbw8vVwxy2mgOx2O+bn54XKSqYQPfqO
jg48/fTTAjyybTIjBTJt2LIkHA5jYGAAR44cQb1ex9zcHLZt2yYVvblcTqqyWWfAgiimcNgVlGyW
aDSKWCwmEQ7pmazoZQU0q3WVUojFYrIVJave0+m0sH4ikQiGh4cxNjaGRqOBUCgk3jPXSXd3t2w+
k8/nsXnzZoyNjYkHfs011+DMmTNyzGQyic7OTtnMhwQAXvvs7Cx2796NQ4cOydxs374d3/nOd1Cp
VGC327Fz505pF897CECiP7LIjh8/Lh74yMiIsISy2SwGBwfx7LPPolgsYnp6Gvv27ZOd4riXwhNP
PCEpn5WVFSQSCYyNjUk00t3djRMnTqDZbGJ0dBQDAwN44IEHhB574MABPPzww5JuvPbaazE5OYm5
lyNjbsZEA8Q2JocOHUKj0cDx48dx22234dvf/rYQGm6++WY8/PDDEkUdOHAA3/72tzE/Py+tXzKZ
jOxTvby8jD179khEGQqFMDCgo4lXl2yocfj3f/93fOADH9jIIVy0tANROsBI71jvZ8Pujx6PR1Ic
+Xxeevnw936/XwrruN1izukEBgfhermoLP3yQx8KhVr1Auk0muk0/Nks/LkcmpOTsE5Pw7m4iMqj
jwIvP/C6rLfjrWN5GY7lZeCllxBo++wtVivK0SiKiQSqyST2JJPIdHSg0d8PdzCI0MuGkRgEe+4A
EG+MTKJoNCp0WWB11zHuPcFmgATamXMeGhoSTrzecoJe/8mTJyUfD7Ty+Jx/u90u7BgC0m63G93d
3TLO7u5u6SdEQFRvjUK6rk4AcLlcGB4eRiqVQiAQQG9vLzweD2ZmZmQzoVwuJxEJ6cdcO9yekx5t
R0cHAoEAIpEIVlZWZC6i0WjrHr1MR6aHzPdY21Cr1RCLxeQ3pVJJGgx6vV4xBtPT01J5zE61ZK3x
eLt375a5HBoawuLiooDFwWAQnZ2d2Lx5s7SWd7vdkhLz+XwIBAJSjMhjsiEl0DI85XJZcA+u997e
XuTzeXR2dqJUKiGZTEoPKNJi9e1Qh4aGZJ1yi1zuX83tPzkXjGQYBYZCITH62WwWgUAAuVxO+p6R
Ztvb2yvb3pJyzS1mXS6XtFq5GmXDjEO1WsU3v/lNfO5zn1v388985jPy94EDB3DgwIHLM7DXSPgA
A6tbcpIFBEA2hvF4PLLRPFkRNDI6cFsqlQwPR71eh8PpRL2zE42eHpRfBpgJJt/wwx/iE5/+ND73
ckgMAH8Yj+PAW9+KossF5/Q0MDYG28QELGeJPoAWeO5ZXIRncRF48UUAQFL7/BqnE8V4HMVEAmpw
EI49e+AMhVBLJqH27AG6umS/CjaeW15eljoH7pWgbzCvs5cIIDMaYSU4C/6CwaBEH3rtRLsQNCa4
SOATgNQ9RKNRYQqd7RjAKkgbCoUkNcPPWXFMY6WD4byPjD4ACLir05ZJKQVaCikcDsv3SWVunwt6
svqeBFTw2WxWmFDJZFLSavrOd6yoB1r5+x07dgCAbG5DVhrHxZRVR0cHSqUSSqWS9NgCIPUaTHkx
vcNxFwoFvPTSSyiXy9iyZQui0Sjy+TwymYzsoUB6L8dJhbweEMz0XKVSMRR30hBzXKVSydCqhqAz
55eOHRs46hs08R7S8JmA9CWShx9+GPv27TPsL6CLbhyuJGFHTnqE9AS58Fk5zJy23d7am5a7timl
EI1GBUBlXlzPW5KOygXOfD67u7KgjWkPet+sSbBYLLj53e9Go9HAR++7D/ZKBRa/Hz/zoQ9h+5vf
jBRWC9SW83lgbg6u6Wk4pqZQfuklWMfH4Zyagm1iAtbZWVjOgf/YqlUEpqYQmJoCnnkG+K//MhiP
WjCIka4uFLu6UO3thX3HDthDIdQSCRT7+uByufDt//gPHHngAbhqNcDnw6Zf+AUkt26VlsgnTpww
7OMbj8dFybKZHNNKFosF0WgUy8vLUmdA75CG0+VyYWpqSiIYerEEHtkZl+Bxo9FAT0+PpKaYLiPf
nbUkZDCRZmyxWIRJRIXCqnXSInnP2Pqa1N1qtSqUU+IYiUQC4+PjAh6ThkoQu9FoYPPmzdIGnNEE
r5WdW8fHx1GpVKRNeKlUMuw7wbQoAPGkWUPhexmf0o/pcDikiy2xDrvdLjUfLIwjbpRIJKTRJGsj
fD4fxsbGpJKbFdOVSgWlUgl79+7FxMSERJ6RSARPPfWUpJX8fj+4XzbQagPOPaGJTw0ODgoeWCqV
sHv3bhw+fBjlchnFYhH79u3D4uKi0Fm3bdsmbVOAljPQ1dUlzy5xpKtVNgyQ/uVf/mXcdttt+OAH
P7jmsysdkNb3AqDXp3c6ZbtopqDoKZMXnslkREmwhcGWLVtEsfNYOjuE7bJ5TCouesscB3PEZOow
amHTOTJKGJmwqys9Jzbg8/l8SKfTyC8tIf388+gpl+GcnoZvfh5qdBTWiQlYz5yBVWs5cbGiLBb8
v1AI/7dYxL0ve8MA8PGBAez+xCfwhptvFkaP3rK7o6NDaJy8dr1FOvn7JAJwbrjLGACp6qVHydoH
euArKyvijepttAlI8zVTRaTJ6n2Q2E8JaEUVqVRKWESsNLdarQJE01FYWVkxcPy5hSrQYpWRl8/u
vkDLQ6bXy5bo9PqZt4/H4+KZs5UG0CqIJKnA7XZjy5YtQgVmEVgul5P9OfL5vNSJdHd348yZMygU
ClhYWEAwGITVahVjyurx3t5eAyD94IMPSuEndz2021tbyg4ODqJWq8mWpiMjI4JLHDlyRM5x8uRJ
Aaj1zYuq1Sp6e3ulGWOhUMD27dtlF8QzZ85gcHAQ5XJZ9iyJRqPo7e3FO97xDvzkJz9BKBRCT08P
yuWygR67a9cuMQgOh+OqrpDeEONQKBQwMDCAsbExyUMaBnUFGweyYnTMge0tgNXduvTIwWq1Ynx8
XBRKJBKR1tcWiwVdXV1S+Qu0opGZmRnhmkciEYPCYh6XrYNZWbywsCBMHbYBZ3FQMpmE3W4Xbn8g
EEA8HpcUBRXZ3NycMI1CoZC0PLbb7di1a5dEScRJXnriCTRPn4Znbg6xQgHumRlYz5yBe3YWnvl5
WDWlv56cjVX10WuuwZ3/9E/oTCbx9NNPG/Yw2LFjh4CyZOOQZsoqYH2XLhY4UXHH43HMzs4aeisB
EC80FAohFosJsOt2u5FIJKSDKduTHz16VLz6zZs3iwcKtNIuNFCc31QqJWC82+1GNBrF448/Lh1M
9+/fj7m5OaEO9/b2Ynp6Wgruenp6cOjQIfGOh4eHpREe0DKcw8PD0suKrVgeffRRuYfXX389jh8/
LuD8pk2bJMUJtAzF4OCgGB22CDl27JgYi3g8joMHD4rx3bVrF37wgx9IgdiBAwfw+OOPC7B73XXX
oVarGXCjM2fO4JlnngHQIgBs374dTzzxhMzFu971LgMB4KabbsJjjz0mxXtvfOMb8dBDD0lEec01
18Dj8Qh43NnZiXg8jieffFIM/r59+/DDH/5Qjrlv3z4899xzUlPxcz/3c0JOAIAbb7wRy8vLYhz6
+vrw0Y9+VO6p1WpFOBy+ahvwbUhayefzCRj4ehOr1WpgJ3FLRT0FxGZ1QMsTb9/zmO0X6K3p2x0C
kHQDhV04dY9UjxD0EJ4LdXFxUcBxoMUQ6e7uNhg1docFIM3rOI5KpYIzZ85IJTKvi1gKu1z6enuR
8/tR2LMHjnBY2DMAEAmH0WO1Yv6JJ4CxMYTTaTROn4YaHYVrehquVAr2szgBwZMncd0734nSbbdh
380344VIBLDZMDw8jFgsJkaKgG0wGBTlRcCY4y6Xy6IsuUd3Z2enGJyOjg7MzMxIDplRl9frNewt
wZ467HdEppLV2tpIiGMBWkaLNQTAKgZFWi3ppexgy012CI7TAWAVO71ipni4FkdGRoRllUwmEQwG
Jb8fDAalgR+jErfbja1bt2JhYQFutxvJZBKZTOb/Z+9Ng+O8rjPhp/d9A3oD0NgBAtwlS5Ql2ZIo
y5IcJVFZ4yxWOU7sTBzNF1fGjpJM1ZTHFSVflLgqS8WW8yWfJ+NkPJNv4ozKdmyNquJIkZTE1EaR
kimSIkGAIHag9270vn0/ms/BfV8CBBctJIRTxZIaaNz3vvftvuee85znOeJMCcLzc8ODWiAQEDbz
ysoKAoGAsMXz+TxGRkYQj8eFPU7HyPScw+GQgyBTZL29vSiXyyL1Qol38jf6+/ulCdTCwoKsh9ls
xtTUFHp7e+XzGwgE0NnZKekxgtmcB3tdq2vB7nCUJ0kkEvB6vRIZzM7OIhqNyuGBQDWZ/yrhdCva
NkP6CsxsNms03JkzBiChOpVH2XlMlb6mYJ2ajqLeDtNK1WpVygkpf0BgT42qVPo+Uw9AexPi+1VJ
bbUbl9rXgX/LPDDTEwRrOUapVJITuMfjkfQZwUqTySTAutVuB4JBhB56SK4xPT0teXZTvY7sr/86
cPToBWvcAGDK5+H++7+H++//Hr2dnUjfdx9WH3wQjfNdvAgYqvLVvA+91DgbMhF4tlqtUoXCtBtP
/bR8Pi+pPB4IuK5WqxWZTAbZbBZWq1U2f0aK6nMG1horMQXF9aSyK03FoRjpJZNJAbtJXOO1VLkU
pgyZY+drHki4NsQPaJVKBUtLS7Barejq6lq317XqKDOZjMy71Wohcr7ogM+f603nzG5qjEbIWo7F
YiLdwXkCa1LYmUxGGix1d3cLTmI2myUNyO8bN25VMFC9V/b4zufzkpJlRRmlxfv6+rC4uChOjpVf
6meIz1X9bG1V27pu7100YgrEFUggYi9k6tzwC8MogmAnNxO+Zv6VlRcEZvkeoA0oc8xqtSr9EABI
CoKnTZLF2OqxUqlIGoHX5EmcktvUEmJUxBMdyxCJgbArHpVWuSlxXvxbVpJQjrzZbMLscuHu3/ot
/EZXl2Y9f9vtxh06YpE1mUTkf/0vDD/8MIIf+hB8f/qngNLPWr0ugeBqtarp4Uyglw17Go2GnPwd
DodEDCx/ZZ0+FUiz2az8nEKIq6urspYANHOoVCqyvixg4PrTIWQyGanSof5VLpfDysoKVlZWhIHO
wwZlKhqNBrq6ujA3Nyd9u/n/uVwOq6urIoW+uroq+lDMoadSKcTjcUxNTWFiYkJeT05OotVqyeeZ
uX8SBZvNJgYHB5HNZrG6uipVdMvLy8K05meXn6VIJCKfOQLuO3fuFEE8m80m3Q/5vRkYGMD8/DyS
ySRmZmakFJxtUFmiyjapRqMRx44dQy6XQzqdxvHjxwXM5984HA7hX2QyGSHAEUgnjsL15neP1Vgs
V+chgf0/tqptS3a/DcYKCKB9msvn8yLFrIqsMQznPzoGALKZ8KSeTqc1vWt9Pp+GMcw2mEwBEKDk
5kYNJPIFmN5SgXTqE7GEdHp6Wj74drtdumCpwnvsH8EOcQDklMmevOpaMD3BUzMjGc4rk8ng+R/8
AC//9/8Oa62GmtWK/Z/8JMZvugn+iQkE//Ef0fnMMzCeP3XqrbJ3Lyr/7t+h8vGPo9zZKZs8nR0j
rnq9Lh3WeCLk+nIDUDWKZmdnxYGoYoScNzkMlF13OBwYGxsTfIB8DXUtqDHFE+/k5KRU/DAyYRc2
HiAIcrNk9qabbtKcjl966SV5pmoJa7FYlJ4eajFENptFq9USXgk5KkyxeTwe3HHHHZp0GKXi2VZ0
amoKyWRS+lRnMhmR22Z6z+FwYH5+Hp2dnSJPsri4CKDNK2H/haWlJQwODuLUqVMol8tYXFwUsiAj
B7/fD6fTiYGBAZw7d05kLgwGg8hlWK1WvPLKK/IMOzo60Gy2e6ssLS1hZGQEZ8+eRbPZlLXgs+M8
rVYrPvjBD2J2dlaA9Pvvv19kwHfs2IGxsTG43W6JUrcB6XfZrjfnsLCwILlOVsrwQ8qNYnp6WjYa
fjEYovJEw02WDczV0J4lhxzTaDRqAOhYrF1Ays3XYrFosA/myVXQm60UOe9cLidaPzabTZqyc0wC
ftwAY7GYsIKBNrAYjUY1bHGbzSYlt1arVQO8A23H8tprr8naDA4OCggLtAHSvu5uGJ5/HrYnn4Tt
6adhOL/WqrUMBqzefDOyDzwA56c/jTNKm9SBgQFMTU3J6a+npwcul+uCJkUEN51Op6SNgLXGPGfO
nJExqVHE1M3Q0BC8Xq88987zjkotZeXpnq+tVitOnDghY+7cuRM/+tGPxKmxwQ3Xore3F2azWfAo
NiTiRm6z2WAymURLyePxYHx8HC+//LIGhGXva6PRiNHRUZw6dUrGHBgYwO7duwWcZ5OoY8eOSTOm
wcFBPPXUUzLmfffdd8E1Xn75ZZnXBz7wAczMzAg20tfXh/HxcRw7z5vx+Xzo6enBv/zLv4jzHR4e
xve+9z15/dM//dMabaV9+/ZhcXFR5j04OIjnn39eQG+Px4OxsTGcPHkStVoNXq8XN9xwA5599llZ
73379uH111+XCGHXrl0AIHjonj17ROuL13j00Uflc0K5/a2KO5geuwYJBb/7u797zfIc1jO1DwBL
LUng4YmQeXoyXVmqyJQIJSSY8vD7/XJaZXqHv2ckAEDDqNZ/SEkIozImtX1IXuLGT5CbGjpsH8nm
Mczp8wRJYhDHZS46EAhIgxTWt9NB8WcEi+nAmI8mYYxaP9Tjj0QiCIbDaPT3o/ngg7D81m9hdXQU
tVIJ5pkZGFglBsC2sADvCy/A/hd/Ac/p0zBZLGj296NUr2vUUS0Wi4acRoyHr+12O7q7u4UTwYIB
Vvi43W6pcSeGEQ6HZf3J7FYxETYdYpSmYk4WiwVdXV0aEqPH44Hdbkdvb6/0DaCuEsesVCrYu3cv
gHZF1vDwMBYWFkRIjmWxlNv2eDxwu91SChoIBBAOhwUn8Pl8oibL5+V0OjExMaHBlRYWFuSzSRA+
HA5L5R0/M61WSyq/CHS73W4MDAxISo8aUdygKaq3uroqn81gMAiLxSJYi8rSLpVKCIVCGBsbkzVx
Op2488474XQ6RaJlYGBA+BaUKhkfHxeSZU9PD2644QaRUA8GgxgcHJRiBkb7fX198Pl8MJlMQuJU
K+O2km0D0m+DqUxYmsqQZpqAxsiIp34AGqCZJ3X+DR0DNzj+jCkrlemqmh4417OuAWjGBKBRmVTB
Tc6TBDy+pogc389NhV8Ybryq/LXKkAYgqR5uomazWSTEuUGo91F78EE0f+qnUMlmYX3qKViefBK2
H/1IyHqGWg2+556D77nn0HA6sfrRjyLzwAPALbfAcP46uVxOTp19fX3SqwBYk83uUrAQKp5yM6BT
UddefUYkvKlNipiS47qzmxx7UvB36joSFCehjaQ7YE2mmgUA3NSZQlRF9Rh9ABAMhORKOkBgTZZa
L6W+uLgo2JXf75dnyYNBKpUS1jWfHVOKVJJlhEmZc5aIdnd3S1+FXC4nhRwqO9nhcAhmxNw/ORwk
Q9IZAO1onhI11Obq6upC6Hwxg9frhc1mw+joKCKRiMyVn1ViS8ViUaIRqhjoJem3qm3NeOhdNlXf
XqXi04LBoIauHwqFBARWK5p4muIJh79ndQw3Ip5amFvnKVvFLy6F2u92uzXzVmu2WVVDMhSlk1lp
QrE5YP0qDs6bUh8EpomFEPzjqVYdU9UfWo+Bynm3fD4Y/v2/R+Z//2+8/tRTOPuFL6BwPjVAMxWL
8H3/++j/D/8B4/fcg67HH0doYgKpZFKA2rm5OVlvtSRZNZ4WKW1COWdKf1Dfn8/Q4/Fgfn5eAM7Z
2VnBcwiA+v1+AZdbrRaGh4dlDiwyICCdz+exvLwMn88n+XamHwlws9SYm2ir1UI0GkWhUECxWJTi
iKWlJVFmZQk0CwyYCmTnPjru1dVV5PN55PN57NmzRxxWo9EQldpCoYBkMilpRYLFXCv1H8FkSmKr
6rzxeBxDQ0NyX61WC0NDQ8hmsygWi+JcmFbKZrP48Y9/jB/96EdSfXTu3DlReS2Xy1hZWZFIijpa
g4ODArxXq1UMDAzIWjMFWSqVBEinqjKjyHK5vGVTSsA25vC2mhoJ6I0VIFR75GapnrCZC1XLT2mM
IrjhMtxVQW8V8KXx5HexD7E+gqmfT8OwMoljEndgqM4vCU9z3MxV0LtYLMr9UrhMnTeBdK4N14LE
JGotqT2kAS17nBUnrEgxnz0Lz1NPwfm978F6/nSqt0p3N+L33IP0T/wEGjt3ShUV58nUCx2zugGT
P0DJaafTKYApGdMAcPLkSU2/Z9bHs+kMe1WrzGiW3LpcLun9TE4FexyrIDcrZkgeo8NaXl4WsLha
rYrsOntH8xmazWYMDAxgaWlJUllut1sz76NHjyIejyOfz2NgYEDek0wm0dnZiWQyKRVATIf29PTg
7Nmz0oRJbW8aDAalyqxQKIhAYLPZxMLCArq7u0XAb3FxUVqhsm+Eeog5e/aslFwfPXpUnHVvb6/0
vM5ms+jp6YHX6xVp8VgshkgkgsHBQRw7dkz6jJw7dw4TExPSKIg8DqAdqX384x+XElyuwzYgNaNX
AQAAIABJREFU/S7a9eocNjKmArjJsqKJp2OmZXjPdBDqJstyWL5WpRkArJv7pAMBIDnwixnlOFQH
w00CaG/M3MCY6uGJE4DkYNUqoHq9LppFFosFfr8fiURCrhGJRERzimtBITmg/YUsFAoyD5/PJ7pG
vC8AmJmZEec6NDSEVCqFVrMJ+8mTiPzzP8Py5JMwKY2PVCsOD6P2sz+LxL33ot7TI2kWpii4bhMT
EwK6kq3M9MzY2JjwDYB2UcFLL70kwG4wGJT+2EB7092/f7/0lCZze3p6WsNyP3z4sMxjx44d6Orq
krQSu5uRP8A0ypEjRyQi3bVrl4ZpvG/fPiwvL0v5J6UzuJ4klpHIyOjl0KFD8voTn/iEaFmZzWb0
9/fjmWee0bCwT548KWPu2bMH//Zv/yb3PjQ0hF27dgmbmSqu6hgPP/wwjh49qhnzjTfekLLh2267
DS+++KLc++DgII4cOSLVS36/H3fffTdefPFFucYHPvABAestFgseeughHD9+XA4it9xyC7797W/L
vPft24fFiQnkXnkFjkYDTacTn/nDP8TOW26Rz/M2IP0u2/UGSG9magkpANkMAAg5iTlWliMyp83X
3HSAtbaOfI9KPqLxNEmjtMRm81SdMk9O3LR5slaJcfw5QV7Og+Al8QreI9s+kizH0ks6TZUoSCep
8ggqlYqQBbmW7CLHdA/LcA1GI+yDg8B99yH/y7+M8m23ARbLBUq0lnQa9n/7N3R861twv/QSbK0W
Kl1dwHmnzTJMNQpj+Wmr1ZL8NR0VsRpKkrtcLgSDQQ3wz2ZCXEe73S7pQrLwGQ2aze3mQ11dXaIs
y2fDOTGPThkRlZhH4DwUCiESiaCnpwdmsxmhUAihUEjTFlP9LDFaWV5elnmrrT8tFovgC3yOzOnz
80ZWNlOPbrcbkUgEt956qxDR2H+DhQldXV1wOByCf4XDYTgcDilm6OzsFLCcKbyRkRGJiLxeL/bt
24fBwUFZu7GxMfn8GQwG0U0ifuLxeJBJp9HpdsNWqaDbZoMjk4HtX/8Vf5tK4efLZXwyn8d/O3wY
lpERDOzYIfPZBqS3TYzpFH5J9ScHppC4iaugLKWi9biAHnBWpY6Z3mC0sdGHksQvgsZs2cmKGr01
m+1+wyqorBq5F2oag4xTyklwE+QcWXGiXoOqoV6vV4BlVrPo2aasulIB73K5LNFHZ2en9Adg/l9l
1tKxsFqHjqfaaKC8fz+yN94I5+OPo/L978P+3e8ieOiQpmGS/fBh2A8fRutLX0LlzjtReOgh1B94
QKp0eOqMRCLSOwCApB8SiQRMJpNU7XAtOCfiKXTCy8vL4mgGBwdlsyfQu7i4iJmZGVgsFumyd/bs
WdGQAiCd2Xp6eqSpD9ebaR2PxyPrNDMzg5WVFekFsbS0hDNnzsBms2HXrl2o1WqiBUZQfmJiQgTt
2CAol8uho6MD/f39GsCZvR1WVlZgtVoFH6NZLBa8+s//jMP/83/CUq3iJbcbgdtuQzwel4ouajqx
EY/FZEJ6bg6JmRm4jUZ09/WhvriI4MwMXAYDoskkOrNZDKdSMFerCOXz6Dh2DMNLSzBVKuh0OOC3
WlE+/3t7qwWP0QhDsQhzrQZbowFbo6FRIP4vAL6m+0780ewsfvOv/xo33nnnlo0YaNvO4TJN3fiB
tW5nqlF5k/+v3wBZbcGNYD3wmGkojsFNmQxNVqjQVNE3btgESuv1OnK5nKbiB4DIGQNt8NDr9Wo2
XV6XYzJNpFYvqSf5crksbFqWKZKdSsFCl8slYDUdnQqsU8eIYJ/X68Xc3JzMk82OEomErL3L5dJ0
3qPzUNebz6TVasHgcmHh5puRGRmBtVJB/+uvY+ill2B45hkYzj83Q6MB+3PPwf7cc2j9p/+EN/bt
ww8SCbRsNtQcDtz5uc+h87yyJ1NnBJtNJpMQBQGIQ2G+myAuWcOcG7ksBKnr9brwM8gAZt8Do9GI
U6dOafgrFO1Te0aEQiGNU6NmFp/hyZMnsbS0JGzn2dlZ4WvU63XpusfP0sLCguAHBHKJwRTyeTSz
WbTsdlimp9ERj8PVaiGWz6Mrm0XfzAzstRrSr72GqZMn8S1FruS3T5zAT1utuMVkghNA5wsvwFip
wFKtwlqvw/IeMJE32hxN55/5euXjW8m2ncNlml7biK/Vk6++xI2boGrrNZThCZzpFJUhzY2Txg8n
oxE9jZ/MV56c18Nw9GknvaMjQU4dk+WTLJnkZkzAWi2tJYeDjFKyqlURwlqtpqlOYrUWHRlluLl+
TMVQA4iVNtFoVKIspu1Y886mQFxfgs7cvFcHBtD40pdQmpmB5Xvfg+O73wV+9CO5738tl/HCK6/g
CWUt/vN//I+4q7sbH/H70bLb0bJaAbsdTbMZLZsNTYsFdr8fsWYTTZsNdp8PJqcTHgA1kwnuYBBL
mQz6Wi2s1uuw+3yoJJPwhUIot1qwer2YTyQQtNlQslhgOM9Q1xcXcNNnpPHyM8/g7P/5P7BUq5iz
2+FsNPDRhx4SAbvp6WlYzGY0ikXYGw0UEwn0NpvoXF2FrVaDO5FAxOVCfyoFS7kMj8GAgelp3F8o
wFKtwg3A/tJLcDSbMJVKsFarMJfLuP/8Rn4p9l8A/LHuZ39Ur+PL9To+xx+sQ3R8N6xuMqFqMqFq
saBQLgONC3snNs83I2I/jc2wvOvVtuZdvYOm32y52aikNG6KwFo6Qd2I18tRUmAMgGj4qxU6VJFU
r6FWEq1Xesn0AoALohsAGixDFT5Tf6+KwrGChlGResLkvKmvxPs0m80CGjJfnE6nxalFo1HR7Fnv
PtTqJN4HeyDwGoxQ6CxMJhMmJyfli9vX16dhh1NMjWO63e52WWQ+D9xzDxw/9VOIlEqo/Y//Ae8P
foAfTkzgcd3a/WGthi+fO4ePKZ321jPvFf4OAAYAfOj8/7cMBjQtFjQsFtSMRjQsFhhsNtQtFhQb
DdTNZrxaqyGTTOK/Kmmy/3ziBE79yZ/gDpMJ5koF/ZUKDIUCTJdRoz96ye+8NNvwRL7J31XNZlTO
b95GjwfpahXFVgsVkwkmrxdNux2JQgEVkwlwOuEIBnFmYQEVkwkthwPBvj68dvIk8o0GGjYbDtx1
F14/fRrpahUNmw033HYbJs6eFYwraLPhkR/+EP/veYAaAH67txf9H/sYZmZm4HQ6ceDAgbdnUa5B
265WugJjuSeAddU8mSrhZsXTLDdEvXMgUYfG96k195QzZhTCGnMaCVBqX2rWkpMdu56DYEXTRvLD
3Ow5JnENsoeZ5uJrfQlusVgUx+d2u6WUl2M6HA45+TLFpkZZrVZLyiQBCADKCic6EzoYq9UqQnRq
uSy1lPiazXeANtnt1KlTmrmrLVv/6qGH8IfnpR5Ue+z8v2vFNuqN8WUA//e7NIeKxYKq1YqKxYKC
wYCq1YqWywW43cg3m6harfj/pqfxhCJJT/t0Zyd23HQTnMEgWg4HsrUasrUaTB4POnt60HW+vwV7
gJ8+fVqqk3bs2IFqtSqkw1gshmAwiMnJSayurqKvrw8TExOYn5+XsumOjg5EIhEkk0lRZe3q6sLJ
kyfhdDqxf/9+LE9O4tA3vwlbrQZrIICbPvUp3HDHHcKaHh4e1hBet5K9J5FDJpPBr/zKr+D48eMw
GAz45je/iVtvvfW9mMoV2XpsZb0z05+AVdYwANnc1+MgEJBVr8FN7WKmyjIztaL2X1jPNhuThDWr
1SrVOYyegDUGM43kKQCS1qI8OCMJFbNgFKA6HMqNGI1GkfzgfVHCgikvu90u/2jUjOK8fT6f5Me5
jmrFE50wnQXlMdgtbnUdsB4Asrt349gjj8BUq6HT7YYdQCWXg6FSgd1oRGp+HqVsFqZqFTaDAa1S
CcV0GsZKBQ6jEQ6jEbV8HsZqFeZmE3YApnodhkoFxloNxmoVhmq1/foSTvqXcyJvmkxoOJ1oOBwo
m82omM2o2Wwweb2oOxxYKRRQtVrhDIdhDgQQLxZRsVhg8HgQGhzE5PIycs0mTD4f7MEgfjw1hVyt
BoPJhGg0ipmZGeRyOQHnvV4vTp06BQDwjI/j1/7xH/H/nC8yAID/q6MD6T17cMzng9/lwvDwMGZO
nEC50YC9XMZQIIDp6WksLS1JIypKrwAQdVemdKnCS97HysqKkPHIK9mxYwdOnz4twHkkEsHs7CxS
qRRSqRQ6OzsxMDaGkU9+EkC7BHffvn0aJeWtbO+Jc/jCF76ABx54AE8++aSoZV7PpqZneMK+mJEU
ppqaNmKOXm2NqR+TxCxV80Y1dSO+VMa03ijLDECTfmIKiE5Rlf3Q/5eRFU/13PwJHlMPh184au2r
a0XNIQBSvaL2f2bbTq4FCWwqJqIykRuNhoC2vE/qSgGQ/t0Eh8c//nH85twc/uT8KRUAHo3FMP7Z
zyKxZw+sVitcsRhWlXna7XYk4nGNEmkqlRKhvUAggH379uGtt96SaqWDBw+KpLTD4UAkEsErr7zS
BrlbLUT8fpgbDaQWFmCs1RDyeGBuNDB96hRMtRoS//APwOTkBc8xtXMn/vULX4DZ78fYTTfhXDKJ
zPm+CKOjo3jxxRdFEHBsbAxvvfWWvA4Gg9izZw/eeustVKtVhEIhFDs7cfK8hLfb6cTuwUHU5+dR
zOeljHRlZUVSkENDQ5ienpZDQ8/QEJyf+Qx+5sknYa/X0XQ6Eb7jDjjPS6Rzoz59+rToRNVqNSws
LEjL1EQiIREnAGkmxNcul0ukt3kYiUajwuxmxV08HpfnPDs7C7vdLvNcXl6W4gigfagNhULyc7fb
vW4ny61i73paKZvN4sYbb8TU1NSG77nW00pXa/xw0i4lKngvLJVKSa6eJbiUD2D0oEYkxD/0QDr/
qSxsbuRkWKvpMNURMjXEL/16eA05ARyTshAE5clBIB/CaDQKwxqAbDJ8bbfbsbKyIuW2RqMRLzz1
FE5897uwVCqo2+3Y//M/j5/42Z+VjnyMDDkG04fqvFl5xGtwvXK5HMLhMEKhEKLRqKxFPB7H2bNn
NdiT2sHO7/cLSxoApt54A0d+//fxx+c3dqCdI//Q449jz223CTcBAObn59HR0SEyFExrGo1GnDhx
QtNoKhaLyYGFJb1cX8qKkJ1NrovJZJJIzGq1IplMipppIBBAX1+fvI7FYjhx4oQwwjs6OuBwOOD3
++XET6kNrqfBYMCuXbs0LVI9Ho/cRyQSwaFDh5BKpaT3NaPafD6PcDiMRCKBdDqNeDwOn8+HQCCA
3bt3y7zZdlWVL7/33ntlDcn52Aak3yY7e/YsQqEQPvvZz+KNN97ATTfdhK9+9avr1tlvVSNgrTKi
r0Wz2WwaNjOVXBlOU/eI92E2t1uJqlLj+raWJCpx0+U1VLBYDdmdTqc0KeKcyAzmmADkNdN0bHRD
aXGKtAHt/s6U2wAgaSduNFSD5enZYrHg7gcfRPA8D8FkMuHAgQPSnwFoS4szlcUx1Yoz9nwgY5pC
eocPH0atVsP8/Dw+9rGPIZvNivP1er1IJBJy7yMjI5ifn5fNq1AowOfzyTw93d0Yf/RRfOav/grW
Wg11mw0PPPooesbHEY/HkU6nEY1GcfjwYRlz//79mJubE2fQ09ODarUqDOlGo4Gbb74Z584D7zab
DX6/XxjS2WwW+/fvx4kTJ+QZfPCDH8Srr74qshM33HADlpeX5d5Z/nry5EkA7e6DwWAQR44cAdA+
od9zzz149dVXJTV44MABTd/v/fv3Y3p6WtZiZGQEzWZT5LUpE//666/L5+hDH/oQjh49Kv2sb7zx
Rhw6dAjlchlzc3O49dZbMTExIQ5mbGwM8Xhc5h2NRtFoNDA9PS2fk21A+m20w4cP47bbbsOhQ4dw
4MABfPGLX4TX68Xv/d7vrU1qi0cOAEScbj2A+loxdlLj6ZinXc6bp3KmroxGoxDegDX5a0YOPGGx
bFaVK+dp2el0isw5nQe7gwFrmyydFCUj1PwvO5Bx3gTrKRnBeyFYz5Mp0wsulwsdHR3SRYxid3Nz
c8jn8wiFQnKSVtfGZrPJmGwWo57Ak8mkENa6urowNTWFeDyOSqUCl8uFgYEBDA0NyfpWKhVkMhks
Ly9Lm1B2pgMgRQpM21FqpFKpoFQqwePxIBAICH/FbDZL7xE6fJPJhJ6eHqTTaSnPbDQagg/EYjH0
9fUhm82iVqshHA5jeXkZ586dQz6fF1FJCvk5HA44HA7hXVBh12az4a233gIAjI+PI5/PY2lpSbrb
AZCILxKJSOOqZDIJj8eDvr4+RKNRvPrqq/B4PNi1axcmJiYwNzcnMha5XE4cdjQaxWuvvSYOpaur
S3qWFAoFBINBaS6USCREG4sOwuFwYPfu3QJqA8Dw8LBEocTQhoaGNErGW8kuKXKgbO3Y2NhVXzAW
iyEWi4nH/Zmf+Rl85StfueB9qnzGwYMHcfDgwau+9ntpKj5AqYGLYRNqi0v2OVCNp1J1TL2xxJby
CqrqqFrdRGxAHx4zZaRKXKgkOHIa9IxobohOp/MCVVW9hDexEZXlrEqgt1otUcAE1hRp9RVNJPQx
zOc1KM5HHgAAyWFzDvwv8Q7yR0jeIwjOLnyVSgUdHR3SoY1rwYZBZImrwLnaYrJeryOTychrEiUN
hnZnM3Zp6+3tFY0lPsPl5WU5LfOZTU1NSZ/lYDAoGznnR2VSi8UCt9uNkydPIpPJwG63Y3R0FMlk
EouLizCZTBgdHZX0GwB51mpnQjanKhQKaDabGB8fx49//GOkUinZVOfn58WpsZcDo0OmiJaWluQ5
9PX1yTNmv+fXXnsNmUwGTqcTO3fulEZUxJ3m5uZw9uxZTT9wOgdW0jFiNJvN2L17t/S7SKfTiMVi
OHPmjDxjq9WKyclJYYvzM8iI0ufzIRaLIZPJyOfpSrC868U2pfd9//vfx4033oj7778fAHD06FE8
+OCDV3zBaDSK3t5eab33zDPPYPfu3Re877HHHpN/17tjUNm564HR65mqtkmJC9X4ZeOYehIcc+jc
/LgJ8dRerVbFYamORm9qBMccPH++XgUUx+P79NpJ+jGod8MNVs/i5mag9mLWR5Ust6Uj4bz4X5Lq
6EQ7OjouwD84Pn/GKIJOQ+2qx82TpbvEjPic2F9YfYb5fB6pVErWuVwuo7e3V5wjq8G44ZZKJRQK
BY0ESCAQEOY0N20ysymv4vF4NHMiRsQ1Y8UZPyOMdvg5omPhv2azKdFNs9lusbm4uChFBaVSCSsr
K9KDmRLX/DzyefBzx8MMCWT8nSqrojprilZOT09jeXlZ1vfEiRMyJ6rQ8h7oSAOBgGiQkVyp6l8N
Dg6K1L3BYEBHR4dEM5QOZ89vtoRllKM2T9qqtmnk8Nhjj+Hll1/G3XffDQCbgsmXYk888QQ+9alP
oVqtYnh4GH/91399VeNd66bfzDZKmfGDzS8MTZW43mgM/ca+3u/14LF+g19vniqTmyfzi82bDVHU
NJLFYtFIcuhP/ZTsXq/Si/fNea4XbfFalBqv1+tCdFO/+Pr7UO/FbDZr0gMk99XrdbhcLtRqNfh8
Pg2zOxAIyOZdr9dFQ0gFopnbZ3pNjWLK5TLGx8eRzWalvarVakU2m5WOZNFoVCIRg8EAn88nqUiS
JYPBIOr1umgvjY+PS3VYuVyWk7vT6UQikcDw8LCkv2q1Gjo7O0Xug+XDvNdAICAlwGzQpMp/MyXX
09ODTCYjKb/u7m54vV4Bp9moCIB0ShweHkatVkMwGES1WsWuXbtEGiYejyMcDss1eB9MXRUKBYkW
GEFZLBb09/ejUqkgGo0iHo+jv79fNKFqtZroQFHy48CBA1heXpYKN2pRscDB7XZLIySK9O3cuVPA
eVVqfqvZps6BMsuqXa2eyP79+/Hqq69e1RjXk5nNZk2VxXoYgyqvzZOkWh67Hm9CHXO936vYDZv0
qDIfTBNtNC9eg2OQfKcC6fp5qzwHYC39pc5TnTcAIawBuEAf32w2C+4BtJ0FT2+qsaKkXC5LvwDy
SPTlhlxP3rvVaoXL5dIA6bVaTYDIbDbbrrufmZFNIRQKCXgMtDc8pm+ANfE54gP8OdnihUIBHo8H
b7zxBoC2eN7NN9+MqakpWT+26GSk2d3djUwmI/dKWXFKYbNtKF/TIbz11luSVrrhhhtw5swZmc/e
vXvx5ptvirDh0NAQlpeXhVyWzWYxNjYmXduSySRCoZDM2+Fw4Pbbb8ehQ4dk/W677TbMzc3JNXbs
2IHZ2VkNGN9sNkWyO5PJ4CMf+YiAx7lcDp2dnXjppZfEad1zzz14+eWXJdV6++23ayqgent7RaSQ
Y6yurkqf6tnZWTzwwAM4dOgQqtWqtBJVx7z//vvx5ptvCiBNeXkS66rVKm6//XZJM5nN7X7kW9U2
BaR/+Zd/Gffccw++8pWv4Dvf+Q6+9rWvoVar4S//8i/fuUltQUBaPf3rnSvTJaqpvIeNyly5cW+E
X6jifmoOGVgj6ang8UZpInXe6pgALnAEal24Wq5J4+mUY6qCgZyXehhhfl4dU00LAe3NhSkISoPr
eQ7raVnp11cFj8+cOSMOhk1dOF9V+plroaaCAEi0oY5J8JgN72dmZsQx0kE5nU7pL8Drquvtdrul
koikrZWVFQDtSq+hoSGJnqiltLS0JF3dCBDH43EBV5eXl6WyyO12w2azaUBvHlSoUbWysoJUKiVk
MpazZjIZWCwW9PT0SBMmCg5Wq1UN5yObzSIej6NcLot0OCM1t9uNeDwuVVQkJRqNRiQSCZFh2bdv
n1Q87dy5E8ePH9ew3l9++WXE43GJjhh9cUw2kqJCrc/ng81mk+qvHTt2YP/+/eJw+vr6pG8Hoz+f
z3dNlqG/HbZp5PD1r38dv//7vw+bzYaHH34Y999/P7785S+/G3PbUnYxAJp9EtR8KbA5e3mzKid9
RKHiHXQYm9Vo6+etjqlPZfF9au9rAKIBxY1aHXM9dri6Fkw1ccz11pCbs8qfIAbBjTWRSCCTycBs
NiMWi6FcLssJnF3ZVAeq9tPg5s0cPee1sLAg7SS7urokquLfJZNJKQHt7++H0+nUYBestCKBLxQK
SYUUOSWZTEaIX5FIBGfPnpVyzb179wJYU/Clkz1y5AgqlQqCwaC0pAXWFG3Pnj2LbDYLm82GHTt2
SOtWk8mEQCCApaUlOXGPjIxgbGxMJLw7OzvhcDik6VOj0UBvby/m5+eRy+VEyyqRSEgbWI/HI1Iu
AITZzEIIVpGp8x4dHcXU1JQ4oFtvvVUqj1jtdfz4camqstvtKBQKsrEzwlteXpaKuBtuuAETExNy
INmzZ48o1jabTXR3d2N2dhbxeBxWqxXFYlFTus2DECvOAoGApLa2ol00P1Sv1/GTP/mT+IM/+AMc
PnwYhw8fxuOPP75lPeVWNoK1xBrU5kFXaiwLJQDKkyjxB57ULmaUviAgzfw4N/parSandqPRqOl7
TdOD3nqHt7q6imQyKRHauXPnJCXUaDSQSqVkg+Xa8KTJyimejrnxs8kQ51g8zzjm71neSWNkw2cB
tDkFbPoTCAQwODgoa0bQlg6Lc2PnuEajgfn5ebhcLllzm80mG2qtVkMikYDRaJReDh6PB6FQSO6V
ALLP55OcfSQSEWYzgdlisSgOuF6vC0mNvBW1VwifDaNagsTqnmG32zE0NCSRTCgUEvC30Wggm81K
Kkf9G/VzEAwGMTMzI8D57Oys5vdGo1GeIQ9Bo6Oj0hrVbrdj3759knKkg2ckzcMGsQjyTgi2U/OL
qbStaBc9NvLUxt6w2/bOGE9Qm3Vqu9prqKm69QBpYO1LzY3wYukwYH08RBX4o0S3el39mGrFhypx
oTbIUQHl9eZJiQzKf6tpJNb1qykgi8WiSSuxogiA9Cju6uqSqEH/33K53O5Xff47wuY6XGO+jyA3
IxByE1gls3PnTtk8K5UKwuGwpDxarRY6Ojpk4+b9qZLonC/QTistLi5K2TLxGgK9drsdi4uL6Ojo
QD6flwIBitTx+bjOaxsB7fQmS3cJULdaLYyNjQmwWyqV0NPTg2AwKFEbiYXkmZCrALRTVX6/H+Pj
48JBePnll4Xb4HA4kMvlMDw8rOmvPTY2hmAwKM/O7/dLNML14n0MDAzg9OnT2LlzpxAOU6kUbr/9
dkmxpdNp3HTTTVhcXJTIcHBwUNPdrqOjA+Pj4wAgfBc+C/YN2aq2aVrJ5XJh7969uPfee6Vm3WAw
4Gtf0/dI2rYrNUo6qMDu223ciPWAtGqqrIcqNc4N70paIrKyh2Oytp+vmWaikazGea4Xeaiy4MQ4
mGs2mUzo7u6Wa7HCR2VI83TMU5/JZJJyTKDtTKLRqACT5FbMzs5KeiwUCqFQKMi99ff3Y2FhQVIP
oVAIDodDcvesuydekM/n0d/fL68tFgtisRgmJyc1jOjZ2Vl5PTAwgNnZWc29cl5AG3vZu3cvjh49
Ktfs6ekRPoHRaEQkEsGrr74qz4Bscd57NBqFxWKReyeH4LXXXgPQBtT37t0rr+12Oz784Q9jdnZW
xty5cydee+01DSBNmQoAQu4juWxxcRE+n08Y0g6HAzfffDMOHz4s+MvOnTsFWAfWqiY5psViQTab
FfZyLpeD3++XtNPS0hI+/elP44033pCqq5tvvhnPPvusfA4OHjyIt956S55ZJBLB6uqqANCsguP6
l8vldcvwt4ptCkj/zd/8TfuNigqnwWDAL/3SL71zk9qCgPSlGPPs7yRj+mLXUCuPgAu5DEyXXK6p
p3y1Sx6wVpmlvrdcLmsiB73UeKlU0nw+0um05I1NJhP8fr80JaJDLBaLkrtnuSXz7A6HA/F4XMPk
djgcsqGbTCap/+eYJEmRsAZA2MlMkfX19Qm3IRqNYn5+XjqquVwuwTZY3su0SqFQ0GAzhUJBDgy5
XA7nzp2D3W5HJBIR/kqr1W6tOTg4KOmi7u5uERAkOJ/L5VCpVJBIJETgjqKAalqPufliKffaAAAg
AElEQVS9e/diamoKyWQS9Xodfr8fxWJRlHMphx6JRLCysiKyISsrK8hms5IeC4VCsqmSqMdUGz9T
hUIBmUwGsVhMAG5GJ4zmstmslK4Wi0WcPn0aTqcTgUBAnjExicXFRWQyGYkcRkZG2r2iz2dCyuUy
MpkMkskkXC6XMMqnp6fhcDgwMDCAHTt2aFrUms1mwT28Xq+wubeibXpE/cxnPoNKpSKktfHx8Xc0
/fF+tquNGNSmOev1VtBfgwQj/lz/fpWwxtd6UxsdUYBOb/qfEaCmBIdqKl+Cr9WKpvU0uFgey/mx
fp9rwdSXmhpV01m8T56eHQ6Hpi6f96ZeQ5++4n3wtSrCRwVd8hNIyvJ4PEgmk5Jmc7lcWFxclMIB
pjdU2fV0Oq3RtDIajZqOfRaLRZRIk8kkgsGg6B7Z7XYpK/V4PIIZJZNJGYOvuZHPz89L2ozsd6vV
ioWFBdTrddhsNvT394sY4OrqqqZ3Brky6XRacARKrrBc1ufzoaurC/Pz86jX2z2wqQ5Lh0GCGtNh
/f39Qt5TyWksMiAPglFAoVCAyWTCqVOnxOHs2bMHR48elSqrAwcOIJfLyWeOxEIV/4jFYpLe43pt
VduUsPD8889jx44d+PznP4/Pf/7zGB0dxQsvvPBuzG3bLsNUxrQqk3ExU0FYau8w3cTTswqy6jdy
XudyQG5VyXU956UHuXlC5AZaLBY17U+tViuCwSAcDoecUok/qPgGgV6CqCSvkbTn9/vlPS6XC263
W/AEp9OJvr4+uFwu6ZFBcppK/ItEIhJddXd3a9ajXq8jFAoJeO71euHxeMSJU4XUbreLc+/r60Mk
EpFnMTY2hu7ubtEvotoAAX1WOxFMLpVKWFhYkOdDEJ2lwC6XS8iCdIQEhGkU6+Oad3R0YHBwUFKM
brcbfr9f7oNM73A4LGsXi8XEQdPpMzIzGo3w+XxwuVzyO1Wvi9EgozV1ve12u+h3dXV1YXBwUNbP
4/FgZGQENpsNFotFtJUYdVarVaTTaYnOiOu4XC65DzoevofFEXzuVKDdqrbpUfXRRx/FD3/4Q9FV
On36ND75yU9KfnDbrg27VBb2Zu/Rp40udjK60muq11jvb9RNRN24+FotbaWR0csTvf6adGx0Tnwf
Nwar1Yru7m5JK7HKh5sTADkRs3kRowmVvczNxWg0SgWTet1IJIJmc00wkBwAitUR8CW/IRKJCCua
VTpMywWDQelyVq/XhWlMAlgoFJJNvFAoiK5VNBqF1+sVJ8z74O+BNZCbnInR0VHhOSSTSYyMjEgv
jXK5jM7OThEfNBgMUo1E/gY3awDS12N0dFRKQpkGI0M6n8+LE2P6LhKJyHrX63V0dXVJROTxeFCt
VjEwMIByuYy+vj6YzWbceuutqFar8Pv9iMfjcLvdKBaL8Hg8MqbNZpP1DofDqFQqsFqt8Pv9sFqt
EmFynYLBoHxOtnL6e1PnUK/XNYJ7O3bsuEDHZ9vee2NqhTjBpaSoVJYwUx6XY1cCpFOW4FLnyUhC
7RGhT2+x3BJop6zcbrcGkCaTW60kUntfU/hOPemrkRDJWUxRZLNZkdNW9ZjUijBWJ6lNkqiTxWsy
BUQCnd/vx9mzZ1GpVJBMJqWUVeVFTE5OalI4RqNRyGWrq6vwer2ifppIJLBz504cOXJEHGEsFtMo
53Z1dWF6elrIe3TejB5IICToXSwW4fV6hT9QKBREEp33OjQ0hBMnTsgzoQPmvIlrkLxXrValuQ+v
MTQ0hCNHjkjFUywWw7FjxwSQ9ng8OHPmjKS/mIqjtE+hUMAHP/hBSV3l83lEIhEcOXIE9XodqVQK
d955J5577jmZZyAQwOTkpKQXWQ5LQJrRgsrW38qtBjYFpD/72c/CZDLhF37hF9BqtfC3f/u3aDab
+OY3v/nOTep9CkhfrTF1cDHCnd4u1kTnUu1yx1AF2DbjQdBU56A39qimOZ1OOYnTeakb/3qMdJaz
8hp6LSsC0uoYRqNRI1+uEqLomNR5q13uqNhK0T+LxaIRemP5Z29vr4xZLBYxPz+v6W3BZklAu7Jw
YWFB+BfkWqisYJ/PJ60uWRmWyWTEOTB9pfYwSCaTqFQqgjFQEp2ne4fDIfLklFjJ5/OykTudTuze
vVsqi0KhkLQRBSAlqeVyWaQz2IWQYDHThqurq1K22mq1xOFQ8oRr4fV6Rf69Wq1KpJBOp5FOp9Hd
3S2yLJlMRhjS/f39cgjwer0YHR3VsMXD4bAcaCjk+L5t9vMXf/EX+PM//3MpXb3jjjvwa7/2a+/4
xLbt8u1SIwbV3o6cqToG89oAJI+rt82cl1rRxLy0vqKJ16CDIYDIPDjH4KmV5a8qJ0JtxMNxAayb
nmJfajoNp9MplTBms1nE69STrSrux7QSK4tYGcQ2mEB78/mnf/onZLNZ0f5ZXV0VMNvlcqFarcqp
nqkfbl5MV1FRlu85d+6cFA709/djdnZWKrcGBgaQSCTkBB6LxTTMbvZmPn36tBDgfD4fJiYmUCqV
kEqlcODAAZw+fRq5XA5OpxPj4+OYmJhAPp+XXgupVEpTgttoNMRZlEol6XBnMBhQKBTgcrlw8uRJ
aZm6Y8cOnD17FslkEmazGfv375eWqsBaIx6WBjebTcRiMZw8eVLA/f7+fmF6Ly8vIxaLYWZmRtOa
9I033hAAet++feju7pZrkLOhfnavVmfuWrZNd5JGo4EvfvGL+M3f/E15rT91bdu20bj5AZCN81Kj
AwAiSU2rVCoXlLKq12A5KNNVBBK5sRM0Jw7ATZoOAoCAmCpQzrw2S1lZwsg0BxsSAWtpE3XetVpN
8uDAmvAhq6gop82OZVarVfoVsIQ2nU4LxsA5+f1+SWtQyZWnZ/ZnOH78OKrVKoLBIPr6+lAoFETO
u6OjQ3pOqHpIdPBWq1Vkq4F2LwOPxyObIkuNuc4AJK3FnHw6nRZ5cTpBtU88/5/RGvP7lN8gHmK3
26X5EsF7VeK9t7dXnsHIyAjS6bSkqsLhsBDWVPY8oxS3243e3l4sLS3J2nq9XkxNTcmGz4hCdQAk
GKrY1Fa1TZ3DRz7yETz77LMCyhSLRdx///04dOjQOz65bbv2jfIIzO2vB1KrPIcr+TLxGsBaySg3
bjofr9cr71d7BzBK4eZHB8DKFAAybxXkVjWugDUnxVRCo9GAx+OB0+nU4BtsRANc2BucKS5yDlqt
FkKhkPx+cnISwWBQiF9qaosbM2WwAUjqbGRkRNbCYrEI1yEQCKDZbOIDH/iAXIMbJvtBNBoNOJ1O
qcLh+jEPz0iEne8YQRGUdzgcUvNP+QrKj9Cp2mw2VKtVOYHT2dTrdVFIbTabIjlOccHOzk4Bi9kS
FVjDtsLhsHze/H4/arUaBgcHAbQdZ6VSEVYzu+F1dnZK+9pCoYCRkRF0dXUJ36Sjo0PmTdkRVayy
0WgIl2I9deCtZJs6h0qloiF5eDwejWbMtr2/TQV6+aVSlV7VRkSUibhYJLEeyK0yplmmyRN5s9lu
j6mK3pnNZk0rTIKIHMPpdF7AslYxh/XSXgSJOWYkEtF0N/N6vZLv55j6zSORSAihinIQqhEw5Qa+
Z88eZDIZGZNS5Cpg6nK5JK1kNptRKBRERTSVSmHv3r2ilWQymdDR0YGZmRmJ/oeHhzE1NaXhORSL
RUkBGQwGjWS32+2W/s90cnv27BEGusViwejoKI4dOyZj2mw2pFIpuXdGUBwzk8ng7rvvRiqVQrPZ
RKFQgMPhwMzMjIDHN954I44dOyZRU3d3NyYnJzUcj2KxKGmlYrGI0dFRUW1dXV2F3+/HxMSEzPvD
H/4wTp8+Lam9sbExnD59WtJ2PT09OH36tADSrHri62QyKSqtW9E2BaQ/9KEP4Wtf+xpuuukmAO0e
0L/+67+OF1988Z2b1DYgfV3YRlLjKuiqZzNfKoCnylQzdUBTK4PUjmwkhaldzLjJGwxr8tr8p86T
jXr4Wm/xeFz4FowIyHLmCZxKpXRQ1BKinTlzRpyYyWRCJBLREPOWlpawtLQkaRm73S6VPZwzK6+A
9qk+EAgInuB2u3Hq1CnpJmcymdDb2yslona7HZlMBktLSxKdUM6E6SXm1VU2c0dHh2zofr9fMAum
qqLRKPr6+pDL5eRZLC4uCpuZFVdq5DA3NyfdCt1uNyKRiJQOWywWrKysaBjSTB8Sc3A4HAiHwwJq
22w2Yb0DbaXdSqUieFQ4HBbCIfWamGYjsY/rMTU1BafTKfetEjDZw5ym6lJtNdv0W/pnf/Zn+Lmf
+zl0dXUBaH+A/+7v/u6qLjowMCDhscViwSuvvHJV420FUwHTjZjG15oxl8vNXy8IR6OD2Eh+g7IR
PMHr5T3011AjC/Vn6mt1DL5ffV2tVqWEleCzKiNtMpmEJEhWM3sDsOPY6uqqMIFdLhdyuZwweNV0
kTovXoPpKVZaUSmUG3elUsHo6KjmGj6fDysrK4jH4zCbzQiHw+jo6NA4xVarhcXFRelDMTIygsnJ
SZRKJdlQFxcXBZAeGhqSDZVVU5TGYM+CQCCAubk5aSPqcDgwOTkpzHWK8FHKo6OjA5lMBqVSSfSc
1Fa3jGKmp6clPdfb24vp6Wlxci6XC4VCQYholCtn2i4cDmNlZQXz8/PSdKdWq8mYlUoFfX19OH78
uBD7IpEInn76acEcPv7xjwtj2mq1YufOnZiZmZHe1y6XC/l8Xpjb3d3dGBoaEmVcAuVb1TZ0Dq+8
8gp6e3tx4MABnDx5Et/4xjfwne98B/fffz+Ghoau6qIGgwHPP//8BUqb71djHhpYq6/Xg7DXonFj
5cl2o/CaMgrrOTw1NcN71zsQ5qwBCHFLrfrRp4A4D1YrWa1WSW/xVE8hOjoWPZCuL1tlykT9e/4t
IwdWJ23EGQmHw5IW8/l84hQByMZLoJwVVk6nU9aOeXrOQ9+EiVVUbDHq8/mk7zLQdtLT09Oavhr1
el1DLuvp6UE6nRYeCCukVMzGZDIJ2Y/APIFfakH5fD6JAshApyheLBZDs9nE8vKyJnfvcDjkWpFI
RMP3GBoaQqPREAXVYDCIYrEoEtzs5MfIlS08GXl5vV4sLi4Ko9pkMuHs2bPw+XywWCyw2WySXiJx
sFwuw+VyiWIypdvpOH0+32UVW1xvtqFzeOSRR/Dss88CAF566SU8/vjj+PrXv46jR4/iV3/1V/Hk
k09e1YW300ZrdiVM42vFeKq+mG3GiFZtvd+vx4hWgVoAov3D+egl0PWsaz1ITR0m1TgmgUh2d1PB
YqZnGPVwnkylqCkgNuzh72u1GpLJpBDLKFfN6ideW503Uz98rTpXOuje3l6RlGbpK9MzPp9PgGw6
Vq/XKw6EVULsc+DxeATzoXOl0zAYDCKzzWfMdB2vA0CeBeXLuU6UwrZYLJIG5BqUy2VEo1GpUmo0
GiIb7nA45GSvalpVKhUMDAzIfagSGHQmgUBAJLvJ2yiVSjCZTMjn83A6nRp2uMlk0jivZrMpz3Cr
Yg20DZ1Ds9mUk/23v/1tPPLII/jEJz6BT3ziE9i/f/9VXdRgMOCjH/0oTCYTHnnkEXzuc5+7qvGu
d9ODsFvpQ8cTHLBW8qmaKgt+sehDNf2Jm8A3X1NraCNjCmYjQFpt5gNAKpni8bgm9760tCSYQ1dX
l4b05na7pTEMsMaIZkTSbDaRzWaxuLiIVquFbDaLwcFB6TJGPaCVlRUN6a1cLmtakbL1KK/hcDik
sREZvEyL5PN56XVdqVSktHNxcVGcWKvV0gDnLMkl07hQKGB4eFiE9zKZDIaHhzUYTygUwuLioszb
5XIhHo9r0ldOp1OuYTKZ4PF4MDU1JSzyvr4+zM/PS8Oh7u5unDt3TkPWO3PmjIDxBoMB4+Pj0gnO
5XJhZWVF2OKrq6vYu3cvpqenJaV49913CyBdKBQwNDQk/AwAIkfCa1gsFrjdbg2wfiUqxdeLbQhI
U7HQYrFgbGwM3/jGN3DXXXcBAHbv3o3jx49f8UUXFxfR1dWFeDyOe++9F0888QTuuOOOtUm9TwFp
5t0vp9xTL6v9dtjbPSbrwjeKMMhLYJpnM9NXy+nnu1njJJ7oubFTjE8FuUkk4+m9XC6jVqtpTp3M
bbPfczQaRaFQEElpVrXQVOCcaY1KpaKpxyeTl6WjnCtP+UyfAGvidTzNEzvh37jdbiwsLIg8NsUG
KZnNMlzeH8tr2VYTaJ/yCbTzBM5NntLX4XAYQ0NDAlAzPZjL5SSSolQ50D4QMD1TLBYRDocxPT0t
rUT9fr+QGTlv9t/I5/Oy/tVqFclkUkDiW265RUDpWCyGf/iHf0Aul5Oy3mAwCLfbjbm5OcRiMdF4
YgMks9ksvyfuYbFYNEB6MBiUNKLD4YDb7d6ynTE3jBwefvhh3HXXXQgGg3A6nbJ5T0xMXHVXOILb
oVAIDz30EF555RWNcwCAxx57TP7/4MGDOHjw4FVd83qwywGhWWXCXPPb8QGlhPfFwOMrsc2cnR6A
vpTx1GZAeoD6Uq7HzYW4iUqCo3EtmIKhU2J3O+oiVatVuN1ukYBg+bc6r/VwCHY4oypuJBJBIpFA
rVZDuVxGd3c3VlZWBJBm3nxhYQFmc7sXdjQaFY0nt9uNYDAooC7QdiCpVEq4GR0dHULkIxicz+dR
LBYF9F5eXpaoqKurC2azGadOnRKC2/j4OF588UU0Gg0kEgn09fXh6NGj4hj37NmD5eVl6RHR19eH
TCYjzrKjo0NO9owAzWaz6DWVSiXs3r1bGh/ZbDbEYjEpFa5UKohGo5ibm5PPLPkYKoGP69VsNpFK
pTA0NIRSqSSppc7OTpw4cQKlUgnpdBr79+8X1nsul4PH40EulxPGdDgcxsDAgIbsuFWlM4CLOIcv
felL+MhHPoKlpSXcd9998oVrtVp44oknrviC1JchCeWHP/whfud3fueC96nOYdsuNBVAZarjatNR
6pgEYa/FD78KUJPpSz2hS8FAVEE+YGOnTHIc+RtUUrVarULcYhkkW4cCkJ97vV5NGSTnyXl3d3ej
UqmIuqnb7UY+n5fTvNFohN/vl1SKx+PBysqKOG2evBn9kNPBtSCTu9lsyim/t7cXmUxGqpUorU3r
6OhAPB6Xe2IqzO12C9ZA/KJYLMpJm5Ffq9XCxMSESGUDbb4FZcaBtsPK5/MaMN9ut8uYPp9PwGaq
35rN7R7PmUxG2q9aLBZJd+3fv1+qo1hgMDg4KA47Go1iaGgIS0tLEpk5HA5pTkSdKuJKwFofDorr
MUJhuow40la1i97ZbbfddsHPrrZ0a3l5GQ899BCAdn74U5/6FO67776rGnPb3hm7VlN7evYycPlN
V/RORJ+aYnRBoFrdpLgJut1uOaFvpFSsOgeCtWpZLU/yTGuR9MeogyAoX6uVRoxKVLkQAtF0ao1G
A6FQCIFAQDYyv98v0T/TUUw5EXSmhDWdQzAYlBw7HST/loqolNVgFMaSUI/Ho+kHQoyNZLz+/n74
fD74/X4R2QMgZbWcF/tH01lTBI/jUeupVquht7cXLpcL4+PjgnEwFQSsVUYRfOfnhwcCpiZtNpuw
7wmMq89qK9u7fneDg4N4/fXX3+3LbjljxczlSHRfypiMHtYDj7eKMcXD9AOrjVSrVCrCz2B7TJWF
zQ2YzoNSHKqY39zcnJwyV1dXEQ6H5fc83WcyGbRaLekxEI/HBYT1+/0ahnRnZ6ecigEIOYw5cbUU
F1hjk5MvwHmzkopAvKr0ajAYUKvVhCVMcb7JyUlxCoFAQPgDmUwGo6OjeOutt0QVlfwCRjzMy5Ow
xhO/2u/5jjvuQDabFYCd/bTV14lEQpyFw+EQLAVob+qJRELUZGu1Gvbu3Yt8Pi9RMHs6UAIjFosJ
H8NsNguQzvUklkSMh9Gfur6bMf6vZ9uUIf1e2PsVkL5cI4D6dop/vRNjXqum4gHA2uZqMBhEEI+n
fILMJHCxpJSbLDcINYKYnJzUjKmeUIG2w2A0YTabpac1a/3JW6hWq6Ih5XK5ZOP2+Xyi8wO0T7Ys
/WRKkFLbqnNQGcflchnxeFxSYuRwcCNnxzo6sEAggJMnT0pvbKZnmPLhfHO5nPTCNplM6OnpESDb
7Xbj8OHDACBcgp6eHmE1kwDHbnbUtCIpjdwPyoUA7Y2cKSOgHR1RM6pUKonsj5qCZWkw583DFnt2
syxYrQ4jL4L2vpbs3rZr19YDUa/FMa9VUx0gUyOqmB8Bf4LzBKDNZrPUvuudqLpRsGgAaEcSlBLn
31mtViQSCRnT6/WiVCqJA/F4PMhms5JmCgQCghdwDDXaYyQ0OTkp6SX2POYzZdMdVmq5XC4kk0lk
MhlhHqvKuKx6ovREo9GA3+8XGYtKpSLNfljNxVQZORiU4yYgTSIf5bMrlQpuuOEGIewVCgVEo1G8
+eabwojev38/3njjDaTTaVgsFuzatQv5fB6JREJA71KpJKXAnZ2d2Lt3r5THulwuDA0NYWpqStJl
fX19ePPNN8UZj42NSbmsSsRT+6xTlRW4kJm/1WzbOWzbtgHiGAAIOYq1+6zsYe8I8hk2a6EaDoc1
GkUul0uwAoKZlAF3OBxSV8+mOV6vVzZ2RhJ0CMBaNAJAqpVYk8/UEfPtjCSYvwfakRPlu4ljEASn
oyHxjCdtpl9qtZoAu6w+5Imb+MbS0pJswul0WoBdh8OB3t5ekQnp6ekRljMrrcrlMpxOp7RwXV5e
hsFgEJIg5bRZpddqteDxeIRgR10kssWJ3fj9fqmAYotSRmz1el00mEwmEzo7O+FyuWQtWNpKleH3
vWT3tr2/TBWGux70nd4uWy+NqaoRs3mQWsHFnP5G5D2bzYZwOAxgDddQx+QGyA0P0ILF5XJZU+VD
sJhpJKb/OCZ5Cmx8RGIf5bjpGFZXV+V07Pf7NaXQlBUhCKuyw1VjiTtTPDxR8zND7TSj0SiVS3Rk
FosFDocDu3btArBGOlQ7rKlkRoLeLpdLg+0wZcV5N5tNdHd3A1grUKBmGcHkQCAgz1CtPGNkpbb9
pBQKnYPaDwTAlo+wt67b27bLNqYC6vW6hoX8fjB1c1eVXoE1CW+edAlUM5+vtqekEUugphPTOPpr
8j3Mf6umlkqqZa2lUkkiDgCaa5DQViwWsbq6qpEn53/j8ThyuRyy2aw4EqZPiFfwdbVaRTgc1jQD
KpfLWFhYQDqdxsLCAlZXV5HL5aSXt8lkQjabRaFQQKFQEL4Ix2QfC86ZziObzSKfzyOZTMLhcCCX
y8nYw8PD4lysVituvPFGVCoVuQbQ7qRH9jOdA9uCJpNJeDwe4aGUy2X4fD7k83mZu91ul7UjPpFI
JJDL5ZDL5UQLSv2ObGVsdBuQ3jYxbhS0jZjGehXWrWJ6MF59TaYtpa/1JEGevtXPLXtIMBLTy3qQ
pc2SSqZQ9P2riTm0Wi0sLS3J6d5kMknfaqY50um0sK4Zdain/nQ6rVF6tVgs6OjokIodnvbpsNil
jZiG3W7H5OSk9Ijg3/h8PhQKBY22FK9BMFkFdskZoTwH5TYKhYLoTFksFmkZ6nK5EIvFkE6npULo
3LlzIgtO+XJiGF6vFxMTE7LGbrcbnZ2dohjLjnCVSgW5XO4C0JuAdK1W0zDSw+GwfCcY1WwD0tu2
5e1SmMZ0INeTtPilmh6MV18bjUYBpEulkojI0YxGo0Z6XO10BkBUPVVrtVrIZDIidxEMBjXra7PZ
kEwmRRiOXcpoTMdQDpu4AV9TNkI1r9crmkWU02YqkRuy2rWNEhE8SdORxeNxcRjhcBjxeFyAXcqI
bASk8zPG9eT72OMhl8thx44dSKVSMBqNKJfLCAQC0s+azyaZTErlVjgcRldXl0QidErJZBL1eh25
XA59fX3SpGhxcVHkzDlvNj4i6N3b24vV1VVpPRoMBhGNRuWZ2Wy2daXZt4ptO4dtEyOBicCjfuPn
aRKAbCZbyTlsZky5cJ0IVDPtxKoWaguRrAWskatU58P1Y9ULFV45BvWEgDa+kUqlEAqFZJP1+XzI
ZDKaXDhPvywzVUtwOU82ySGDmtIgxAdUQTmr1YpcLicHBY4bCoVQKpXg9XpFRZWRCHWROB+mz9SN
vVAoyLx52qcCrMvlkp4YBOddLpfms8fWpYzUVIY1BQfD4TBWV1dRLBYRDAalwoq8oMXFRQG/zWaz
3KfqZNmmlGvB+1RLly+XgHm92LZzuI6NIJy6CV2tXa+KsO/EWuhNf/JX5bTXw2foQC5m+vVmwxx1
bNWYyuD4LP1kf2mz2Swdy/j35XJZSmRtNptIXquy58RYNkoVMhqx2+2iGEsjn0Gt3iGYq/a8UNNb
1WpV1GKDwaBIZzNKAiAcCtUxcXOmtAeBc6bDVMAfWEthMd1FjIj3yXQSwXz9WjBlBqyVKW9VZ6C3
bUD6OjUCY5SWfjfAY/XLf6ny2u+GqTX179RaUF4CgJDTVFOru+gU9P0k9BuvOiadQbFYRLVaFQyA
lUpMK7HjGlt7EqAul8uaZkH8V6lUkEqlUCqVhFGs/p7pL5XboAekgbXPG8tu1XQbN2jiK2p5LaMQ
ddNmRzu2AV1ZWUGxWEQymUQ+n0c8HhcmsjovYiXsL2G32+U+9E4BgAYEp6IsAelisYienh5xFrVa
DT09PYKVUKTQ5/PJNUiCUx3gVnYU24D0dWp68Jhg5rth1xogfalAup7NrLdLYYdfCr8BWFsbtU/1
etdQVV8pEsfOag6HQ8BZjsd8N++DKSYAIvnNDd9qtSKfz8tmSkkUv9+vYV0bDAYhmzHHrwLS3PQJ
elMOg2Nyc2V0woiBz8RkMoncBdB2Di+++KJs/gSn2ZrV6XQiFAqhu7v7gmuoYLzT6ZTqKEZEdCaU
BeFng06TToeRk91uR7FYlGiBxQd0zKoQH4Fvdb23sm2nla5TI8lJff1u2bXiFGhvB5CutgZdT65c
lTO/mKaO+jOWjgJrURfBX6ZGOCZLXdn/2WQyobe3VzNvPcjtcDhkY+W8SRAjbmtY/UoAACAASURB
VES5DeId4XBYw5D2+XxIp9OCbZAApwLS7DFBLSm1vBaApoqKgDRTSXzfmTNnEI/HAbSl+kmSA9rp
I7/fj3PnzolT6+/v11zDarUimUyKc+jo6EAikdDMm9EH0E4nUV6DkhnESdTucZREJzuc/bWBdmsB
Ols+263uEFTbdg7XqanAJU9S71cjQLwReU8PpK/Xo1vfM1pfTkp9Io5Rq9U2jSBUnSVV3whYazhE
azabUmvPjVuV0mCKhJVDwJpzoA4Sf0cnQRCckYK+v7XBYJByW274xWIRLpdLnCOxCzKM17vnUqkk
+XmO2dnZKaS9VqsljgEA4vE4otGoOGQSBTs7O6XfM1M2fA4qKY5OVp03Iy4a+1iT4UwnRzVWFhOo
EQNlxHnvKlMeuH7xuCu1bedwHdv77cN6MbuctdjoxL9ZKlNthbkeWMyUBqth1BaexBd4krXb7etu
tDabTVPVs56pJ1liEbRisahZCzJ8+Y/3QQ4CBecI9LICiBut2q9ajc70pl87dpPbaK0oL8JUFRnQ
xEGAtciLUZc6B71YopoSA9bAY1XyBMAFa8GIjM9fXwjAdBr//1qLmt9J23YO27bljaWcF5O6IOHp
Ypo5PP2vt0kwIlEbMKksZqazmEZqtVrSY4DRn9/vl7QRN32msfj3rEwC1trKqsbe1TxVs/EQ02JU
YlVLW5l2IVZA7GO9ea8H/lKYj2NaLBa5Jte/p6dHGvP09PTA4/GImJ/JZILVapWUGn+m9sa2Wq1S
eMB5WiwW4UgwwuG9ud1uwRc4D5VNXSqVpAqJ86ayLKVFgsGghgVNrab3i20D0lvMNgNdr1fTnxiv
xDY7+enBZJ5UqT7KjZyRgSrZzc1XPV2z7zSw1n+D7yUXQK9JBLRP9mp1EzcvnuhVkFutHKI1Gg1p
ZZpKpQQv4PeKnAE6BqawgLXuZypWQoxGnTfvnRLf/EdHzFM/IwcqtfIarJpiii+dTkvlEK9HjSU6
a6PRKEA6ox7Om0AxQW9KjbDyitLdasqQqSbOmyx2Fazn+DRiTe8HWfv3LHJoNBq4+eabEYvF8IMf
/OC9msaWMW4cqm7/Vvnw6oHdK63K2sxh6sFknn5ZoaOe1CnprYLF6jyp08OTKpnGBDu5GemfmQpQ
s+saHQ5Pz7wGsRbV2A2t0WjAarXKSZfv8/l8Ggdmt9uxtLQkp/RAIKAR9wParGr2umbKhaA3U1Fq
YySHwyG9sDkm50tbXV0VBVmS8ZLJpHyO/X4/pqenBZwfGhpCLpeTyMHv918ASGezWYlO/H4/QqGQ
SHQ7nU4MDw9jYWFB5k2tpWaziXq9DqfTKYcAKtGqxQ507Krs+tvRu/1atffMOXz1q18VTfZtu3pb
DzDVV9xcj7YesLte57a328i05TVZRcONhZU7nGOlUpGNk5Eb36+Sx5jjt9vtmg1YzfPzNYFeWqVS
uQBv0EdD2WxWIgueynlqt1qt0lOCmAOjIFVoMBAICKuZdf0EpFn6yXsnCU9li3OjvRjmwNM674Ub
PudcLBbhcDikAiqTyQibmTiK6qzK5bL0duDaraysiBM2mUzS+1otZVXZ4yzZpREEV6M/fREBnddW
tPfEOczNzeHpp5/Gl770Jfzpn/7pezGFbbuGjPXuKvv33TZiBgDW3cz0P1+vZ7Q6fxUoVauD+Job
MSMDtccyjdEJ5+V2u1Gv1zWpk/XmrbLFmQZSTSVvVatVcRCcr3oiZgqFTo6AezqdFp0l9pdWeQ0q
tsO/16fY1EZIBoNBnJaqAMt5cn5MKTG6oWQJK5xUh8t2p1RgJRObDoNjUD6DsiOcl8fjQaPRkNdb
JRK/VHtP7vY3fuM38Ed/9Efvu8V+J02VQ7gU2YZrxZhn5saznvS1umm+U1EDc/nMg7MxD9DepPTp
A1V7ymBoN6FRT8KMFDgm38vTJjdZ5sCZBtIz0Alq12o1FItFZDIZYfmyv7Q6b0YmdA6bAaj6dqck
t3FOTKOQLV0qlVCv11EqlYT4xuurJ2n1dE/gWGVtEyxnEQClsmu1GvL5PPx+v0S+NptN5Do4NzLU
ebBotVqIxWLyWQmFQnA6nSIASPlyOiqWPReLRQ0jnM6YToNqvGx9qqbytnrPk3c9cnjqqacQDodx
44034vnnn9/wfY899pj8/8GDB3Hw4MF3fG7Xu1Ey+noCo/WFB+uVS27EeL5cI2aw3qFEnQfBRnYT
2+gQY7PZNOvNzZ0nW7UsleM6HA75G5LpuKEybcPfU4WUVUaci1rqqoofcsPr7u4WYFcPduut2Wwi
EAiIM+OJmn/DpjiqeB4rfQgW12o1wWSY6nK5XAIsq9EHAEnnRCIRSdexBJfXajab6OvrE4n0ZrMJ
r9cra8B2pewWx+dFiQy3240333wTAwMD4jTZ+Y1jMPLhevN+OGdGsyqQ3lIaG21VqW7au353hw4d
wve//308/fTT4pl/8Rd/Ed/61rc071Odw7Zdul1PjgG4MFR/p05iqsTGehr8euBRZfdezNT1Vq+h
BzNVBVJV1K1YLGoAaXVMKqIyVdLZ2Smna6ANcjPXr/4dwWFVXXUjI/mL6Rnm9VWGtNPplFRWpVJB
IBDQSHZTTpv3QbxBrZpihMj7IueDRsY0HQz7TjP9RJVXPg+bzYbV1VXBg4iFMAVEwp5KvqPwH8dw
OBzCOwEgjZH42m63S7Mf/r3P55Nr8Lpb1d7TUtYXXngBf/zHf3xBtdJ2Kev7y5hu2Ai8vFrTp6uY
BtIbN6/1RPI2M6ZL1GtwU1THVCU6mDPn6Z6ndxrF9Th3p9MpmyLQ3siJQ/AaTP8wimCXtY2sWq0i
m83KGEajUZoFcUxKlXPDdTgcch2ytJlSUpnZdFoWi0VTWMC1YIUUNaCYwqGmkerYCKar0Z/qDJhC
0j83Sm54vV5p1EMHxFJZYg68D45ps9kwOzurwUYI1tPUVqVbzd7zuOh6O+lu29tvm+Vu1fJBNS9/
pbYZ83gj46lyPeB8I9a1fkz9a70zpCorS3ZVxi6jDZK3GIksLy+L9LWe4UugV5038/TcZLmxq2xh
5uVJalPHVKMqRgv6Z8j8PZ0Fq5qANtDLNA7nxb/le0lKpMNRpTOANa2rXC4nYL5ebwxoR1uqZbNZ
qdxiVzj2jIhGo3KQ4H3r72urOoL17D11DnfddRfuuuuu93IK23YdmMpSrVQql81S1TOkrwSsZ99g
YI1oqJepoAzE/9/euQZHeZVx/L+72YRc2IRwC5LaKsM1aQgXy9CbMAxSLFItXoC2MsUPKrYj/YC1
o51mxgtUaR06HUc/WAap2imD9VZLZaalyKjU0lha1IIayqVQoSFArrvZPX6I/5PnPfvuNXvL7vnN
MO1md9/3ec/77nnOea7JnoMJZ9KOztW0mS/h9Q6VxmaYMs/PXAAAOH/+PD74wQ/qDGyu4KXcZhkM
hoMy05irfMrFyrBXr1511FaiwolEItrkw/EtKyvTxf08Ho/DGQ1A92yQzmj6LmjLr6io0CYfyiVR
SuHq1av6vnR1dWHKlCk6N6Wqqkqb5Sg3HdOUv6+vT7+mMqNfg+PF8ef/M7SV41bMyiLvO4dSgTZg
2p7diOcwzdQ5Rhtm7Hms8hWJYMnmeONrltc25ZC4mT3d6vvHOyb9DLxn0gbPcwYCgahQVMrPNqFy
jNipjXASp7PVdLCzKJ0s1icDAOhUZtgs8wWk3KyLRKVJJ7Pp2OXYUBHSoc8Vf0NDg96tKKV0wp7b
/eIx5UJBhu3yXLLuFP0kcrzpF6Gs8j6HQiHdv1qOfamU0LDKIQdwCxwve9l0ZqYanWOeo1j6O8v6
P3ydqmKQ2eOAu0NaZh67Zb5yIpavE8EVMz9vOocZfsp7ZiZZue0+5DHLysrg9/u1w9TsN8Brl9nM
9fX1Dp+e3+/XdnlgyOmqlNI7GPpB+D7vh3RA04ktS4vI8ayurtbhogB0rgGVIXMMrly5opVFdXW1
dqzzHBI+3xyL8vJy3fSIx6yrq3N8p6KiApcuXdLHrKurw/Hjx7VyaGxsdDxr/J3KZ6+Uwu+tcsgB
3IYCwxm/8ofP1Z/8fKrKgbHe8hzFoByA4d7NQHqVaOXYAM7sXCKT2mgukRMBnaimjTwW0iFLGcxj
mlntMkvYrUwIfQPy+5MnT9aO77q6uijFyWdJ1lJiwT9ej/RpyOJ5/Ft/f78jT8Pj8WDs2LGO3QjP
y6S8QCCgzWF09PIYzFHg+ZkEx90HQ0ZlRrobDQ0Njn7aFy9edIwN5SMVFRUYP3689jlEIhFMmjQJ
PT09ur1qXV2dQ26OIRA7ObJYKa2rzROp1PRJ5vOZQjp6Y/UsLgRM+z5t4kBycruNL80JwHD8Oo8Z
SwElcpxzQuIxzKi7ZO5rvOtxuw6ugOOdwzQ9yRUw/QK8Zv7d9KdwV8oKqvFaZEolI8dAOpMpJxUW
lS9NSl7vcM+GeGZE7sak8pPXfenSJW06Yze6gYEBVFRUYNy4cVFtZaUy4rH4viz+R59Dof5mMkHx
XlkBwZVbrEgXrtRkQbV0z5FKGQrp6GWExmjYNsvqp8nI7fP5HM5iJltJJzd9GUB6dfuloqVc0hzj
ltktHdJu5TNMaC40jykVvDkOPGYsxy5XzDTH0HzDFTlXz2b0EiONaC6juYvvc3zlmJrjy9e8l/QH
yF2IfE/CHYq8h7KwIZsgsTAfQ3bpsGYBP1aT5S5G3kMuFuRvxHw9Wn4z6WBLdpcwtCuT0RKzTVs0
SVVuGctOTIWQ6jHNPAdg2HySaeI5uU1YCoKx/fRT0HTFla8MFTYxx5vhxFQOcmLlDkD6RmQCIOU2
x9vtNRUAo5ekz8btHrJQH2U8e/asoy2rWcgQgM5Qp1IbN26cowy4+XlTTjf/VbFQnFdlSQrp0BtJ
lFSuYfISkJ7cppObk6yczFJVkqYJJVtKNpGT24Q+A05q1dXV2kENDGdEy9BZ0/lrjjflkDkOsrlP
dXW1Q05O2nLHU1lZ6Tgmd3Z87fF4dDMgOtIlbvewp6fH4ZCWCYPMumaPaQCYMGGCNjtxLN577z2t
KAOBgC63Ic8p5RwNi6l0scqhhKGjl/bT0RL+ypXrSOTmtXNiAuAYi1SRGdHymJnEdEjL5kOxYC0g
ro7ZM5pcuXLFoVxZqkJijrc05zCySR5T9sKmbNKsxt2LeQ9lQ6He3t6oMuAm5j2U5f/ZD2PChAk6
vJfZ3LxG+pDYq5uTvww+MLPcAYz42RstWOVQRHR3d+tteCAQSOo7o3VLPFK53bKXUz0mnZn08bgd
c6QwyYv+BjNbnI509f/qp27XIO3iZhSVueviapzn4KTOnQHbcUp8Ph8uXLigJ9kJEyZo5zx3drI0
ilQS5nG4EqdCkO1M5Viw/4Q53twl+f1+/RlZdZYlRwDoqEGa0mSWOAkGg44+4MVsRjIZHXYES0L6
+/t1rgS7mFmyByc/TrZmqfFMwIgqOmal41w6YukslkXjiExG8/l8CAQCuhQF23dWVVXpCbimpkYf
k88Say9FIhFdKJBmNB6b1y8L7AHDIbpUMpysE624ubPgd1iXSo6F23eA4eRCafJx82HS50IFVlNT
g9raWq2kJk6c6CjuJ01npUBpqMASwNx2l9JDnC5chcayG9NsI5vzELfomVjnAIZXyeYxOQnL0tay
Z7REfk7a3Kkc2AXNROY5AEM+ATpbvV6v7gHBiCnWF+JOQe40eK0y2Y5mGtlRTSZy0uxDf4D08cQa
C6WUY/cba7zl7sTv96O2ttYxFlJOKhaOBRWkDKUNBAKorq7WCkn+juRYx3ouigmrHIoENkbnwzxa
mv3kC5mR7ubYlQ5U+hPkREAnbTwHtHTKDg4ORjkzWU+Irxn6KrOXzWzmzs5OvUqnDZ2raCa4Sdyy
sM1zvP/++45uc+Fw2BECGggEtGnFLUy6oqJCR0QBQwlppnOeZicAjn4QPCZ9GXJs5DF4Dr6mspH3
UFbfjUQiqK6udowv74kcC9Ze4rXzuzwH+3bzNUuRxHouigkbylpEcPubbJ5DqRIrDFL+yN3CN01b
M1f5brsPpZSeDOXfEoVvmgqITln+JljQDoCjzDQ/P2bMGIcssowFr136GQYGBhyOXBbSk+eoq6vT
q2a3qrihUAg9PT26xSfLbVPucDiM8+fPO75TX1/vOI557bLKKlf5crwZheV2P+TYyFW+mfBmjo3H
E13KXeaAjBkzJqnnolgozqsqUYo9YzNTcMLiipCOS/MzibKb40UlcQLjMczX/JtMgmMhOvMYPAcn
aNkTggXzYskpz+H1eqN2SKb8tPXLyBz5GhhOQDNLiUgzizk2MmzabZdlmtHoBGcJjEAgoGsneb1e
Xb6DY0Efg7x+M8zZ4/HgypUr+pis+SRlZI8InkOWXpFKOtZ4FxPWIW2xuMCia5zk0olnp+OVTlh5
TK6MJYw24k7EjMTh92IdM5leF25O2Pr6er1LmThxImpqarRSoLNaIvs2yzIksfD5fPoc/H8el9dE
JznHm32b6RTv7OzUIbODg4O62KCESj6W05s7B8rNnRaVH1uJSqe3zPRm1nu8e1hMWLNSAWM6MxPB
lWWxJ+eMlFhmJWmSyBbSCWuaORJV403GHGZimk7c/CumOQaI70hn1jV3DpyQiVtV21Tp7u52XKtb
AT7Tv8LaSQB0vSkqmPLych3qTcyEv2Aw6FA6Sg31wpZmJSqTUiDnNoj+/n589KMf1Vr5jjvuwNat
W3MtRsFjOjMT/dhkqCNQ3LbQkeKWXSsn6mz1BpYTNVfIMkM9kUJ3kzuRWYPmHNr03Z4JWauK8six
YGMeyint/dx9SPNLJp47GWDBc8hkO+485FicPXtWlwHv6urCpEmTHI70qqoqR/c58x7zN8N7xB7T
0jmfrZIohUhedg69vb36Rt18883Yvn07br755mGhSnzn4ObMTLRiSWaFaHEiQ1lzUWcqmRpFqcqd
DGb4psSsCeWWcR2r7pEsJMnezJksRCfLbjNSiMXuGHDBsVBK4d///rfj+2PHjnUEZtTU1OjJP5Z/
Tp6jrKwMnZ2dUc75Ull05eUqqX25WjPrppQ6sZyZ8WBZZZqVZPcqiztmr2U53slMcHx+ZcauRDq9
3Up4cyJNpPS5imf3NVlczi1KyiyvHe8cpswyk5rvu8nN5Db5GTmesq2qW3MrmcjGchom3I1w98LQ
YSo7t7GQTm8ZyUW5TaVg3kNzR+HmnC8V8nKlkUgEra2tmDx5MpYuXYo5c+bkQ4yCRv6ok8kolau7
ZJSJxYnpLE40fjJD2iz1DDhLSis11PeZ95TnSDTRhMNhfQ5O+nSY8vgmNMVwUnWrSSSRzxejmTgW
fE86i1k0jzsdt4ldZnZTbhOZ7U3/hUQ6velrkePt5ixubGzUO74JEyboVT5NSmZ4d6J7CAzvNsrK
yrSjvlTIy87B6/Xib3/7Gy5fvowVK1bgwIEDWLJkieMzbW1t+v+XLFkS9f5ogw1XzNDDWCRqLGMe
UynlePiTzdi1DJGqE9UtY5cTMk0+8jP8/1TPwYmRE7ebecf8m/lcJMLNxGLKab42TZayl0iyyEKH
buMpj0nlJM/HY1BJjRkzBo2NjfqYHs9QLSXuooDo34x5TnkPmQRXqjlDeZ0hamtrcfvtt+O1116L
qxxGO9KuGwqFMmLPltmgg4ODDrNFLMejzCjNltO1VKDtWmYByz7VVO7SzJHqqtPj8eDy5csOpzVb
fPKYbv4BPmvsgJZt3IIhpLPY7VmUJje3zG7mZ/B5Zm9reY6enh6Hg1+a4BiqSrMT/Qx8zZ2cmckt
72E4HC5pv13OlcPFixe1Y6evrw/79+/HI488kmsxcoq5teeDOxJkCCRXWbJxiZuN16wT4+Z8tCQH
SyfIOkhyJRoOh6Mm8lThBCa7oTHzONYxKRd9AlwlZxOzRzcXHomS3jjxylLdhHWRZLtR+lz4zEqf
C0uT8D3mQ0gfSjAYjNp90C9BJWHew1Im58rh3Llz2LBhg56s7rnnHixbtizXYuQUr9freNAyMSG7
ORLTydjNNVzZyqzgbCDbVro5izOBmb1svgfEVwqJxoIrXbPPszymXIHL5DaSjo1cVvUdM2ZMwvDN
WE7teNduyuWW2S1LorMmlCxfLiO2+HmWAmHPaEaIsfkP+1kwA9o8RzyZSg2bBJcjZMx2pmyY3HYn
e0yZzZpMNm02MENuEyV+pYMsmgcMF1DLNtIBnMz4ylwWIHoswuEwLl++rH0OgUAgaqJ2a5lKc1cy
fand6OzsdCg7sw6SG3Qgc4WfCOmwd/N5sF6TLPthRkzJHt3l5eXo7OzU+Rd+v1+Hy8uxkL9D85g0
BaZyD4sZ65XMEdmYnFJddSfj5M42bk7A0XgOYNgJyx1EJmpbSScsJ04Z5WTidm0j2Y2Z5kf+LdEk
6fF4dOnrZHBTInIi53+5E5LmJGA4Oo+yUj6+lju3VI4ZS1EBwzuzUsEqB0tOYTJTPMd5Js6RKCt4
pJhOWKVUyqt0cyxk5jHfZ/E5wL1qqMzolUXw0oVRW5QjmUx71jqS2cupZhLL3R59BbLUuOmQ9vv9
jl7YrMXE5NHBwUGdVQ0MO+dlP21ZWC+ZII5wOFxSQRzWrGTJOTK7NlsrsWyfwzRdpVtPSMopE8fk
OeTuxC1hlAomk7tC2Yo0Eb29vY4McwacpIKchIHhHRHHhj4DjkUkEkFXV5f+vIzCo9wsjCd3DvKY
NONxB2HujtKpVFBM2J2DJSVoJ5cZpamSi8KA2T5HIodqskg5zWP6/X4drhlvB5TpyYq9m7miTrQj
YnY+n4tUFQOPIZUDd1FyIpfnYLmOgYEBR4a6LBDo9/tx7tw5HZU0adIkh0Oa4d+xnhO3IA65Y8yV
LytfWOVgSRpOGsCwQ7GUttkSTj70D2RikmAyGI/JEhAyCS4XyI5roVAooa2dkVbBYDDtCZPfkSGt
3JkxTJXw2eNOwuv1anMbk9wqKirQ3d2tdwTsbkdFmqxC5XVRRmlKZFmPfPvxsoVVDpa4hMPhjORl
FCPpRFrJRj1uE5Q8JvMFqIC5ipVZ7pk2mZmx/vybeR5WN+VzUVFRoUtVpGsSlkqFvRM4Fm6Z4H6/
X9cQc+s73dvbG1U1QDYmApz5EG47s0yUHx+tlIbxzJIWg4ODGBgY0P9l2CwQvwuaxR3WRgqFQo4V
aCw42RK/34/+/n7HMTKNeV/dlBiz8/lcsC6R7Mw2UqTioyNeysGe0vzHKgFSbqkoysvLUVVVpeWk
s5vPN3tUJCMXyUQAQCFjHdKWmMQqAy6zVi3Jk27/YdrZAaTc7CdZzJW5GSIqoe2f3zEdvTSHJZOB
Hy9M1i2oQGY99/f367GhaYk7H07afIarqqq0IpDnlPIlu0vIRgBAIWKXfpaYpJP5aomNW+nrZOB4
m5NxprLcOYFK5zP9Dm6mM4/HoxWdnJSlY10ekyVAuDL3+/1QSqG7u1s7i2VHNnke+axJh7RbhrQ5
HswZ4XepZKScZknvZCiVaCW7c7DEhaGU6WbbWoahIxVA2n2pzUl2pBOV2XqUk6v8/ZnhmwMDAzrq
x+fz6ZwG6UhPZPIyd1GBQCCuI1sWmgSGM6Rl6KqpKM3w2PLycu3w5/PMrPZMVi4oFuzOoYihsy2Z
cMRYcMs+2kxIdKTHcjS6IVfL2arFNNKIo3SilqQpxRwLcxFmZg3HwnT0Mq8AGI4Yks+eUsqh1JKB
iW2yE5zcjZiRQlR0ssor7yk/Z+6EMpHVXqzYUSlS6GyT9uB0JhWzAcpo+CGZrS+BxHK7ZcKONoXo
RqJ7aJYW5+qaK3I3hzQTx2LlQTChj8dkFrfM5K6srNSJc27hr/39/br4HzCUdS0TAt0UzJUrV/Q5
GOoqmyWVijkoUxT+L92SFmYZZbNeTjKY3wmHw6NGOZiv48lNx6f5ejT7VszaQ8RtLFgKG4j2K8Uq
t81y2rH6MJvltaUJzOfzobKyUpfLdjuGWea+v7/fUV7bNH9JhUYZGAosy5fL/yaL9PGUEoX/S7ek
BU1BfLDTWTWZ3xktK69U5ZaF2OTr0YjM4HULtYx1XfLvcrfhtqpn6QpO7IFAwPF9Tt4y4YwmImDY
PxBvnE2FQRnMY0rTlVlnirsgOamz4qyb3G7IMinZqCBcyFjlUKTwxzESnwMzdmW5gdFAOnIzbj6b
PodcwPh9AHoSpBko2bGQZih2UJOTKKOM+H5/f7+j0J757HHSllFCicJcuUvg+dk4SR6TjnT6MwKB
gDZFVVVVoaysTI8Hu7xJuXt7e12jpIj0kwDJZYsXE1Y5FDGJUvvlw29OAMQtRHA0kKoio5Mz21AB
xRpvEzrW01XwqVaLTTZKUDq53UyW8rnhDiFVn5dbZddYzyKVDfMUOLbynqZjWnUj1Xs4Wsn5lZ0+
fRpLly5FU1MTmpub8cQTT+RaBMv/YVKQzICWyExYMyHOkjrMkJaZxfEwM4+TyYiWu550dnumEnKb
AGUI6ODgYJRSlZnHoVBIRxzJY6a62DDHQu5EKFOi57mqqsphlkqmw50pNzOpY52jmMh5nsP58+dx
/vx5tLa2oru7GwsWLMCvfvUrzJ49e1gom+eQNqk422SZZWDItCJ/cLEypHNBoToBU3VmSpLNkOY5
zEgjt34ObmTCoR4vC5hKjmYr0y9hRotR7nhZ1/K8bu/Lkhc8Bo/JZ0SOr1k1WD5HNFWRRCYuKXe6
We6jkZxfVUNDAxoaGgAANTU1mD17Nt59912HcrCkDldr/LEkU047kRM2Xw5pszRzIfz4lFKORjHp
hLqyOijgPt7mPeQuIJWgAvaUpkM6naJx0gnr5pD2er36n5tcZqnrZCqhmo50U26v16t9BlJJymNK
peT3+1FeXq7vmTymfJ7kMWP9ZuTfEt3DYiKvV3by5Em0t7dj0aJF+RSjKKANGIh2pMWClTS5IzAn
O04MzCbNhUOaNnYg+evIBbKMdbpyyfF2609s3sNwOKzHn81uUpGTDt1U+SohbAAAEA9JREFUMK9N
ykT4LPA6TOVNhzTlTsaXYzrSzfGNRCL6nLEq2jLJj58xj2mOBXc/vG4zH8SNRPewmMjbkqy7uxuf
/vSnsWPHDteIgba2Nv3/S5YswZIlS3In3CiF/RaSrRaZjBPWZpBmF05Qse5XskEFqTqeR4p5Lvns
JSOHlDvZ58stI5oTPndZ5vNMBZHJZ7hUymzkpbZSKBTCqlWrsHLlSmzevDlaKOtzSJlQKISrV6/q
LXJNTU3O/AOZpljNSrwuYNgkIRP2GP6ZimlQhmdyvDjpZsusZGL6GBiqyt+wm6/KlLu8vDyhOUya
gOR18pw+n88h9+DgoKNAYF1dXdR4JmNWKlVyrhyUUtiwYQPGjx+PH/zgB+5CWeWQMnQec/LKpPM4
kRPWzFo1Sad8QTYc0onkTPYYqVxHPGemeSxOxKmMd6yggmTKZccjlfE3+2mb53ZzpKcrtzTtyYnd
PAcrx1LZ0gdBpSEXHLYEvTs5Vw6HDh3CrbfeipaWFn0ztm7dittuu21YKKscUsZcvWXCR2Cult1W
VnI17HbOTDhIM4GcSGgPzzYy2ku2AAWGy1FLO7gZLZbomGxTKlfg+agJZT57ZWVljvItbgsVcxeV
qtxKKVy+fFmPRUVFBcaOHev4THd3t87k9vv9GD9+vE7g83q9qK2t1Wa9XD4XowVbsruIkCaJTNif
zVBW08RglnsGohOXCiH0L92Q0JGglEJfX5/jb6xHJBOopAko0bi4jfeYMWMcCihfZhEzWS+ZisAj
SSaLRCLo7e11KEq2DCVdXV36+fP5fFHRRabSyufipRDJvzHXkjGSmVy4/Xerfz9SRsu2PF9yuk2U
qSpxt3sYywnLaKFMIB27tO3LkhymsziZ/gipXjud3jI5TZq/IpGIo3yG2zmk3CypEQwG4fV6HW1F
LVY5lAxmCe/+/v6Eq2euAGPtRrjajbdClI7GTE5WqUAzx0jKUKSKdJoCzszlkRxThvrK9qFE7vb4
/khNJdIExEY5pgzZvq/MkJav5T2NRCKOkt1sDdrb24tIJILy8nJUVFTgwoULjueZZiePx4NgMGh3
DgKrHEoEGT0iX5uTi3Qe089g9vGVyCYvbu+zPHOqDtJMOI8lFRUVI3bSpoqMtMrEeRmuKo9pXpOZ
k5CJ0uPmMbkYiPV+NnArPW52wguFQlouPrPjxo3TpcUHBgb0a+5+ZK/rXFzHaMIqhxLBrYS3OWGZ
zmO/369fxwv1S2biS2VylGGOmfRR5MOclMlzmvfM7R6aWe+ZcLBKxzmPKUNwc+HENZ/fsrIyHY0E
DCl/2TaUn2dABVuBygCLyspKh6IrhJDpQsI6pEsIJh7RDGBOLGbPXXNVmmy260iIVZfHMkSiewg4
W2NmauI2nccMfsjkORIhndw+nw99fX2OsaisrHS0CQ0Gg1HPM6O7pPOZhQGtScmJVZUlRDIZ0ebn
TcyG7MFgUEfQ1NTU2CSiLJPMPcyGT8U8Zi5W2WwLymdNOrnpmOezN3bs2ISVVt18I+Xl5VFFA7n7
yEbQxmjC/pItGvljoK9AFk1j9y2u4Pr6+tDd3a27fF25cmXEMkindarKzFI8sDQ3nzW3WlaMNAqF
Qujp6Yl6P9HzbCo8Or3p6E6mRHoxY3cOFg3LIEtzknTYmT9Qc9ueqX4PdHKX8qqt1HFzrJuvGVZr
OqFJoufZxAzaKHUHtd05WKIwfzhy9SXfMx3UmTQ1WMVQ2ph+DPM1fR/SmRzLpBnreTYxHfylni1t
HdKWlGB8Oe23Mms3UWctiyUVaN6JlT2ejWePkU1Adnw3owmrHCwWi8UShTUrWSwWiyUKqxwsFovF
EoVVDhaLxWKJwioHi8VisUSRF+WwceNGTJ48Gddff30+Tm+xWCyWBORFOdx7773Yt29fPk6dUQ4c
OJBvEZLCypk5RoOMgJUz05SinHlRDrfccgvGjRuXj1NnlFJ8YLLJaJBzNMgIWDkzTSnKaX0OFovF
YonCKgeLxWKxRKPyREdHh2pubnZ9b9q0aQqA/Wf/2X/2n/2Xwr8NGzZkbI4uyKqs//rXv/ItgsVi
sZQ0eTErrVu3DjfeeCOOHz+Oa665Bjt37syHGBaLxWKJQUEW3rNYLBZLfsnJzsEt6e2NN97A4sWL
0dLSgtWrV+Pq1auO75w6dQo1NTV47LHH9N+OHDmC66+/HtOnT8dXv/rVvMp58uRJVFZWYt68eZg3
bx42bdpUkHICwNGjR7F48WI0NzejpaUFwWCw4OT82c9+psdy3rx58Pl8OHr0aMHJ2d/fj3Xr1qGl
pQVz5szBtm3b9HcKSc5gMIh7770XLS0taG1txSuvvJITOU+fPo2lS5eiqakJzc3NeOKJJwAAnZ2d
WL58OWbMmIGPfexj6Orq0t/ZunUrpk+fjlmzZuEPf/hDQcrZ2dmJpUuXYuzYsbj//vsdxyokOffv
34+FCxeipaUFCxcuxMsvv5y+nBnzXsTh4MGD6vXXX3c4oBcuXKgOHjyolFLqqaeeUg8//LDjO2vW
rFGf/exn1fbt2/XfPvKRj6jDhw8rpZRauXKleuGFF/ImZzyHeiHJGQqFVEtLizp69KhSSqnOzk4V
DocLTk7Jm2++qaZNm6ZfF5KcO3fuVGvXrlVKKdXb26uuu+469c477xScnE8++aTauHGjUkqp//73
v2rBggX6O9mU89y5c6q9vV0ppdTVq1fVjBkz1N///ne1ZcsW9eijjyqllNq2bZt68MEHlVJKHTt2
TM2dO1cFg0HV0dGhpk2bpiKRSMHJ2dPTow4dOqR+9KMfqfvuu89xrEKSs729XZ07d04ppdRbb72l
pk6dmracOYtWMifT2tpa/f+nTp1Sc+bM0a+fe+45tWXLFtXW1qaVw7vvvqtmzZqlP/OLX/xCffGL
X8ybnLGUQ6HJ+fzzz6u777674OWUPPTQQ+qb3/xmQcq5b98+9YlPfEINDg6qCxcuqBkzZqhLly4V
nJxf+cpX1O7du/V7y5YtU6+++mrO5CR33HGH2r9/v5o5c6Y6f/68Umpowps5c6ZSSqnvfve7atu2
bfrzK1asUH/+858LTk6yc+dOh3IoVDmVUioSiaj6+noVDAbTkjNveQ5NTU349a9/DQDYs2cPTp8+
DQDo7u7G9773PbS1tTk+f/bsWTQ2NurXU6dOxdmzZ/MmJwB0dHRg3rx5WLJkCQ4dOlSQch4/fhwe
jwe33XYbFixYgO9///sFKafk2Wefxbp16wpSzhUrViAQCGDKlCm47rrrsGXLFtTV1RWcnHPnzsVv
fvMbhMNhdHR04MiRIzhz5kxO5Tx58iTa29uxaNEivPfee5g8eTIAYPLkyXjvvfcAAO+++65DnsbG
Rpw9ezbq7/mWk5gtRgttPCV79+7FggUL4Pf705Izb8rhqaeewg9/+EMsXLgQ3d3dKC8vBwC0tbXh
gQceQFVVVUF0g4sl5wc+8AGcPn0a7e3tePzxx7F+/foov0khyDk4OIhDhw7h5z//OQ4dOoTnnnsO
L730Ut56NMeSkxw+fBhVVVWYM2dOXuQjseR8+umn0dfXh3PnzqGjowPbt29HR0dHwcm5ceNGNDY2
YuHChXjggQdw4403RvUAzybd3d1Ys2YNduzYgbFjxzre83g8BdMjvFjlPHbsGL7+9a/jxz/+cdrn
zFuew8yZM/Hiiy8CGFrd/v73vwcAvPrqq9i7dy++9rWvoaurC16vF5WVlbjzzjtx5swZ/f0zZ85g
6tSpOZfz+eefBwCUl5frH+L8+fMxbdo0nDhxAlOnTi0oOa+55hrceuutqK+vBwB8/OMfx+uvv467
7767oOQkzzzzDNavX69fF8p48vn805/+hE996lPw+XyYOHEibrrpJhw5cgQ333xzQcjJ8fT5fHj8
8cf152666SbMmDEDtbW1WZczFAphzZo1uOeee/DJT34SwNDq9vz582hoaMC5c+cwadIkAEP3V+4e
z5w5g8bGxpzc91TkjEUhynnmzBnceeed2L17Nz70oQ+lLWfedg4XLlwAMNQk/Nvf/ja+9KUvAQAO
HjyIjo4OdHR0YPPmzfjGN76BTZs2oaGhAYFAAIcPH4ZSCrt379YDlUs5v/zlLwMALl68iHA4DAD4
z3/+gxMnTuDDH/4wpkyZUlByrlixAm+++Sb6+vowODiIV155BU1NTQU3nvzbnj17sHbtWv23QhlP
Pp+zZs3CSy+9BADo6enBX/7yF8yaNavgxrOvrw89PT0AhiJY/H4/Zs2alfXxVErhC1/4AubMmYPN
mzfrv69evRq7du0CAOzatUufc/Xq1XjmmWcQDAbR0dGBEydO4IYbbsj6eKYqp/yepNDGs6urC7ff
fjseffRRLF68eGRyjtRBkgxr165VU6ZMUX6/XzU2Nqqf/OQnaseOHWrGjBlqxowZ6qGHHnL9Xltb
m3rsscf069dee001NzeradOmqfvvvz+vcu7du1c1NTWp1tZWNX/+fPW73/2uIOVUSqmnn35aNTU1
qebmZh3VUIhyvvzyy2rx4sVRxykkOfv7+9Vdd92lmpub1Zw5cxzRdIUkZ0dHh5o5c6aaPXu2Wr58
uTp16lRO5PzjH/+oPB6Pmjt3rmptbVWtra3qhRdeUO+//75atmyZmj59ulq+fLm6dOmS/s53vvMd
NW3aNDVz5ky1b9++gpXz2muvVfX19aqmpkY1Njaqf/zjHwUn57e+9S1VXV2tP9va2qouXLiQlpw2
Cc5isVgsUdiqrBaLxWKJwioHi8VisURhlYPFYrFYorDKwWKxWCxRWOVgsVgsliiscrBYLBZLFFY5
WCwYSja65ZZbsG/fPv23PXv2YOXKlXmUymLJHzbPwWL5P8eOHcNnPvMZtLe3IxQKYf78+XjxxRd1
CYJUGBwcRFlZQXbhtViSwioHi0Xw4IMPoqqqCj09PaipqcE777yDt956C6FQCG1tbVi9ejVOnjyJ
z3/+87o8xZNPPonFixfjwIEDePjhh1FfX49//vOfePvtt/N8NRZL+ljlYLEIent7MX/+fJSXl2PV
qlVoamrCXXfdha6uLixatAjt7e3weDzwer2oqKjAiRMnsH79evz1r3/FgQMHsGrVKhw7dgzXXntt
vi/FYhkRdt9rsQiqqqrwuc99DjU1NXj22Wfx29/+Ftu3bwcADAwM4PTp02hoaMB9992HN954Az6f
DydOnNDfv+GGG6xisBQFVjlYLAZerxderxdKKfzyl7/E9OnTHe+3tbVhypQp2L17N8LhMMaMGaPf
q66uzrW4FktWsNFKFksMVqxYoRu6A0B7ezsA4MqVK2hoaAAA/PSnP9Wl2y2WYsIqB4vFBY/Hg4cf
fhihUAgtLS1obm7GI488AgDYtGkTdu3ahdbWVrz99tuoqalxfM9iKQasQ9pisVgsUdidg8VisVii
sMrBYrFYLFFY5WCxWCyWKKxysFgsFksUVjlYLBaLJQqrHCwWi8UShVUOFovFYonCKgeLxWKxRPE/
MI6Qxz1FkwcAAAAASUVORK5CYII=
">

</div>
</div>

</div>
</div>

</div>
<div class="text_cell_render border-box-sizing rendered_html">
<p>We can go one further, and compute the scatter in each year as well</p>
</div>
<div class="cell border-box-sizing code_cell vbox">
<div class="input hbox">
<div class="prompt input_prompt">
In&nbsp;[81]:
</div>
<div class="input_area box-flex1">
<div class="highlight"><pre><span class="n">grouped_scores</span> <span class="o">=</span> <span class="n">data</span><span class="o">.</span><span class="n">groupby</span><span class="p">(</span><span class="n">decade</span><span class="p">)</span><span class="o">.</span><span class="n">score</span>

<span class="n">mean</span> <span class="o">=</span> <span class="n">grouped_scores</span><span class="o">.</span><span class="n">mean</span><span class="p">()</span>
<span class="n">std</span> <span class="o">=</span> <span class="n">grouped_scores</span><span class="o">.</span><span class="n">std</span><span class="p">()</span>

<span class="n">plt</span><span class="o">.</span><span class="n">plot</span><span class="p">(</span><span class="n">decade_mean</span><span class="o">.</span><span class="n">index</span><span class="p">,</span> <span class="n">decade_mean</span><span class="o">.</span><span class="n">values</span><span class="p">,</span> <span class="s">&#39;o-&#39;</span><span class="p">,</span>
        <span class="n">color</span><span class="o">=</span><span class="s">&#39;r&#39;</span><span class="p">,</span> <span class="n">lw</span><span class="o">=</span><span class="mi">3</span><span class="p">,</span> <span class="n">label</span><span class="o">=</span><span class="s">&#39;Decade Average&#39;</span><span class="p">)</span>
<span class="n">plt</span><span class="o">.</span><span class="n">fill_between</span><span class="p">(</span><span class="n">decade_mean</span><span class="o">.</span><span class="n">index</span><span class="p">,</span> <span class="p">(</span><span class="n">decade_mean</span> <span class="o">+</span> <span class="n">std</span><span class="p">)</span><span class="o">.</span><span class="n">values</span><span class="p">,</span>
                 <span class="p">(</span><span class="n">decade_mean</span> <span class="o">-</span> <span class="n">std</span><span class="p">)</span><span class="o">.</span><span class="n">values</span><span class="p">,</span> <span class="n">color</span><span class="o">=</span><span class="s">&#39;r&#39;</span><span class="p">,</span> <span class="n">alpha</span><span class="o">=.</span><span class="mi">2</span><span class="p">)</span>
<span class="n">plt</span><span class="o">.</span><span class="n">scatter</span><span class="p">(</span><span class="n">data</span><span class="o">.</span><span class="n">year</span><span class="p">,</span> <span class="n">data</span><span class="o">.</span><span class="n">score</span><span class="p">,</span> <span class="n">alpha</span><span class="o">=.</span><span class="mo">04</span><span class="p">,</span> <span class="n">lw</span><span class="o">=</span><span class="mi">0</span><span class="p">,</span> <span class="n">color</span><span class="o">=</span><span class="s">&#39;k&#39;</span><span class="p">)</span>
<span class="n">plt</span><span class="o">.</span><span class="n">xlabel</span><span class="p">(</span><span class="s">&quot;Year&quot;</span><span class="p">)</span>
<span class="n">plt</span><span class="o">.</span><span class="n">ylabel</span><span class="p">(</span><span class="s">&quot;Score&quot;</span><span class="p">)</span>
<span class="n">plt</span><span class="o">.</span><span class="n">legend</span><span class="p">(</span><span class="n">frameon</span><span class="o">=</span><span class="bp">False</span><span class="p">)</span>
<span class="n">remove_border</span><span class="p">()</span>
</pre></div>

</div>
</div>

<div class="vbox output_wrapper">
<div class="output vbox">


<div class="hbox output_area"><div class="prompt"></div>
<div class="box-flex1 output_subarea output_display_data">


<img src="data:image/png;base64,iVBORw0KGgoAAAANSUhEUgAAAYcAAAEPCAYAAACp/QjLAAAABHNCSVQICAgIfAhkiAAAAAlwSFlz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">

</div>
</div>

</div>
</div>

</div>
<div class="text_cell_render border-box-sizing rendered_html">
<p>You can also iterate over a GroupBy object. Each iteration yields two variables: one of the distinct values of the group key, and the subset of the dataframe where the key equals that value. To find the most popular movie each year:</p>
</div>
<div class="cell border-box-sizing code_cell vbox">
<div class="input hbox">
<div class="prompt input_prompt">
In&nbsp;[82]:
</div>
<div class="input_area box-flex1">
<div class="highlight"><pre><span class="k">for</span> <span class="n">year</span><span class="p">,</span> <span class="n">subset</span> <span class="ow">in</span> <span class="n">data</span><span class="o">.</span><span class="n">groupby</span><span class="p">(</span><span class="s">&#39;year&#39;</span><span class="p">):</span>
    <span class="k">print</span> <span class="n">year</span><span class="p">,</span> <span class="n">subset</span><span class="p">[</span><span class="n">subset</span><span class="o">.</span><span class="n">score</span> <span class="o">==</span> <span class="n">subset</span><span class="o">.</span><span class="n">score</span><span class="o">.</span><span class="n">max</span><span class="p">()]</span><span class="o">.</span><span class="n">title</span><span class="o">.</span><span class="n">values</span>
</pre></div>

</div>
</div>

<div class="vbox output_wrapper">
<div class="output vbox">


<div class="hbox output_area"><div class="prompt"></div>
<div class="box-flex1 output_subarea output_stream output_stdout">
<pre>
1950 [&apos;Sunset Blvd.&apos;]
1951 [&apos;Strangers on a Train&apos;]
1952 [&quot;Singin&apos; in the Rain&quot;]
1953 [&apos;The Wages of Fear&apos; &apos;Tokyo Story&apos;]
1954 [&apos;Seven Samurai&apos;]
1955 [&apos;Diabolique&apos;]
1956 [&apos;The Killing&apos;]
1957 [&apos;12 Angry Men&apos;]
1958 [&apos;Vertigo&apos;]
1959 [&apos;North by Northwest&apos;]
1960 [&apos;Psycho&apos;]
1961 [&apos;Yojimbo&apos;]
1962 [&apos;To Kill a Mockingbird&apos; &apos;Lawrence of Arabia&apos;]
1963 [&apos;The Great Escape&apos; &apos;High and Low&apos;]
1964 [&apos;Dr. Strangelove or: How I Learned to Stop Worrying and Love the Bomb&apos;]
1965 [&apos;For a Few Dollars More&apos;]
1966 [&apos;The Good, the Bad and the Ugly&apos;]
1967 [&apos;Cool Hand Luke&apos;]
1968 [&apos;Once Upon a Time in the West&apos;]
1969 [&apos;Butch Cassidy and the Sundance Kid&apos; &apos;Army of Shadows&apos;]
1970 [&apos;Patton&apos; &apos;The Conformist&apos; &apos;Le Cercle Rouge&apos;]
1971 [&apos;A Clockwork Orange&apos;]
1972 [&apos;The Godfather&apos;]
1973 [&apos;The Sting&apos; &apos;Scenes from a Marriage&apos;]
1974 [&apos;The Godfather: Part II&apos;]
1975 [&apos;Outrageous Class&apos;]
1976 [&apos;Tosun Pasa&apos;]
1977 [&apos;Star Wars: Episode IV - A New Hope&apos;]
1978 [&apos;The Girl with the Red Scarf&apos;]
1979 [&apos;Apocalypse Now&apos;]
1980 [&apos;Star Wars: Episode V - The Empire Strikes Back&apos;]
1981 [&apos;Raiders of the Lost Ark&apos;]
1982 [&apos;The Marathon Family&apos;]
1983 [&apos;Star Wars: Episode VI - Return of the Jedi&apos;]
1984 [&apos;Balkan Spy&apos;]
1985 [&apos;The Broken Landlord&apos;]
1986 [&apos;Aliens&apos;]
1987 [&apos;Mr. Muhsin&apos;]
1988 [&apos;Cinema Paradiso&apos;]
1989 [&apos;Indiana Jones and the Last Crusade&apos; &quot;Don&apos;t Let Them Shoot the Kite&quot;]
1990 [&apos;Goodfellas&apos;]
1991 [&apos;The Silence of the Lambs&apos;]
1992 [&apos;Reservoir Dogs&apos;]
1993 [&quot;Schindler&apos;s List&quot;]
1994 [&apos;The Shawshank Redemption&apos;]
1995 [&apos;The Usual Suspects&apos; &apos;Se7en&apos;]
1996 [&apos;Fargo&apos; &apos;The Bandit&apos;]
1997 [&apos;Life Is Beautiful&apos;]
1998 [&apos;American History X&apos;]
1999 [&apos;Fight Club&apos;]
2000 [&apos;Memento&apos;]
2001 [&apos;The Lord of the Rings: The Fellowship of the Ring&apos;]
2002 [&apos;City of God&apos;]
2003 [&apos;The Lord of the Rings: The Return of the King&apos;]
2004 [&apos;Eternal Sunshine of the Spotless Mind&apos;]
2005 [&apos;My Father and My Son&apos;]
2006 [&apos;The Departed&apos; &apos;The Lives of Others&apos;]
2007 [&apos;Like Stars on Earth&apos;]
2008 [&apos;The Dark Knight&apos;]
2009 [&apos;Inglourious Basterds&apos;]
2010 [&apos;Inception&apos;]
2011 [&apos;A Separation&apos;]

</pre>
</div>
</div>

</div>
</div>

</div>
<div class="text_cell_render border-box-sizing rendered_html">
<h3 id="small-multiples">Small multiples</h3>
<p>Let's split up the movies by genre, and look at how their release year/runtime/IMDB score vary. The distribution for all movies is shown as a grey background.</p>
<p>This isn't a standard groupby, so we can't use the <code>groupby</code> method here. A manual loop is needed</p>
</div>
<div class="cell border-box-sizing code_cell vbox">
<div class="input hbox">
<div class="prompt input_prompt">
In&nbsp;[83]:
</div>
<div class="input_area box-flex1">
<div class="highlight"><pre><span class="c">#create a 4x6 grid of plots.</span>
<span class="n">fig</span><span class="p">,</span> <span class="n">axes</span> <span class="o">=</span> <span class="n">plt</span><span class="o">.</span><span class="n">subplots</span><span class="p">(</span><span class="n">nrows</span><span class="o">=</span><span class="mi">4</span><span class="p">,</span> <span class="n">ncols</span><span class="o">=</span><span class="mi">6</span><span class="p">,</span> <span class="n">figsize</span><span class="o">=</span><span class="p">(</span><span class="mi">12</span><span class="p">,</span> <span class="mi">8</span><span class="p">),</span> 
                         <span class="n">tight_layout</span><span class="o">=</span><span class="bp">True</span><span class="p">)</span>

<span class="n">bins</span> <span class="o">=</span> <span class="n">np</span><span class="o">.</span><span class="n">arange</span><span class="p">(</span><span class="mi">1950</span><span class="p">,</span> <span class="mi">2013</span><span class="p">,</span> <span class="mi">3</span><span class="p">)</span>
<span class="k">for</span> <span class="n">ax</span><span class="p">,</span> <span class="n">genre</span> <span class="ow">in</span> <span class="nb">zip</span><span class="p">(</span><span class="n">axes</span><span class="o">.</span><span class="n">ravel</span><span class="p">(),</span> <span class="n">genres</span><span class="p">):</span>
    <span class="n">ax</span><span class="o">.</span><span class="n">hist</span><span class="p">(</span><span class="n">data</span><span class="p">[</span><span class="n">data</span><span class="p">[</span><span class="n">genre</span><span class="p">]</span> <span class="o">==</span> <span class="mi">1</span><span class="p">]</span><span class="o">.</span><span class="n">year</span><span class="p">,</span> 
            <span class="n">bins</span><span class="o">=</span><span class="n">bins</span><span class="p">,</span> <span class="n">histtype</span><span class="o">=</span><span class="s">&#39;stepfilled&#39;</span><span class="p">,</span> <span class="n">normed</span><span class="o">=</span><span class="bp">True</span><span class="p">,</span> <span class="n">color</span><span class="o">=</span><span class="s">&#39;r&#39;</span><span class="p">,</span> <span class="n">alpha</span><span class="o">=.</span><span class="mi">3</span><span class="p">,</span> <span class="n">ec</span><span class="o">=</span><span class="s">&#39;none&#39;</span><span class="p">)</span>
    <span class="n">ax</span><span class="o">.</span><span class="n">hist</span><span class="p">(</span><span class="n">data</span><span class="o">.</span><span class="n">year</span><span class="p">,</span> <span class="n">bins</span><span class="o">=</span><span class="n">bins</span><span class="p">,</span> <span class="n">histtype</span><span class="o">=</span><span class="s">&#39;stepfilled&#39;</span><span class="p">,</span> <span class="n">ec</span><span class="o">=</span><span class="s">&#39;None&#39;</span><span class="p">,</span> <span class="n">normed</span><span class="o">=</span><span class="bp">True</span><span class="p">,</span> <span class="n">zorder</span><span class="o">=</span><span class="mi">0</span><span class="p">,</span> <span class="n">color</span><span class="o">=</span><span class="s">&#39;#cccccc&#39;</span><span class="p">)</span>
    
    <span class="n">ax</span><span class="o">.</span><span class="n">annotate</span><span class="p">(</span><span class="n">genre</span><span class="p">,</span> <span class="n">xy</span><span class="o">=</span><span class="p">(</span><span class="mi">1955</span><span class="p">,</span> <span class="mf">3e-2</span><span class="p">),</span> <span class="n">fontsize</span><span class="o">=</span><span class="mi">14</span><span class="p">)</span>
    <span class="n">ax</span><span class="o">.</span><span class="n">xaxis</span><span class="o">.</span><span class="n">set_ticks</span><span class="p">(</span><span class="n">np</span><span class="o">.</span><span class="n">arange</span><span class="p">(</span><span class="mi">1950</span><span class="p">,</span> <span class="mi">2013</span><span class="p">,</span> <span class="mi">30</span><span class="p">))</span>
    <span class="n">ax</span><span class="o">.</span><span class="n">set_yticks</span><span class="p">([])</span>
    <span class="n">remove_border</span><span class="p">(</span><span class="n">ax</span><span class="p">,</span> <span class="n">left</span><span class="o">=</span><span class="bp">False</span><span class="p">)</span>
    <span class="n">ax</span><span class="o">.</span><span class="n">set_xlabel</span><span class="p">(</span><span class="s">&#39;Year&#39;</span><span class="p">)</span>
</pre></div>

</div>
</div>

<div class="vbox output_wrapper">
<div class="output vbox">


<div class="hbox output_area"><div class="prompt"></div>
<div class="box-flex1 output_subarea output_display_data">


<img src="data:image/png;base64,iVBORw0KGgoAAAANSUhEUgAAA1gAAAI4CAYAAAB3HEhGAAAABHNCSVQICAgIfAhkiAAAAAlwSFlz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">

</div>
</div>

</div>
</div>

</div>
<div class="text_cell_render border-box-sizing rendered_html">
<p>Some subtler patterns here:</p>
<ol style="list-style-type: decimal">
<li>Westerns and Musicals have a more level distribution</li>
<li>Film Noir movies were much more popular in the 50s and 60s</li>
</ol>
</div>
<div class="cell border-box-sizing code_cell vbox">
<div class="input hbox">
<div class="prompt input_prompt">
In&nbsp;[84]:
</div>
<div class="input_area box-flex1">
<div class="highlight"><pre><span class="n">fig</span><span class="p">,</span> <span class="n">axes</span> <span class="o">=</span> <span class="n">plt</span><span class="o">.</span><span class="n">subplots</span><span class="p">(</span><span class="n">nrows</span><span class="o">=</span><span class="mi">4</span><span class="p">,</span> <span class="n">ncols</span><span class="o">=</span><span class="mi">6</span><span class="p">,</span> <span class="n">figsize</span><span class="o">=</span><span class="p">(</span><span class="mi">12</span><span class="p">,</span> <span class="mi">8</span><span class="p">),</span> <span class="n">tight_layout</span><span class="o">=</span><span class="bp">True</span><span class="p">)</span>

<span class="n">bins</span> <span class="o">=</span> <span class="n">np</span><span class="o">.</span><span class="n">arange</span><span class="p">(</span><span class="mi">30</span><span class="p">,</span> <span class="mi">240</span><span class="p">,</span> <span class="mi">10</span><span class="p">)</span>

<span class="k">for</span> <span class="n">ax</span><span class="p">,</span> <span class="n">genre</span> <span class="ow">in</span> <span class="nb">zip</span><span class="p">(</span><span class="n">axes</span><span class="o">.</span><span class="n">ravel</span><span class="p">(),</span> <span class="n">genres</span><span class="p">):</span>
    <span class="n">ax</span><span class="o">.</span><span class="n">hist</span><span class="p">(</span><span class="n">data</span><span class="p">[</span><span class="n">data</span><span class="p">[</span><span class="n">genre</span><span class="p">]</span> <span class="o">==</span> <span class="mi">1</span><span class="p">]</span><span class="o">.</span><span class="n">runtime</span><span class="p">,</span> 
            <span class="n">bins</span><span class="o">=</span><span class="n">bins</span><span class="p">,</span> <span class="n">histtype</span><span class="o">=</span><span class="s">&#39;stepfilled&#39;</span><span class="p">,</span> <span class="n">color</span><span class="o">=</span><span class="s">&#39;r&#39;</span><span class="p">,</span> <span class="n">ec</span><span class="o">=</span><span class="s">&#39;none&#39;</span><span class="p">,</span> <span class="n">alpha</span><span class="o">=.</span><span class="mi">3</span><span class="p">,</span> <span class="n">normed</span><span class="o">=</span><span class="bp">True</span><span class="p">)</span>
               
    <span class="n">ax</span><span class="o">.</span><span class="n">hist</span><span class="p">(</span><span class="n">data</span><span class="o">.</span><span class="n">runtime</span><span class="p">,</span> <span class="n">bins</span><span class="o">=</span><span class="n">bins</span><span class="p">,</span> <span class="n">normed</span><span class="o">=</span><span class="bp">True</span><span class="p">,</span>
            <span class="n">histtype</span><span class="o">=</span><span class="s">&#39;stepfilled&#39;</span><span class="p">,</span> <span class="n">ec</span><span class="o">=</span><span class="s">&#39;none&#39;</span><span class="p">,</span> <span class="n">color</span><span class="o">=</span><span class="s">&#39;#cccccc&#39;</span><span class="p">,</span>
            <span class="n">zorder</span><span class="o">=</span><span class="mi">0</span><span class="p">)</span>
    
    <span class="n">ax</span><span class="o">.</span><span class="n">set_xticks</span><span class="p">(</span><span class="n">np</span><span class="o">.</span><span class="n">arange</span><span class="p">(</span><span class="mi">30</span><span class="p">,</span> <span class="mi">240</span><span class="p">,</span> <span class="mi">60</span><span class="p">))</span>
    <span class="n">ax</span><span class="o">.</span><span class="n">set_yticks</span><span class="p">([])</span>
    <span class="n">ax</span><span class="o">.</span><span class="n">set_xlabel</span><span class="p">(</span><span class="s">&quot;Runtime [min]&quot;</span><span class="p">)</span>
    <span class="n">remove_border</span><span class="p">(</span><span class="n">ax</span><span class="p">,</span> <span class="n">left</span><span class="o">=</span><span class="bp">False</span><span class="p">)</span>
    <span class="n">ax</span><span class="o">.</span><span class="n">annotate</span><span class="p">(</span><span class="n">genre</span><span class="p">,</span> <span class="n">xy</span><span class="o">=</span><span class="p">(</span><span class="mi">230</span><span class="p">,</span> <span class="o">.</span><span class="mo">02</span><span class="p">),</span> <span class="n">ha</span><span class="o">=</span><span class="s">&#39;right&#39;</span><span class="p">,</span> <span class="n">fontsize</span><span class="o">=</span><span class="mi">12</span><span class="p">)</span>
</pre></div>

</div>
</div>

<div class="vbox output_wrapper">
<div class="output vbox">


<div class="hbox output_area"><div class="prompt"></div>
<div class="box-flex1 output_subarea output_display_data">


<img src="data:image/png;base64,iVBORw0KGgoAAAANSUhEUgAAA1gAAAI4CAYAAAB3HEhGAAAABHNCSVQICAgIfAhkiAAAAAlwSFlz
AAALEgAACxIB0t1+/AAAIABJREFUeJzs3Xl4FGW6NvC7urPv+04IErawBQdlE0FBFARlESHINqBz
VPQg6jcqKDC4IEfGM4Ojo+NxAFlkcUQQUVARRUUChEX2PTshe9Lp9F7fH0x6Ut2d0OlUp9LJ/buu
ui7ydnXV010PVfV0vfWWIIqiCCIiIiIiImo2ldIBEBERERERtRUssIiIiIiIiGTCAouIiIiIiEgm
LLCIiIiIiIhkwgKLiIiIiIhIJl5KB0BERNTmaTTA99/bt99zD+Dn1/LxEFH7c/48cO6ctC0yEhg8
WJl42jBewSIiIiIiIpIJCywiIiIiIiKZsMAiIiIiIiKSCQssIiIiIiIimbDAIiIiIiIikgkLLCIi
IiIiIpmwwCIiIiIiIpJJm30OVk1NDbRaraTN29sbYWFhCkVEnkCv16OqqsquPTo6WoFoyFOYzWaU
lZXZtYeHh8PLq83uZkkGpaWlsPj4SNqCg4Phx2djUSMqKythMBgkbf7+/ggKClIoIvIEWq0WxspK
SZvKxwfBCsXTlrXZI39lZSUKCwslbUFBQSywqFG1tbXIycmRtAmCwAKLGmWxWOzyBrixz2GBRY0p
KCiAQSXtTJKSksICixpVXFyMSpsT5ZiYGBZY1Kjq6mpUFxdL2rzVahZYbsAugkRERERERDJhgUVE
RERERCQTFlhEREREREQyabs3B1gsgMkkbTOblYmFiIiIiIjahTZbYKmvXEHo4cOSNu+4OCAtTaGI
iIiIiIiorWMXQSIiIiIiIpmwwCIiIiIiIpJJm+0iSERE1Nqp9HoIgiBt5P3CRNRC1JWVwO7d9i+M
GgXY7pvIae2qwBJMJqC01P6FyMiWD4aIiNq9gKws+NoUVKrQUCAmRqGIiKhdEUXAYFA6ijanXRVY
Ko0G+OUX+xfGjmWVTkSuM5nge/WqfXtqKuDv39LREBERkYLaVYFFROQWZjP8cnLs2/mrIBERUbvD
QS6IiIiIiIhk0u6uYImi6KjR/iZjonoc5g3AvKFGiaLoMHeYN9QY5g25gnlDruK5sfzaVYGl0+lw
6dIlu/bOCsRCnkMURWRlZdm1d+/eHYGBgQpERJ7i3LlzsOTmSto6dOiAGA5gQI3Iy8vDFZvupZGR
kUhJSVEmIPIIxcXFKC4ulrT5+/sjLS1NoYjIE/Dc2D3YRZCIiIiIiEgmLLA82BNPPIHXXntN6TDI
Q8yePRuvvPKK7PNSy+A2IbkEBwfjqqNRL92AxynP0Vq31b59+9ChQwelw6A2IiUlBd99953b18MC
S0HDhw9HREQEDE6MNLZmzRoMHTpU0vb3v/8dL7/8srvCa/s0GuD6delUWal0VC5xJpcEQXC6P3X9
eXlwcz+5t5+rrl69CpVKBYvF4tb1kHyachypU11d7ZbuhjxOtX4pKSkICAhAcHAwIiIiMHbsWOTl
5QHgtiL5bdy4Ef3790dwcDASEhIwZswY/Pzzz4rG1BLHUoAFlmKuXr2KzMxMxMTEYMeOHUqH0z7l
5AAHD0om9cWLSkfVZE3JpYYG62juvOQ6d22/5nB1PQ3dZE/uweMINZUgCNi5cyeqq6tRWFiI2NhY
PP30025dp9nmQdrUPrz99ttYsGABXn75ZVy/fh25ubmYN29eu9lXscBSyMcff4yRI0dixowZWLt2
rbU9NzcXEydORExMDKKiovD000/j7NmzePzxx3HgwAHrr06AfZehDz/8EF26dEFkZCQefPBBFBYW
Wl9TqVT44IMP0LVrV4SHh+Opp55quQ9LbtVQLh09ehS33norQkJCMHXqVOh0Outrjn5pVqlUuHz5
svVvQRCg1WoxevRoFBQUIDg4GCEhIbh27Zr7P1Q70pTtV/erW48ePfDll19a5zWZTIiOjsaxY8cA
AL/++isGDx6M8PBwpKen44cffrDOO3z4cCxevBh33HEHQkJCcO+996K0tBQAcOeddwIAwsLCEBIS
gl9//RVLly7FjBkzrO+3vco1fPhwvPzyyxgyZAgCAwNx5coVnD17Fvfccw8iIyPRvXt3bN261U3f
XvvWUO7Mnj0b8+bNw9ixYxESEoKBAwdK/m/X/78+e/ZsPPnkkxgzZgyCg4MxdOhQXLt2DfPnz0d4
eDh69OhhzSsAePPNN5GamoqQkBD07NkTn3/+OQDgzJkzeOKJJ3ic8iC+vr6YNGkSTp8+DaBp22rP
nj3o1q0bwsLCMG/ePAwbNgwfffQRgBvHlyFDhuDZZ59FVFQU/vSnP+Hy5cu4++67ERUVhejoaEyf
Ph2V9XqMpKSk4M0330TPnj0RERGBOXPmQK/XS+J9++23ERsbi4SEBKxZswYAcOjQIcTFxUl+2Pns
s8+Qnp4u+/dFzqusrMSSJUvw3nvvYfz48fD394darcb999+PFStWQK/X45lnnkFiYiISExOxYMEC
61X4ffv2ISkpCW+99RZiYmKQkJCAzz//HLt27ULXrl0RGRmJN99807ouURSt+6WoqChMmTIF5eXl
1tfXrVuHjh07IioqCq+//rq1/dq1awgMDERZWZm1LSsrCzExMbL8KMACSyEff/wxpkyZgocffhi7
d+9GcXExzGYzxo4di06dOiE7Oxv5+fnIyMhA9+7d8cEHH2DQoEGorq62JkP9y5x79+7FwoULsXXr
VhQWFqJjx46YOnWqZJ1ffvklDh8+jBMnTmDLli3YvXt3i39ukp+jXDIYDBg/fjxmzZqF8vJyTJ48
Gf/617+adFlcFEUEBATg66+/RkJCAqqrq1FVVYW4uDg3fpr2pynbr860adPwySefWP/evXs3YmJi
kJ6ejvz8fIwdOxaLFy9GeXk5Vq5ciUmTJlmLKAD45JNPsGbNGly/fh0GgwErV64EAOzfvx/AjYNj
VVUVBg4c6FTOrF+/Hv/3f/8HjUaDyMhI3HPPPZg+fTqKi4uxadMmPPnkkzhz5oxcXxn9m6PcqbN5
82YsXboU5eXlSE1NxaJFixpcztatW/H666+jpKQEPj4+GDhwIG677TaUlZXhoYcewrPPPmudNzU1
FT/99BOqqqqwZMkSTJ8+HUVFRejRowfef/99Hqc8QF0xotVqsXnzZgwaNAiA89uqpKQEkydPxooV
K1BWVoZu3brhwIEDkn1FZmYmOnfujOvXr2PhwoUQRRGLFi1CYWEhzpw5g9zcXCxdulQS18aNG7Fn
zx5cunQJ58+fl9wPdu3aNVRVVaGgoAAfffQR5s2bh8rKStx2222IjIyU5Mm6deswa9Yst3x35JwD
Bw5Ap9NhwoQJDl9//fXXkZmZiePHj+P48ePIzMyUbO+ioiLo9XoUFhZi2bJlePTRR7FhwwYcPXoU
+/fvx7Jly5CdnQ0AWLVqFXbs2IEff/wRhYWFCA8Px7x58wAAp0+fxpNPPokNGzagoKAAZWVl1i6x
cXFxGD58OLZs2WJd77p165CRkQG1Wt3s74AFlgJ++ukn5Ofn44EHHkCXLl2QlpaGDRs2IDMzE4WF
hXjrrbfg7+8PX19fDB48GMDNu+xs2LABc+fORXp6Onx8fLB8+XIcOHAAOTk51nlefPFFhISEoEOH
Drjrrrskv0qSZ2ool3799VeYTCbMnz8farUakyZNwm233ebSOtjly31c3X4ZGRnYsWOH9arkxo0b
kZGRAeBGsTNmzBjcd999AICRI0eif//+1itegiDg97//PVJTU+Hn54eHH37Yui9wtK1vtv0FQcDs
2bPRo0cPqFQqfP311+jUqRNmzZoFlUqF9PR0TJw4sX1dxcrJAXbtkk71riLKoaHcqTNx4kT0798f
arUajzzySIP7e0EQMHHiRPTr1w++vr6YMGECAgMDMX36dAiCgIcffhhHjx61zv/QQw9Zf2R5+OGH
0aVLFxw8eBAAj1OeQBRFjB8/HuHh4QgLC8N3332H559/3m6+hrZVdnY2du3ahV69emH8+PFQqVT4
7//+b7sf3hISEjBv3jyoVCr4+fmhc+fOGDFiBLy9vREVFYUFCxZIrqwLgoCnnnoKiYmJCA8Px6JF
iyQ/Inl7e2Px4sVQq9UYPXo0goKCcO7cOQDAzJkzsX79egBAWVkZ9uzZg2nTprnj6yMnlZaWIioq
CiqV4zJj48aNWLx4MaKiohAVFYUlS5Zg3bp11te9vb2xaNEiqNVqTJkyBWVlZXjmmWcQGBiItLQ0
pKWl4fjx4wCA999/H6+99hoSEhLg7e2NJUuW4NNPP4XZbMann36KcePG4Y477oCPjw9effVVSUz1
c8dsNmPTpk2SHhvNwQJLAWvXrsWoUaMQHBwMAJg8eTLWrl2LvLw8dOzYscGEbEzdL0x1AgMDERkZ
ifz8fGtb/R1gQEAANBpNMz4FtQYN5VJhYSESExMl89bPD2oZgSdOIPjgQcmkKiiwvt7U7Vd3Apua
mooePXpgx44d0Gq1+OKLL6wnFNnZ2di6dSvCw8Ot088//yzp2ll/X+Dv79/sfUH9QVCys7Nx8OBB
yfo3btyIoqKiZq3Do4giYDZLJ5kHDmkod+rExsZa/32zbVz/uWx+fn6Sv23f+/HHH6Nfv37WbXvy
5EnJ1dHG8DilPEEQsH37dpSXl0Ov1+Odd97BsGHD7P5/NratCgsLkZSUJJnf9m/bgZGKioowdepU
JCUlITQ0FDNmzLDLm/rvSU5ORkG9fWVkZKTk3Kh+bjzyyCP44osvoNVqsWXLFtx5552S/KeWFxkZ
iZKSkgYHTCooKJDkl6PtXXdF1N/fH0DD+7Ts7GxMmDDBuk9KS0uDl5cXioqK7HI1ICAAkZGR1r8f
fPBBnD59GlevXsU333yD0NBQ9O/fX4ZvoJ09aLg1qK2txZYtW2CxWBAfHw8A0Ov1qKysRGxsLHJy
cmA2m+0uT96sm05CQoJk2N2amhqUlpbanaRR29FYLsXHx0tOWoAbO6HU1FQANw6WWq3W+pqj+6rq
co5PcnedytHIbiYTgOZtP+DGVaxPPvkEZrMZaWlpuOWWWwDcOFDNmDED//jHP5ocr6NtHRQU5HSu
1K1/2LBh2LNnT5PXT85pLHdOnDjhtv+z2dnZ+MMf/oC9e/di0KBBEAQB/fr1sxb+PE61QkYjUO/E
FWYzUFICFBRAADBhwAD8lyDgpx07rPsmoOFtlZSUhPj4eGs3K+DGVbH6fwP2ubBw4UKo1WqcPHkS
YWFh+Pzzz+0G16h/JTMnJwcJCQlOfcSkpCQMHDgQn332GdavX48nn3zSqfeR+wwaNAi+vr7Ytm0b
Jk2aZPd6XX716NEDQNO2t63k5GSsXr3a2tW1vvj4eEn3dK1WKyns/fz8MHnyZKxfvx5nz57FzJkz
XYrBEV7BamGff/45vLy8cObMGWvf0zNnzuCOO+7Atm3bEB8fjxdffBFarRY6nQ6//PILgBuVe15e
HoxGo3VZ9UfsysjIwOrVq3H8+HHo9XosXLgQAwcORHJyssM42O3L890sl7y8vLBq1SoYjUZ89tln
OHTokPW9ffv2xalTp3D8+HHodDq7vvD1cys2NhalpaWoqqpqyY/X5jVn+wHA1KlTsXv3brz//vt4
5JFHrO3Tp0/HF198gT179sBsNkOn02Hfvn2Sgq2h///R0dFQqVS4dOmStS09PR0//vgjcnNzUVlZ
ieXLl9u9r/7yxo4di/Pnz2P9+vUwGo0wGo04dOgQzp496/J3RVKN5c7HH3/cpGU15VhQU1MDQRAQ
FRUFi8WC1atX4+TJk9bXeZxqfVR6PXDkyH8mvR7i+fPAkSMQDx/G9nffRUVlJdKMRogGg1PbasyY
Mfjtt9+wfft2mEwmvPvuuzcd/Eij0SAwMBAhISHIz8/HW2+9JXldFEW89957yM/PR1lZGV5//XW7
+/MaM3PmTKxYsQInT57ExIkTm/5FkaxCQ0OxbNkyzJs3D9u3b4dWq4XRaMRXX32FF154ARkZGXjt
tddQUlKCkpISLFu2zOWueY8//jgWLlxoLdCLi4utIxU+9NBD2LlzJ37++WcYDAYsXrzY7qrazJkz
sXr1auzYsUO27oEAC6wW9/HHH2POnDlISkpCTEwMYmJiEBsbi6eeegqbN2/Gzp07cfHiRSQnJ6ND
hw7Wm+9GjBiBnj17Ii4uztp9o/4NqSNGjMCrr76KSZMmISEhAVeuXMGmTZus67X9NamlngNA7nOz
XNq2bRvWrFmDyMhIbNmyRfIrUteuXbF48WKMHDkS3bp1w9ChQyX5UD8/unfvjoyMDNxyyy2IiIjg
KIIyac72A250pRo8eDAOHDiAKVOmWNuTkpKwfft2vPHGG4iJiUFycjL+/Oc/S05WG9rWAQEBWLRo
EYYMGYLw8HBkZmZi5MiRmDJlCvr06YPbbrsN48aNc7g/qRMUFIQ9e/Zg06ZNSExMRHx8PF566aUm
PaeJGtdY7mzYsAFms7nRbdTQ9nf0d/3509LS8Nxzz2HQoEGIi4vDyZMncccdd1jn43HKM4x79VUE
T5mC0KlT8cqGDVg7fz56dOgAAXBqW0VFRWHr1q344x//iKioKJw5cwb9+/eHr68vAMfbbcmSJcjK
ykJoaCjGjRuHSZMm2eXdtGnTMGrUKHTu3BldunSRPJPrZnkwceJE5OTkYMKECfDz85Pja6JmevbZ
Z/H222/jtddesx6L3nvvPUyYMAEvv/wy+vfvjz59+qBPnz7o379/o9u7se0/f/58PPDAAxg1ahRC
QkIwaNAgZGZmArixz3r33Xcxbdo0JCQkICIiwq776pAhQ6BSqfC73/1O1md+CmIb/YmoaP9+VB8+
7NS8nefPh+DCfU/k4U6fBur9Ug8A1QEBOB8W5tTbu3fvjsDAQHdERh7GqNEg+8MPnZo3bOhQRMnU
x5taqexs4MQJp2a9cuWK3ZDA2u7dYax3HxRw454EdzwcmDzTxYsXJcOcNyTQbEZ3Z+9/7N8f+HeX
06awWCzo0KEDNm7ciGHDhjX5/QDQqVMnfPTRR7j77rtdej8AdOnSBR988EGzltHW8dzYsZEjR2La
tGmYM2eObMtsH98cEREREcliz549qKiogF6vxxtvvAEAGDhwoGLxfPbZZxAEgcUVNdmhQ4eQlZUl
6QkiBw5yQUREREROO3DgAKZNmwaDwWB94HRdF8GWNnz4cJw9e1YyzDeRM2bNmoXt27dj1apVsvdI
YoFFRERERE5bsmQJlixZItvyrly54vJ79+3bJ1sc1L7Uf7SF3NhFkIiIiIiISCYssIiIiIiIiGTC
AouIiIiIiEgmvAeLiIiIyMN5lZTAx+Y5hb5eXkBIiEIREbVfLLCIiIiIPJxKp4N3WZmkTe3jwwKL
SAHsIkhERERERCQTFlhEREREREQyYYFFREREREQkE96DRURERETUlphMgMUiaRJs/ib3YYFFRERE
RNSWZGYCpaWSJrXN3+Q+LLAA4OuvAUGQtt12GxAVpUw8RERERETkkVhgAbh07pxdW2y3bghmgUWN
OHv2rF1bYmIi4uLiFIiGPEVhYSGyjxyRtIWHh+OWW25RKCLyBKWlpSi1+fXZ19cXvXr1Uigi8gQG
gwEXL160a+/UqRPUarUCEZGnyMrKsrv40KVLF4Rw2H+ncJALIhmJoqh0COSBmDfkCuYNEVHrxAKL
iIiIiIhIJiywiIiIiIiIZMJ7sIiIWpBgMkHQ6aSNBoMywRAREZHsWGAREbUgv6tX4Xf1qqTNt1Mn
oEcPZQIiIiIiWbGLIBERERERkUxYYBEREREREcmEBRYREREREZFMeA8WERERERFZ+RQU2DcmJQF8
0LBTWGARETVFZSWQlydtq61VJhYiIiI38L90ya5N6NVLgUg8U5sosC5cuICamhpJm3dJCXwVioc8
Q1FREWouX5a0GSMigLAwhSIiT1CRl4eyb7+VtImiqFA05CkMBgPybAtzABaLRYFoyJOcOHHCLk/M
ZrNC0ZCnyM3NhfHaNUkbj1Utp00UWBaLxW5n48UkopuwWCx2By2e7NDNiKLIPCGXMG/IFWazmblD
TeboHIdaDge5ICIiIiIikkmbuIJFZGU2A1lZTs2qLi62b9NoEHDqlMurV6nVQHz8zWcUReDwYecW
mpgIJCS4HBMReRbfvDx42+yfTGFhMCQmKhQRERE1BQssalssFsCmz3FDBK3Wrk1lMEBVWury6h0t
s0FOxonQUNeCISKPpNZooNZoJG2it7dC0RARUVOxwCIiIiLyIIJOB8Hm/hqV0ahQNERkq20UWAYD
BL1e0iQ0d4QdgwHQ6aRtXl43JiIiIiKF+F+6BO9m9LYgIvdqE9WC38mTUDvb3cpJ6uPHgQsXpI1d
ugDdu8u6HiIiVVUVcPSotFGtBvr0USYgIiIiclmbKLCIiDyZoNPZP7zYx4cFFhG1nLw8oKJC2hYe
DsTFKRMPkQdjgUVERETU3jnqCZSSwgKLyAUssBpw/fp1CCrpY8ICw8MRpVA85BlKS0tRbDPMe1BQ
EDp27KhQROQJtFotsnNyJG0qX190UCge8gwGgwGnHDxWokuXLvDx8VEgIvIUeXl5gCBI2qKjohAQ
EKBQROQJcnNzIdbWStqioqIQGxurUEStFwusBphMJrs2c3MHzqA2z2w2Q28zOIo3h1emmxBFEUaD
QdIm2Jz8EDmisx2MCTfyiagxRgcjDlpsRiUksmU0GmGy2ec4Ol8mQHXzWYiIiIiIiMgZLLCIiIiI
iIhkwgKLiIiIiIhIJiywiIiIiIiIZMICi4iIiIiISCYssIiIiIiIiGTCAouIiIiIiEgmfA4WEVFr
ZLEAZWX27aGhgFrd8vEQERGRU1hgNYE6Px/Yv1/aGBwMpKcrExARtVmC2Qz8/LP9C8OGASEhLR8Q
EbU/Oh1QUiJtU6uB8HBl4iHyECywmkAwGICKCptGQZlgiIiIiNzp2rUbU33BwcDw4YqEQ+QpWGAR
EREREVGjfLOz4VNYKGlTWSxAYqJCEbVeLLCIiIiIiKhRXlVVdm0qrVaBSFo/jiJIREREREQkE17B
agKtVguLxSJpU4siIhSKhzyDTqdDTk6OpE0A0EGZcMhDiKKI4uJiu/ZQgwE+CsRDylJXVcHv4kVJ
m+jlBX1Kit28BQUFUNuMNBkREYGgoCB3hkgerqqqCrW1tZI2Pz8/BAcHKxQReQKNRgO9zTmOr68v
YmNjFYqodWCB1QR6vR56vV7S5uXjwwKLGmU0Gu1PlEWRBRY1ShRFVFZW2rUHmkwssNohtVYLtU1X
HIufn8MCq8zB8P4BAQEssKhR2ga6etkVWNXVwBdf2M84ahTg6+uGyKg1q9XpUGFzjhMQEMACS+kA
iIharXPnAJsbetWlpQoFQ0RERJ6ABRYRUUN0uhu/1tYj2FzFJiIiIqqPg1wQERERERHJhFewiIg8
iOrsWSA/X9qYlAS08/7uRERErQULLCIiDyKUlNh1W0R4uDLBEJHbBfz2G0SzWdKmrqlRKBoicgYL
LCIiIqJWyquqCqLRqHQYRNQELLCaSayoQOnWrXbtERMmQPDi10sNczSUcnBwMLy9vRWIhjxFVVWV
3TOOfGtqEKhQPOQZKioqYLQ5Sffz80M4r35SI3Q6nd2xSq1WIzQ01H7mb75xbqHJyUCfPjJER62V
0WhEoc0IvAAQFxcHQRAUiKjleVQFIIoiLl++bNdu1usVG63DbDSiPC/Prj1cFNE+UsgzFBcXw2Qy
SdoMBoNC0dzgqMDy8/dngdWKlJWVQW9zkLDNo5bm6NlY4fn5CLR9xlFAAO/LUkhVVRVqbPLG9iH1
chAMBgT+9ptdu7ZbN4g+0qelVVZW2uVOREQEC6xWRKfTId/2/krcyB2lziccPf/T28fHcYElis4t
1Nn5yCmiKKJwwwa7dlN5eYus3+faNXhVVEjaLIGBKOjSxW7e2NhYFlitVYXNRgSAQIuFwyFSo2pr
axUvqMjz1NbWotYD7nVQFRcDtl2I4uJYYLWEq1cBm+OSOTcXNS2QN4LFAi9HJ1FuKObI/cxms8Nz
nBAFYmlxJhNQVGTfHhcH2FyxJ3tamwf9tiSVwQCVzfmVsj9Dtg4eV2B5iqKdOwGbKj309tsRkJCg
UETkCSrKy6GxGcDALz6+fRxgyWU1Gg2MNgc4Lx8fRCgUT7tSWgoUFEiaVA6uMrZGNTU1yM7OlrSp
1WokJSUpFBF5ArPJhOvXr9u1R0ZG2nVfdprBAGRl2bePHAn4+7u2TGp1cnJy7K5gRUdHIyAgQKGI
3MetF3727dsn+zLVlZV2k9BAl52DFy/Kvn5n7f32W9RcuSKZTJcvA1euSKeCAqCsTDrJcHB2x3ff
UpSOXcm8+f7ECVRVVUmm2traFlu/0t99cygdu5J588PJk3Z5o8vPB/bvl06//OKW9Sv93TeXkvG7
I298iorgU1AgmVRard18er0eX3/9NUpKSqyTo67L7sK8cZ2S+xuLxYJvsrLs9jmis13/ysqAEyek
05kzTq+fedM8LZE7gskEdXW13bR7927J/qakpKRFexe15Hfv1itY+/btw/Dhw2VdZtDx407Pe/Di
RQxITZV1/c1Zd/XJk6g9e1bSplarobYZDEMdHo6QsWObtX53fPctRenYW13eVFej9upVSZtarYaP
zT0WABATE9Os/s1Kf/fNoXTsrS1v9BoNis6dk7QJggDvS5fs3h90333wjo52ef1Kf/fNpWT87sgb
P5urUgCg7doVFge/Eh85cgT9+/e3/m0ymXDVZn8D3BgQw3bfEhwc3Kxfnpk3rlNyf9PQ+ktKSuxy
xMvLCyrbQXm0WgRoNC6vm3nTPC2RO2qtFkFHj9q1H8vMxODERElbsbe3XddYLy8vu/vRvb29ERHR
vH4ZLfnds4tgC3L2SoRQWYkqByMTxj/wANS+vnKHRa2cTqeDvrTUqXk1Dg5a8fHxbfLyOzXObDaj
2vZ5WQ2oPHQIQqB0HMLQlBSEdezojtBaP7PZ/lljABAaatf1u60RRRGlTu5v/P394WtzTAoKCkIs
7/1rlxxiNq7OAAAgAElEQVQdfxzx8vKyyxsvLy9EO/sjT3Ex8P330ra4OKBHD+feT4rxLiuD/4UL
kjatWo1q2yvsZjMEm2e/qby9UR4TY7fMlJQU17umulGLF1iG8nKINl36BD8/qGz62NZWVKDo5Enp
m0URqiacKAre3k2aX07NXbfBQTeNa0eO2A397ms2w8vBZXl9bi6qDhz4Tzx+fvDt2dNuPm9vb48Y
0cVoNNqNwiUIAlQqaS9Xi9GIaw76hpu9vaFyctj85mw7tY+Pc6MANpDLjtbt5ecHi5MjCzq6sf7a
tWsOfwlydAVMp9PZ/ZLkqDjz8vKy++5bI7PZ7HDUP0c742s7d8Jsc4Jg0eudzgVP3t9YcnPt2jQ5
OdDb7JcbunKqv3AB1bt2Sdq8U1OhshnZUB0cDHVwsMtxthRLTQ1MP/9s1666+27A5v9SaVkZ9Db7
HLEJx6qWyhsvHx+72IEb29TVkUtNJpPD0Vltu/wIguBwP1JbW2u3v/Hx8YGXzb5apVLZtbVWtiPu
ATfitz3OlpeX2xWyQnU1wo8ds1+ogx9WldzfNHf9FgC1NuctgskEsarKbl7fr76y++70JSXQ2OSN
EBAAbwd55ymj8hpqaiA6cY5TW1mJovPnpW/28HPjoJwcICfnpu8V1WqYHRyrCrRa+3NjX1/747y3
t905jiAI8Hdwj58s58ZiI5YsWSIC4MRJBCAuWbKksXRh3nByODmbN8wdTvUn5g0nVybmDSdXJuYN
J1enhnJHEEU+kICIiIiIiEgOrb+PDxERERERkYdggUVERERERCQTFlhEREREREQykaXA0ul0GDBg
ANLT05GWloaXXnoJAFBWVoZ77rkHXbt2xahRo+xGC5LTX//6V/Tu3Ru9evXCX//6V7euf86cOYiN
jUXv3r2tbUuXLkVSUhL69euHfv364auvvrK+tnz5cnTp0gXdu3fHnj17mr3+3Nxc3HXXXejZsyd6
9eqFVatWAQC2bt2Knj17Qq1WI8vmiehyxyAXpXOnJfMGUDZ3mDfyYd4wb1zBvGHeuIrnOJ6XO8yb
dp43Tg+bchM1NTWiKIqi0WgUBwwYIO7fv1/8f//v/4krVqwQRVEU33zzTfGFF16Qa3USv/32m9ir
Vy+xtrZWNJlM4siRI8WLFy+6bf0//vijmJWVJfbq1cvatnTpUvHPf/6z3bynTp0S+/btKxoMBvHK
lSti586dRbPZ3Kz1FxYWikePHhVFURSrq6vFrl27iqdPnxbPnDkjnjt3Thw+fLh45MgRt8YgJ6Vy
p6XzRhSVzR3mjTyYN8wbVzBvmDeu4jmO5+YO86b95o1sXQTrnnFhMBhgNpsRHh6OHTt2YNasWQCA
WbNm4fPPP5drdRJnz57FgAED4OfnB7VajWHDhuFf//qX29Y/dOhQhIeH27WLDgZk3L59OzIyMuDt
7Y2UlBSkpqYiMzOzWeuPi4tDeno6gBsPdezRowcKCgrQvXt3dO3atUVikJNSudPSeQMomzvMG3kw
b5g3rmDeMG9cxXMcz80d5k37zRvZCiyLxYL09HTExsZaL9EVFRVZn+geGxuLoqIiuVYn0atXL+zf
vx9lZWXQarXYtWsX8vLyWmz9dd555x307dsXc+fOtV5yLSgoQFJSknWepKQk5Ofny7bOq1ev4ujR
oxgwYECD87g7huZSKndaS94ALZ87zBvXMW+YN65g3jBvXNVacofnOE3HvGm/eSNbgaVSqXDs2DHk
5eXhxx9/xPfffy95XRCE5j8VuQHdu3fHCy+8gFGjRmH06NFIT0+3e4KzO9cPAE888QSuXLmCY8eO
IT4+Hs8991yD88oVh0ajwUMPPYS//vWvCAoKatJ73fldNJVSudMa8gZo+dxh3jQP84Z54wrmDfPG
Va0hd3iO4xrmTfvNG9lHEQwNDcX999+PI0eOIDY2FteuXQMAFBYWIiYmRu7VWc2ZMweHDx/GDz/8
gPDwcHTt2rVF1x8TE2NN1EcffdR6mTExMRG5ubnW+fLy8pCYmNjs9RmNRkyaNAnTp0/H+PHjG53X
XTHITYncUTpvgJbNHeaNPJg3DWPeNIx50zDmTeOUzh2e4zQP86b95Y0sBVZJSYn1sl9tbS2++eYb
9OvXDw888ADWrl0LAFi7du1NP2xzXL9+HQCQk5ODzz77DNOmTWvR9RcWFlr/vW3bNusoKg888AA2
bdoEg8GAK1eu4MKFC7j99tubtS5RFDF37lykpaXhmWeeaXCeOu6IQS5K547SeQO0XO4wb+TDvLGf
pw7zpmHMG/t56jBvGqd07vAcp+mYN+08b+QYKePEiRNiv379xL59+4q9e/cW/+d//kcURVEsLS0V
R4wYIXbp0kW85557xPLycjlW59DQoUPFtLQ0sW/fvuLevXvduv6pU6eK8fHxore3t5iUlCR+9NFH
4owZM8TevXuLffr0ER988EHx2rVr1vlff/11sXPnzmK3bt3Er7/+utnr379/vygIgti3b18xPT1d
TE9PF3ft2iVu27ZNTEpKEv38/MTY2Fjxvvvuc1sMclE6d1oyb0RR2dxh3siHecO8cQXzhnnjKp7j
eF7uMG/ad94IouhgeA8iIiIiIiJqMtnvwSIiIiIiImqvWGARERERERHJhAUWERERERGRTFhgERER
ERERyYQFFhERERERkUxYYBEREREREcmEBRYREREREZFMWnWBpVar0a9fP/Tp0wcTJ06ERqNxeVlv
vPGG5O8hQ4Y0Nzw7a9asQXR0NP7whz806X1LlizBd9991+g8mzdvRpcuXTBu3LjmhNguMG/+g3nj
PObNfzBvnMe8+Q/mjfOYN//BvGka5s5/tOrckfWxxTILCgqy/nvWrFniypUrZVmWu6xZs0Z8+umn
3bb8ffv2iWPHjnXb8tsK5o0U88Y5zBsp5o1zmDdSzBvnMG+kmDfOY+5ItdbcadVXsOobOHAgLl26
BAAYPnw4jhw5AgAoKSlBp06dANyokidOnIjRo0eja9eueOGFFwAAL774Impra9GvXz/MmDEDABAU
FAQA2LdvH4YNG4bx48ejc+fOePHFF7Fu3Trcfvvt6NOnDy5fvgwAKC4uxkMPPYTbb78dt99+O375
5ReHcYqiaP33mjVrMH78eIwaNQqdOnXC3/72N6xcuRK33norBg0ahPLycgDA7Nmz8a9//QsAkJKS
gqVLl+J3v/sd+vTpg3PnzjlcNjmHecO8cQXzhnnjCuYN88YVzBvmjauYO603dzyiwDKbzfjmm2/Q
q1cvAIAgCBAEweG8x48fx5YtW/Dbb79h8+bNyM/Px5tvvgl/f38cPXoU69atsy6jzokTJ/DBBx/g
zJkzWLduHS5duoTMzEw8+uijeOeddwAA8+fPx4IFC5CZmYlPP/0Ujz76qFOxnzp1Ctu2bcOhQ4ew
aNEihISEICsrC4MGDcLHH39s93kEQUB0dDSOHDmCJ554AitXrnTtSyPmDbmEeUOuYN6QK5g35Crm
TuvmpXQAjamrrPPz85GSkoLHH3/8pu8ZMWIEgoODAQBpaWnIzs5GYmJio++57bbbEBsbCwBITU3F
vffeCwDo1asXvv/+ewDAt99+izNnzljfU11dDa1Wi4CAgAaXKwgC7rrrLgQGBiIwMBBhYWHWfqK9
e/fGiRMnHL5v4sSJAIBbb70Vn3322U0/M0kxb5g3rmDeMG9cwbxh3riCecO8cRVzxzNyp1UXWHWV
dW1tLe69915s374dEyZMgJeXFywWCwBAp9NJ3uPr62v9t1qthslkuul66r9HpVJZ/1apVNb3i6KI
gwcPwsfHp0mfwZllN/QeZ+MnKeYN88YVzBvmjSuYN8wbVzBvmDeuYu54Ru54RBdBf39/rFq1CosW
LYIoikhJScHhw4cBAJ9++qlTy/D29m7WBhk1ahRWrVpl/fvYsWM3fU9j/UJba5/RtoR5Q65g3pAr
mDfkCuYNuYq507q16gKrfl/Q9PR0pKamYsuWLXj++efx97//HbfeeitKS0slfTQb6n/6hz/8AX36
9LHeyFd/vobeU395q1atwuHDh9G3b1/07NkT//jHP5yKv6H1NBarM++nhjFvmDeuYN4wb1zBvGHe
uIJ5w7xxFXPHM3JHENtSuaiwtWvX4vDhw9ab/+S2b98+/PnPf8YXX3zhluWTMpg35ArmDbmCeUOu
YN6Qq9pr7rTqK1iext/fH1999VWTH6bmjM2bN2PevHmIiIiQfdmkLOYNuYJ5Q65g3pArmDfkqvaa
O7yCRUREREREJBNewSIiIiIiIpIJCywiIiIiIiKZsMAiIiIiIiKSCQssIiIiIiIimbDAIiIiIiIi
kgkLLCIiIiIiIpmwwCIiIiIiIpIJCywiIiIiIiKZeCkdABGRx9PrgT177NvvugsICmr5eIiobTt0
CLh2Tdp2yy1Az57KxENEEryCRUREREREJBMWWERERERERDJhF0EiIiKlXL8OmM3StrAwwN9fmXiI
iKjZWGAREREp5fhxQKeTtt16K5CYqEw8RETUbOwiSEREREREJBMWWERERERERDJps10EzWYzzDb9
2gVBgLe3t0IRkSewWCwwmUx27T4+PgpEQ55CFEWYjEa7di9RhKBAPOQ5jEYjYJM7KrMZaoXiIc9g
Mpkg2uSNYDK13ZM6kgXPjVtOm/2/WFRUhMLCQklbUFAQunXrplBE5Amqqqpw6dIlSZsgCLj11lsV
iog8gclkQnZ2tl17ok4H/+BgBSIiT5GbmwuLVitpi+zaFeEKxUOeobCwEHqbfU5gSAjiFYqHPAPP
jVtOmy2wBK0WXmVlkjaV7UhNREREREREMmqzBZaqsBCBJ09K2nyDgwGLxX7mAQMAgR15iIiIiIio
edpsgeWIYDQCxcVKh0FERERERG0URxEkIiIiIiKSCQssIiIiIiIimbDAIiIiIiIikgkLLCIiIiIi
IpmwwCIiIiIiIpIJCywiIiIiIiKZsMAiIiIiIiKSSbt6DhaRS8xm4Mcf7dv79QOCg1s+HiIiIiJq
tVhgETmjstK+zWxu+TiIiIiIqFVjF0EiIiIiIiKZtKsrWAaDAQUFBXbt8aIIQRAUiIg8gSiKDvMm
QqeDnwLxkOfIycmBqqJC0hYdHY2wsDCFIiJPcP36dZRcuCBpCwkJQWxsrEIRkSeorq6GxiZvfHx8
0LFjR4UiIk9QW1uLCzZ5AwCpqak8N26GdlVgWSwWaLVapcMgD+Qob0LZRZBuQqvVwmLTFhoaqkgs
5Dn0ej2MVVWSNm9vb4WiIU9hNBqhs8kbf39/haIhT2E2m1FlkzfUfOwi6CGWL1+Oxx57TOkwiIgA
AMHBwbh69SoAYPbs2XjllVeUDagN8c3LQ8CpU5LJKzdX6bCoHRJFsVX/X68fG7UNvXr1wo+OBhbz
MCywFLRx40b0798fwcHBSEhIwJgxY/Dzzz87nPell17Chx9+2MIRktJSUlIQEBCAkJAQhIeHY8iQ
Ifjggw8giqLSoVErV5c7wcHBCA4ORkhICK5duybb8qurq5GSkgIAEASBXUlkpNZo4F1aKpmE6mrZ
li9nbly9ehUqlQoWi+21WpLNt98Cu3dLJnVpqVtWZZsboaGhuHDhglv+r9flzv333y9pnz59Ov70
pz85tYz6+yHyDCkpKfjuu+8kbWvWrMHQoUMBACdPnsSdd97Z6DI8Yb/DAkshb7/9NhYsWICXX34Z
169fR25uLubNm4cdO3bYzWtmV7R2SxAE7Ny5E1VVVcjJycGLL76IFStWYO7cuQ7nb807mzbDaASq
qqSTjCe/cqnLnerqalRXV6OqqgpxcXFuWx+Lfs/hjtzg9ncjoxEwGKSTm/b1zuSG3Ns6MzMTBw4c
kMQgRxHH42HrJGeR7moumkwmWdbfGBZYCqisrMSSJUvw3nvvYfz48fD394darcb999+PFStWYOnS
pXjooYcwY8YMhIaGYs2aNVi6dClmzJgB4D+V+5o1a5CcnIzIyEi8//77OHToEPr06YPw8HA8/fTT
knX+85//RFpaGiIiInDfffchJydHiY/e6gllZQg6fFg6HT2qdFgAbnSFGDduHDZv3oy1a9fi1KlT
mD17Np544gmMGTMGQUFB2LdvH7788kv069cPoaGhSE5OlvwS2NTcuXTpEu6++25ERUUhOjoa06dP
R6WjIevbk+vXgR9+kEzCr78qHdVNVVRUYOzYsYiJiUFERATGjRuH/Px86+vDhw/HK6+8giFDhiA4
OBgPPPAASkpK8MgjjyA0NBS33347srOzrfOrVCpcvnzZ+nfdAbNXr17YuXOntd1oNCIqKgrHjx9v
gU9JrnAmNxYvXow77rgDISEhuPfee1H67ysodb80h4WFITg4GAcPHrzpfmPFihVISkpCSEgIunfv
ju+//x7Xrl1DYGAgysrKrPNlZWUhJiaGPzIqzPb/ep19+/YhKSkJb731FmJiYpCQkIDPP/8cu3bt
QteuXREZGYk333zzpsv/4x//iEWLFkna6p84f/jhh+jSpQsiIyPx4IMPorCw0GFsjo6H5HlSUlKw
d+9eADeK7/79+yM0NBRxcXF4/vnnATje74iiiNdeew0pKSmIjY3FrFmzrPeW1Z37/POf/0THjh0x
YsQIjB07Fn/7298k6+7Tpw+2b98uy+dggaWAAwcOQKfTYcKECQ3Os2PHDkyePBmVlZV45JFHHFb7
mZmZuHjxIjZt2oT58+fjjTfewN69e3Hq1Cls2bLF2od1+/btWL58ObZt24aSkhIMHToUGRkZbvt8
Hs1kglqrtZtak9tuuw1JSUnYv38/BEHAJ598gldeeQUajQZDhgxBUFAQ1q9fj8rKSnz55Zf4+9//
brfDcDZ3AGDRokUoLCzEmTNnkJubi6VLl7bwJyZX1T9JMZvNmDt3LnJycpCTkwN/f3889dRTkvk3
b96M9evXIz8/H5cuXcKgQYMwd+5clJWVoUePHk5125k1axbWr19v/XvXrl1ITExE37595ftg1GxN
zY1PPvkEa9aswfXr12EwGLBy5UoAwP79+wHc+OGwuroaAwYMANDwfuPcuXN49913cfjwYVRVVWHP
nj3o2LEj4uLiMHz4cGzZssW6znXr1iEjIwNqtdqdXwXZaMpVgaKiIuj1ehQWFmLZsmV49NFHsWHD
Bhw9ehT79+/HsmXLJD/MOPLEE0/g/Pnzkm5jdec8e/fuxcKFC7F161YUFhaiY8eOmDp1aoPLsj0e
UuvUWI7VP9+dP38+FixYgMrKSly+fBmTJ08G4Hi/s3r1aqxduxb79u3D5cuXodFo7PZjP/74I86e
PYvdu3fbHauOHz+OgoICuy6rrmKBpYDS0lJERUVBpWr46x88eDAeeOABAICfn5/DZHzllVfg4+OD
e+65B8HBwZg2bRqioqKQkJCAoUOH4tixYwCA999/Hy+99BK6desGlUqFl156CceOHUMub5r2WAkJ
CdZfesePH49BgwYBAHx9fTFs2DD07NkTANC7d29MnToVP/zwg+T9N8udo/++ate5c2eMGDEC3t7e
iIqKwoIFC+yWRa2TKIoYP348wsPDER4ejsceewwTJkyAn58fgoKCsHDhQsm2FAQBv//979GpUyeE
hIRg9OjR6Nq1K+6++26o1WpMnjzZmhcNrQ8AHnnkEXz55ZfQaDQAbpwk1119p9bB1dxITU2Fn58f
Hn74YevxxdGxqbH9hlqthl6vx6lTp2A0GpGcnIxbbrkFADBz5kzrCY/ZbMamTZuYOy3MNjca+yEY
uDG65aJFi6BWqzFlyhSUlZXhmWeeQWBgINLS0pCWlmbNlYYEBARg0aJFePnll60x1NmwYQPmzp2L
9PR0+Pj4YPny5Thw4ECDvXBsj4fU+tjmWHh4OObNm+fwQoKPjw8uXLiAkpISBAQEWH/AcbTf2bBh
A5577jmkpKQgMDAQy5cvx6ZNmyRdRZcuXQp/f3/4+flh3LhxOH/+PC5dugTgxrFq6tSp8PKSZ4B1
FlgKiIyMRElJSaP9g5OSkm66nPrPRPH397f7u+4EJzs7G/Pnz7cmcmRkJABIuoCQZ8nPz0dERAQA
+1w5ePAg7rrrLsTExCAsLAwffPCBtTtPHWdzp6ioCFOnTkVSUhJCQ0MxY8YMu2VR6yQIArZv347y
8nKUl5djw4YN+K//+i+kpKQgNDQUw4YNQ2VlpeRAVT8P/Pz8EBMTI/m7Li8ak5CQgCFDhuDTTz9F
RUUFvv76azzyyCPyfjhqFldyo/59OPX3EY40tt9ITU3FX/7yFyxduhSxsbHIyMiwdvl68MEHcfr0
aVy9ehXffPMNQkND0b9/fzd9C+SIbW5s27at0fkjIyOtJ8Z1Q8LbHk9qamoAAEFBQdZBVfLy8iTL
mTt3LoqKirBz507JiXbdVas6gYGBiIyMdHj+IggCOnTo0MRPTC3NNsfKy8vx3nvvOSyaPvroI5w/
fx49evTA7bffji+//LLB5drmSnJyMkwmE4qKiqxt9fOj7seidevWQRRF2X/QYYGlgEGDBsHX17fB
HZejGwCbc0NgcnIy/vGPf0iSuaamBgMHDnR5maScQ4cOIT8/3zrijm1uTJs2DePHj0deXh4qKirw
+OOPN/lm37plLly4EGq1GidPnkRlZSXWrVvHG4c91MqVK3H+/HlkZmaisrISP/zwA0RRbLCrRnP2
OXVdL7Zu3YrBgwcjPj7e5WWR+zU1N+pzlCc3229kZGRg//79yM7OhiAIeOGFFwDcOOGZPHky1q9f
j/Xr12PmzJnyfUiSjav7Bo1GYx04w/aHQR8fHyxZsgSvvPKKJO8SEhIkw7DX1NSgtLQUiYmJLsVA
rVND+5rU1FRs3LgRxcXFeOGFF/DQQw+htrbWYQ7a5kpOTg68vLwkBb/t+2bNmoUNGzbg22+/lVwh
kwMLLAWEhoZi2bJlmDdvHrZv3w6tVguj0YivvvrKeqCx5cpIKXXvefzxx/HGG2/g9OnTAG70Wd26
davrH4BaVN12rKqqws6dO5GRkYEZM2agZ8+eDvNCo9EgPDwcPj4+yMzMxMaNG5t0QKy/TI1Gg8DA
QISEhCA/Px9vvfVW8z8QKUKj0cDf3x+hoaEoKytzeD9V/W3flH2O7bwTJkxAVlYWVq1axZNkD9DU
3KgvOjoaKpXK2s2mbnkN7TfOnz+PvXv3Qq/Xw9fXF35+fpJ7rGbOnInVq1djx44d7B7YCjlbeLti
xowZ0Ol0+Prrr61tGRkZWL16NY4fPw69Xo+FCxdi4MCBSE5OdhgbtS3r169HcXExgBvnzoIgQKVS
OdzvZGRk4H//939x9epVaDQaLFy4EFOnTm30dpxBgwZBEAQ8//zzsh+rWGAp5Nlnn8Xbb7+N1157
DTExMUhOTsZ7771n7e/s6ApW/TZnTpjr5hk/fjxeeOEFTJ06FaGhoejduzd2794t46chdxo3bhxC
QkKQnJyM5cuX47nnnsPq1asBOL7a+d5772Hx4sUICQnBq6++iilTpkhev1nu1H99yZIlyMrKQmho
KMaNG4dJkybxeUdNEHjqlN2olCoZn0XVFM888wxqa2sRFRWFwYMHY/To0Y1eKb/ZlfTG5vXz88PE
iRNx9epVTJw4Ue6PQjJrTm7U3T8zZMgQREREIDMzs9H9hl6vx0svvYTo6GjEx8ejpKQEy5cvty57
yJAhUKlU+N3vfsfuXk2krq6Gb26uZPKqN+Keqxr7v97c3jb151epVFi2bBnKy8utbSNGjMCrr76K
SZMmISEhAVeuXMGmTZucio08R0Pbbvfu3ejVqxeCg4OxYMECbNq0Cb6+vpL9Tnh4ODIzMzFnzhzM
mDEDd955J2655RYEBATgnXfekazDkZkzZ+K3337D9OnT5f1MYhst+Yv270f14cNOzdt5/nwIjVS4
1H5Unj+P4kb6+NYX//DDCGQ3hfYnPx/IypI0mUwmSdeExoQNHYqodnBfyauvvooLFy7g448/VjqU
Vu3yBx/A4sRIpf7duiFxzJgWiEh5I0eOxLRp0zBnzhylQ2kdvvoKsHluT0FBAbRO5I1XRARSZs1y
V2TkYQoKCiTD3Dfm1ltvbRcF67p16/Dhhx9KRk+WgzxDZRAREf1bWVkZ/vnPf2LdunVKh0Ie5tCh
Q8jKypLtWTRERA3RarV499137YZzlwMv2xARkWw+/PBDJCcnY/To0bjjjjuUDoc8yKxZs3DPPffg
L3/5CwIDA5UOh4jasN27dyMmJgbx8fGYNm2a7MvnFSwiIpLNY489hscee0zpMMgDrV27VukQiKid
uPfee5169IirWGARuUh16hRg+7DD5GSA92URERERtVsssIhcJFRWAnq9tDE6WplgiIiIiKhV4D1Y
REREREREMmGBRUREREREJBMWWERERERERDJhgUVERERERCQTFlhEREREREQy4SiCRERERETUuHPn
gMpKaVtCApCUpEw8rRgLLCIiIiIialx5OVBcLG0LCVEmllaOBRYAVFQAarW0LTAQ8OLXQ0RERERE
zmMFAQA//QQIgrRt4EA+NJaIiIiI2p8DB+zbqqrs2/LygLIyaVtQENCnj3vi8hAssAAUFhZCsCmw
QrVaBCgUD3mGkpISqG2ufAYkJCBUoXjIM5SXl6Py0iVJW2BgIOLi4hSKiDyBVqvFJZu88fLyQseO
HRWKiDyB0Wi0yxsASElJsTt+EdVXePIkbC49ICIiAr6+vtLG2tobU30Wi1tj8wQssHDjwGUryGxW
IBLyJDqdzq5NrdcrEAl5Ep1OB0NFhdJhkIcxGo2otckbHx8fhaIhT2GxWFDlYH8jiqIC0ZAn0Wq1
gE2ehIbyJ2RncZh2IiIiIiIimfAKFhERkbtZLIBGY9/OKwlERG0OCywiIiJ302qBH36waxYMBgWC
ISIid2IXQSIiIiIiIpmwwCIiIiIiIpIJCywiIiIiIiKZsMAiIiIiIiKSCQe5ICIiImqLRJEDqRAp
gHMBbScAACAASURBVAUWERERURuk1moR8uuv9i+kpwNePAUkcpc28b+rsLAQOp1O0maurlYoGvIU
ZWVlqKyslLSZi4ubt1CzGTAapW2CwANZG1JTU4PqoiJJm2ixKBQNeQqj0YhSm7wBAAtzh26iqKgI
oskkadPr9QpFQ57C0blxbW2tQtG0P23irK+qqgoamwc4+up08FMoHvIMNTU1KCsrk7R51dQgsBnL
9Lp8GaiokDZGRwMDBzZjqdSaGAwGaPgDDjWR2WxuVt4IRiNUNsc5lR+Pcu2BRqOBaPvDHdFNODo3
bhB/6JFdmyiw3EG4ds2+MSwMiIho+WCIiKhd8y4thXdpqaRNFRQEDBigUERE1BaoKysRdPy40mG0
OSywGqDKzQVsDmbo0oUFFhERERERNYjDtBMREREREcmEBRYREREREZFMWGARERERERHJpE3cg6Uu
LoaPzchtao7yRURERERELaxNFFjeubmAo1H/iIiIiIgIgtEIwWbIf5XNs7JIHm2iwCIiIiIioob5
FBTALztb6TDaBRZYDaiqqoJWq5W0+cbFIViheMgzaLVaWGwe2Ofl7Y0wheIhz1BbW4u8vDxJm0ql
QkJCgkIRkScwm812eQMAcXFx8PLi4Z0aVlhYCMHHR9IWGRkJf39/hSIiT+Do3Njf3x+BgYEKRdR6
cQ/cAEdPvw7WallgUaN0Oh10NpfbfQIDWWBRo/R6PYqKiiRtarWaBRY1ShRFu7wBgOjoaBZY1Kjr
xcWATY4EBgaywKJGOTo3FgTBvsAymYDycvsFhIUBguCm6FoX7oGJiIiIiEge1dXATz/Zt48ZA6jV
LR+PAlhgERE1RhRlXZzflSvwzcmRtJkiIlDbtaus66G2TzAa4Xfpkv0LXbsCvr4tHxAREQFggUVE
1LDjxwGbYsirmY+AEMxmCGaztM1katYyqX0SzGb45ufbv8B8IiJSFAssIiIiIqWZzYDNAAIAZL+K
TkTuxwKLiIiISGnV1cD+/fbtNle8iaj1Y4FF7Zb66lUEnT4tabPtukVERERE1BQssKjdEgwGqB11
xyAiIiIichELLCI3U9XUAMeOSRsFAejbV5mAiIiIiMhtWGARuZmg1wO5uTaNLLCIiIiI2iKV0gEQ
ERERERG1FSywiIiIiIiIZMIugkRERERE5F5Xrty4RaK++HggIECZeNyIBRYREZGcamuBqipJk1BR
oVAwRPYCT5+GqJJ2YhLCw4HwcIUionbhzBn7tqAgFljtncFgQJXNQVOtViMwMFChiMgTWCwWaG2H
gxcEtL3dCclJFEW7/Q0ABAYGQq1WKxAROe36deDECUmTYDC02Oo1Gg30Njni5+cHHx+fFouBWjcv
BwV/bUUFVDb7HG9vb/j7+7dUWOSBjEaj3TmOSqWCn5+fQhG1DiywmqCyqgrXL1yQtAUEBKBHjx4K
RUSeQK/Xo6CgQNooCEhVJhzyEBaLBRds9jcA0KNHDwS0wV/7SD7ZOTkQbU5uOnbsiKioKIUiIk9w
vbgYJlGUtEVHRyM5OVmhiMgTaDQaaDQaSZuvry86dOigUEStAwe5ICIiIiIikgmvYBERKU0UAbPZ
vp1dAYmIqC3LzQVKS28+n58fcMst7o9HJiywmkCl10NlcxlUsLmcTkTUVN6lpQj9+WdJm+jtjapB
gxSKiIiIqAUUFjo3X2goC6y2yqeoCD5FRZI2r+hooH9/hSIijyWKgM0JNQCgd28gJKTl4yGiNsP/
4kXAdoS4oCCA92AREbUIFlhESikrs28zmVo+DiJqU7wd7FsEnU6BSIiIZFJbazc6KwCgZ89W2Z3+
/7N373FR1fn/wF9nhvsdFUcFCQURAbmYiV1UzDQ1MzO7KuE327a+5Za77Vr5bbX97Xb76u5q+922
dvtm2ZZm2XpJXFuNpNwk71e8i4h4AREGGJhh5vP7wy8TZ2bAYTgzZwZez8djHg/4cC6fgRdnzvtc
PocFFhEREZEnGQxAfb28zeYWBCJqxWgESkvt24cMYYHVFQkh7J9xBCA4OBiS7dOqiVppamqya/Mz
m+F9mwnyJo0OzkT4+/vD399fhd6QrzAajXafVVqtFoGBgSr1qJsrL3f80FUv09zcbJcbSZL4bCxq
l0UIh/s4AQEB3Wbf2KcKLCEEqhyMNNLsaPQtD2m+ehWlq1fbtQ+eOROSn0/9eru06upqmG1y4uif
35PKysrs2vpUViLM9uF8AQEAd4JUUV9fD7PNgzcdFTiedPr0abu2uLg46HQ6FXpDjjQ2NsJok5tm
lS//vXroEKrOnJG1hcfFIZ4DqXgNR8WM2qqrq1FdXS1rCwoKQlpamko9Iltt7RtLx44hpKZG1qax
PWvqJiaj0eE+zsCBA5UvsPbutbvnFImJQFSUsuvpIJ+rAEodnB4MNRpVeyNSc7PD693B0QW9SkVF
BQwGg6wtqL4e3la2aA4cAE6ckDcOHgwkJ6vToW7u6tWrMFy6pHY3yMfU19ej2sty41ddDT+bHWUt
z0J4lebmZlzystyQb3C4b3z5MvxtCqwu6cIF+7bYWM/3w4bPFVi+oqamBhqbS3ZCQkJ4GQ+1q6mx
EcJikbX5NTV5XSFI7ic1NyNszx67dqNOB2GzHWkKCUGNzZlPPz8/hIaGurWP5NtMJhNqbHbAJElC
BEcypXaYzWa73ABAeHg4NLZnEohaaWhosDuDFRgYCL8ueMWXW99RYWEhcnNz3bmKdu04cQI5SUmq
rHvD//t/yLE566C7805Eeqg/av/uO8MdfddWVcHf5gZiTRuXYqiZm407dtitOyowEIG2Z0QDA4GY
GPsF9OjRqfUzN65TPDdCQKvX2zUHO2jbtnEjRqSkyNqC+vdH6N13K9efdqj9u+8sNfuv5vbGdPYs
1v/618gZNMjapgkORsScOfYTnzhx7Sbz1vr2BaKjXV4/c+M6VXNjMmHlypUYbvOImoyMDI8UWMxN
56iZnbXffmu37j59+iAsLMz9K79wAYVr1iD3xht/bAsOBjIy3LI6nyuwgo8ft2vT2Fz61ULNEP1Q
UoKbExJkbQ11dRBXr8ra/LRa+NuMfiJJEgI6eemG2v/AneGOvgeePg2tM08Kh7q5cbTu5spK1Nnc
96PRaByeDfUbNQqS7QdcRATg5JlT5sZ1auam+OhRjBwwQNZmNhhw1WZ7A4sFIefO2c3vl5QETUiI
y+tX+3ffWd11R1myWFBcUoKRrT6rhJ8frlZW2k0bfPy43WetJigIWhZYqqxbzdwAwK5du+wKrJqa
GrszEQEBAdDa7OO09fnlLOamc7xtH8fR/fBardbhWa1OXQVmMKCwqAi5/fv/2BYe7vryrsPnzskF
OPvEZy9UfegQqmxuUNfW1trdwyVFRSFq6lS7+aOjo3n6vRuqq6tDnZPD9/Z2cLAh+Pbb4d+3r9Ld
6nqOHLE7Qq/14evXGxsbcfLkSXmj2YxIBw+4DvX3R0Dv3rK2kJAQjhTWHRkMqFyxwqlJQ00mBJ86
JWvz690bYW46IkzezdF9QI6EhYWhl81DrzUaDaI7UayT77IdRKUtfn5+6OHgKp2wsDD7feOSEsBm
2wQPD1DltQVWY309Ks+elbXZ3pviawKcvHm12WjE2UOH7NotKSnQ2BwJcnTtqiRJMJvNMLbaWZQk
qVvc/2Uxm1Fx+LBdu1nlEQM9xdEN0hE7diDA5p4Kv+ho+PXsaTetubYWRpszHP79+tmfFeuCKg8c
gLApZJvaODvuC7R6PUIOHnRq2prt2yFstiMhgwcjrNWlY8C1o4pBtqNcAnbbG+Dah2GXOyBUV2c3
gNGVY8fQZHOm0OjgDFBXVH/+POrPn5e1afv2RZPN9kYjBEJsz6YCaG5qssuNVqu1O+PRFen1ejRe
vixrsx3ptqtydNDQz88PFgf7eCEhIXb37DQ3N9vlRqPR+PZ9PPv2AbaXf99wA9D6bAuuHTi7bJMb
IQRC9+61W6TWQyMGekpbg8AIIewy4m8w2G1HJEmC2WKByWT6sa22Fn7ffmu/spwcp6/8aZNox8KF
CwUAvvgSAMTChQvbiwtzw5fDl7O5YXb4av1ibvhy5cXc8OXKi7nhy9VXW9mRhOB44kREREREREro
YtdvEBERERERqYcFFhERERERkUJYYBERERERESlEkQKrsbEROTk5yMrKQmpqKl588UUAwJUrVzB+
/HgkJydjwoQJ9s9kUdDSpUsxdOhQpKenY+nSpW5d/2OPPQadToehQ4da2xYtWoS4uDhkZ2cjOzsb
BQUF1p+99tprGDRoEFJSUrB58+ZOr7+srAxjx45FWloa0tPTsWzZMgDA6tWrkZaWBq1Wi927d8vm
UboPSlE7O57MDaBudpgb5TA3zI0rmBvmxlXcx/G97DA33Tw3Tg+bch319fVCCCFMJpPIyckRRUVF
4pe//KV44403hBBCvP7662L+/PlKrU7mwIEDIj09XRgMBtHc3CzuuOMOceLECbetf9u2bWL37t0i
PT3d2rZo0SKxZMkSu2kPHTokMjMzhdFoFKdPnxaJiYnCbDZ3av0VFRViz549Qggh9Hq9SE5OFocP
HxZHjhwRR48eFbm5uWLXrl1u7YOS1MqOp3MjhLrZYW6UwdwwN65gbpgbV3Efx3ezw9x039wodolg
SEgIAMBoNMJsNiM6Ohrr1q1Dfn4+ACA/Px//+Mc/lFqdTElJCXJychAUFAStVosxY8bg888/d9v6
R40a5fCBeMLBgIxr167Fww8/DH9/fyQkJCApKQnFxcWdWn+fPn2QlZUF4NoD1oYMGYLz588jJSUF
ycnJHumDktTKjqdzA6ibHeZGGcwNc+MK5oa5cRX3cXw3O8xN982NYgWWxWJBVlYWdDqd9RTdxYsX
odPpAAA6nQ4XL15UanUy6enpKCoqwpUrV9DQ0ICNGzfi3LlzHlt/i7feeguZmZmYM2eO9ZTr+fPn
ERcXZ50mLi4O5eXliq3zzJkz2LNnD3Jyctqcxt196Cy1suMtuQE8nx3mxnXMDXPjCuaGuXGVt2SH
+zgdx9x039woVmBpNBrs3bsX586dw7Zt2/D111/Lfi5Jkt2TlpWSkpKC+fPnY8KECZg0aRKysrIc
PsHZXesHgKeeegqnT5/G3r170bdvX/ziF79oc1ql+lFXV4cZM2Zg6dKlCAsL69C87vxddJRa2fGG
3ACezw5z0znMDXPjCuaGuXGVN2SH+ziuYW66b24UH0UwMjISd911F3bt2gWdTocLFy4AACoqKtC7
d2+lV2f12GOPYefOnfjmm28QHR2N5ORkj66/d+/e1qA+/vjj1tOMsbGxKCsrs0537tw5xMbGdnp9
JpMJ9913H2bNmoVp06a1O627+qA0NbKjdm4Az2aHuVEGc9M25qZtzE3bmJv2qZ0d7uN0DnPT/XKj
SIFVWVlpPe1nMBjw1VdfITs7G1OnTsUHH3wAAPjggw+u+2Y749KlSwCAs2fPYs2aNXjkkUc8uv6K
igrr11988YV1FJWpU6di5cqVMBqNOH36NI4fP44RI0Z0al1CCMyZMwepqal47rnn2pymhTv6oBS1
s6N2bgDPZYe5UQ5zYz9NC+ambcyN/TQtmJv2qZ0d7uN0HHPTzXOjxEgZ+/fvF9nZ2SIzM1MMHTpU
vPnmm0IIIaqqqsS4cePEoEGDxPjx40V1dbUSq3No1KhRIjU1VWRmZoqtW7e6df0PPfSQ6Nu3r/D3
9xdxcXHivffeE3l5eWLo0KEiIyND3HPPPeLChQvW6X/3u9+JxMREMXjwYLFp06ZOr7+oqEhIkiQy
MzNFVlaWyMrKEhs3bhRffPGFiIuLE0FBQUKn04mJEye6rQ9KUTs7nsyNEOpmh7lRDnPD3LiCuWFu
XMV9HN/LDnPTvXMjCeFgeA8iIiIiIiLqMMXvwSIiIiIiIuquWGAREREREREphAUWERERERGRQlhg
ERERERERKYQFFhERERERkUJYYBERERERESmEBRYREREREZFCvLrA0mq1yM7ORkZGBqZPn466ujqX
l/Xqq6/Kvr/11ls72z07y5cvR0xMDJ544okOzbdw4UJs2bKl3WlWrVqFQYMG4e677+5MF7sF5uZH
zI3zmJsfMTfOY25+xNw4j7n5EXPTMczOj7w6O4o+tlhhYWFh1q/z8/PF4sWLFVmWuyxfvlzMnTvX
bcsvLCwUU6ZMcdvyuwrmRo65cQ5zI8fcOIe5kWNunMPcyDE3zmN25Lw1O159Bqu1kSNH4uTJkwCA
3Nxc7Nq1CwBQWVmJAQMGALhWJU+fPh2TJk1CcnIy5s+fDwB44YUXYDAYkJ2djby8PABAWFgYAKCw
sBBjxozBtGnTkJiYiBdeeAErVqzAiBEjkJGRgVOnTgEALl++jBkzZmDEiBEYMWIEtm/f7rCfQgjr
18uXL8e0adMwYcIEDBgwAH/605+wePFiDBs2DDfffDOqq6sBALNnz8bnn38OAEhISMCiRYtw4403
IiMjA0ePHnW4bHIOc8PcuIK5YW5cwdwwN65gbpgbVzE73psdnyiwzGYzvvrqK6SnpwMAJEmCJEkO
p923bx8+/fRTHDhwAKtWrUJ5eTlef/11BAcHY8+ePVixYoV1GS3279+Pd955B0eOHMGKFStw8uRJ
FBcX4/HHH8dbb70FAHj22Wcxb948FBcX47PPPsPjjz/uVN8PHTqEL774Aj/88AMWLFiAiIgI7N69
GzfffDM+/PBDu/cjSRJiYmKwa9cuPPXUU1i8eLFrvzRibsglzA25grkhVzA35Cpmx7v5qd2B9rRU
1uXl5UhISMCTTz553XnGjRuH8PBwAEBqaipKS0sRGxvb7jw33XQTdDodACApKQl33nknACA9PR1f
f/01AOBf//oXjhw5Yp1Hr9ejoaEBISEhbS5XkiSMHTsWoaGhCA0NRVRUlPU60aFDh2L//v0O55s+
fToAYNiwYVizZs113zPJMTfMjSuYG+bGFcwNc+MK5oa5cRWz4xvZ8eoCq6WyNhgMuPPOO7F27Vrc
e++98PPzg8ViAQA0NjbK5gkMDLR+rdVq0dzcfN31tJ5Ho9FYv9doNNb5hRDYsWMHAgICOvQenFl2
W/M423+SY26YG1cwN8yNK5gb5sYVzA1z4ypmxzey4xOXCAYHB2PZsmVYsGABhBBISEjAzp07AQCf
ffaZU8vw9/fv1B9kwoQJWLZsmfX7vXv3Xnee9q4L9dZrRrsS5oZcwdyQK5gbcgVzQ65idrybVxdY
ra8FzcrKQlJSEj799FM8//zzePvttzFs2DBUVVXJrtFs6/rTJ554AhkZGdYb+VpP19Y8rZe3bNky
7Ny5E5mZmUhLS8O7777rVP/bWk97fXVmfmobc8PcuIK5YW5cwdwwN65gbpgbVzE7vpEdSXSlclFl
H3zwAXbu3Gm9+U9phYWFWLJkCdavX++W5ZM6mBtyBXNDrmBuyBXMDbmqu2bHq89g+Zrg4GAUFBR0
+GFqzli1ahWefvpp9OjRQ/Flk7qYG3IFc0OuYG7IFcwNuaq7ZodnsIiIiIiIiBTCM1hEREREREQK
YYFFRERERESkEBZYRERERERECmGBRUREREREpBAWWERERERERAphgUVERERERKQQFlhEREREREQK
YYFFRERERESkED+1O+A2x44BR4/K23r2BG65RZ3+EBEREXVUQQHQ3CxvGzEC0OnU6Q/5hu3bgaoq
eVtyMjB4sDr96WZ4BouIiIiIiEghLLCIiIiIiIgUwgKLiIiIiIhIISywiIiIiIiIFMICi4iIiIiI
SCEssIiIiIiIiBTCAouIiIiIiEghXfY5WFeuXEHd2bOyNn+jEX1V6g/5Br1ej7KyMlmbRqNBSkqK
Sj0iX2AymXD8+HG79sTERAQGBqrQI/IVx44dQ7PNM45iY2MRGRmpUo/IF5SXl6PG5hlHPXr0QJ8+
fVTqEfmCK1eu4MLhw7K2kJAQJCQkqNOhLqzLFlgmkwlGo1HWJmy+J7JlNpthMBhkbZIkqdQb8iW2
uQEAi8WiQk/IlzQ2NsJkMsnabAsuIltGoxEGIWRttjkismUymew+q7RarUq96dp4iSAREREREZFC
WGAREREREREphAUWERERERGRQrrsPVhERETezq+yErC9P1inU6czRESkiK5RYDm4kVyyufmTiIjI
2wQdPw5LQ4OsTRMXB8TFqdQjIiLqrK5RYH3/PWAzXKnW5nsiIiIiIiJ36xoFFpFCpOpqhO7dK28D
AJsjzACAzEwgPNwj/SIiIiIi38ACi6g1kwl+tbWyJkmSgOpq+2nNZg91ioiIiIh8BUcRJCIiIiIi
UggLLCIiIiIiIoWwwCIiIiIiIlII78EiIiLyIprjx+3v+9TpgORkdTpEREQd0q0KrObmZly6dMmu
PSYm5tpABkQOCCFw9epVu/ZQkwn+KvSHfMeVK1fg7y9PSXh4OIKDg1XqEfkCQ1UVRF2drM1Po0EY
CyxqR0NDg90+jp+fH3r06KFSj8gXGI1G7hu7QbcqsEwmE8rKyuzaY2JiVOgN+ZLKykq7Nn+jkQUW
tevChQt2bf3792eBRe2q0+tRp9fL2oJ79kSYSv0h31BXV4c6m8I8ODiYBRa1y2g0ct/YDXgPFhER
ERERkUJYYBGRzFNPPYXf/va3aneDvIQSeSgsLET//v0V6hEREXUFtp8N6enp2LZtm4o9Ug4LLA9K
SEjAli1bZG3Lly/HqFGjVOoR+aqEhAQEBgaiqqpK1p6dnQ2NRoOzZ8+6vOy3334b//Vf/9XZLpIH
MQ/kDHfl5MyZM9BoNLBYLEp0k7qYhIQE6HQ6NDQ0WNv+9re/YezYsSr2ijoqISEBISEhCA8PR58+
fZCXl4fa2lpF13Hw4EGMHj0aALBo0SLk5eV1eBmTJk1CeHg4wsPDERAQgMDAQOv3TzzxBPz9/XHq
1Cm7+e6991788pe/7PR7aMECy4MkSVLshkHbD7Lm5uYOzd/R6cm7SJKEgQMH4pNPPrG2HThwAAaD
gTeldkPMAznD3TkRQrg0Hz+Puj6LxYKlS5eq3Q3qBEmSsGHDBuj1euzbtw8HDhzwyqtdCgoKoNfr
odfrMXPmTMyfP9/6/bvvvotx48ZhxYoVsnmuXLmCgoICzJ49W7F+sMBSWesPtSNHjiA3NxfR0dFI
T0/H+vXrrT+bPXs2nnrqKUyePBlhYWH4+uuvkZCQgDfffBMZGRkIDw+H2WzGunXrkJaWhujoaIwd
OxYlJSXWZdhOz6ONvm3WrFn48MMPrd9/8MEHePTRRyGEgBACubm5eO+996w/b322VAiBefPmQafT
ITIyEhkZGTh8+DCAa1l7+eWXrfOtXbsWWVlZiIyMRFJSEv75z3966B1SR6idh/fffx+pqamIiIhA
YmIi3n33XU+8beqg9nJy6dIl6HQ6WaG0Zs0aZGVlAQCKi4sxfPhwREZGok+fPnj++ecBwHrEOSoq
CuHh4dixYwcA4H//93+RmpqKHj16YOLEibIzZBqNBn/+85+RnJyM5ORkPPPMM9bltZg6dSr++Mc/
uucXQR4jSRKef/55LF68GDU1NXY/Lykpwfjx49GzZ0+kpKRg9erVAIDTp08jOjraOt1PfvIT6HQ6
6/d5eXnWom358uVITExEREQEBg4ciI8//tjN76p70+l0mDBhAg4dOgQA+P7773HLLbcgOjoaWVlZ
+Oabb6zTduSzoeVKr02bNuG1117DqlWrEB4ejuzsbHz22WcYPny4bPrf//73mDZtWrt9tT3wk5+f
b1dgrVy5EmlpaUhLS3Pq/TuDBZaH2f6hW75vbm7G3XffjYkTJ+Ly5ct46623MHPmTBw7dsw67Sef
fIKXX34ZdXV1uO222yBJElauXImCggJcvXoVJ0+exCOPPIJly5ahsrISkydPxt133y07Oth6eo2G
f35fNnLkSNTW1qKkpARmsxmrVq3CrFmzrD9v74zp5s2bUVRUhOPHj6OmpgarV6+2jjTVer7i4mLk
5+djyZIlqKmpwbZt25CQkOD290Ydp3YedDodvvzyS9TW1uL999/HvHnzsGfPHve+aeqw9nISExOD
Xr16yQ6irFixAvn5+QCAZ599FvPmzUNNTQ1OnTqF+++/HwBQVFQEAKipqYFer0dOTg7Wrl2L1157
DV988QUqKysxatQoPPzww7K+rF27FsXFxThy5Ajy8/PxySefWD8TKysrsWXLFsycOdPtvxNyv+HD
hyM3NxeLFy+WtTc0NGD8+PGYNWsWLl++jJUrV+I///M/UVJSggEDBiAiIsK6Hdm2bRvCw8OtB463
bduG3Nxc1NfX49lnn8WmTZtQW1uLf//739aDAqSslv/Pc+fOYdOmTcjJyUF5eTmmTJmCX//616iu
rsbixYtx3333WS9F7shnQ8vnzcSJE/HSSy/hoYcegl6vx549ezB16lScPn1aduKg9fbJWdOmTUNl
ZSW+++67Ti3neriH7UFCCEybNg3R0dHW19NPPw1JkvD999+jvr4eL7zwAvz8/DB27FhMmTJFdinH
tGnTcPPNNwMAAgMDAQA/+9nPEBsbi8DAQKxatQpTpkzBuHHjoNVq8fzzz8NgMGD79u0ArgW39fTk
+/Ly8vDhhx/iq6++QmpqKmJjY52az9/fH3q9HkeOHIHFYsHgwYPRp08fu+nee+89zJkzB+PGjQMA
9OvXD4MHD1b0PZBy1MzD5MmTMWDAAADXzmhMmDDBuuNN3qW9nDz66KP46KOPAFy7bGbz5s145JFH
AAABAQE4fvw4KisrERISgpycHACOLw38y1/+ghdffBGDBw+GRqPBiy++iL1798qGg37xxRcRFRWF
wMBA3HTTTYiMjLTep7xy5UqMHTuWQ0V3EZIk4Te/+Q3eeust2WNPNmzYgAEDBiA/Px8ajQZZWVmY
Pn06Pv30UwDAmDFjUFhYiAsXLkCSJMyYMQPffPMNTp8+jdraWmRmZgK4dka05XJXnU6H1NRUlZt7
ggAAIABJREFUVd5nV9ayDxsREYH4+HgkJiZiwYIF+OijjzB58mRMnDgRAHDHHXdg+PDh+PLLLwG4
/tnQcvVFi4CAADzwwAPW7dOhQ4dQWlqKKVOmdOh9BAcH4/7777eeyT9+/Dh2795t3c4phQWWB0mS
hLVr16K6utr6+vOf/wwhBM6fP283ytYNN9yA8+fPW+d1NApX67aKigrEx8fL1te/f3+Ul5c7nJ58
myRJyMvLw9///nfZZT7OuP322/HMM8/g6aefhk6nw09/+lPobZ67A1w7SpWYmKh018kN1M5DQUEB
Ro4ciZ49eyI6OhobN260G0yB1NdeTiRJwsyZM7F+/Xo0NDTg008/xejRo62XZb333ns4duwYhgwZ
ghEjRlh3oBwpLS3Fs88+az2Y2LNnTwBo9/OodXH30UcfuXSDO3mvtLQ0TJkyBa+//rr1rHhpaSl2
7NghO/D88ccf4+LFiwB+LLCKioowevRojBkzBt988w22bdtmvcQ5NDQUq1atwl/+8hf069cPU6ZM
wdGjR1V7n11Vyz5sbW0tCgsLsXXrVuzatQulpaVYvXq17G/43XffWZ8DqeRnQ35+vvXyzxUrVuDB
Bx+Ev78//v73v1sHsrjrrrucWs7q1avR1NSEFStWYOLEiejVq5dLfWoLCyyVtXyw9evXD2VlZbId
otLS0usegW59yU+/fv1QWloqW3ZZWZlsGbzhvWuJj4/HwIEDUVBQgOnTp8t+Fhoaivr6euv3tg+9
nTt3Lnbu3InDhw/j2LFj+O///m+75ffv3x8nTpxwT+dJcWrloampCffddx9+9atf4dKlS6iursbk
yZNdHvSA3Ku9nMTFxWHkyJFYs2aNXZGTlJSEjz/+GJcvX8b8+fMxY8aMNgfIiI+Px7vvvis7oFhf
X4+RI0dap7Gdb9asWVi7di327duHkpKS695bQb7nlVdewV//+ldrod2/f3+MGTNGlhO9Xo//+Z//
AXCtwCoqKkJhYSFyc3Nx22234bvvvsM333yD3Nxc63InTJiAzZs348KFC0hJScFPfvITNd5etzF6
9GjMnTsX8+fPR3x8PPLy8uz+hr/61a869dngaLsycuRIBAQEYNu2bfjkk0+s26eZM2daB7Jo78BP
i1tvvRU9evTA2rVr8fe//13xywMBFlheIycnByEhIXjzzTdhMplQWFiIDRs24KGHHgLg3OhMDzzw
AL788kts3boVJpMJS5YsQVBQEG655RZ3d59U9N5772Hr1q0IDg6WtWdlZWHNmjUwGAw4ceIE3nvv
PesGa+fOndixYwdMJhNCQkIQFBQErVYLQH5afs6cOXj//fexdetWWCwWlJeX88igl1MjD0ajEUaj
Eb169YJGo0FBQQE2b97s2TdOHdJWToBrZ5LeeOMNHDx4UFaAffTRR7h8+TIAIDIyEpIkQaPRICYm
BhqNBidPnrRO++STT+LVV1+1DpbScm9fe+Li4jB8+HA8+uijmDFjBi9l74ISExPx4IMPYunSpZAk
CVOmTMGxY8fw0UcfwWQywWQy4YcffrDeZ5OUlISgoCB89NFHGDNmDMLDw9G7d298/vnnGDNmDADg
0qVLWLt2Lerr6+Hv74/Q0FDr9ovc57nnnkNxcTFuu+02rF+/Hps3b4bZbEZjYyMKCwtRXl7eqc+G
Pn364MyZM3b7v3l5eXjmmWcQEBBw3f3btvadJUnCo48+il/96leoqanB3Xff7dyb7gAWWCpruaHP
398f69evR0FBAWJiYvDMM89gxYoVSE5Olk3XnuTkZHz00UeYO3cuYmJi8OWXX2L9+vXw8/PzxFsh
lQwcOBDDhg2zft+SlXnz5iEgIAA6nQ7/8R//IRvwoLa2Fk888QR69OiBhIQE9OrVy/r8h9ZZu+mm
m6w3pUZFRWHs2LGdeqYSuZ8n85Cbm4uzZ88iPDwcy5YtwwMPPIAePXrgk08+wT333CPrF8+eexdH
OWkxffp0nD17Fvfeey+CgoKs7f/85z+Rnp6O8PBwzJs3DytXrkRgYCBCQkKwYMEC3HrrrYiOjkZx
cTGmTZuG+fPn46GHHkJkZCSGDh0qGzyjrTzk5+fjwIEDvDywC/v1r39tfSZWWFgYNm/ejJUrVyI2
NhZ9+/bFiy++CKPRaJ0+NzcXvXr1sl6N03LmqiW/FosFf/jDHxAbG4uePXuiqKgIb7/9tmffVDfU
q1cv5Ofn4/e//z3WrVuHV199Fb1790Z8fDyWLFkCIUSnPhtaBtHp2bOnbPTAvLw8HDp0SPYZ1pb2
9p0fffRRlJWVWS8zVJokusI1HNu3AzbXc1ZVVaG6ulrW1hwZifr/uyGytWHDhvHDnwAANceO4bIT
p5cBoO8DDyDUyUEEqGszmUzYv3+/U9P2798fvXv3dnOPyFeceucdWFo9gLUtwYMHI3byZA/06JpB
gwbhnXfewe233+6xdQLXRiScNWuW7HL3bq+gALB5VtjpmBhccWKnMDg4mAM+dFcO9o0vRkbiXGio
U7N7675xy0Ame/bs8ep7xHkGi4iIiKzWrFkDSZI8XlyZTCb88Y9/5P0zRNSmt99+GyNGjPDq4goA
eO0YERERAbh2+VVJSYndgzjd7ciRI7jpppuQlZWF5557zqPrJiLfkJCQAEmS8I9//EPtrlwXCywi
IiICABQWFqqy3iFDhqCurk6VdRORbzhz5ozaXXAaLxEkIiIiIiJSCM9gEblIU1ICVFTIG2Njgb59
1ekQEREREamOBRaRi6QrVwDb0b+iotTpDBERERF5BV4iSEREREREpBAWWERERERERArpVpcISiYT
/Cor1e4GEXU1RiPC9uyxa64fMgQiKEiFDlFXI5nNgMFg0ygBzBcRkdfpVgWWtqEBoYcP2/9g/Phr
H1RERK4QAlq93q5ZslggVOgOdT3aixeBf/1L3hgSAowbp06HiIioTbxEkIiIiIiISCEssIiIiIiI
iBTCAouIiIiIiEgh3eoerLZUVlZC0shrzYiICAQEBKjUI/IF9fX1MBqNsjZ/gwHBKvWHvI/flSsQ
9fWytoagIFTabG8CAgIQERHhya6RjzGZTKitrZU3NjeDqaH2NDc3o9LB4F49evSARsNj7NS2yspK
SDbjE3Df2HkssACcPXvWbpCLQYMGMUTUrurqaru2CL2eBRZZBZ86ZdemN5lQ1dgoa4uKimKBRe1q
bGxEo01uNGFhLLCoXSaTCaWlpXbtUVFRLLCoXWfPnrVr476x8/jfRUREREREpBAWWERERERERAph
gUVERERERKQQFlhEREREREQK4SAXREQeFHTmDALLymRtATfcACQmqtQjIiIiUhILLCIiD5KamyE1
N8vbTCaVekNERERK4yWCRERERERECmGBRUREREREpBAWWERERERERArpEvdg1Tc0wKLXy9qMRqNK
vSFf0dDQgMbGRllbY329Sr0hX9HU1IR6m5yYGxpU6g35CrPZjJqaGrt2ixAq9IZ8iV6vB2zu2zRF
RQH+/ir1iHyBo33jpqAgIDRUpR51L12iwKq8fBmmixfV7gb5mKqqKly6dEnW5ldVBW56qD319fU4
ffq0rE0yGhGhUn/IN5hMJrvcAEC42cxLSahdly5dgrAZCMfQqxcQEqJSj8gXONo3bgwMBHr0UKlH
3Qu360RERERERAphgUVERERERKSQLnGJIBGRxxgM8L98WdZk+1wrIjv19Qj//nu7Zk0nnoGmaWoC
vvrK/ge33QYEB7u8XCIi6hwWWEREHSBVVyPkyBG1u0G+RgholB58SQjAZqAeazsREamGlwgSERER
EREphAUWERERERGRQlhgERERERERKYT3YBEpSQjH9z9Ikuf7QkREREQexwKrDQaDARqN/ASfv78/
AgMDVeoR+YSSEhjKy2VNkk6HoDFjVOoQ+YLm5mbU1dXJ2iRJQmgoH3tNbRNCwGAw2LUHWiy8PIXa
VV9fD61WK2sLCgqCnx93C6lt3Dd2Hv+T2nDu3Dm7tj59+iA2NlaF3pCvqK2tRW1trawtAEC8Ot0h
H2EwGHD06FFZm1arRVZWlko9Il9gNptRbnNABwD6m0zg7g6158SJE3ZtAwcORHR0tAq9IV/BfWPn
8SAXERERERGRQlhgERERERERKYQFFhERERERkUJYYBERERERESmEg1wACC8utmtrSEmBOTJShd4Q
UbcjBNDcbN9GREREPocFFgBNU5Ndm2SxqNAT8iTNxYsIthlJSXKQBSJ386+qQuT27bI2KTAQGD5c
pR4RERGRq1hgUbelqalBQEWF2t0gb3bmDHD5sqxJe+mSR1Ytmc3ADz/Y/yAtDQgJ8UgfiIiIqONY
YBERtaWmBrhwQdYk6fWeWbfFYrduAMDgwZ5ZPxEREbmEg1wQEREREREphAUWERERERGRQniJIBGR
Lzl2DAgIkLf16wf06qVOf4iIiEiGBRaRu1ksgMFg3x4c7Pm+kO9zNDBLWBgLLCIiIi/BAovIzbRX
rwL/+pe8UZKAKVPU6RARERERuQ0LLCIiX3f8OHD6tLytVy8gM1Od/pC6qqoAk0neFhEBBAWp0x8i
om6GBVYHXLhwARcvXpS1hYaGYjCHTaZ2GAwGnDx5Ut4oSUhUpzvkIywWi31uAMTFxSEwMFDeaDRe
e9m2Ubd0bsMGu7Yet9+O6IwMFXpDvuLUqVOQJEnW1qtXL8THx6vUI/IF3Dd2jAVWBwkhZN9bLBaV
ekK+xDY3RM5wS27q6+3bgoMBDQeV7Soc5YbbIHIGc0Ku4L6xPRZY1D2cPWt3RF9TU6NSZ4hUYjYD
W7fat48aBURFeb4/REREXRALLOoezpwBbAoqzdWr6vSFiIiIiLos3yuwtm+3a9I4uuSFiIiIiIjI
w3yvwKqqsmuSbEdLIiLq7iwWoLlZ3mY2q9MXIiKibsT3CiwP8a+stDszZg4PhzkyUqUeERF1wKVL
QEGB2r0gIiLqdlhgtSGgosKurTE+ngUWEXU9hw8DAQHytrg4oE8fdfpDyjOb7c9oShKg1arTHyKi
LsynCiwhBMy2HxAqMxgM2L9/v117eno6NBz22Gs0O9i5UHU4WiFw6i9/sWvWTZmC0Lg4FTpEjpjN
Zgib3Kg9/Oz58+ft2nr06IHIzhz8cXDpNUcVdJ3FYoHZ5nLMZpU/u64WFaHm229lbUFJSeg7ebJK
PSJbQgiHOVHzs6qqqgpXbQaECgwM7PbPOPImbeVGTdw39rECCwDOnDmjdhdkhBAw8R4wr3eurAzN
jnYiVWQxGOzahNEI2OZJq+UzilRy4cIFGLxsm2O74w4AFj67xqtUVVXh7NmzsjZNQwPCVeoP4PjA
gNoHC0iuoaEBJSUldu0RQkByML0nWCwWu5xoedbT6zgqZkINBtV28rlv7IMFFlFXptm5Ezh0SN44
eDCQnKxOh4iow6SqKgTb7ChLXnaEmYiI3IcFlpvs2bPHri0xMRFRvOyG2nG+vNyuLTwqCjoWWNSO
qspKVFVWytpCQkLQr18/969cCODAAfv2xEQgNNT96/dCUkMDAi5dUrsb11VTU4MLu3bJ2vz9/ZGR
kaFSj8gXNDY2YpdNbgAgIyMD/v7+KvSIfEV32jd263VHhYWF7lz8de04cULR5UnNzZCMRvmrjVOg
O3fudNguhLB7uYPav/vOULvvSuems+uWDAaIS5fsXrh82f7VSWr/7jtD7b57W24AD21vhEDhhg1A
aan81dSk/LrcRM3sqJkb/8pKHPnwQ0T8+9/WV+gPPzjMjTuyo/b/bGep2f8f9u1Tbd2A430c5sY5
ave/rf1TNdfdFfeN3XoGq7CwELm5ua7NfPUqYHtNaQd/4TtOnEBOUpJr63cg8Px5BNrcYN4cEYH6
rCy7aXft2oXhw4fL2k6ePGk3nVartTviExgYiISEBIfTSpJzV2J36nevMrX7rnRuOrvu2kOHUGtz
2aAkSfBzcKQw9qc/tWtjbjzD23LT0NDgcJvjbztaIIDeMTEIsGmXLBanj8AVHjiA3KFDne6vt1Ez
O2rmRrJYUFxSgpGtPm9EczOO//nPdtMahw+HFBYma+sjBCJt7gmUoqKgveEGp9av9v9sZ6nZ/537
9yP79ttVWTfgeB/ngIMz2f7+/nb3bEVGRqKPzQilkiQ5fW8Xc9M5jv52aq67q+4be/4SQZPJqUKp
Wa+H0cFQ6d5Gslg69aBjs9lsd9N6Y2Mj9jk4OpWeng4/P/mfTKPROB2s7kCYzaizvYcJgMWHjqY7
QwgBk9Fo135k40a7tv433YTw3r1lbZIkdZuRfJxVV1dndzO3t43MpARHuSl3cGlqdEMDokpL7drt
doLa2p7v2mU/BPjAgYCDD0hf1lBVhWabAWuMNTUq9UYBQkDjICOa06chbD5/KqurUV1XJ2sLHDAA
/RyMhMqBEeSamprQZPO51NjYqFJv3MdkMtkNdtDY2IiLFy/K2gICApCammo3P/dx5Jqbm9HQ0KB2
N9yuK+wbe7zAMpaWQth8GDna2TOZTNA7uH8gvAP3FATs349wD1TpUQ4KrPCwMPTt2/e680oGAySb
Bxq3pfroUbs2bY8e0IaE2LU3NjbKhlaVJAnBwcF20/n7+6seQmeYTCa7fzZHR7yE2YwGBzs3oSkp
Tq/LU7lxx7odjVJmaGhAg82HmZ+fn90GCbDPDXDtXh5bfn5+PlGgmc1muw/3to6U1tfX22Us8IYb
EBQd7dS6fDk3jjQDqLRp02g0Du+xaAoPR63N9i4wMNBu26INCYEv7GZbLBYYHRQZfpWVgE0R3nT5
Mow2OzwaPz+n/x5q5qbT69fp7Nv8/HDZZidI0mrh37+/3aQGg8FuexMQEOBwZ8nR9sobOSqSHB1h
b2pqQp1NcQrA4X6D9sYb7XIXeuqUU/sY7hIeHq74+m2LLsDxdsRRbrRaLQIDA2VtkiT5zD1hRqPR
7gCfRqOx+5w1Go1O50ZjsUCyyWNodDTCt29XLTvuyE2VgxGiHZ05BTy8byzasXDhQgGAL74EALFw
4cL24sLc8OXw5WxumB2+Wr+YG75ceTE3fLnyYm74cvXVVnYkIfgAFSIiIiIiIiV4/zU+RERERERE
PoIFFhERERERkUIUKbAaGxuRk5ODrKwspKam4sUXXwQAXLlyBePHj0dycjImTJhgd1OikpYuXYqh
Q4ciPT0dS5cudev6H3vsMeh0OgxtNSzxokWLEBcXh+zsbGRnZ6OgoMD6s9deew2DBg1CSkoKNm/e
3On1l5WVYezYsUhLS0N6ejqWLVsGAFi9ejXS0tKg1Wqxe/du2TxK90EpamfHk7kB1M0Oc6Mc5oa5
cQVzw9y4ivs4vpcd5qab58bpu/quo76+XgghhMlkEjk5OaKoqEj88pe/FG+88YYQQojXX39dzJ8/
X6nVyRw4cECkp6cLg8EgmpubxR133CFOnDjhtvVv27ZN7N69W6Snp1vbFi1aJJYsWWI37aFDh0Rm
ZqYwGo3i9OnTIjExUZjN5k6tv6KiQuzZs0cIIYRerxfJycni8OHD4siRI+Lo0aMiNzdX7Nq1y619
UJJa2fF0boRQNzvMjTKYG+bGFcwNc+Mq7uP4bnaYm+6bG8UuEWwZytloNMJsNiM6Ohrr1q1Dfn4+
ACA/Px//+Mc/lFqdTElJCXJychAUFAStVosxY8bg888/d9v6R40ahWgHQzcLB+OFrF27Fg8//DD8
/f2RkJCApKQkFBcXd2r9ffr0Qdb/Pdw4LCwMQ4YMwfnz55GSkoLk5GSP9EFJamXH07kB1M0Oc6MM
5oa5cQVzw9y4ivs4vpsd5qb75kaxAstisSArKws6nc56iu7ixYvQ/d9zMnQ6ncNnHCghPT0dRUVF
uHLlChoaGrBx40acO3fOY+tv8dZbbyEzMxNz5syxnnI9f/484lo9dDEuLs7hQz1ddebMGezZswc5
OTltTuPuPnSWWtnxltwAns8Oc+M65oa5cQVzw9y4yluyw32cjmNuum9uFCuwNBoN9u7di3PnzmHb
tm34+uuvZT+XJMltD7RNSUnB/PnzMWHCBEyaNAlZWVl2Dxhz5/oB4KmnnsLp06exd+9e9O3bF7/4
xS/anFapftTV1WHGjBlYunQpwsLCOjSvNz1cWK3seENuAM9nh7npHOaGuXEFc8PcuMobssN9HNcw
N903N4qPIhgZGYm77roLu3btgk6nw4ULFwAAFRUV6N27t9Krs3rsscewc+dOfPPNN4iOjkZycrJH
19+7d29rUB9//HHracbY2FiUlZVZpzt37hxiY2M7vT6TyYT77rsPs2bNwrRp09qd1l19UJoa2VE7
N4Bns8PcKIO5aRtz0zbmpm3MTfvUzg73cTqHuel+uVGkwKqsrLSe9jMYDPjqq6+QnZ2NqVOn4oMP
PgAAfPDBB9d9s51x6dIlAMDZs2exZs0aPPLIIx5df0VFhfXrL774wjqKytSpU7Fy5UoYjUacPn0a
x48fx4gRIzq1LiEE5syZg9TUVDz33HNtTtPCHX1QitrZUTs3gOeyw9woh7mxn6YFc9M25sZ+mhbM
TfvUzg73cTqOuenmuVFipIz9+/eL7OxskZmZKYYOHSrefPNNIYQQVVVVYty4cWLQoEFi/Pjxorq6
WonVOTRq1CiRmpoqMjMzxdatW926/oceekj07dtX+Pv7i7i4OPHee++JvLw8MXToUJGRkSHuuece
ceHCBev0v/vd70RiYqIYPHiw2LRpU6fXX1RUJCRJEpmZmSIrK0tkZWWJjRs3ii+++ELExcWJoKAg
odPpxMSJE93WB6WonR1P5kYIdbPD3CiHuWFuXMHcMDeu4j6O72WHueneuZGEcDC8BxEREREREXWY
4vdgERERERERdVcssIiIiIiIiBTCAouIiIiIiEghLLCIiIiIiIgUwgKLiIiIiIhIISywiIiIiIiI
FMICi4iIiIiISCFeXWBptVpkZ2cjIyMD06dPR11dncvLevXVV2Xf33rrrZ3tnp3ly5cjJiYGTzzx
RIfmW7hwIbZs2dLuNKtWrcKgQYNw9913d6aL3QJz8yPmxnnMzY+YG+cxNz9ibpzH3PyIuekYZudH
Xp0dRR9brLCwsDDr1/n5+WLx4sWKLMtdli9fLubOneu25RcWFoopU6a4bfldBXMjx9w4h7mRY26c
w9zIMTfOYW7kmBvnMTty3podrz6D1drIkSNx8uRJAEBubi527doFAKisrMSAAQMAXKuSp0+fjkmT
JiE5ORnz588HALzwwgswGAzIzs5GXl4eACAsLAwAUFhYiDFjxmDatGlITEzECy+8gBUrVmDEiBHI
yMjAqVOnAACXL1/GjBkzMGLECIwYMQLbt2932E8hhPXr5cuXY9q0aZgwYQIGDBiAP/3pT1i8eDGG
DRuGm2++GdXV1QCA2bNn4/PPPwcAJCQkYNGiRbjxxhuRkZGBo0ePOlw2OYe5YW5cwdwwN65gbpgb
VzA3zI2rmB3vzY5PFFhmsxlfffUV0tPTAQCSJEGSJIfT7tu3D59++ikOHDiAVatWoby8HK+//jqC
g4OxZ88erFixwrqMFvv378c777yDI0eOYMWKFTh58iSKi4vx+OOP46233gIAPPvss5g3bx6Ki4vx
2Wef4fHHH3eq74cOHcIXX3yBH374AQsWLEBERAR2796Nm2++GR9++KHd+5EkCTExMdi1axeeeuop
LF682LVfGjE35BLmhlzB3JArmBtyFbPj3fzU7kB7Wirr8vJyJCQk4Mknn7zuPOPGjUN4eDgAIDU1
FaWlpYiNjW13nptuugk6nQ4AkJSUhDvvvBMAkJ6ejq+//hoA8K9//QtHjhyxzqPX69HQ0ICQkJA2
lytJEsaOHYvQ0FCEhoYiKirKep3o0KFDsX//fofzTZ8+HQAwbNgwrFmz5rrvmeSYG+bGFcwNc+MK
5oa5cQVzw9y4itnxjex4dYHVUlkbDAbceeedWLt2Le699174+fnBYrEAABobG2XzBAYGWr/WarVo
bm6+7npaz6PRaKzfazQa6/xCCOzYsQMBAQEdeg/OLLuteZztP8kxN8yNK5gb5sYVzA1z4wrmhrlx
FbPjG9nxiUsEg4ODsWzZMixYsABCCCQkJGDnzp0AgM8++8ypZfj7+3fqDzJhwgQsW7bM+v3evXuv
O09714V66zWjXQlzQ65gbsgVzA25grkhVzE73s2rC6zW14JmZWUhKSkJn376KZ5//nm8/fbbGDZs
GKqqqmTXaLZ1/ekTTzyBjIwM6418radra57Wy1u2bBl27tyJzMxMpKWl4d1333Wq/22tp72+OjM/
tY25YW5cwdwwN65gbpgbVzA3zI2rmB3fyI4kulK5qLIPPvgAO3futN78p7TCwkIsWbIE69evd8vy
SR3MDbmCuSFXMDfkCuaGXNVds+PVZ7B8TXBwMAoKCjr8MDVnrFq1Ck8//TR69Oih+LJJXcwNuYK5
IVcwN+QK5oZc1V2zwzNYRERERERECuEZLCIiIiIiIoWwwCIiIiIiIlIICywiIiIiIiKFsMAiIiIi
IiJSCAssIiIiIiIihbDAIiIiIiIiUggLLCIiIiIiIoWwwCIiIiIiIlKIn9odIPIqFy8CxcXyNq0W
mDxZnf4QERERkU9hgUVE5C4lJUBjo7wtLg7o1Uud/hAREZHbscAiInKXCxcAvV7eFhXFAouIiKgL
4z1YRERERERECmGBRUREREREpBAWWERERERERArhPVhERERq0esBIeRtwcGAv786/SEiok5jgUVE
RKSW77+3H2ly2DAgNlad/hARUad12QJLr9ejtrZW1hYYGIheHL2L2tHY2Ij6qip5o1aLnup0h3yE
2WzGhQsX7Np1zc1ddyNLirhy5QqEwSBrCzEYEKxSf8g3VFVVodGmMA8LC0NkZKRKPSJfwH1jz+my
n/16vd5uhycsLIwhonY1NTWhurpa3sgCi67DYrE4LLB6mc1ddyNLirh69SosDQ2yNk0zFHb5AAAg
AElEQVRjIwssald1dTVqampkbb1792aBRe3ivrHncJALIiIiIiIihbDAIiIiIiIiUggLLCIiIiIi
IoWwwCIiIiIiIlIICywiIiIiIiKFdNkBrqSGBvhduSJr86uvB0wm+4nT0gBJ8lDPiIiIiIioq+qy
BZamogKhBw/K2gKDgoC4OPuJ09I81CsiIqL2aU6eBOrq5I0xMUBiojodIiKiDumyBRYREZEvkurq
AI3NFfzBfDIWEZGv4D1YRERERERECmGBRUREREREpBBeIkhE1FnNzQgsLbVv9/PjADpERETdDAss
IqLOMpsR5KjA6t8fCAz0fH+IiIhINd2qwBJCwORgmHY/ISDxKDO1o6mpya7N398fGtsb0YlaMZvN
dtscjdkMrUr9Id9gtljsciM1N3evD2zqMLPZbPdZJUkSAgICVOoR+QKLxeJwHycgIID7xp3QrbbX
TU1NKHVwlJkD31J7hBA4aDPkPwCkpKQgNDRUhR6Rrzh//rxdW1R8PHqp0BfyHVWVlaiqrJS1BQcF
IVal/pBvqKqqQlVVlawtODgYqampKvWIfEFDQ4PDfZxhw4ap0Juug4ffiYiIiIiIFMICi6ibSk9P
x7Zt2zo0T1FREVJSUtzUIyLyJosWLUJeXl6H5mm9XWk9/5kzZ6DRaGCxWBTvJxGRt2GB5aSEhASE
hIQgPDwcffr0QV5eHmpra9XuFhEA4Ntvv8Utt9yCqKgo9OzZE7fddht27tzZ7jwHDx7E6NGjHf6s
ZWcoPDzc+srOzsaoUaNQUlLijrdAHuRKXlzhyg46eU5YWJj1/1uj0Vg/48LDw/Hxxx+7dP9F6+0K
798gZ7z22muYPHmyrG3QoEEO2z799FNPdo1c5Im/qUajwalTp1zuo7uxwHKSJEnYsGED9Ho99u3b
hwMHDuC3v/2t2t0iQm1tLaZMmYJnn30W1dXVKC8vx8KFCxGowOh1NTU10Ov10Ov12LNnjwK9JbW5
My+tNTc3K7o8Ul5dXZ31//uGG26wfsbp9Xo88sgjEEI4vSxHf++OzN8es9msyHLIO40ZMwbbt2+3
5qWiogLNzc3Yu3ev9YxnRUUFTp482eZBQUe4DVKPu/6mtlzdxngiGyywXKDT6TBhwgQcOnQIALBu
3TqkpaUhOjoaY8eOlR3hT0hIwOLFi5GRkYHw8HDMmTMHFy9exKRJkxAZGYnx48fj6tWr1unvv/9+
9O3bF1FRURgzZgwOHz5s/dns2bPx9NNPY8qUKYiIiMDIkSNl1fuhQ4cwfvx49OzZE3369MFrr70G
4NoIMa+//jqSkpLQq1cvPPjgg6iurnb3r4k85NixY5AkCQ8++CAkSUJQUBDGjx+PoUOHAgD++te/
IjU1FREREUhLS8PevXsBXMvmli1bOrSuwsJC9O/fX/H3QJ7TXl6WL1+OW2+9FXPnzkVUVBSGDBmC
rVu3Wuc9f/48pk6dip49e2LQoEH429/+Zv3ZokWLMGPGDOTl5SEyMhLvvPMOXnvtNaxatcp6BpR8
iyRJMBqNyM/PR0REBNLT07Fr1y7rzxMSEvDmm29aP9/MZjMSEhJkmWlLTU0N5syZg379+iEuLg4v
v/yydcerJYc///nP0atXL7zyyitue4+kvuHDh8NkMlk/m4qKijB27FgkJyfL2hITE7Fp0yYMGTIE
ERERSExMxLvvvmtdTmFhIeLi4vDmm2+ib9++mDNnjirvh5z/myYlJSEkJKTNbcGJEycwZswYREVF
ISYmBg8//DAAWIuyzMxMhIeHY/Xq1QCADRs2ICsrC9HR0bj11ltx4MABa59st1cnT56ERqPBhx9+
iBtuuAExMTF49dVXFfsdsMDqgJZK+dy5c9i0aRNycnJw7NgxPPLII1i2bBkqKysxefJk3H333dbq
WJIkrFmzBlu2bMHRo0exYcMGTJo0Ca+//jouXboEi8WCZcuWWddx11134cSJE7h8+TKGDRuGmTNn
yvqwatUqLFq0CNXV1UhKSsKCBQsAAHq9HnfccQcmT56MiooKnDhxAuPGjQMAvPXWW1i3bh22bduG
iooKREdH4+mnn/bEr6zL0NTV2b3gJUdVBw8eDK1Wi9mzZ2PTpk2y4nn16tV45ZVXsGLFCtTW1mLd
unXo0aMHgGvZvN4lPEodgSbv0V5eAKC4uBhJSUmoqqrCK6+8gunTp1sPAj300EOIj49HRUUFPvvs
M7z00kv4+uuvrfOuW7cO999/v3Xn+aWXXsJDDz3EM6A+SgiBdevW4eGHH0ZNTQ2mTp2KZ555RjbN
ypUrUVBQgKtXr0Kr1Tp9WeDs2bMREBCAkydPYs+ePdi8ebOsYC8uLkZiYiIuXbqEl156SdH3Rd4l
ICAAOTk5+OabbwAA27Ztw6hRo3DbbbdZ7+fbtm0bRo8eDZ1Oh40bN6K2thbvv/8+5s2bJ9u2XLx4
EdXV1Th79izeeecdVd4POf83HTVqFPLz89vcFrz88suYOHEirl69ivLycsydO9c6LwDs378fer0e
999/P/bs2YM5c+bgr3/9K65cuYKf/vSnmDp1quyRF7bbKwD47rvvcOzYMWzZsgW/+c1vFLsNggWW
k4QQmDZtGiIiIhAfH4/ExEQsWLAAq1atwpQpUzBu3DhotVo8//zzMBgM2L59u3XeuXPnIiYmBv36
9cOoUaNw8803IzMzE4GBgbj33ntlG4fZs2cjNDQU/v7+WLhwIfbt2we9Xg/g2g7x9OnTMXz4cGi1
WsycOdN6JGDDhg3o168f5s2bh4CAAISFhWHEiBEAgHfeeQe//e1v0a9fP+tyP/vsM95s7CTJYkH4
7t12L/zf30Vt4eHh+PbbbyFJEn7yk5+gd+/euOeee3Dp0iX87W9/w/z583HjjTcCABITExEfH+/0
snv16oXo6GhER0fj97//vbveAnlQe3kBgN69e+PZZ5+FVqvFAw88gMGDB2PDhg0oKyvD9u3b8cYb
byAgIACZmZl4/PHH8eGHH1qXfcstt2Dq1KkAgKCgIAghWKT7uFGjRmHixImQJAmzZs3Cvn37rD+T
JAk/+9nPEBsb26FLTC9evIiCggL84Q9/QHBwMGJiYvDcc89h5cqV1mn69euHp59+GhqNBkFBQYq+
J/I+Y8aMse40f/vttxg9ejRGjRplbSsqKkJubi4mTZqEAQMGALh2FmPChAkoKiqyLkej0eCVV16B
v78/c6Oy6/1Nv/32W4wZM6bdbUFAQADOnDmD8vJyBAQE4JZbbmlzfe+++y5++tOf4qabboIkSXj0
0UcRGBiI77//HkDb26uWS+QzMjKQmZkp28Z1BgssJ0mShLVr16K2thaFhYXYunUrdu3ahYqKCtkO
qyRJ6N+/P8rLy61tOp3O+nVwcLDs+6CgINTV1QG4dp35Cy+8gKSkJERGRlo3IpWtnodiu6yWecvK
yjBw4ECHfT9z5gzuvfde645yamoq/Pz8cPHixc78SsiLpKSk4P3330dZWRkOHjyI8+fP47nnnsO5
c+eQmHj9J7213OweERGBc+fOWdurqqpQXV2N6upq/PznP3fnWyAPaisvkiQhNlb+tKUbbrgBFRUV
qKioQI8ePWTPfouPj5dt6+Li4jz2HsgzWn/mhISEoLGxUXZwzpVLhktLS2EymdC3b1/r59KTTz6J
y5cvd2q55LtGjx6Nb7/9FtXV1bh8+TISExNx8803Y/v27aiursahQ4cwevRoFBQUYOTIkejZsyei
o6OxceNG2bO/YmJi+GBlL3G9v+nBgweRkpICo9HY5rbgzTffhBACI0aMQHp6Ot5///0211daWool
S5ZYlxMdHY1z587JnkfpaLvSp08f69chISGor69X5P2zwHLB6NGjMXfuXMyfPx/9+vWTPbxYCIGy
sjK7nZTW2jqi+/HHH2PdunXYsmULampqcPr06Xanby0+Pr7N0VTi4+OtlwK1vBoaGtC3b9/rLpd8
z+DBg5Gfn4+DBw+if//+OHHixHXnabnZvba2ljvJ3UzrvACQFUzAtQ+tfv36oV+/frhy5Yr1oA4A
nD17VpYX28vDNBp+xPgyZy73c2WkwP79+yMw8P+3d/dBUdz3H8Dfe8fxDAIKFwQNPhGDyINJReJz
05CnVq0xaZtJSiexmaQPk/TRpE5HpzNt046mI+lMGzPp+DAda9TYxDHamEaiv+T3k+AT1qhBBAQ5
HgXC8XCP398f1pPdPfA4lts77v2a2RnzZff2A7xz7Od297tRsg9wuru7ZfdLcAbC8LJgwQJ0d3fj
zTffxMKFCwEAiYmJmDx5MrZu3YqMjAykp6fjsccewy9/+Uu0trais7MTjzzyiOwYibnRkMulXkZw
RYIvv9OpU6ciOjp6yPcCs9mMrVu34tq1a3jjjTfwgx/8YNhj3fXr18uOda1WK771rW951glkPvjX
z08vvfQSKioqsGTJEhw8eBAfffQRHA4HNm/ejOjo6GFPYw7FarUiKioKKSkp6O3tVV13Plyj9eij
j8JisWDLli2w2Wzo6elBRUUFAOD555/Hr371K1y9ehUA0NbWhvfee2/E9VFwunTpEl577TXPgXFD
QwN27dqF4uJirF27Fps2bcKpU6cghMDly5c9OaDwNFxeAKC1tRVlZWVwOBzYs2cPLl68iEceeQSZ
mZm477778Morr8Bms6Gqqgp/+9vf8NRTTw25L7PZjLq6Ol4mGKLG6veWnp6OkpIS/PSnP0VPTw/c
bjdqampG/Fw+Gj9iYmJw77334rXXXpPNKrdo0SLPmN1uh91ux6RJk2AwGHDo0CF88MEHOlY9zh06
BLz/vnwZdEXV7fjyO73jjjuGfS/Ys2eP56qapKQkSJLk+eDObDajpqbG87rf//738de//hUVFRUQ
QqC3txcHDx6UfSjoC63e99hg+WnSpEkoLS3Fn/70J/z973/33Gd18OBBHDhwABEREUNuO7iDHjzR
wHe/+13ceeedyMjIQG5uLoqLi4dcV/laCQkJOHLkCA4cOID09HRkZ2ejvLwcAPDiiy9ixYoVKCkp
QWJiIoqLiz3NF4W+hIQEnDhxAkVFRYiPj0dxcTHy8vKwefNmrFmzBuvXr8eTTz6JxMRErF692ucZ
JIf6pIefEIa24fIihEBRURGqq6uRmpqKX//619i3bx+Sk5MBALt27UJdXR0mT56M1atX4ze/+Q2+
+tWvAvD+/vT4448DACZOnIh77703sN8ojdpwf3P82X7wv3fs2AG73Y6cnBykpKTg8ccfR3Nz85D7
pfFv6dKlaGtrw6JFizxjixcvRnt7O5YsWYL4+HiUlZXhiSeeQEpKCnbt2oWVK1fKXoO5CS63+50C
w78XVFZWYsGCBUhISMDKlStRVlaGrKwsADdmri0tLUVycjL27t2Le+65B2+++SZ+9KMfISUlBbNm
zcKOHTuGzYS3r2mVIUmM048WW44fR4+PD86c8eKLkHgpCwHo/uILtB086NO66U88gbhhLgWl8OGw
WlH/5ps+rZu0eDEmBWmzsW3bNrz11luym8ZpbF154w24+/puu17MXXchQ/GQTgpfly9fRnd3923X
i4mJQU5OTgAqolDQ1NQEi8UiH3S7IQ2aae+mwo4OqFqNBQuA1NQxq288Gfo0CxERERERjVvGnh7E
e5s5b8YMgGcE/cbTNkREBICXZhEREWmBDRYREQEASktLOdEAEdF4ZbPBYLXKl/5+vasal3iJIBFR
ABm6u4FBzxoDAMTEABMn6lMQERGFBWNjIxJOndK7jLDABouIKIAMTU2AclKD9HQ2WESkOam3F/jv
jMIyCxcCJlPA6yEKF2ywAKC+HlDOIpiWduNTZSIiIqIQJAkB9PToXQZR2GGDBQDnzqlnSlmwgA3W
eOd2q59K7nbrUwsRERERjQtssCh8XbwIDHoKOAAYR/jEbyKiQDD09ABffCEfNJmAadP0KYiIiIbE
BouIiCjIGXp6gEuX5IOxsWywiIiCEKdpJyIiIiIi0ggbLCIiIiIiIo2wwSIiIiIiItIIGywiIiIi
IiKNcJILAC6XSzVmcLvZfdKwnE4nHA6HbMxoNMKgfKYa0SBCCDidTtmY5HLBqFM9FBqYG7qdyKYm
RNfVycdMJjjNZtW6RiEgqUaJbvF6bFxRAUOEonWYPh2YNStAVYUONlgA6hRvSABgzs9HQuBLoRBS
W1sLV3u7bGzy5MlIT0/XqSIKBR0dHejo6JCNRUsSMnWqh0KD1WqFVfEYCUN8PKbrVA8FIbcbkqIJ
dzidXo9xslwuHgDSsLzlZvLkyYiNjZUPemnEiJcIEhERERERaYYfYBARERGFk+pqICpKPjZ5MpDA
a3eItMAGi4iIiCiMSFeuAEbFHXyJiWywiDTCBouIiIgo3DU3A3198rHERCA1VZ96iEIYGywiIiKi
cNfYqB7LymKDReQHTnJBRERERESkETZYREREREREGmGDRUREREREpBHeg0VEREQUQkz19Yi1WGRj
hv5+naohIqVx0WC53W69S6AQJISAYHZohIQQEELIxvgeRLfjLTdEvvD2/iJ1dcHU1qZDNRQq+HdJ
X+OiwaqurobVapWNRbW1IVqneig0NDc3o/fKFb3LoBDT2dmJ2tpa2ZhktyNRp3ooNNhsNpw/f141
nuB08lp9GtbZs2dVB8uxvb0w6VQPhQYeG+trXDRYRHqIvnIFwiT/E2cwGoH0dJ0qIiIiIiK9scEi
8lNEd7dqTFI+pJGIiIiIwgobLCIivTkcQHu7fEySgIkT9amHiIiI/MYGi4hIZ8bOTuB//1c+GBkJ
PPigPgXR2HC59K6AiIgCgA3WEKTGRsBulw9OnAikpupTEBERhS6rFRM++UTvKoiIKADYYA3BYLEA
Xu6xYYNFRERERERD4eywREREREREGuEZLCIiohBksNuBo0fVXyguBqL5tBsiIr2wwSIiIgpFbjeg
eJCoZ5yIiHTDBmsIFosFkiTJxuInTEDa7Nk6VUShoK2tDU1nzsjGEhISMGPGDJ0qolDQ29uLK1eu
yMakqChM06keCg1Op1OVGwDIWLQIUbGxOlREoaKurk51jJOWlob4+HidKqJQwGNj37HBGoIQAkII
1RjRcIQQcCmmYlb+N5E3bsVZB4lnIcgHytwQ+cLbMQ7R7XjLjdTZCXzxhXzF6Ghg6tQAVhZ82GAR
EREREdGIGTo7gUuX5IPJyWHfYHEWQSIiIiIiIo2MjzNYDgckh0M2xMtriIiIiIgo0MZFgxV97hyM
zc16l0FERERERGGOlwgSERERERFpZFycwSIiIiIiohtMdXWIaW+XjRl7e3WqJvywwSIiGgGpuRkJ
//d/8jFOd0xEREHEeP06Iltb9S4jbLHBIiIaCbcbBrtd7yqIiIgoSPEeLCIiIiIiIo3wDBYRUTBy
uwGLRT0+aRJgMgW+HiIiIvIJGywioiAkuVxAZaX6C0uXssEiCiMxn38O4XLJxow9PTpVQ0S+YIM1
ApLNBnR1yQeNRiAhQZ+CKOgYBgZg7O6WjUmSpFM1REQU6kydnRAOh95l3OJ0AorZ6QAAqak3jomI
iA3WSBibmoDjx+WDycnAokX6FERBJ9JiQaTisq7IjAxg3jydKiIiItLQwADw2Wfq8ZISNlhE/8UG
awSsVivsitnDjA4H0nSqh0KDzWZDTU2NbEySJEyfPl2niigUuN1uWLzcg5VisyFKh3oodDQ0NEC6
fl02lpqaisTERJ0qolDQ1dWFHsWlh1GJiUjRqR4KDTw29o4N1gg4HA44FKfpI2JjdaqGQoXL5cKX
yktLiXzQ6+WhkBMU92IQKdnPn4dQnElw3HMPwAaLhjEwMKAaMzQ3A+fOyQeD6XJF0h2Pjb1jg0U0
xiSbDaaWFsUg78siorER2dysGpPuukuHSijUGXp7gbo6vcsgCjlssIjGmLGvD7GXLskHJQl4+GF9
CiIiIiKiMcMHDRMREREREWmEZ7AoPHR13ZhadhCpv1+nYoiIiMJAczNgtcrHEhOBtHCfAoHGOzZY
FB6qqgDF86mMbW06FUNERDTODAwAQsjHGhpuNFmDTZ3KBovGPTZYRERERDQ6x475tp7Vqp44IyIC
yMzUvCQKAZ99BignAps+HcjJ0acejbDBGiWX1Yqm8nLV+B2LF8PAB+7RMK5evaoaS0tLQ3R0tA7V
UKjoOH8enYqDk4QpU5CYkaFPQRQSOjs7YVW858TGxmLSpEk6VUShoK+/H22Kqz0MBgMmTpzo/4te
v35jGSwujg3WaFy8qBoyeJl2P1BcViuaPvpINX7HkiUwRChaDyHUZz7HgZBqsIQQuOglREabTbfZ
OkR/P/pOn1Z/YeFCPtE8iFgsFjg7OmRjTsU9WYGm/KMFAMnJyWywgojFYkGX8hlmzc0w6VMOAMBW
VaUaizIYADZYQaOzsxPNysuirFZdc9Pf0YEexZg7NZUNVhDp7+9HnZcp0SPcbuj1YA+H3Y5uxUNk
TZGRo2uwSFNCCDR6aWaUD/8NJNHfj76zZ9VfWLw48MXoJKQaLADo6+tTjcW53ZwOkYZls9ngtNn0
LkPGqLgnDIBqIg7Sl81mU73nmBwOXQ+UKfg5nU5VbgwDA7rmJvrqVUBxBss0axYwZ45OFZGS2+32
eozDx0PT7diC7PiGQrDBChWWnTtVD5NNWr4ccVlZ+hREwUUIxHv5dMcSG4sWxSfKKSkpSElJCVRl
FIKuX7+OrsuXZWNxcXFIT0/XqSIKBb29vbisyE1ERASy+HeKhuF0ONDU1KQaN5vNMPLKHRpGw6FD
kAzyUyKpAGL0KWdMjemJn3Iv9yaNlsFqVS2Sy+V13ROKPxyBVH7yJPq7umSLOHcO+OST2y+nT984
k6FcRrL/MfjZB8qoahfixs2SikUawc9Pz9wc+/RTdHd3y5aBAF5HHba50YCeuTlx+DCcH38sW+xn
zgRs/3r/7EdL6/oNDQ2YcOyYbEmorPS6rp65cdlsOHroEHqam28typvNxxBz4z89cyOEwNGqKvT1
9ckWEaD7aJib0dEzO//zr3/BXl0tW1w9youXATgcQF+ffNHgWCiQP/sxPYNVXl6OZcuWafqaCadO
+bzuicuXUTRzpqb7H82+Oxsa8KXiUx+D0YgIxSc+xogIJDc2ql/0oYcAk28XmYzFzz5QRlW70wlU
VKiGR/LMKz1zc/bIESyJipKNWadPR3Vvr2zMYDAgSrEeAGRkZECS/L9aP2xzowE9c/PZhQsovvNO
2ZgtOhrV1dWyMUkIxNfXq7ZPmT8fkRMm+L1/vX/2o6Vn/XrmxtTRgXOHD2P5oA+gRFQUqr2cMY+O
jla9tyQlJSE+Pt7v/TM3/tMzN0Ptv6WlRZWRiIgIGBRnLKKjo9W5cbkAxX3SAIDkZECxPXMzOkF3
bNzZiS+//FI2ZmhpQYTieN+QnIyUVatGtf9A/ux5iWAA+XqNrCRJ6FU+mA9Aus0Go/Lg2WhUXYpI
oUtyu2FQ3JjqrquDy2KRjbkAOLxsf+m++1RjU6ZMQVxcnIZVUigQvb0Y+OIL2ZjkcgE1Nap1uxIS
gKQk2VhqaurobmRvaQGU73kTJtxYKHg5HHB//LFquO3uuyEUE/B0trfDpJgRLCExERlTp45pieNC
e7vq+VBSiM+k1u/jB5lGo1E1eZDRaES6tzMUU6bcmMJ9sNZW4D//kY8lJXEWwhDl8/1jvb3o3rdP
NTx1yhTfLk0N8LPXAt5g2e12uN1u2ZjBYFB9wtHX0wNLba18YyEQNYIZjwyxsYjQaYak0e7b2wVt
7YcPq8ZMSUkwxiiuXnU4YLtyBT0ffnhrLCoKUbm56u0nTFBdDxuMHK2tcCnekCVJUv1P5XY6YfEy
eYRITPQ57KGcG8e1a6qxdknC9dhY2ZjJZEJkZKRq3YGBAdUfvljFtoD3TyWDkcvlgsMhb0W95QYA
6uvrVesKIVTfvzEhwevvKNhyEwEgSjkVMgB4qdEVEQG34uCuq6tLdcO90Wj0Osult9zE1NfDoPig
yDBtGowh0GC5nU7YvVy2EhEfr/pAq/XsWfS3tsrGDAMDPmdBz9yMZP9R9fXqD/NcLtX0ys6UFDR6
OWCK9dKs9/f3q3ITGRmJCMUBtcFgUI0FK9snn6h+JobZsyEpPsDobmyEVdkkSBJSvFylIiUnq8ZC
JTdDUR7juCQJLV5yE9XQoPpbY+vuRo9iwhbJbkek4gBakiSYfLzqR28+Hxv39Xm9/y06TI6N4WUS
mHYvj7yJjIxUHx9C/bdKkiTEKI+hceMYaTRXAwEAxDA2bNggAHDhIgCIDRs2DBcX5oaL18XX3DA7
XAYvzA0Xfxbmhos/C3PDxd9lqOxIQoT4OWkiIiIiIqIgEfzX+BAREREREYUINlhEREREREQaYYNF
RERERESkEU0arIGBARQVFaGgoAA5OTl45ZVXAADXr1/HAw88gOzsbJSUlKhmC9LSli1bMHfuXOTm
5mLLli1juv9nnnkGZrMZc+fO9Yxt3LgRmZmZKCwsRGFhIQ4dOuT52u9//3vMmjULs2fPxgcffDDq
/Tc0NGD58uWYM2cOcnNzUVZWBgDYs2cP5syZA6PRiFOK5wdoXYNW9M5OIHMD6Jsd5kY7zA1z4w/m
hrnxF49xQi87zE2Y58bnaVNuo7e3VwghhMPhEEVFReL48ePiF7/4hfjDH/4ghBDi1VdfFevWrdNq
dzLnzp0Tubm5or+/XzidTvG1r31NXL58ecz2f+zYMXHq1CmRm5vrGdu4caPYvHmzat3z58+L/Px8
YbfbRW1trZgxY4ZwuVyj2r/FYhGnT58WQgjR09MjsrOzxeeffy4uXLggLl26JJYtWyZOnjw5pjVo
Sa/sBDo3QuibHeZGG8wNc+MP5oa58RePcUI3O8xN+OZGs0sEbz4rxm63w+VyITk5Ge+99x5KS0sB
AKWlpfjnP/+p1e5kLl68iKKiIkRHR8NoNGLp0qXYt2/fmO1/8eLFSPbyXArhZShgThQAAAhXSURB
VELGd999F9/5zndgMpmQlZWFmTNnoqKiYlT7v+OOO1BQUAAAiI+Px913342mpibMnj0b2dnZAalB
S3plJ9C5AfTNDnOjDeaGufEHc8Pc+IvHOKGbHeYmfHOjWYPldrtRUFAAs9nsOUXX0tICs9kMADCb
zWhpadFqdzK5ubk4fvw4rl+/jr6+Prz//vtobGwM2P5vev3115Gfn49nn33Wc8q1qakJmYOeLp6Z
mYlrXh4G66+6ujqcPn0aRUVFQ64z1jWMll7ZCZbcAIHPDnPjP+aGufEHc8Pc+CtYssNjnJFjbsI3
N5o1WAaDAWfOnEFjYyOOHTuGo0ePyr4uSdLon4o8hNmzZ2PdunUoKSnBww8/jIKCAtUTnMdy/wDw
wgsvoLa2FmfOnEF6ejp+9rOfDbmuVnVYrVasWbMGW7ZsQXx8/Ii2HcufxUjplZ1gyA0Q+OwwN6PD
3DA3/mBumBt/BUN2eIzjH+YmfHOj+SyCEyZMwKOPPoqTJ0/CbDajubkZAGCxWJCWlqb17jyeeeYZ
VFZW4uOPP0ZycjKys7MDuv+0tDRPUNeuXes5zZiRkYGGhgbPeo2NjcjIyBj1/hwOBx577DE89dRT
WLVq1bDrjlUNWtMjO3rnBghsdpgbbTA3Q2NuhsbcDI25GZ7e2eExzugwN+GXG00arPb2ds9pv/7+
fhw5cgSFhYVYsWIFtm/fDgDYvn37bb/Z0WhtbQUAXL16Fe+88w6efPLJgO7fYrF4/r1//37PLCor
VqzAP/7xD9jtdtTW1qK6uhrz588f1b6EEHj22WeRk5ODl156ach1bhqLGrSid3b0zg0QuOwwN9ph
btTr3MTcDI25Ua9zE3MzPL2zw2OckWNuwjw3WsyUUVVVJQoLC0V+fr6YO3eu+OMf/yiEEKKjo0Pc
f//9YtasWeKBBx4QnZ2dWuzOq8WLF4ucnByRn58vPvroozHd/7e//W2Rnp4uTCaTyMzMFG+99ZZ4
+umnxdy5c0VeXp5YuXKlaG5u9qz/29/+VsyYMUPcdddd4vDhw6Pe//Hjx4UkSSI/P18UFBSIgoIC
8f7774v9+/eLzMxMER0dLcxms3jooYfGrAat6J2dQOZGCH2zw9xoh7lhbvzB3DA3/uIxTuhlh7kJ
79xIQniZ3oOIiIiIiIhGTPN7sIiIiIiIiMIVGywiIiIiIiKNsMEiIiIiIiLSCBssIiIiIiIijbDB
IiIiIiIi0ggbLCIiIiIiIo2wwSIiIiIiItJIUDdYRqMRhYWFyMvLw+rVq2G1Wv1+rd/97ney/164
cOFoy1PZtm0bUlNT8dxzz41ouw0bNuDf//73sOvs3r0bs2bNwje+8Y3RlBgWmJtbmBvfMTe3MDe+
Y25uYW58x9zcwtyMDLNzS1BnR9PHFmssPj7e8+/S0lKxadMmTV5rrGzbtk38+Mc/HrPXLy8vF1//
+tfH7PXHC+ZGjrnxDXMjx9z4hrmRY258w9zIMTe+Y3bkgjU7QX0Ga7AFCxagpqYGALBs2TKcPHkS
ANDe3o5p06YBuNElr169Gg8//DCys7Oxbt06AMDLL7+M/v5+FBYW4umnnwYAxMfHAwDKy8uxdOlS
rFq1CjNmzMDLL7+MnTt3Yv78+cjLy8OVK1cAAG1tbVizZg3mz5+P+fPn49NPP/VapxDC8+9t27Zh
1apVKCkpwbRp0/DnP/8ZmzZtwrx581BcXIzOzk4AwPe+9z3s27cPAJCVlYWNGzfinnvuQV5eHi5d
uuT1tck3zA1z4w/mhrnxB3PD3PiDuWFu/MXsBG92QqLBcrlcOHLkCHJzcwEAkiRBkiSv6549exZv
v/02zp07h927d+PatWt49dVXERMTg9OnT2Pnzp2e17ipqqoKb7zxBi5cuICdO3eipqYGFRUVWLt2
LV5//XUAwIsvvoif/OQnqKiowN69e7F27Vqfaj9//jz279+Pzz77DOvXr0diYiJOnTqF4uJi7Nix
Q/X9SJKE1NRUnDx5Ei+88AI2bdrk3w+NmBvyC3ND/mBuyB/MDfmL2QluEXoXMJybnfW1a9eQlZWF
559//rbb3H///UhISAAA5OTkoL6+HhkZGcNu85WvfAVmsxkAMHPmTDz44IMAgNzcXBw9ehQA8OGH
H+LChQuebXp6etDX14fY2NghX1eSJCxfvhxxcXGIi4tDUlKS5zrRuXPnoqqqyut2q1evBgDMmzcP
77zzzm2/Z5JjbpgbfzA3zI0/mBvmxh/MDXPjL2YnNLIT1A3Wzc66v78fDz74IN59911885vfRERE
BNxuNwBgYGBAtk1UVJTn30ajEU6n87b7GbyNwWDw/LfBYPBsL4TAiRMnEBkZOaLvwZfXHmobX+sn
OeaGufEHc8Pc+IO5YW78wdwwN/5idkIjOyFxiWBMTAzKysqwfv16CCGQlZWFyspKAMDevXt9eg2T
yTSqX0hJSQnKyso8/33mzJnbbjPcdaHBes3oeMLckD+YG/IHc0P+YG7IX8xOcAvqBmvwtaAFBQWY
OXMm3n77bfz85z/HX/7yF8ybNw8dHR2yazSHuv70ueeeQ15enudGvsHrDbXN4NcrKytDZWUl8vPz
MWfOHGzdutWn+ofaz3C1+rI9DY25YW78wdwwN/5gbpgbfzA3zI2/mJ3QyI4kxlO7qLPt27ejsrLS
c/Of1srLy7F582YcOHBgTF6f9MHckD+YG/IHc0P+YG7IX+GanaA+gxVqYmJicOjQoRE/TM0Xu3fv
xg9/+EOkpKRo/tqkL+aG/MHckD+YG/IHc0P+Ctfs8AwWERERERGRRngGi4iIiIiISCNssIiIiIiI
iDTCBouIiIiIiEgjbLCIiIiIiIg08v99j+IJ87j2NwAAAABJRU5ErkJggg==
">

</div>
</div>

</div>
</div>

</div>
<div class="text_cell_render border-box-sizing rendered_html">
<ol style="list-style-type: decimal">
<li>Biographies and history movies are longer</li>
<li>Animated movies are shorter</li>
<li>Film-Noir movies have the same mean, but are more conentrated around a 100 minute runtime</li>
<li>Musicals have the same mean, but greater dispersion in runtimes</li>
</ol>
</div>
<div class="cell border-box-sizing code_cell vbox">
<div class="input hbox">
<div class="prompt input_prompt">
In&nbsp;[85]:
</div>
<div class="input_area box-flex1">
<div class="highlight"><pre><span class="n">fig</span><span class="p">,</span> <span class="n">axes</span> <span class="o">=</span> <span class="n">plt</span><span class="o">.</span><span class="n">subplots</span><span class="p">(</span><span class="n">nrows</span><span class="o">=</span><span class="mi">4</span><span class="p">,</span> <span class="n">ncols</span><span class="o">=</span><span class="mi">6</span><span class="p">,</span> <span class="n">figsize</span><span class="o">=</span><span class="p">(</span><span class="mi">12</span><span class="p">,</span> <span class="mi">8</span><span class="p">),</span> <span class="n">tight_layout</span><span class="o">=</span><span class="bp">True</span><span class="p">)</span>

<span class="n">bins</span> <span class="o">=</span> <span class="n">np</span><span class="o">.</span><span class="n">arange</span><span class="p">(</span><span class="mi">0</span><span class="p">,</span> <span class="mi">10</span><span class="p">,</span> <span class="o">.</span><span class="mi">5</span><span class="p">)</span>

<span class="k">for</span> <span class="n">ax</span><span class="p">,</span> <span class="n">genre</span> <span class="ow">in</span> <span class="nb">zip</span><span class="p">(</span><span class="n">axes</span><span class="o">.</span><span class="n">ravel</span><span class="p">(),</span> <span class="n">genres</span><span class="p">):</span>
    <span class="n">ax</span><span class="o">.</span><span class="n">hist</span><span class="p">(</span><span class="n">data</span><span class="p">[</span><span class="n">data</span><span class="p">[</span><span class="n">genre</span><span class="p">]</span> <span class="o">==</span> <span class="mi">1</span><span class="p">]</span><span class="o">.</span><span class="n">score</span><span class="p">,</span> 
            <span class="n">bins</span><span class="o">=</span><span class="n">bins</span><span class="p">,</span> <span class="n">histtype</span><span class="o">=</span><span class="s">&#39;stepfilled&#39;</span><span class="p">,</span> <span class="n">color</span><span class="o">=</span><span class="s">&#39;r&#39;</span><span class="p">,</span> <span class="n">ec</span><span class="o">=</span><span class="s">&#39;none&#39;</span><span class="p">,</span> <span class="n">alpha</span><span class="o">=.</span><span class="mi">3</span><span class="p">,</span> <span class="n">normed</span><span class="o">=</span><span class="bp">True</span><span class="p">)</span>
               
    <span class="n">ax</span><span class="o">.</span><span class="n">hist</span><span class="p">(</span><span class="n">data</span><span class="o">.</span><span class="n">score</span><span class="p">,</span> <span class="n">bins</span><span class="o">=</span><span class="n">bins</span><span class="p">,</span> <span class="n">normed</span><span class="o">=</span><span class="bp">True</span><span class="p">,</span>
            <span class="n">histtype</span><span class="o">=</span><span class="s">&#39;stepfilled&#39;</span><span class="p">,</span> <span class="n">ec</span><span class="o">=</span><span class="s">&#39;none&#39;</span><span class="p">,</span> <span class="n">color</span><span class="o">=</span><span class="s">&#39;#cccccc&#39;</span><span class="p">,</span>
            <span class="n">zorder</span><span class="o">=</span><span class="mi">0</span><span class="p">)</span>
    
    <span class="n">ax</span><span class="o">.</span><span class="n">set_yticks</span><span class="p">([])</span>
    <span class="n">ax</span><span class="o">.</span><span class="n">set_xlabel</span><span class="p">(</span><span class="s">&quot;Score&quot;</span><span class="p">)</span>
    <span class="n">remove_border</span><span class="p">(</span><span class="n">ax</span><span class="p">,</span> <span class="n">left</span><span class="o">=</span><span class="bp">False</span><span class="p">)</span>
    <span class="n">ax</span><span class="o">.</span><span class="n">set_ylim</span><span class="p">(</span><span class="mi">0</span><span class="p">,</span> <span class="o">.</span><span class="mi">4</span><span class="p">)</span>
    <span class="n">ax</span><span class="o">.</span><span class="n">annotate</span><span class="p">(</span><span class="n">genre</span><span class="p">,</span> <span class="n">xy</span><span class="o">=</span><span class="p">(</span><span class="mi">0</span><span class="p">,</span> <span class="o">.</span><span class="mi">2</span><span class="p">),</span> <span class="n">ha</span><span class="o">=</span><span class="s">&#39;left&#39;</span><span class="p">,</span> <span class="n">fontsize</span><span class="o">=</span><span class="mi">12</span><span class="p">)</span>
</pre></div>

</div>
</div>

<div class="vbox output_wrapper">
<div class="output vbox">


<div class="hbox output_area"><div class="prompt"></div>
<div class="box-flex1 output_subarea output_display_data">


<img src="data:image/png;base64,iVBORw0KGgoAAAANSUhEUgAAA1gAAAI4CAYAAAB3HEhGAAAABHNCSVQICAgIfAhkiAAAAAlwSFlz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==
">

</div>
</div>

</div>
</div>

</div>
<div class="text_cell_render border-box-sizing rendered_html">
<ol style="list-style-type: decimal">
<li>Film-noirs, histories, and biographies have higher ratings (a selection effect?)</li>
<li>Horror movies and adult films have lower ratings</li>
</ol>
</div>
<div class="text_cell_render border-box-sizing rendered_html">
<h2 id="other-resources">Other Resources</h2>
<ul>
<li>Chapters 5 and 7 of <a href="http://www.amazon.com/Python-Data-Analysis-Wes-McKinney/dp/1449319793">Python for Data Analysis</a></li>
<li>IPython notebook on <a href="http://nbviewer.ipython.org/urls/gist.github.com/fonnesbeck/5850413/raw/3a9406c73365480bc58d5e75bc80f7962243ba17/2.+Data+Wrangling+with+Pandas.ipynb">Data wrangling with Pandas</a></li>
<li><a href="https://drive.google.com/folderview?id=0BxYkKyLxfsNVd0xicUVDS1dIS0k&amp;usp=sharing">Lecture 4</a> of Harvard's CS 109: Data Science</li>
</ul>
</div>
<div class="text_cell_render border-box-sizing rendered_html">
<p><em>css tweaks in this cell</em></p>
<style> 
div.text_cell_render {
    line-height: 135%;
    font-size: 110%;
    width: 800px; 
    margin-left:50px;
    margin-right:auto;
    }
    
li {
    line-height: 135%;
}
</style>

</div>


     <!-- Footer
     ================================================== -->
      <footer class="footer">
      <p class="pull-right"><a href="#">Back to top</a></p>
      <p>More info on <a href='http://ipython.org'> IPython website</a>.
      <a href="https://github.com/ipython/nbviewer">The code for this site</a> is licensed under <a href="https://github.com/ipython/nbviewer/blob/master/LICENSE.txt" target="_blank">BSD</a>.
      Some icons from <a href="http://glyphicons.com">Glyphicons Free</a>, built thanks to <a href="http://twitter.github.com/bootstrap/"> Twitter Bootstrap</a></p>
      <p>This web site does not host notebooks, it only renders notebooks available on other websites.
      Thanks to all our <a href="https://github.com/ipython/nbviewer/contributors">contributors</a> and to <a href="http://www.rackspace.com">Rackspace</a> for hosting.</p>
      
      <p class="text-muted">
          nbviewer version:
          <a href="https://github.com/ipython/nbviewer/commit/e3a7f5babbd25ba939ec88fd59162f59829bf7ca">e3a7f5b</a>
          (Sun, 5 Jan 2014 11:24:48 -0800)
      </p>
      
      </footer>
    </div><!-- /container -->



    <!-- Le javascript
    ================================================== -->
    <!-- Placed at the end of the document so the pages load faster -->

    <!--<script type="text/javascript" src="http://platform.twitter.com/widgets.js"></script>-->
    <script src="/static/js/jquery.js"></script>
    <!--<script src="/static/js/google-code-prettify/prettify.js"></script>-->
    <!--<script src="/static/js/bootstrap-transition.js"></script>-->
    <!--<script src="/static/js/bootstrap-alert.js"></script>-->
    <!--<script src="/static/js/bootstrap-modal.js"></script>-->
    <!--<script src="/static/js/bootstrap-dropdown.js"></script>-->
    <!--<script src="/static/js/bootstrap-scrollspy.js"></script>-->
    <!--<script src="/static/js/bootstrap-tab.js"></script>-->
    <!--<script src="/static/js/bootstrap-tooltip.js"></script>-->
    <!--<script src="/static/js/bootstrap-popover.js"></script>-->
    <!--<script src="/static/js/bootstrap-button.js"></script>-->
    <script src="/static/js/bootstrap-collapse.js"></script>
    <!--<script src="/static/js/bootstrap-carousel.js"></script>-->
    <!--<script src="/static/js/bootstrap-typeahead.js"></script>-->
    <!--<script src="/static/js/application.js"></script>-->


    <!-- Analytics
    ================================================== -->
    <script type="text/javascript">
      var _gaq = _gaq || [];
      _gaq.push(['_setAccount', 'UA-38683231-2']);
      _gaq.push(['_trackPageview']);

      (function() {
        var ga = document.createElement('script'); ga.type = 'text/javascript'; ga.async = true;
        ga.src = ('https:' == document.location.protocol ? 'https://ssl' : 'http://www') + '.google-analytics.com/ga.js';
        var s = document.getElementsByTagName('script')[0]; s.parentNode.insertBefore(ga, s);
      })();

    </script>
    <!--NEW RELIC Stop Perf Measurement-->
    
    <!--NEW RELIC End-->
  </body>
</html>