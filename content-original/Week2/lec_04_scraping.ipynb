<!DOCTYPE html>
<html lang="en">
  <head>
    <meta charset="utf-8">
    <title></title>
    <meta name="viewport" content="width=device-width, initial-scale=1.0">
    <meta name="description" content="">
    <meta name="author" content="">
    <!--NEW RELIC Start Perf Measurement-->
    
    <!--NREND-->

    <!-- Le styles -->
    <!--<link href="/static/css/bootstrap.css" rel="stylesheet">-->
    <link href="/static/css/docs.css" rel="stylesheet">
    <link href="/static/css/bootstrap.css" rel="stylesheet">
    <link href="/static/css/bootstrap-responsive.css" rel="stylesheet">

    <!-- Le HTML5 shim, for IE6-8 support of HTML5 elements -->
    <!--[if lt IE 9]>
      <script src="http://html5shim.googlecode.com/svn/trunk/html5.js"></script>
    <![endif]-->

    <!-- Le fav and touch icons -->
    <link rel="shortcut icon" href="/static/ico/ipynb_icon_16x16.png">
    <link rel="apple-touch-icon-precomposed" sizes="144x144" href="/static/ico/apple-touch-icon-144-precomposed.png">
    <link rel="apple-touch-icon-precomposed" sizes="114x114" href="/static/ico/apple-touch-icon-114-precomposed.png">
    <link rel="apple-touch-icon-precomposed" sizes="72x72" href="/static/ico/apple-touch-icon-72-precomposed.png">
    <link rel="apple-touch-icon-precomposed" href="/static/ico/apple-touch-icon-57-precomposed.png">
    
    
    
    <link href="/static/ipython.min.css" rel="stylesheet">
    <link href="/static/css/pygments.css" rel="stylesheet">
    <style type="text/css" media='screen and (min-width:980px)'>
    .navbar-inner {
        opacity: 0.5;
        transition: opacity 0.5s ease-in-out;
        -webkit-transition: opacity 0.5s ease-in-out;
    }

    .navbar-inner ul{
        opacity: 0.5;
        transition: opacity 0.5s ease-in-out;
        -webkit-transition: opacity 0.5s ease-in-out;
    }

    body{
        padding-top:50px;
    }

    </style>
    <style type="text/css" >
    .imgwrap {
        text-align: center;
    }
    .input_area{
        padding: 0.4em;
    }
    div.input_area > div.highlight > pre {
        margin: 0px;
        padding: 0px;
        border: none;
    }

    .navbar-inner:hover {
        opacity: 1.0;
    }

    .navbar-inner:hover ul{
        opacity: 1.0;
    }

    .highlight pre {
        background-color: transparent;
    }

    </style>
    
    <script src="https://c328740.ssl.cf1.rackcdn.com/mathjax/latest/MathJax.js?config=TeX-AMS_HTML"type="text/javascript">
    </script>
    <script type="text/javascript">
    init_mathjax = function() {
        if (window.MathJax) {
            // MathJax loaded
            MathJax.Hub.Config({
                tex2jax: {
                    inlineMath: [ ['$','$'], ["\\(","\\)"] ],
                    displayMath: [ ['$$','$$'], ["\\[","\\]"] ]
                },
                displayAlign: 'left', // Change this to 'center' to center equations.
                "HTML-CSS": {
                    styles: {'.MathJax_Display': {"margin": 0}}
                }
            });
            MathJax.Hub.Queue(["Typeset",MathJax.Hub]);
        }
    }
    init_mathjax();
    </script>
    
  </head>

  <body data-spy="scroll" data-target=".subnav" data-offset="50">


  <!-- Navbar
  ================================================== -->
    <div class="navbar navbar-fixed-top">
      <div class="navbar-inner">
        <div class="container">
          <button type="button" class="btn btn-navbar" data-toggle="collapse" data-target=".nav-collapse">
            <span class="icon-bar"></span>
            <span class="icon-bar"></span>
            <span class="icon-bar"></span>
          </button>
          <div class="nav-collapse collapse">
            <ul class="nav">
              <li>
                <a href="/">Home</a>
              </li>
              <li>
                <a href="/faq">FAQ</a>
              </li>
              <li class="">
                <a href="http://www.ipython.org">IPython</a>
              </li>
              <li>
              <a href="http://penandpants.com/2012/10/16/open-in-nbviewer-bookmarklet/">Bookmarklet</a>
              </li>
              

            </ul>
            <ul class="nav pull-right"> 
              
              
      
      <li class="">
          <a href="https://github.com/cs109/content/blob/master/lec_04_scraping.ipynb">Notebook Home</a>
      </li>
      
      <li class="">
          <a href="https://raw.github.com/cs109/content/master/lec_04_scraping.ipynb" download="lec_04_scraping.ipynb">Download Notebook</a>
      </li>
    
            </ul>
          </div>
        </div>
      </div>
    </div>
    <div class="container">


    
<div class="text_cell_render border-box-sizing rendered_html">
<h1 id="scraping-demo">Scraping Demo</h1>
<p>Companion to Lecture 4 of Harvard <a href="http://cs109.org">CS109: Data Science</a></p>
</div>
<div class="cell border-box-sizing code_cell vbox">
<div class="input hbox">
<div class="prompt input_prompt">
In&nbsp;[1]:
</div>
<div class="input_area box-flex1">
<div class="highlight"><pre><span class="kn">import</span> <span class="nn">requests</span>
<span class="kn">from</span> <span class="nn">pattern</span> <span class="kn">import</span> <span class="n">web</span>
<span class="kn">from</span> <span class="nn">BeautifulSoup</span> <span class="kn">import</span> <span class="n">BeautifulSoup</span>
</pre></div>

</div>
</div>

</div>
<div class="text_cell_render border-box-sizing rendered_html">
<h1 id="task">Task</h1>
<p>Find and print the movie title, list of genres, runtime, and score of all movies on <a href="http://www.imdb.com/search/title?at=0&amp;sort=num_votes,desc&amp;start=1&amp;title_type=feature&amp;year=1950,2012">this page</a></p>
</div>
<div class="text_cell_render border-box-sizing rendered_html">
<h3 id="two-ways-of-making-get-requests">Two ways of making get requests</h3>
</div>
<div class="text_cell_render border-box-sizing rendered_html">
<h4 id="explicit-url">1. Explicit URL</h4>
</div>
<div class="cell border-box-sizing code_cell vbox">
<div class="input hbox">
<div class="prompt input_prompt">
In&nbsp;[7]:
</div>
<div class="input_area box-flex1">
<div class="highlight"><pre><span class="n">url</span> <span class="o">=</span> <span class="s">&#39;http://www.imdb.com/search/title?sort=num_votes,desc&amp;start=1&amp;title_type=feature&amp;year=1950,2012&#39;</span>
<span class="n">r</span> <span class="o">=</span> <span class="n">requests</span><span class="o">.</span><span class="n">get</span><span class="p">(</span><span class="n">url</span><span class="p">)</span>
<span class="k">print</span> <span class="n">r</span><span class="o">.</span><span class="n">url</span>
</pre></div>

</div>
</div>

<div class="vbox output_wrapper">
<div class="output vbox">


<div class="hbox output_area"><div class="prompt"></div>
<div class="box-flex1 output_subarea output_stream output_stdout">
<pre>
http://www.imdb.com/search/title?sort=num_votes,desc&amp;start=1&amp;title_type=feature&amp;year=1950,2012

</pre>
</div>
</div>

</div>
</div>

</div>
<div class="text_cell_render border-box-sizing rendered_html">
<h4 id="base-url-with-get-dictionary">2. Base URL with GET dictionary</h4>
</div>
<div class="cell border-box-sizing code_cell vbox">
<div class="input hbox">
<div class="prompt input_prompt">
In&nbsp;[8]:
</div>
<div class="input_area box-flex1">
<div class="highlight"><pre><span class="n">url</span> <span class="o">=</span> <span class="s">&#39;http://www.imdb.com/search/title&#39;</span>
<span class="n">params</span> <span class="o">=</span> <span class="nb">dict</span><span class="p">(</span><span class="n">sort</span><span class="o">=</span><span class="s">&#39;num_votes,desc&#39;</span><span class="p">,</span> <span class="n">start</span><span class="o">=</span><span class="mi">1</span><span class="p">,</span> <span class="n">title_type</span><span class="o">=</span><span class="s">&#39;feature&#39;</span><span class="p">,</span> <span class="n">year</span><span class="o">=</span><span class="s">&#39;1950,2012&#39;</span><span class="p">)</span>
<span class="n">r</span> <span class="o">=</span> <span class="n">requests</span><span class="o">.</span><span class="n">get</span><span class="p">(</span><span class="n">url</span><span class="p">,</span> <span class="n">params</span><span class="o">=</span><span class="n">params</span><span class="p">)</span>
<span class="k">print</span> <span class="n">r</span><span class="o">.</span><span class="n">url</span>  <span class="c"># notice it constructs the full url for you</span>
</pre></div>

</div>
</div>

<div class="vbox output_wrapper">
<div class="output vbox">


<div class="hbox output_area"><div class="prompt"></div>
<div class="box-flex1 output_subarea output_stream output_stdout">
<pre>
http://www.imdb.com/search/title?sort=num_votes%2Cdesc&amp;start=1&amp;title_type=feature&amp;year=1950%2C2012

</pre>
</div>
</div>

</div>
</div>

</div>
<div class="text_cell_render border-box-sizing rendered_html">
<h1 id="using-pattern">Using Pattern</h1>
</div>
<div class="cell border-box-sizing code_cell vbox">
<div class="input hbox">
<div class="prompt input_prompt">
In&nbsp;[9]:
</div>
<div class="input_area box-flex1">
<div class="highlight"><pre><span class="c">#selection in pattern follows the rules of CSS</span>

<span class="n">dom</span> <span class="o">=</span> <span class="n">web</span><span class="o">.</span><span class="n">Element</span><span class="p">(</span><span class="n">r</span><span class="o">.</span><span class="n">text</span><span class="p">)</span>
<span class="k">for</span> <span class="n">movie</span> <span class="ow">in</span> <span class="n">dom</span><span class="o">.</span><span class="n">by_tag</span><span class="p">(</span><span class="s">&#39;td.title&#39;</span><span class="p">):</span>    
    <span class="n">title</span> <span class="o">=</span> <span class="n">movie</span><span class="o">.</span><span class="n">by_tag</span><span class="p">(</span><span class="s">&#39;a&#39;</span><span class="p">)[</span><span class="mi">0</span><span class="p">]</span><span class="o">.</span><span class="n">content</span>
    <span class="n">genres</span> <span class="o">=</span> <span class="n">movie</span><span class="o">.</span><span class="n">by_tag</span><span class="p">(</span><span class="s">&#39;span.genre&#39;</span><span class="p">)[</span><span class="mi">0</span><span class="p">]</span><span class="o">.</span><span class="n">by_tag</span><span class="p">(</span><span class="s">&#39;a&#39;</span><span class="p">)</span>
    <span class="n">genres</span> <span class="o">=</span> <span class="p">[</span><span class="n">g</span><span class="o">.</span><span class="n">content</span> <span class="k">for</span> <span class="n">g</span> <span class="ow">in</span> <span class="n">genres</span><span class="p">]</span>
    <span class="n">runtime</span> <span class="o">=</span> <span class="n">movie</span><span class="o">.</span><span class="n">by_tag</span><span class="p">(</span><span class="s">&#39;span.runtime&#39;</span><span class="p">)[</span><span class="mi">0</span><span class="p">]</span><span class="o">.</span><span class="n">content</span>
    <span class="n">rating</span> <span class="o">=</span> <span class="n">movie</span><span class="o">.</span><span class="n">by_tag</span><span class="p">(</span><span class="s">&#39;span.value&#39;</span><span class="p">)[</span><span class="mi">0</span><span class="p">]</span><span class="o">.</span><span class="n">content</span>
    <span class="k">print</span> <span class="n">title</span><span class="p">,</span> <span class="n">genres</span><span class="p">,</span> <span class="n">runtime</span><span class="p">,</span> <span class="n">rating</span>
</pre></div>

</div>
</div>

<div class="vbox output_wrapper">
<div class="output vbox">


<div class="hbox output_area"><div class="prompt"></div>
<div class="box-flex1 output_subarea output_stream output_stdout">
<pre>
The Shawshank Redemption [u&apos;Crime&apos;, u&apos;Drama&apos;] 142 mins. 9.3
The Dark Knight [u&apos;Action&apos;, u&apos;Crime&apos;, u&apos;Drama&apos;, u&apos;Thriller&apos;] 152 mins. 9.0
Inception [u&apos;Action&apos;, u&apos;Adventure&apos;, u&apos;Mystery&apos;, u&apos;Sci-Fi&apos;, u&apos;Thriller&apos;] 148 mins. 8.8
Pulp Fiction [u&apos;Crime&apos;, u&apos;Drama&apos;, u&apos;Thriller&apos;] 154 mins. 9.0
Fight Club [u&apos;Drama&apos;] 139 mins. 8.9
The Lord of the Rings: The Fellowship of the Ring [u&apos;Action&apos;, u&apos;Adventure&apos;, u&apos;Fantasy&apos;] 178 mins. 8.8
The Matrix [u&apos;Action&apos;, u&apos;Adventure&apos;, u&apos;Sci-Fi&apos;] 136 mins. 8.7
The Lord of the Rings: The Return of the King [u&apos;Action&apos;, u&apos;Adventure&apos;, u&apos;Fantasy&apos;] 201 mins. 8.9
The Godfather [u&apos;Crime&apos;, u&apos;Drama&apos;] 175 mins. 9.2
Forrest Gump [u&apos;Drama&apos;, u&apos;Romance&apos;] 142 mins. 8.7
The Dark Knight Rises [u&apos;Action&apos;, u&apos;Crime&apos;, u&apos;Thriller&apos;] 165 mins. 8.6
The Lord of the Rings: The Two Towers [u&apos;Action&apos;, u&apos;Adventure&apos;, u&apos;Fantasy&apos;] 179 mins. 8.7
Se7en [u&apos;Crime&apos;, u&apos;Mystery&apos;, u&apos;Thriller&apos;] 127 mins. 8.7
Avatar [u&apos;Action&apos;, u&apos;Adventure&apos;, u&apos;Fantasy&apos;, u&apos;Sci-Fi&apos;] 162 mins. 7.9
Batman Begins [u&apos;Action&apos;, u&apos;Adventure&apos;, u&apos;Crime&apos;, u&apos;Drama&apos;] 140 mins. 8.3
Gladiator [u&apos;Action&apos;, u&apos;Adventure&apos;, u&apos;Drama&apos;] 155 mins. 8.5
Star Wars [u&apos;Action&apos;, u&apos;Adventure&apos;, u&apos;Fantasy&apos;, u&apos;Sci-Fi&apos;] 121 mins. 8.8
The Avengers [u&apos;Action&apos;, u&apos;Fantasy&apos;] 143 mins. 8.2
Memento [u&apos;Mystery&apos;, u&apos;Thriller&apos;] 113 mins. 8.6
American Beauty [u&apos;Drama&apos;] 122 mins. 8.5
Schindler&amp;#x27;s List [u&apos;Biography&apos;, u&apos;Drama&apos;, u&apos;History&apos;, u&apos;War&apos;] 195 mins. 8.9
Saving Private Ryan [u&apos;Action&apos;, u&apos;Drama&apos;, u&apos;War&apos;] 169 mins. 8.6
The Departed [u&apos;Crime&apos;, u&apos;Drama&apos;, u&apos;Thriller&apos;] 151 mins. 8.5
The Silence of the Lambs [u&apos;Crime&apos;, u&apos;Drama&apos;, u&apos;Thriller&apos;] 118 mins. 8.7
Pirates of the Caribbean: The Curse of the Black Pearl [u&apos;Action&apos;, u&apos;Adventure&apos;, u&apos;Fantasy&apos;] 143 mins. 8.0
Star Wars: Episode V - The Empire Strikes Back [u&apos;Action&apos;, u&apos;Adventure&apos;, u&apos;Sci-Fi&apos;] 124 mins. 8.8
Titanic [u&apos;Drama&apos;, u&apos;Romance&apos;] 194 mins. 7.6
V for Vendetta [u&apos;Action&apos;, u&apos;Crime&apos;, u&apos;Fantasy&apos;, u&apos;Mystery&apos;, u&apos;Sci-Fi&apos;, u&apos;Thriller&apos;] 132 mins. 8.2
Inglourious Basterds [u&apos;Adventure&apos;, u&apos;Drama&apos;, u&apos;War&apos;] 153 mins. 8.3
The Prestige [u&apos;Drama&apos;, u&apos;Mystery&apos;, u&apos;Thriller&apos;] 130 mins. 8.4
American History X [u&apos;Crime&apos;, u&apos;Drama&apos;] 119 mins. 8.6
The Godfather: Part II [u&apos;Crime&apos;, u&apos;Drama&apos;] 200 mins. 9.0
The Usual Suspects [u&apos;Crime&apos;, u&apos;Mystery&apos;, u&apos;Thriller&apos;] 106 mins. 8.7
Braveheart [u&apos;Action&apos;, u&apos;Biography&apos;, u&apos;Drama&apos;, u&apos;History&apos;, u&apos;War&apos;] 177 mins. 8.4
Terminator 2: Judgment Day [u&apos;Action&apos;, u&apos;Sci-Fi&apos;, u&apos;Thriller&apos;] 137 mins. 8.6
The Sixth Sense [u&apos;Drama&apos;, u&apos;Mystery&apos;, u&apos;Thriller&apos;] 107 mins. 8.2
Kill Bill: Vol. 1 [u&apos;Action&apos;, u&apos;Crime&apos;] 111 mins. 8.2
Goodfellas [u&apos;Biography&apos;, u&apos;Crime&apos;, u&apos;Drama&apos;, u&apos;Thriller&apos;] 146 mins. 8.8
Sin City [u&apos;Crime&apos;, u&apos;Thriller&apos;] 124 mins. 8.2
L&amp;#xE9;on: The Professional [u&apos;Crime&apos;, u&apos;Drama&apos;, u&apos;Thriller&apos;] 110 mins. 8.6
Django Unchained [u&apos;Adventure&apos;, u&apos;Drama&apos;, u&apos;Western&apos;] 165 mins. 8.5
One Flew Over the Cuckoo&amp;#x27;s Nest [u&apos;Drama&apos;] 133 mins. 8.8
The Green Mile [u&apos;Crime&apos;, u&apos;Drama&apos;, u&apos;Fantasy&apos;, u&apos;Mystery&apos;] 189 mins. 8.5
Raiders of the Lost Ark [u&apos;Action&apos;, u&apos;Adventure&apos;] 115 mins. 8.6
Eternal Sunshine of the Spotless Mind [u&apos;Drama&apos;, u&apos;Romance&apos;, u&apos;Sci-Fi&apos;] 108 mins. 8.4
Shutter Island [u&apos;Drama&apos;, u&apos;Thriller&apos;] 138 mins. 8.0
Iron Man [u&apos;Action&apos;, u&apos;Adventure&apos;, u&apos;Sci-Fi&apos;] 126 mins. 7.9
Back to the Future [u&apos;Adventure&apos;, u&apos;Comedy&apos;, u&apos;Sci-Fi&apos;] 116 mins. 8.5
WALL&amp;#xB7;E [u&apos;Animation&apos;, u&apos;Adventure&apos;, u&apos;Family&apos;, u&apos;Romance&apos;, u&apos;Sci-Fi&apos;] 98 mins. 8.5
300 [u&apos;Action&apos;, u&apos;Fantasy&apos;, u&apos;History&apos;, u&apos;War&apos;] 117 mins. 7.7

</pre>
</div>
</div>

</div>
</div>

</div>
<div class="text_cell_render border-box-sizing rendered_html">
<h1 id="using-beautifulsoup">Using BeautifulSoup</h1>
</div>
<div class="cell border-box-sizing code_cell vbox">
<div class="input hbox">
<div class="prompt input_prompt">
In&nbsp;[5]:
</div>
<div class="input_area box-flex1">
<div class="highlight"><pre><span class="n">bs</span> <span class="o">=</span> <span class="n">BeautifulSoup</span><span class="p">(</span><span class="n">r</span><span class="o">.</span><span class="n">text</span><span class="p">)</span>
<span class="k">for</span> <span class="n">movie</span> <span class="ow">in</span> <span class="n">bs</span><span class="o">.</span><span class="n">findAll</span><span class="p">(</span><span class="s">&#39;td&#39;</span><span class="p">,</span> <span class="s">&#39;title&#39;</span><span class="p">):</span>
    <span class="n">title</span> <span class="o">=</span> <span class="n">movie</span><span class="o">.</span><span class="n">find</span><span class="p">(</span><span class="s">&#39;a&#39;</span><span class="p">)</span><span class="o">.</span><span class="n">contents</span><span class="p">[</span><span class="mi">0</span><span class="p">]</span>
    <span class="n">genres</span> <span class="o">=</span> <span class="n">movie</span><span class="o">.</span><span class="n">find</span><span class="p">(</span><span class="s">&#39;span&#39;</span><span class="p">,</span> <span class="s">&#39;genre&#39;</span><span class="p">)</span><span class="o">.</span><span class="n">findAll</span><span class="p">(</span><span class="s">&#39;a&#39;</span><span class="p">)</span>
    <span class="n">genres</span> <span class="o">=</span> <span class="p">[</span><span class="n">g</span><span class="o">.</span><span class="n">contents</span><span class="p">[</span><span class="mi">0</span><span class="p">]</span> <span class="k">for</span> <span class="n">g</span> <span class="ow">in</span> <span class="n">genres</span><span class="p">]</span>
    <span class="n">runtime</span> <span class="o">=</span> <span class="n">movie</span><span class="o">.</span><span class="n">find</span><span class="p">(</span><span class="s">&#39;span&#39;</span><span class="p">,</span> <span class="s">&#39;runtime&#39;</span><span class="p">)</span><span class="o">.</span><span class="n">contents</span><span class="p">[</span><span class="mi">0</span><span class="p">]</span>
    <span class="n">rating</span> <span class="o">=</span> <span class="n">movie</span><span class="o">.</span><span class="n">find</span><span class="p">(</span><span class="s">&#39;span&#39;</span><span class="p">,</span> <span class="s">&#39;value&#39;</span><span class="p">)</span><span class="o">.</span><span class="n">contents</span><span class="p">[</span><span class="mi">0</span><span class="p">]</span>
    <span class="k">print</span> <span class="n">title</span><span class="p">,</span> <span class="n">genres</span><span class="p">,</span> <span class="n">runtime</span><span class="p">,</span> <span class="n">rating</span>
</pre></div>

</div>
</div>

<div class="vbox output_wrapper">
<div class="output vbox">


<div class="hbox output_area"><div class="prompt"></div>
<div class="box-flex1 output_subarea output_stream output_stdout">
<pre>
The Shawshank Redemption [u&apos;Crime&apos;, u&apos;Drama&apos;] 142 mins. 9.3
The Dark Knight [u&apos;Action&apos;, u&apos;Crime&apos;, u&apos;Drama&apos;, u&apos;Thriller&apos;] 152 mins. 9.0
Inception [u&apos;Action&apos;, u&apos;Adventure&apos;, u&apos;Mystery&apos;, u&apos;Sci-Fi&apos;, u&apos;Thriller&apos;] 148 mins. 8.8
Pulp Fiction [u&apos;Crime&apos;, u&apos;Drama&apos;, u&apos;Thriller&apos;] 154 mins. 9.0
Fight Club [u&apos;Drama&apos;] 139 mins. 8.9
The Lord of the Rings: The Fellowship of the Ring [u&apos;Action&apos;, u&apos;Adventure&apos;, u&apos;Fantasy&apos;] 178 mins. 8.8
The Matrix [u&apos;Action&apos;, u&apos;Adventure&apos;, u&apos;Sci-Fi&apos;] 136 mins. 8.7
The Lord of the Rings: The Return of the King [u&apos;Action&apos;, u&apos;Adventure&apos;, u&apos;Fantasy&apos;] 201 mins. 8.9
The Godfather [u&apos;Crime&apos;, u&apos;Drama&apos;] 175 mins. 9.2
Forrest Gump [u&apos;Drama&apos;, u&apos;Romance&apos;] 142 mins. 8.7
The Dark Knight Rises [u&apos;Action&apos;, u&apos;Crime&apos;, u&apos;Thriller&apos;] 165 mins. 8.6
The Lord of the Rings: The Two Towers [u&apos;Action&apos;, u&apos;Adventure&apos;, u&apos;Fantasy&apos;] 179 mins. 8.7
Se7en [u&apos;Crime&apos;, u&apos;Mystery&apos;, u&apos;Thriller&apos;] 127 mins. 8.7
Avatar [u&apos;Action&apos;, u&apos;Adventure&apos;, u&apos;Fantasy&apos;, u&apos;Sci-Fi&apos;] 162 mins. 7.9
Batman Begins [u&apos;Action&apos;, u&apos;Adventure&apos;, u&apos;Crime&apos;, u&apos;Drama&apos;] 140 mins. 8.3
Gladiator [u&apos;Action&apos;, u&apos;Adventure&apos;, u&apos;Drama&apos;] 155 mins. 8.5
Star Wars [u&apos;Action&apos;, u&apos;Adventure&apos;, u&apos;Fantasy&apos;, u&apos;Sci-Fi&apos;] 121 mins. 8.8
The Avengers [u&apos;Action&apos;, u&apos;Fantasy&apos;] 143 mins. 8.2
Memento [u&apos;Mystery&apos;, u&apos;Thriller&apos;] 113 mins. 8.6
American Beauty [u&apos;Drama&apos;] 122 mins. 8.5
Schindler&amp;#x27;s List [u&apos;Biography&apos;, u&apos;Drama&apos;, u&apos;History&apos;, u&apos;War&apos;] 195 mins. 8.9
Saving Private Ryan [u&apos;Action&apos;, u&apos;Drama&apos;, u&apos;War&apos;] 169 mins. 8.6
The Departed [u&apos;Crime&apos;, u&apos;Drama&apos;, u&apos;Thriller&apos;] 151 mins. 8.5
The Silence of the Lambs [u&apos;Crime&apos;, u&apos;Drama&apos;, u&apos;Thriller&apos;] 118 mins. 8.7
Pirates of the Caribbean: The Curse of the Black Pearl [u&apos;Action&apos;, u&apos;Adventure&apos;, u&apos;Fantasy&apos;] 143 mins. 8.0
Star Wars: Episode V - The Empire Strikes Back [u&apos;Action&apos;, u&apos;Adventure&apos;, u&apos;Sci-Fi&apos;] 124 mins. 8.8
Titanic [u&apos;Drama&apos;, u&apos;Romance&apos;] 194 mins. 7.6
V for Vendetta [u&apos;Action&apos;, u&apos;Crime&apos;, u&apos;Fantasy&apos;, u&apos;Mystery&apos;, u&apos;Sci-Fi&apos;, u&apos;Thriller&apos;] 132 mins. 8.2
Inglourious Basterds [u&apos;Adventure&apos;, u&apos;Drama&apos;, u&apos;War&apos;] 153 mins. 8.3
The Prestige [u&apos;Drama&apos;, u&apos;Mystery&apos;, u&apos;Thriller&apos;] 130 mins. 8.4
American History X [u&apos;Crime&apos;, u&apos;Drama&apos;] 119 mins. 8.6
The Godfather: Part II [u&apos;Crime&apos;, u&apos;Drama&apos;] 200 mins. 9.0
The Usual Suspects [u&apos;Crime&apos;, u&apos;Mystery&apos;, u&apos;Thriller&apos;] 106 mins. 8.7
Braveheart [u&apos;Action&apos;, u&apos;Biography&apos;, u&apos;Drama&apos;, u&apos;History&apos;, u&apos;War&apos;] 177 mins. 8.4
Terminator 2: Judgment Day [u&apos;Action&apos;, u&apos;Sci-Fi&apos;, u&apos;Thriller&apos;] 137 mins. 8.6
The Sixth Sense [u&apos;Drama&apos;, u&apos;Mystery&apos;, u&apos;Thriller&apos;] 107 mins. 8.2
Kill Bill: Vol. 1 [u&apos;Action&apos;, u&apos;Crime&apos;] 111 mins. 8.2
Goodfellas [u&apos;Biography&apos;, u&apos;Crime&apos;, u&apos;Drama&apos;, u&apos;Thriller&apos;] 146 mins. 8.8
Sin City [u&apos;Crime&apos;, u&apos;Thriller&apos;] 124 mins. 8.2
L&amp;#xE9;on: The Professional [u&apos;Crime&apos;, u&apos;Drama&apos;, u&apos;Thriller&apos;] 110 mins. 8.6
Django Unchained [u&apos;Adventure&apos;, u&apos;Drama&apos;, u&apos;Western&apos;] 165 mins. 8.5
One Flew Over the Cuckoo&amp;#x27;s Nest [u&apos;Drama&apos;] 133 mins. 8.8
The Green Mile [u&apos;Crime&apos;, u&apos;Drama&apos;, u&apos;Fantasy&apos;, u&apos;Mystery&apos;] 189 mins. 8.5
Raiders of the Lost Ark [u&apos;Action&apos;, u&apos;Adventure&apos;] 115 mins. 8.6
Eternal Sunshine of the Spotless Mind [u&apos;Drama&apos;, u&apos;Romance&apos;, u&apos;Sci-Fi&apos;] 108 mins. 8.4
Shutter Island [u&apos;Drama&apos;, u&apos;Thriller&apos;] 138 mins. 8.0
Iron Man [u&apos;Action&apos;, u&apos;Adventure&apos;, u&apos;Sci-Fi&apos;] 126 mins. 7.9
Back to the Future [u&apos;Adventure&apos;, u&apos;Comedy&apos;, u&apos;Sci-Fi&apos;] 116 mins. 8.5
WALL&amp;#xB7;E [u&apos;Animation&apos;, u&apos;Adventure&apos;, u&apos;Family&apos;, u&apos;Romance&apos;, u&apos;Sci-Fi&apos;] 98 mins. 8.5
300 [u&apos;Action&apos;, u&apos;Fantasy&apos;, u&apos;History&apos;, u&apos;War&apos;] 117 mins. 7.7

</pre>
</div>
</div>

</div>
</div>

</div>


     <!-- Footer
     ================================================== -->
      <footer class="footer">
      <p class="pull-right"><a href="#">Back to top</a></p>
      <p>More info on <a href='http://ipython.org'> IPython website</a>.
      <a href="https://github.com/ipython/nbviewer">The code for this site</a> is licensed under <a href="https://github.com/ipython/nbviewer/blob/master/LICENSE.txt" target="_blank">BSD</a>.
      Some icons from <a href="http://glyphicons.com">Glyphicons Free</a>, built thanks to <a href="http://twitter.github.com/bootstrap/"> Twitter Bootstrap</a></p>
      <p>This web site does not host notebooks, it only renders notebooks available on other websites.
      Thanks to all our <a href="https://github.com/ipython/nbviewer/contributors">contributors</a> and to <a href="http://www.rackspace.com">Rackspace</a> for hosting.</p>
      
      <p class="text-muted">
          nbviewer version:
          <a href="https://github.com/ipython/nbviewer/commit/e3a7f5babbd25ba939ec88fd59162f59829bf7ca">e3a7f5b</a>
          (Sun, 5 Jan 2014 11:24:48 -0800)
      </p>
      
      </footer>
    </div><!-- /container -->



    <!-- Le javascript
    ================================================== -->
    <!-- Placed at the end of the document so the pages load faster -->

    <!--<script type="text/javascript" src="http://platform.twitter.com/widgets.js"></script>-->
    <script src="/static/js/jquery.js"></script>
    <!--<script src="/static/js/google-code-prettify/prettify.js"></script>-->
    <!--<script src="/static/js/bootstrap-transition.js"></script>-->
    <!--<script src="/static/js/bootstrap-alert.js"></script>-->
    <!--<script src="/static/js/bootstrap-modal.js"></script>-->
    <!--<script src="/static/js/bootstrap-dropdown.js"></script>-->
    <!--<script src="/static/js/bootstrap-scrollspy.js"></script>-->
    <!--<script src="/static/js/bootstrap-tab.js"></script>-->
    <!--<script src="/static/js/bootstrap-tooltip.js"></script>-->
    <!--<script src="/static/js/bootstrap-popover.js"></script>-->
    <!--<script src="/static/js/bootstrap-button.js"></script>-->
    <script src="/static/js/bootstrap-collapse.js"></script>
    <!--<script src="/static/js/bootstrap-carousel.js"></script>-->
    <!--<script src="/static/js/bootstrap-typeahead.js"></script>-->
    <!--<script src="/static/js/application.js"></script>-->


    <!-- Analytics
    ================================================== -->
    <script type="text/javascript">
      var _gaq = _gaq || [];
      _gaq.push(['_setAccount', 'UA-38683231-2']);
      _gaq.push(['_trackPageview']);

      (function() {
        var ga = document.createElement('script'); ga.type = 'text/javascript'; ga.async = true;
        ga.src = ('https:' == document.location.protocol ? 'https://ssl' : 'http://www') + '.google-analytics.com/ga.js';
        var s = document.getElementsByTagName('script')[0]; s.parentNode.insertBefore(ga, s);
      })();

    </script>
    <!--NEW RELIC Stop Perf Measurement-->
    
    <!--NEW RELIC End-->
  </body>
</html>